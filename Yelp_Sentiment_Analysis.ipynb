{
  "nbformat": 4,
  "nbformat_minor": 2,
  "cells": [
    {
      "cell_type": "markdown",
      "metadata": {
        "nteract": {
          "transient": {
            "deleting": false
          }
        }
      },
      "source": [
        "# Yelp Business Reviews - Sentiment Analysis"
      ]
    },
    {
      "cell_type": "markdown",
      "metadata": {},
      "source": [
        "## Importing Libraries (will be edited)"
      ]
    },
    {
      "cell_type": "code",
      "execution_count": 49,
      "outputs": [],
      "metadata": {},
      "source": [
        "import nltk\n",
        "import numpy as np\n",
        "import pandas as pd\n",
        "import seaborn as sns\n",
        "#import findspark\n",
        "from pyspark.ml import Pipeline\n",
        "from pyspark.ml.clustering import KMeans\n",
        "from pyspark.ml.feature import IDF, StopWordsRemover, Tokenizer, VectorAssembler, CountVectorizer\n",
        "from pyspark.ml.linalg import Vector\n",
        "from pyspark.sql import SparkSession\n",
        "from pyspark.sql import functions as F\n",
        "from pyspark.sql.functions import col, length, lit, lower, regexp_replace, size, split, filter, udf\n",
        "from pyspark.sql.functions import sum as spark_sum\n",
        "from pyspark.sql.functions import when\n",
        "from pyspark.sql.types import ArrayType,StringType\n",
        "from pyspark.ml.classification import LogisticRegression"
      ]
    },
    {
      "cell_type": "markdown",
      "metadata": {},
      "source": [
        "## Creating Spark Session"
      ]
    },
    {
      "cell_type": "code",
      "execution_count": 39,
      "outputs": [],
      "metadata": {},
      "source": [
        "\"\"\" UNCOMMENT WHEN RUNNING ON LOCAL !!!\n",
        "# Create a spark session\n",
        "findspark.init()\n",
        "spark = SparkSession.builder \\\n",
        "    .appName(\"Yelp_Sentiment_Analysis\") \\\n",
        "    .master(\"local[8]\") \\\n",
        "    .config(\"spark.executor.memory\", \"10g\") \\\n",
        "    .config(\"spark.executor.cores\", \"3\") \\\n",
        "    .config(\"spark.driver.memory\", \"2g\") \\\n",
        "    .getOrCreate()\n",
        "\n",
        "### Patlarsa dene\n",
        "#.config(\"spark.memory.offHeap.enabled\",\"true\") \n",
        "#.config(\"spark.memory.offHeap.size\",\"10g\")\n",
        "\"\"\""
      ]
    },
    {
      "cell_type": "code",
      "execution_count": 2,
      "outputs": [],
      "metadata": {},
      "source": [
        "# Get config\n",
        "conf = spark.sparkContext.getConf()\n",
        "\n",
        "# Print the configuration settings\n",
        "print(\"spark.app.name = \", conf.get(\"spark.app.name\"))\n",
        "print(\"spark.master = \", conf.get(\"spark.master\"))\n",
        "print(\"spark.executor.memory = \", conf.get(\"spark.executor.memory\"))\n",
        "print(\"spark.executor.cores = \", conf.get(\"spark.executor.cores\")),\n",
        "print(\"spark.driver.memory = \", conf.get(\"spark.driver.memory\"))"
      ]
    },
    {
      "cell_type": "code",
      "execution_count": 41,
      "outputs": [],
      "metadata": {
        "jupyter": {
          "source_hidden": false,
          "outputs_hidden": false
        },
        "nteract": {
          "transient": {
            "deleting": false
          }
        }
      },
      "source": [
        "\"\"\"\r\n",
        "# Source file pathways on local disk\r\n",
        "path_business = \"../yelp_academic_dataset_business.json\"\r\n",
        "path_review = \"../yelp_academic_dataset_review.json\"\r\n",
        "positive_path = \"../positive_words.txt\"\r\n",
        "negative_path = \"../negative_words.txt\"\r\n",
        "\"\"\""
      ]
    },
    {
      "cell_type": "code",
      "execution_count": 3,
      "outputs": [],
      "metadata": {
        "jupyter": {
          "source_hidden": false,
          "outputs_hidden": false
        },
        "nteract": {
          "transient": {
            "deleting": false
          }
        }
      },
      "source": [
        "\r\n",
        "# Source file pathways on ABFSS\r\n",
        "path_business = \"abfss://unity-catalog-storage@dbstoragepwtbcgut4qtn6.dfs.core.windows.net/yelp_academic_dataset_business.json\"\r\n",
        "path_review = \"abfss://unity-catalog-storage@dbstoragepwtbcgut4qtn6.dfs.core.windows.net/yelp_academic_dataset_review.json\"\r\n",
        "positive_path = \"abfss://unity-catalog-storage@dbstoragepwtbcgut4qtn6.dfs.core.windows.net/positive_words.txt\"\r\n",
        "negative_path = \"abfss://unity-catalog-storage@dbstoragepwtbcgut4qtn6.dfs.core.windows.net/negative_words.txt\"\r\n",
        ""
      ]
    },
    {
      "cell_type": "markdown",
      "metadata": {},
      "source": [
        "## Preprocessing of Business Dataset"
      ]
    },
    {
      "cell_type": "code",
      "execution_count": 4,
      "outputs": [],
      "metadata": {
        "jupyter": {
          "outputs_hidden": false,
          "source_hidden": false
        },
        "nteract": {
          "transient": {
            "deleting": false
          }
        },
        "collapsed": false
      },
      "source": [
        "# Import business data\n",
        "business = spark.read.json(path_business)"
      ]
    },
    {
      "cell_type": "code",
      "execution_count": 44,
      "outputs": [],
      "metadata": {},
      "source": [
        "# Print first 10 rows\n",
        "business.show(n=10, truncate=10)"
      ]
    },
    {
      "cell_type": "code",
      "execution_count": 5,
      "outputs": [],
      "metadata": {},
      "source": [
        "# Drop irrelevant columns\n",
        "business = business.drop(\"hours\").drop(\"attributes\")"
      ]
    },
    {
      "cell_type": "code",
      "execution_count": 46,
      "outputs": [],
      "metadata": {},
      "source": [
        "# Print current dataset schema\n",
        "business.printSchema()"
      ]
    },
    {
      "cell_type": "code",
      "execution_count": 6,
      "outputs": [],
      "metadata": {},
      "source": [
        "# Filter out rows with null 'categories'\n",
        "business = business.filter(col(\"categories\").isNotNull())"
      ]
    },
    {
      "cell_type": "code",
      "execution_count": 9,
      "outputs": [],
      "metadata": {},
      "source": [
        "# Filter for businesses in US states\n",
        "states = [ \"AL\", \"AK\", \"AZ\", \"AR\", \"CA\", \"CO\", \"CT\", \"DC\", \"DE\", \"FL\", \"GA\", \"HI\", \"ID\", \"IL\", \"IN\", \"IA\", \"KS\", \"KY\", \"LA\", \"ME\", \"MD\", \"MA\", \"MI\", \"MN\", \"MS\",\\\n",
        " \"MO\", \"MT\", \"NE\", \"NV\", \"NH\", \"NJ\", \"NM\", \"NY\", \"NC\", \"ND\", \"OH\", \"OK\", \"OR\", \"PA\", \"RI\", \"SC\", \"SD\", \"TN\", \"TX\", \"UT\", \"VT\", \"VA\", \"WA\", \"WV\", \"WI\", \"WY\", ]\n",
        "\n",
        "usa = business.filter(col(\"state\").isin(states))"
      ]
    },
    {
      "cell_type": "code",
      "execution_count": 10,
      "outputs": [],
      "metadata": {},
      "source": [
        "# Print out the total number of businesses in dataset\n",
        "print(f\"Number of US businesses in the dataset: {usa.count()}\")"
      ]
    },
    {
      "cell_type": "code",
      "execution_count": 11,
      "outputs": [],
      "metadata": {},
      "source": [
        "# Filter restaurants and print out the total number\n",
        "us_restaurants = usa.filter(usa[\"categories\"].contains(\"Restaurants\"))\n",
        "print(f\"Number of total US restaurants in the dataset: {us_restaurants.count()}\")"
      ]
    },
    {
      "cell_type": "code",
      "execution_count": 12,
      "outputs": [],
      "metadata": {},
      "source": [
        "# Label every row with their respective type of cuisine\n",
        "us_restaurants = us_restaurants.withColumn(\n",
        "    \"category\",\n",
        "    when(col(\"categories\").contains(\"Korean\"), \"Korean\")\n",
        "    .when(col(\"categories\").contains(\"Thai\"), \"Thai\")\n",
        "    .when(col(\"categories\").contains(\"French\"), \"French\")\n",
        "    .when(col(\"categories\").contains(\"Greek\"), \"Greek\")\n",
        "    .when(col(\"categories\").contains(\"Indian\"), \"Indian\")\n",
        "    .when(col(\"categories\").contains(\"Hawaiian\"), \"Hawaiian\")\n",
        "    .when(col(\"categories\").contains(\"African\"), \"African\")\n",
        "    .when(col(\"categories\").contains(\"Spanish\"), \"Spanish\")\n",
        ")"
      ]
    },
    {
      "cell_type": "code",
      "execution_count": 13,
      "outputs": [],
      "metadata": {},
      "source": [
        "# Drop the old category column and filter out null categories\n",
        "us_restaurants = us_restaurants.drop(\"categories\")\n",
        "us_restaurants = us_restaurants.filter(col(\"category\").isNotNull())"
      ]
    },
    {
      "cell_type": "code",
      "execution_count": 14,
      "outputs": [],
      "metadata": {},
      "source": [
        "# Print out the number of restaurants that are labeled by their cuisine types\n",
        "print(f\"Number of labeled US restaurants in the dataset: {us_restaurants.count()}\")"
      ]
    },
    {
      "cell_type": "code",
      "execution_count": 54,
      "outputs": [],
      "metadata": {
        "jupyter": {
          "outputs_hidden": false,
          "source_hidden": false
        },
        "nteract": {
          "transient": {
            "deleting": false
          }
        },
        "collapsed": false
      },
      "source": [
        "# Check if the dataset contains any duplicated businesses\n",
        "us_restaurants.groupBy(\"business_id\").count().filter(col(\"count\") > 1).count()"
      ]
    },
    {
      "cell_type": "markdown",
      "metadata": {
        "nteract": {
          "transient": {
            "deleting": false
          }
        }
      },
      "source": [
        "## Preprocessing of Review Dataset"
      ]
    },
    {
      "cell_type": "code",
      "execution_count": 15,
      "outputs": [],
      "metadata": {
        "jupyter": {
          "outputs_hidden": false,
          "source_hidden": false
        },
        "nteract": {
          "transient": {
            "deleting": false
          }
        },
        "collapsed": false
      },
      "source": [
        "# Import review data\n",
        "review = spark.read.json(path_review)"
      ]
    },
    {
      "cell_type": "code",
      "execution_count": 16,
      "outputs": [],
      "metadata": {},
      "source": [
        "# Print first 10 rows\n",
        "review.show(n=10, truncate=20)"
      ]
    },
    {
      "cell_type": "code",
      "execution_count": 57,
      "outputs": [],
      "metadata": {},
      "source": [
        "# Print current dataset schema\n",
        "review.printSchema()"
      ]
    },
    {
      "cell_type": "markdown",
      "metadata": {
        "nteract": {
          "transient": {
            "deleting": false
          }
        }
      },
      "source": [
        "## Merging Business and Review Datasets"
      ]
    },
    {
      "cell_type": "code",
      "execution_count": 17,
      "outputs": [],
      "metadata": {
        "jupyter": {
          "outputs_hidden": false,
          "source_hidden": false
        },
        "nteract": {
          "transient": {
            "deleting": false
          }
        },
        "collapsed": false
      },
      "source": [
        "# Change the names of 'stars' columns in both datasets to avoid confusion\n",
        "us_restaurants = us_restaurants.withColumnRenamed(\"stars\", \"avg_star\")\n",
        "review = review.withColumnRenamed(\"stars\", \"review_star\")"
      ]
    },
    {
      "cell_type": "code",
      "execution_count": 18,
      "outputs": [],
      "metadata": {
        "jupyter": {
          "outputs_hidden": false,
          "source_hidden": false
        },
        "nteract": {
          "transient": {
            "deleting": false
          }
        },
        "collapsed": false
      },
      "source": [
        "# Merge the dataframes on 'business_id'\n",
        "restaurants_reviews = us_restaurants.join(review, on=\"business_id\", how=\"inner\")"
      ]
    },
    {
      "cell_type": "code",
      "execution_count": 60,
      "outputs": [],
      "metadata": {
        "jupyter": {
          "outputs_hidden": false,
          "source_hidden": false
        },
        "nteract": {
          "transient": {
            "deleting": false
          }
        },
        "collapsed": false,
        "scrolled": true
      },
      "source": [
        "# Print the schema of merged dataframe\n",
        "restaurants_reviews.printSchema()"
      ]
    },
    {
      "cell_type": "markdown",
      "metadata": {},
      "source": [
        "## Preprocessing of Restaurants_Reviews Dataset"
      ]
    },
    {
      "cell_type": "code",
      "execution_count": 19,
      "outputs": [],
      "metadata": {},
      "source": [
        "# Create a 'labels' column\n",
        "# 4-5 Stars --> Positive\n",
        "# 3 Stars --> Neutral\n",
        "# 1-2 Stars --> Negative\n",
        "restaurants_reviews = restaurants_reviews.withColumn(\n",
        "    \"labels\",\n",
        "    when(restaurants_reviews[\"review_star\"] >= 4, \"positive\")\n",
        "    .when(restaurants_reviews[\"review_star\"] == 3, \"neutral\")\n",
        "    .when(restaurants_reviews[\"review_star\"] < 3, \"negative\"),\n",
        ")"
      ]
    },
    {
      "cell_type": "code",
      "execution_count": 20,
      "outputs": [],
      "metadata": {},
      "source": [
        "# Filter out neutral reviews and count the rest\n",
        "restaurants_reviews = restaurants_reviews.where(\n",
        "    restaurants_reviews[\"labels\"] != \"neutral\"\n",
        ")\n",
        "print(f'The number of positive and negative reviews : {restaurants_reviews.count()}')"
      ]
    },
    {
      "cell_type": "code",
      "execution_count": 21,
      "outputs": [],
      "metadata": {
        "jupyter": {
          "source_hidden": false,
          "outputs_hidden": false
        },
        "nteract": {
          "transient": {
            "deleting": false
          }
        }
      },
      "source": [
        "# Show the distribution of reviews by category\r\n",
        "restaurants_reviews.groupBy('category').count().sort('count',ascending = False).show()"
      ]
    },
    {
      "cell_type": "markdown",
      "metadata": {},
      "source": [
        "## Data Transformation on Reviews"
      ]
    },
    {
      "cell_type": "code",
      "execution_count": 240,
      "outputs": [],
      "metadata": {},
      "source": [
        "# Show 'text' column before transformation\n",
        "restaurants_reviews.select(\"text\").show(10, truncate=80)"
      ]
    },
    {
      "cell_type": "code",
      "execution_count": 22,
      "outputs": [],
      "metadata": {},
      "source": [
        "# Convert 'text' to lowercase\n",
        "restaurants_reviews = restaurants_reviews.withColumn(\"text\", F.lower(F.col(\"text\")))"
      ]
    },
    {
      "cell_type": "code",
      "execution_count": 23,
      "outputs": [],
      "metadata": {
        "jupyter": {
          "outputs_hidden": false,
          "source_hidden": false
        },
        "nteract": {
          "transient": {
            "deleting": false
          }
        },
        "collapsed": false
      },
      "source": [
        "# Transform review text by using regular expressions\n",
        "\n",
        "# Replace all non-alphanumeric characters with a whitespace.\n",
        "restaurants_reviews = restaurants_reviews.withColumn(\n",
        "    \"text_clean\", F.regexp_replace(F.col(\"text\"), \"[^a-zA-Z0-9\\s]\", \" \")\n",
        ")\n",
        "\n",
        "# Replace all line break character with a whitespace.\n",
        "restaurants_reviews = restaurants_reviews.withColumn(\n",
        "    \"text_clean\", F.regexp_replace(F.col(\"text_clean\"), \"\\n\", \" \")\n",
        ")\n",
        "\n",
        "# Replace all consecutive whitespaces with a single whitespace.\n",
        "restaurants_reviews = restaurants_reviews.withColumn(\n",
        "    \"text_clean\", F.regexp_replace(F.col(\"text_clean\"), \"\\\\s+\", \" \")\n",
        ")\n",
        "\n",
        "# Delete all whitespace characters at the end of each string.\n",
        "restaurants_reviews = restaurants_reviews.withColumn(\n",
        "    \"text_clean\", F.regexp_replace(F.col(\"text_clean\"), \"\\s+$\", \"\")\n",
        ")"
      ]
    },
    {
      "cell_type": "code",
      "execution_count": 24,
      "outputs": [],
      "metadata": {},
      "source": [
        "# Show 'text_clean' column after transformation\n",
        "restaurants_reviews.select(\"text_clean\").show(10, truncate=50)"
      ]
    },
    {
      "cell_type": "code",
      "execution_count": 25,
      "outputs": [],
      "metadata": {
        "jupyter": {
          "source_hidden": false,
          "outputs_hidden": false
        },
        "nteract": {
          "transient": {
            "deleting": false
          }
        }
      },
      "source": [
        "#Drop unnecessary columns\r\n",
        "restaurants_reviews = restaurants_reviews.select(['category','text_clean','labels'])"
      ]
    },
    {
      "cell_type": "code",
      "execution_count": 26,
      "outputs": [],
      "metadata": {
        "jupyter": {
          "source_hidden": false,
          "outputs_hidden": false
        },
        "nteract": {
          "transient": {
            "deleting": false
          }
        }
      },
      "source": [
        "#Print the schema\r\n",
        "restaurants_reviews.printSchema()"
      ]
    },
    {
      "cell_type": "code",
      "execution_count": 27,
      "outputs": [],
      "metadata": {
        "jupyter": {
          "source_hidden": false,
          "outputs_hidden": false
        },
        "nteract": {
          "transient": {
            "deleting": false
          }
        }
      },
      "source": [
        "#Cache the processed DataFrame\r\n",
        "restaurants_reviews.cache()\r\n",
        "restaurants_reviews.storageLevel"
      ]
    },
    {
      "cell_type": "markdown",
      "metadata": {
        "nteract": {
          "transient": {
            "deleting": false
          }
        }
      },
      "source": [
        "## Positive and Negative Words"
      ]
    },
    {
      "cell_type": "code",
      "execution_count": 28,
      "outputs": [],
      "metadata": {
        "scrolled": true
      },
      "source": [
        "# There are 2 .txt files in the main directory where positive and negative words in English language are collected.\n",
        "# Mentioned text files will be used to evaluate whether a word is positive or negative.\n",
        "\n",
        "# Read text files and create RDDs\n",
        "positive_rdd = spark.sparkContext.textFile(positive_path)\n",
        "negative_rdd = spark.sparkContext.textFile(negative_path)\n",
        "\n",
        "# Convert RDDs into lists\n",
        "positive_words = positive_rdd.collect()\n",
        "negative_words = negative_rdd.collect()\n",
        "\n",
        "# Create lists with useless words that doesn't give any valuable info about restaurants.\n",
        "positive_useless = [ \"great\", \"amazing\", \"love\", \"best\", \"awesome\", \"excellent\", \"good\", \"favorite\", \"loved\", \"perfect\", \"gem\", \"perfectly\",\n",
        "\"wonderful\", \"happy\", \"enjoyed\", \"nice\", \"well\", \"super\", \"like\", \"better\", \"decent\", \"fine\", \"pretty\", \"enough\", \"excited\", \"impressed\", \n",
        "\"ready\", \"fantastic\", \"glad\", \"right\", \"fabulous\", ]\n",
        "negative_useless = [ \"bad\", \"disappointed\", \"unfortunately\", \"disappointing\", \"horrible\", \"lacking\", \"terrible\", \"sorry\", \"disappoint\", \"worst\", ]\n",
        "\n",
        "# Filter useless words out\n",
        "positive_words = [x for x in positive_words if x not in positive_useless]\n",
        "negative_words = [x for x in negative_words if x not in negative_useless]\n",
        "\n",
        "# Print first 10 elements of lists\n",
        "print(positive_words[:10])\n",
        "print(negative_words[:10])"
      ]
    },
    {
      "cell_type": "code",
      "execution_count": 29,
      "outputs": [],
      "metadata": {
        "jupyter": {
          "outputs_hidden": false,
          "source_hidden": false
        },
        "nteract": {
          "transient": {
            "deleting": false
          }
        },
        "collapsed": false
      },
      "source": [
        "# Define a function that filters rows based on the 'category' parameter\n",
        "def get_dataset(category):\n",
        "    \"\"\"Takes in a category name as string. Returns a DataFrame with filtered rows based on category argument.\"\"\"\n",
        "\n",
        "    # Filter DataFrame to only include reviews for the given category\n",
        "    df = restaurants_reviews.filter(col(\"category\") == category)\n",
        "\n",
        "    # Select relevant columns\n",
        "    df = df.select([\"text_clean\",\"labels\"])\n",
        "\n",
        "    return df"
      ]
    },
    {
      "cell_type": "code",
      "execution_count": 30,
      "outputs": [],
      "metadata": {
        "jupyter": {
          "source_hidden": false,
          "outputs_hidden": false
        },
        "nteract": {
          "transient": {
            "deleting": false
          }
        }
      },
      "source": [
        "def filter_words(col):\r\n",
        "    text = [i for i in col.split() if i in positive_words + negative_words]\r\n",
        "    return text"
      ]
    },
    {
      "cell_type": "markdown",
      "metadata": {},
      "source": [
        "After this point, all the processes will be implemented for 'African' restaurants."
      ]
    },
    {
      "cell_type": "code",
      "execution_count": 132,
      "outputs": [],
      "metadata": {},
      "source": [
        "African = get_dataset(\"African\")"
      ]
    },
    {
      "cell_type": "code",
      "execution_count": 133,
      "outputs": [],
      "metadata": {
        "jupyter": {
          "source_hidden": false,
          "outputs_hidden": false
        },
        "nteract": {
          "transient": {
            "deleting": false
          }
        }
      },
      "source": [
        "African = African.withColumn(\"text_filtered\", udf(filter_words, returnType=ArrayType(StringType()))(col(\"text_clean\")))\r\n",
        "#African = African.drop('text_clean')"
      ]
    },
    {
      "cell_type": "code",
      "execution_count": 54,
      "outputs": [],
      "metadata": {
        "jupyter": {
          "source_hidden": false,
          "outputs_hidden": false
        },
        "nteract": {
          "transient": {
            "deleting": false
          }
        }
      },
      "source": [
        "African.show(5, truncate = 40)"
      ]
    },
    {
      "cell_type": "code",
      "execution_count": 37,
      "outputs": [],
      "metadata": {
        "jupyter": {
          "source_hidden": false,
          "outputs_hidden": false
        },
        "nteract": {
          "transient": {
            "deleting": false
          }
        }
      },
      "source": [
        "African.dtypes"
      ]
    },
    {
      "cell_type": "code",
      "execution_count": 134,
      "outputs": [],
      "metadata": {
        "jupyter": {
          "outputs_hidden": false,
          "source_hidden": false
        },
        "nteract": {
          "transient": {
            "deleting": false
          }
        },
        "collapsed": false
      },
      "source": [
        "vectorizer = CountVectorizer(inputCol = 'text_filtered', outputCol = 'vector')\n",
        "print(type(vectorizer))\n",
        "# Fit the CountVectorizer object to the training data\n",
        "vectorizer_model = vectorizer.fit(African)"
      ]
    },
    {
      "cell_type": "code",
      "execution_count": 135,
      "outputs": [],
      "metadata": {
        "jupyter": {
          "source_hidden": false,
          "outputs_hidden": false
        },
        "nteract": {
          "transient": {
            "deleting": false
          }
        }
      },
      "source": [
        "African_vec = vectorizer_model.transform(African)"
      ]
    },
    {
      "cell_type": "code",
      "execution_count": 136,
      "outputs": [],
      "metadata": {
        "jupyter": {
          "source_hidden": false,
          "outputs_hidden": false
        },
        "nteract": {
          "transient": {
            "deleting": false
          }
        }
      },
      "source": [
        "African_vec = African_vec.withColumn('labels_bool', when(col('labels') == 'positive' , 1).otherwise(0))"
      ]
    },
    {
      "cell_type": "code",
      "execution_count": 121,
      "outputs": [],
      "metadata": {
        "jupyter": {
          "outputs_hidden": false,
          "source_hidden": false
        },
        "nteract": {
          "transient": {
            "deleting": false
          }
        },
        "collapsed": false
      },
      "source": [
        "African_vec.show(5,truncate = 180)"
      ]
    },
    {
      "cell_type": "code",
      "execution_count": 137,
      "outputs": [],
      "metadata": {
        "jupyter": {
          "source_hidden": false,
          "outputs_hidden": false
        },
        "nteract": {
          "transient": {
            "deleting": false
          }
        }
      },
      "source": [
        "lr_model = LogisticRegression(featuresCol = 'vector', labelCol = 'labels_bool').fit(African_vec)"
      ]
    },
    {
      "cell_type": "code",
      "execution_count": 138,
      "outputs": [],
      "metadata": {
        "jupyter": {
          "source_hidden": false,
          "outputs_hidden": false
        },
        "nteract": {
          "transient": {
            "deleting": false
          }
        }
      },
      "source": [
        "coeff_arr = lr_model.coefficients.toArray()\r\n",
        "coeff_arr[:10]"
      ]
    },
    {
      "cell_type": "code",
      "execution_count": 139,
      "outputs": [],
      "metadata": {
        "jupyter": {
          "source_hidden": false,
          "outputs_hidden": false
        },
        "nteract": {
          "transient": {
            "deleting": false
          }
        }
      },
      "source": [
        "coeff_arr = [float(coeff) for coeff in coeff_arr]\r\n",
        "coeff_arr[:10]"
      ]
    },
    {
      "cell_type": "code",
      "execution_count": 140,
      "outputs": [],
      "metadata": {
        "jupyter": {
          "source_hidden": false,
          "outputs_hidden": false
        },
        "nteract": {
          "transient": {
            "deleting": false
          }
        }
      },
      "source": [
        "vocab_arr = vectorizer_model.vocabulary\r\n",
        "vocab_arr[:10]"
      ]
    },
    {
      "cell_type": "code",
      "execution_count": 141,
      "outputs": [],
      "metadata": {
        "jupyter": {
          "source_hidden": false,
          "outputs_hidden": false
        },
        "nteract": {
          "transient": {
            "deleting": false
          }
        }
      },
      "source": [
        "data = [(vocab,coeff) for (vocab,coeff) in zip(vocab_arr,coeff_arr)]\r\n",
        "data[:3]"
      ]
    },
    {
      "cell_type": "code",
      "execution_count": 142,
      "outputs": [],
      "metadata": {
        "jupyter": {
          "source_hidden": false,
          "outputs_hidden": false
        },
        "nteract": {
          "transient": {
            "deleting": false
          }
        }
      },
      "source": [
        "African_df = spark.createDataFrame(data,['word','coeff'])\r\n",
        "African_df.show(3)"
      ]
    },
    {
      "cell_type": "code",
      "execution_count": 143,
      "outputs": [],
      "metadata": {
        "jupyter": {
          "source_hidden": false,
          "outputs_hidden": false
        },
        "nteract": {
          "transient": {
            "deleting": false
          }
        }
      },
      "source": [
        "#Inspection\r\n",
        "African_df.sort('coeff',ascending = False).show(10)"
      ]
    },
    {
      "cell_type": "code",
      "execution_count": 145,
      "outputs": [],
      "metadata": {
        "jupyter": {
          "source_hidden": false,
          "outputs_hidden": false
        },
        "nteract": {
          "transient": {
            "deleting": false
          }
        }
      },
      "source": [
        "from pyspark.sql.functions import array_contains\r\n",
        "African.filter(array_contains(col('text_filtered'),'bored')).show(truncate = 100)"
      ]
    },
    {
      "cell_type": "code",
      "execution_count": 120,
      "outputs": [],
      "metadata": {
        "jupyter": {
          "source_hidden": false,
          "outputs_hidden": false
        },
        "nteract": {
          "transient": {
            "deleting": false
          }
        }
      },
      "source": [
        "print(African_df.count())"
      ]
    },
    {
      "cell_type": "code",
      "execution_count": 125,
      "outputs": [],
      "metadata": {
        "jupyter": {
          "source_hidden": false,
          "outputs_hidden": false
        },
        "nteract": {
          "transient": {
            "deleting": false
          }
        }
      },
      "source": [
        "African.groupby('labels').count().show()"
      ]
    },
    {
      "cell_type": "code",
      "execution_count": null,
      "outputs": [],
      "metadata": {
        "jupyter": {
          "source_hidden": false,
          "outputs_hidden": false
        },
        "nteract": {
          "transient": {
            "deleting": false
          }
        }
      },
      "source": [
        "# Kelime başına frequency nasıl bulunacak?"
      ]
    },
    {
      "cell_type": "code",
      "execution_count": 95,
      "outputs": [],
      "metadata": {
        "jupyter": {
          "outputs_hidden": false,
          "source_hidden": false
        },
        "nteract": {
          "transient": {
            "deleting": false
          }
        },
        "collapsed": false
      },
      "source": [
        "\"\"\"\n",
        "coeff = svm.coef_[0]\n",
        "Korean_words_score = pd.DataFrame(\n",
        "    {\"score\": coeff, \"word\": vectorizer.get_feature_names()}\n",
        ")\n",
        "\"\"\""
      ]
    },
    {
      "cell_type": "code",
      "execution_count": 50,
      "outputs": [],
      "metadata": {
        "jupyter": {
          "outputs_hidden": false,
          "source_hidden": false
        },
        "nteract": {
          "transient": {
            "deleting": false
          }
        },
        "collapsed": false
      },
      "source": [
        "Korean_words_score"
      ]
    },
    {
      "cell_type": "code",
      "execution_count": 79,
      "outputs": [],
      "metadata": {
        "jupyter": {
          "outputs_hidden": false,
          "source_hidden": false
        },
        "nteract": {
          "transient": {
            "deleting": false
          }
        },
        "collapsed": false
      },
      "source": [
        "## get frequency of each word in all reviews in specific category\n",
        "Korean_reviews = pd.DataFrame(\n",
        "    vectorizer_model.toarray(), columns=vectorizer.get_feature_names()\n",
        ")\n",
        "Korean_reviews[\"labels\"] = class_train\n",
        "Korean_frequency = Korean_reviews[Korean_reviews[\"labels\"] == \"negative\"].sum()[:-1]"
      ]
    },
    {
      "cell_type": "code",
      "execution_count": 52,
      "outputs": [],
      "metadata": {
        "jupyter": {
          "outputs_hidden": false,
          "source_hidden": false
        },
        "nteract": {
          "transient": {
            "deleting": false
          }
        },
        "collapsed": false
      },
      "source": [
        "Korean_reviews"
      ]
    },
    {
      "cell_type": "code",
      "execution_count": 53,
      "outputs": [],
      "metadata": {
        "jupyter": {
          "outputs_hidden": false,
          "source_hidden": false
        },
        "nteract": {
          "transient": {
            "deleting": false
          }
        },
        "collapsed": false
      },
      "source": [
        "Korean_words_score.set_index(\"word\", inplace=True)"
      ]
    },
    {
      "cell_type": "code",
      "execution_count": 80,
      "outputs": [],
      "metadata": {
        "jupyter": {
          "outputs_hidden": false,
          "source_hidden": false
        },
        "nteract": {
          "transient": {
            "deleting": false
          }
        },
        "collapsed": false
      },
      "source": [
        "Korean_polarity_score = Korean_words_score\n",
        "Korean_polarity_score[\"frequency\"] = Korean_frequency"
      ]
    },
    {
      "cell_type": "code",
      "execution_count": 55,
      "outputs": [],
      "metadata": {
        "jupyter": {
          "outputs_hidden": false,
          "source_hidden": false
        },
        "nteract": {
          "transient": {
            "deleting": false
          }
        },
        "collapsed": false
      },
      "source": [
        "print(Korean_polarity_score)"
      ]
    },
    {
      "cell_type": "code",
      "execution_count": 81,
      "outputs": [],
      "metadata": {
        "jupyter": {
          "outputs_hidden": false,
          "source_hidden": false
        },
        "nteract": {
          "transient": {
            "deleting": false
          }
        },
        "collapsed": false
      },
      "source": [
        "## calculate polarity score\n",
        "Korean_polarity_score[\"polarity\"] = (\n",
        "    Korean_polarity_score.score\n",
        "    * Korean_polarity_score.frequency\n",
        "    / Korean_reviews.shape[0]\n",
        ")"
      ]
    },
    {
      "cell_type": "code",
      "execution_count": 57,
      "outputs": [],
      "metadata": {
        "jupyter": {
          "outputs_hidden": false,
          "source_hidden": false
        },
        "nteract": {
          "transient": {
            "deleting": false
          }
        },
        "collapsed": false
      },
      "source": [
        "Korean_polarity_score"
      ]
    },
    {
      "cell_type": "code",
      "execution_count": 82,
      "outputs": [],
      "metadata": {
        "jupyter": {
          "outputs_hidden": false,
          "source_hidden": false
        },
        "nteract": {
          "transient": {
            "deleting": false
          }
        },
        "collapsed": false
      },
      "source": [
        "Korean_polarity_score.polarity = Korean_polarity_score.polarity.astype(float)\n",
        "Korean_polarity_score.frequency = Korean_polarity_score.frequency.astype(float)"
      ]
    },
    {
      "cell_type": "code",
      "execution_count": 83,
      "outputs": [],
      "metadata": {
        "jupyter": {
          "outputs_hidden": false,
          "source_hidden": false
        },
        "nteract": {
          "transient": {
            "deleting": false
          }
        },
        "collapsed": false
      },
      "source": [
        "Koreann_dnm = Korean_polarity_score[Korean_polarity_score.polarity < 0].sort_values(\n",
        "    \"polarity\", ascending=True\n",
        ")"
      ]
    },
    {
      "cell_type": "code",
      "execution_count": 84,
      "outputs": [],
      "metadata": {
        "jupyter": {
          "outputs_hidden": false,
          "source_hidden": false
        },
        "nteract": {
          "transient": {
            "deleting": false
          }
        },
        "collapsed": false
      },
      "source": [
        "Koreann_dnm[:10]"
      ]
    },
    {
      "cell_type": "code",
      "execution_count": 85,
      "outputs": [],
      "metadata": {
        "jupyter": {
          "outputs_hidden": false,
          "source_hidden": false
        },
        "nteract": {
          "transient": {
            "deleting": false
          }
        },
        "collapsed": false
      },
      "source": [
        "negative_top10 = Koreann_dnm[:10]"
      ]
    },
    {
      "cell_type": "code",
      "execution_count": 78,
      "outputs": [],
      "metadata": {
        "jupyter": {
          "outputs_hidden": false,
          "source_hidden": false
        },
        "nteract": {
          "transient": {
            "deleting": false
          }
        },
        "collapsed": false
      },
      "source": [
        "positive_top10 = Koreann_dnm[:10]\n",
        "positive_top10"
      ]
    },
    {
      "cell_type": "code",
      "execution_count": 63,
      "outputs": [],
      "metadata": {
        "jupyter": {
          "outputs_hidden": false,
          "source_hidden": false
        },
        "nteract": {
          "transient": {
            "deleting": false
          }
        },
        "collapsed": false
      },
      "source": [
        "Koreann_dnm.info()"
      ]
    },
    {
      "cell_type": "code",
      "execution_count": 115,
      "outputs": [],
      "metadata": {
        "jupyter": {
          "outputs_hidden": false,
          "source_hidden": false
        },
        "nteract": {
          "transient": {
            "deleting": false
          }
        },
        "collapsed": false
      },
      "source": [
        "import matplotlib.pyplot as plt\n",
        "\n",
        "# Extract the index (words) and polarity score\n",
        "words = positive_top10.index\n",
        "polarity_scores = positive_top10[\"polarity\"]\n",
        "\n",
        "words = words[::-1]\n",
        "polarity_scores = polarity_scores[::-1]\n",
        "\n",
        "# Create a bar plot\n",
        "plt.figure(figsize=(12, 6))\n",
        "plt.barh(words, polarity_scores, color=\"#0B4F6C\")\n",
        "\n",
        "# Rotate x-axis labels for better readability\n",
        "plt.xticks(rotation=45, ha=\"right\")\n",
        "\n",
        "# Set labels and title\n",
        "plt.xlabel(\"Polarity Score\")\n",
        "plt.ylabel(\"Words\")\n",
        "plt.title(\"Polarity Scores of Words for Positive Reviews in Korean Restaurants\")\n",
        "\n",
        "# Show the plot\n",
        "plt.tight_layout()\n",
        "plt.show()"
      ]
    },
    {
      "cell_type": "code",
      "execution_count": 114,
      "outputs": [],
      "metadata": {
        "jupyter": {
          "outputs_hidden": false,
          "source_hidden": false
        },
        "nteract": {
          "transient": {
            "deleting": false
          }
        },
        "collapsed": false
      },
      "source": [
        "# Extract the index (words) and polarity score\n",
        "words = negative_top10.index\n",
        "polarity_scores = negative_top10[\"polarity\"]\n",
        "\n",
        "words = words[::-1]\n",
        "polarity_scores = polarity_scores[::-1]\n",
        "\n",
        "# Create a bar plot\n",
        "plt.figure(figsize=(12, 6))\n",
        "plt.barh(words, polarity_scores * (-1), color=\"#B80C09\")\n",
        "\n",
        "# Rotate x-axis labels for better readability\n",
        "plt.xticks(rotation=45, ha=\"right\")\n",
        "\n",
        "# Set labels and title\n",
        "plt.xlabel(\"Polarity Score\")\n",
        "plt.ylabel(\"Words\")\n",
        "plt.title(\"Polarity Scores of Words for Negative Reviews in Korean Restaurants\")\n",
        "plt.xlim(0.003, 0.013)\n",
        "\n",
        "# Show the plot\n",
        "plt.tight_layout()\n",
        "plt.savefig(\"red_plot.png\")\n",
        "plt.show()"
      ]
    },
    {
      "cell_type": "code",
      "execution_count": 128,
      "outputs": [],
      "metadata": {
        "jupyter": {
          "outputs_hidden": false,
          "source_hidden": false
        },
        "nteract": {
          "transient": {
            "deleting": false
          }
        },
        "collapsed": false
      },
      "source": [
        "from pyspark.sql.functions import col, split\n",
        "from sklearn.feature_extraction.text import CountVectorizer\n",
        "\n",
        "\n",
        "def get_polarity_score(dataset, review_type):\n",
        "    dataset = dataset.withColumn(\"text\", F.udf(filter_words)(F.col(\"text\")))\n",
        "\n",
        "    terms_train = dataset.select(\"text\").rdd.flatMap(lambda row: row).collect()\n",
        "    class_train = dataset.select(\"labels\").rdd.flatMap(lambda row: row).collect()\n",
        "\n",
        "    terms_test = dataset.select(\"text\").rdd.flatMap(lambda row: row).collect()\n",
        "    class_test = dataset.select(\"labels\").rdd.flatMap(lambda row: row).collect()\n",
        "\n",
        "    vectorizer = CountVectorizer()\n",
        "    vectorizer_model = vectorizer.fit_transform(terms_train)\n",
        "\n",
        "    svm = LinearSVC(max_iter=10000)\n",
        "    svm.fit(vectorizer_model, class_train)\n",
        "\n",
        "    coeff = svm.coef_[0]\n",
        "    cuisine_words_score = pd.DataFrame(\n",
        "        {\"score\": coeff, \"word\": vectorizer.get_feature_names()}\n",
        "    )\n",
        "\n",
        "    cuisine_reviews = pd.DataFrame(\n",
        "        vectorizer_model.toarray(), columns=vectorizer.get_feature_names()\n",
        "    )\n",
        "    cuisine_reviews[\"labels\"] = class_train\n",
        "\n",
        "    if review_type == \"positive\":\n",
        "        cuisine_frequency = cuisine_reviews[\n",
        "            cuisine_reviews[\"labels\"] == \"positive\"\n",
        "        ].sum()[:-1]\n",
        "    else:\n",
        "        cuisine_frequency = cuisine_reviews[\n",
        "            cuisine_reviews[\"labels\"] == \"negative\"\n",
        "        ].sum()[:-1]\n",
        "\n",
        "    cuisine_words_score.set_index(\"word\", inplace=True)\n",
        "    cuisine_polarity_score = cuisine_words_score\n",
        "    cuisine_polarity_score[\"frequency\"] = cuisine_frequency\n",
        "\n",
        "    cuisine_polarity_score[\"polarity\"] = (\n",
        "        cuisine_polarity_score.score\n",
        "        * cuisine_polarity_score.frequency\n",
        "        / cuisine_reviews.shape[0]\n",
        "    )\n",
        "\n",
        "    ## drop unnecessary words\n",
        "    unuseful_positive_words = cuisine_polarity_score.loc[\n",
        "        [\n",
        "            \"great\",\n",
        "            \"amazing\",\n",
        "            \"love\",\n",
        "            \"best\",\n",
        "            \"awesome\",\n",
        "            \"excellent\",\n",
        "            \"good\",\n",
        "            \"favorite\",\n",
        "            \"loved\",\n",
        "            \"perfect\",\n",
        "            \"gem\",\n",
        "            \"perfectly\",\n",
        "            \"wonderful\",\n",
        "            \"happy\",\n",
        "            \"enjoyed\",\n",
        "            \"nice\",\n",
        "            \"well\",\n",
        "            \"super\",\n",
        "            \"like\",\n",
        "            \"better\",\n",
        "            \"decent\",\n",
        "            \"fine\",\n",
        "            \"pretty\",\n",
        "            \"enough\",\n",
        "            \"excited\",\n",
        "            \"impressed\",\n",
        "            \"ready\",\n",
        "            \"fantastic\",\n",
        "            \"glad\",\n",
        "            \"right\",\n",
        "            \"fabulous\",\n",
        "        ]\n",
        "    ]\n",
        "    unuseful_negative_words = cuisine_polarity_score.loc[\n",
        "        [\n",
        "            \"bad\",\n",
        "            \"disappointed\",\n",
        "            \"unfortunately\",\n",
        "            \"disappointing\",\n",
        "            \"horrible\",\n",
        "            \"lacking\",\n",
        "            \"terrible\",\n",
        "            \"sorry\",\n",
        "            \"disappoint\",\n",
        "            \"worst\",\n",
        "        ]\n",
        "    ]\n",
        "\n",
        "    unuseful_words = unuseful_positive_words + unuseful_negative_words\n",
        "    cuisine_polarity_score.drop(unuseful_words.index, axis=0, inplace=True)\n",
        "\n",
        "    cuisine_polarity_score.polarity = cuisine_polarity_score.polarity.astype(float)\n",
        "    cuisine_polarity_score.frequency = cuisine_polarity_score.frequency.astype(float)\n",
        "\n",
        "    return cuisine_polarity_score"
      ]
    },
    {
      "cell_type": "code",
      "execution_count": 129,
      "outputs": [],
      "metadata": {
        "jupyter": {
          "outputs_hidden": false,
          "source_hidden": false
        },
        "nteract": {
          "transient": {
            "deleting": false
          }
        },
        "collapsed": false
      },
      "source": [
        "Japanese_reviews = get_dataset(\"Japanese\")\n",
        "Japanese_train, Japanese_test = Japanese_reviews.randomSplit([0.5, 0.5])"
      ]
    },
    {
      "cell_type": "code",
      "execution_count": 130,
      "outputs": [],
      "metadata": {
        "jupyter": {
          "outputs_hidden": false,
          "source_hidden": false
        },
        "nteract": {
          "transient": {
            "deleting": false
          }
        },
        "collapsed": false
      },
      "source": [
        "Japanese_polarity_score = get_polarity_score(Japanese_train, \"positive\")"
      ]
    },
    {
      "cell_type": "code",
      "execution_count": 143,
      "outputs": [],
      "metadata": {
        "jupyter": {
          "outputs_hidden": false,
          "source_hidden": false
        },
        "nteract": {
          "transient": {
            "deleting": false
          }
        },
        "collapsed": false
      },
      "source": [
        "Japanese_polarity_score = get_polarity_score(Japanese_train, \"negative\")"
      ]
    },
    {
      "cell_type": "code",
      "execution_count": 144,
      "outputs": [],
      "metadata": {
        "jupyter": {
          "outputs_hidden": false,
          "source_hidden": false
        },
        "nteract": {
          "transient": {
            "deleting": false
          }
        },
        "collapsed": false
      },
      "source": [
        "Japanese_dnm = Japanese_polarity_score[\n",
        "    Japanese_polarity_score.polarity < 0\n",
        "].sort_values(\"polarity\")\n",
        "Japanese_negative_top10 = Japanese_dnm[:10]"
      ]
    },
    {
      "cell_type": "code",
      "execution_count": 131,
      "outputs": [],
      "metadata": {
        "jupyter": {
          "outputs_hidden": false,
          "source_hidden": false
        },
        "nteract": {
          "transient": {
            "deleting": false
          }
        },
        "collapsed": false
      },
      "source": [
        "Japanese_dnm = Japanese_polarity_score[\n",
        "    Japanese_polarity_score.polarity > 0\n",
        "].sort_values(\"polarity\", ascending=False)\n",
        "Japanese_positive_top10 = Japanese_dnm[:10]"
      ]
    },
    {
      "cell_type": "code",
      "execution_count": 132,
      "outputs": [],
      "metadata": {
        "jupyter": {
          "outputs_hidden": false,
          "source_hidden": false
        },
        "nteract": {
          "transient": {
            "deleting": false
          }
        },
        "collapsed": false
      },
      "source": [
        "Japanese_positive_top10"
      ]
    },
    {
      "cell_type": "code",
      "execution_count": 133,
      "outputs": [],
      "metadata": {
        "jupyter": {
          "outputs_hidden": false,
          "source_hidden": false
        },
        "nteract": {
          "transient": {
            "deleting": false
          }
        },
        "collapsed": false
      },
      "source": [
        "Japanese_dnm = Japanese_polarity_score[\n",
        "    Japanese_polarity_score.polarity < 0\n",
        "].sort_values(\"polarity\")\n",
        "Japanese_negative_top10 = Japanese_dnm[:10]"
      ]
    },
    {
      "cell_type": "code",
      "execution_count": 134,
      "outputs": [],
      "metadata": {
        "jupyter": {
          "outputs_hidden": false,
          "source_hidden": false
        },
        "nteract": {
          "transient": {
            "deleting": false
          }
        },
        "collapsed": false
      },
      "source": [
        "Japanese_negative_top10"
      ]
    },
    {
      "cell_type": "code",
      "execution_count": 136,
      "outputs": [],
      "metadata": {
        "jupyter": {
          "outputs_hidden": false,
          "source_hidden": false
        },
        "nteract": {
          "transient": {
            "deleting": false
          }
        },
        "collapsed": false
      },
      "source": [
        "# Extract the index (words) and polarity score\n",
        "words = Japanese_positive_top10.index\n",
        "polarity_scores = Japanese_positive_top10[\"polarity\"]\n",
        "\n",
        "words = words[::-1]\n",
        "polarity_scores = polarity_scores[::-1]\n",
        "\n",
        "# Create a bar plot\n",
        "plt.figure(figsize=(12, 6))\n",
        "plt.barh(words, polarity_scores, color=\"#0B4F6C\")\n",
        "\n",
        "# Rotate x-axis labels for better readability\n",
        "plt.xticks(rotation=45, ha=\"right\")\n",
        "\n",
        "# Set labels and title\n",
        "plt.xlabel(\"Polarity Score\")\n",
        "plt.ylabel(\"Words\")\n",
        "plt.title(\"Polarity Scores of Words for Positive Reviews in Japanese Restaurants\")\n",
        "\n",
        "# Show the plot\n",
        "plt.tight_layout()\n",
        "plt.show()"
      ]
    },
    {
      "cell_type": "code",
      "execution_count": 145,
      "outputs": [],
      "metadata": {
        "jupyter": {
          "outputs_hidden": false,
          "source_hidden": false
        },
        "nteract": {
          "transient": {
            "deleting": false
          }
        },
        "collapsed": false
      },
      "source": [
        "words = Japanese_negative_top10.index\n",
        "polarity_scores = Japanese_negative_top10[\"polarity\"]\n",
        "\n",
        "words = words[::-1]\n",
        "polarity_scores = polarity_scores[::-1]\n",
        "\n",
        "# Create a bar plot\n",
        "plt.figure(figsize=(12, 6))\n",
        "plt.barh(words, polarity_scores * (-1), color=\"#B80C09\")\n",
        "\n",
        "# Rotate x-axis labels for better readability\n",
        "plt.xticks(rotation=45, ha=\"right\")\n",
        "\n",
        "# Set labels and title\n",
        "plt.xlabel(\"Polarity Score\")\n",
        "plt.ylabel(\"Words\")\n",
        "plt.title(\"Polarity Scores of Words for Negative Reviews in Japanese Restaurants\")\n",
        "plt.xlim(0.003, 0.015)\n",
        "\n",
        "# Show the plot\n",
        "plt.tight_layout()\n",
        "plt.show()"
      ]
    },
    {
      "cell_type": "code",
      "execution_count": 141,
      "outputs": [],
      "metadata": {
        "jupyter": {
          "outputs_hidden": false,
          "source_hidden": false
        },
        "nteract": {
          "transient": {
            "deleting": false
          }
        },
        "collapsed": false
      },
      "source": [
        "Thai_reviews = get_dataset(\"Thai\")\n",
        "Thai_train, Thai_test = Thai_reviews.randomSplit([0.5, 0.5])\n",
        "\n",
        "Thai_polarity_score = get_polarity_score(Thai_train, \"positive\")\n",
        "\n",
        "Thai_dnm = Thai_polarity_score[Thai_polarity_score.polarity > 0].sort_values(\n",
        "    \"polarity\", ascending=False\n",
        ")\n",
        "Thai_positive_top10 = Thai_dnm[:10]"
      ]
    },
    {
      "cell_type": "code",
      "execution_count": 142,
      "outputs": [],
      "metadata": {
        "jupyter": {
          "outputs_hidden": false,
          "source_hidden": false
        },
        "nteract": {
          "transient": {
            "deleting": false
          }
        },
        "collapsed": false
      },
      "source": [
        "Thai_positive_top10"
      ]
    },
    {
      "cell_type": "code",
      "execution_count": 146,
      "outputs": [],
      "metadata": {
        "jupyter": {
          "outputs_hidden": false,
          "source_hidden": false
        },
        "nteract": {
          "transient": {
            "deleting": false
          }
        },
        "collapsed": false
      },
      "source": [
        "# Extract the index (words) and polarity score\n",
        "words = Thai_positive_top10.index\n",
        "polarity_scores = Thai_positive_top10[\"polarity\"]\n",
        "\n",
        "words = words[::-1]\n",
        "polarity_scores = polarity_scores[::-1]\n",
        "\n",
        "# Create a bar plot\n",
        "plt.figure(figsize=(12, 6))\n",
        "plt.barh(words, polarity_scores, color=\"#0B4F6C\")\n",
        "\n",
        "# Rotate x-axis labels for better readability\n",
        "plt.xticks(rotation=45, ha=\"right\")\n",
        "\n",
        "# Set labels and title\n",
        "plt.xlabel(\"Polarity Score\")\n",
        "plt.ylabel(\"Words\")\n",
        "plt.title(\"Polarity Scores of Words for Positive Reviews in Thai Restaurants\")\n",
        "\n",
        "# Show the plot\n",
        "plt.tight_layout()\n",
        "plt.show()"
      ]
    },
    {
      "cell_type": "code",
      "execution_count": 147,
      "outputs": [],
      "metadata": {
        "jupyter": {
          "outputs_hidden": false,
          "source_hidden": false
        },
        "nteract": {
          "transient": {
            "deleting": false
          }
        },
        "collapsed": false
      },
      "source": [
        "Thai_polarity_score = get_polarity_score(Thai_train, \"negative\")\n",
        "\n",
        "Thai_dnm = Thai_polarity_score[Thai_polarity_score.polarity < 0].sort_values(\"polarity\")\n",
        "Thai_negative_top10 = Thai_dnm[:10]\n",
        "\n",
        "Thai_negative_top10"
      ]
    },
    {
      "cell_type": "code",
      "execution_count": 148,
      "outputs": [],
      "metadata": {
        "jupyter": {
          "outputs_hidden": false,
          "source_hidden": false
        },
        "nteract": {
          "transient": {
            "deleting": false
          }
        },
        "collapsed": false
      },
      "source": [
        "words = Thai_negative_top10.index\n",
        "polarity_scores = Thai_negative_top10[\"polarity\"]\n",
        "\n",
        "words = words[::-1]\n",
        "polarity_scores = polarity_scores[::-1]\n",
        "\n",
        "# Create a bar plot\n",
        "plt.figure(figsize=(12, 6))\n",
        "plt.barh(words, polarity_scores * (-1), color=\"#B80C09\")\n",
        "\n",
        "# Rotate x-axis labels for better readability\n",
        "plt.xticks(rotation=45, ha=\"right\")\n",
        "\n",
        "# Set labels and title\n",
        "plt.xlabel(\"Polarity Score\")\n",
        "plt.ylabel(\"Words\")\n",
        "plt.title(\"Polarity Scores of Words for Negative Reviews in Thai Restaurants\")\n",
        "# plt.xlim(0.00, 0.013)\n",
        "\n",
        "# Show the plot\n",
        "plt.tight_layout()\n",
        "plt.show()"
      ]
    },
    {
      "cell_type": "code",
      "execution_count": 149,
      "outputs": [],
      "metadata": {
        "jupyter": {
          "outputs_hidden": false,
          "source_hidden": false
        },
        "nteract": {
          "transient": {
            "deleting": false
          }
        },
        "collapsed": false
      },
      "source": [
        "Chinese_reviews = get_dataset(\"Chinese\")\n",
        "Chinese_train, Chinese_test = Chinese_reviews.randomSplit([0.5, 0.5])\n",
        "\n",
        "Chinese_polarity_score = get_polarity_score(Chinese_train, \"positive\")\n",
        "\n",
        "Chinese_dnm = Chinese_polarity_score[Chinese_polarity_score.polarity > 0].sort_values(\n",
        "    \"polarity\", ascending=False\n",
        ")\n",
        "Chinese_positive_top10 = Chinese_dnm[:10]\n",
        "\n",
        "Chinese_positive_top10"
      ]
    },
    {
      "cell_type": "code",
      "execution_count": 150,
      "outputs": [],
      "metadata": {
        "jupyter": {
          "outputs_hidden": false,
          "source_hidden": false
        },
        "nteract": {
          "transient": {
            "deleting": false
          }
        },
        "collapsed": false
      },
      "source": [
        "# Extract the index (words) and polarity score\n",
        "words = Chinese_positive_top10.index\n",
        "polarity_scores = Chinese_positive_top10[\"polarity\"]\n",
        "\n",
        "words = words[::-1]\n",
        "polarity_scores = polarity_scores[::-1]\n",
        "\n",
        "# Create a bar plot\n",
        "plt.figure(figsize=(12, 6))\n",
        "plt.barh(words, polarity_scores, color=\"#0B4F6C\")\n",
        "\n",
        "# Rotate x-axis labels for better readability\n",
        "plt.xticks(rotation=45, ha=\"right\")\n",
        "\n",
        "# Set labels and title\n",
        "plt.xlabel(\"Polarity Score\")\n",
        "plt.ylabel(\"Words\")\n",
        "plt.title(\"Polarity Scores of Words for Positive Reviews in Chinese Restaurants\")\n",
        "\n",
        "# Show the plot\n",
        "plt.tight_layout()\n",
        "plt.show()"
      ]
    },
    {
      "cell_type": "code",
      "execution_count": 152,
      "outputs": [],
      "metadata": {
        "jupyter": {
          "outputs_hidden": false,
          "source_hidden": false
        },
        "nteract": {
          "transient": {
            "deleting": false
          }
        },
        "collapsed": false
      },
      "source": [
        "Chinese_polarity_score = get_polarity_score(Chinese_train, \"negative\")\n",
        "\n",
        "Chinese_dnm = Chinese_polarity_score[Chinese_polarity_score.polarity < 0].sort_values(\n",
        "    \"polarity\"\n",
        ")\n",
        "Chinese_negative_top10 = Chinese_dnm[:10]\n",
        "\n",
        "Chinese_negative_top10"
      ]
    },
    {
      "cell_type": "code",
      "execution_count": 153,
      "outputs": [],
      "metadata": {
        "jupyter": {
          "outputs_hidden": false,
          "source_hidden": false
        },
        "nteract": {
          "transient": {
            "deleting": false
          }
        },
        "collapsed": false
      },
      "source": [
        "words = Chinese_negative_top10.index\n",
        "polarity_scores = Chinese_negative_top10[\"polarity\"]\n",
        "\n",
        "words = words[::-1]\n",
        "polarity_scores = polarity_scores[::-1]\n",
        "\n",
        "# Create a bar plot\n",
        "plt.figure(figsize=(12, 6))\n",
        "plt.barh(words, polarity_scores * (-1), color=\"#B80C09\")\n",
        "\n",
        "# Rotate x-axis labels for better readability\n",
        "plt.xticks(rotation=45, ha=\"right\")\n",
        "\n",
        "# Set labels and title\n",
        "plt.xlabel(\"Polarity Score\")\n",
        "plt.ylabel(\"Words\")\n",
        "plt.title(\"Polarity Scores of Words for Negative Reviews in Chinese Restaurants\")\n",
        "plt.xlim(0.0050, 0.018)\n",
        "\n",
        "# Show the plot\n",
        "plt.tight_layout()\n",
        "plt.show()"
      ]
    },
    {
      "cell_type": "code",
      "execution_count": 154,
      "outputs": [],
      "metadata": {
        "jupyter": {
          "outputs_hidden": false,
          "source_hidden": false
        },
        "nteract": {
          "transient": {
            "deleting": false
          }
        },
        "collapsed": false
      },
      "source": [
        "Vietnamese_reviews = get_dataset(\"Vietnamese\")\n",
        "Vietnamese_train, Vietnamese_test = Vietnamese_reviews.randomSplit([0.5, 0.5])\n",
        "\n",
        "Vietnamese_polarity_score = get_polarity_score(Vietnamese_train, \"positive\")\n",
        "\n",
        "Vietnamese_dnm = Vietnamese_polarity_score[\n",
        "    Vietnamese_polarity_score.polarity > 0\n",
        "].sort_values(\"polarity\", ascending=False)\n",
        "Vietnamese_positive_top10 = Vietnamese_dnm[:10]\n",
        "\n",
        "Vietnamese_positive_top10"
      ]
    },
    {
      "cell_type": "code",
      "execution_count": 155,
      "outputs": [],
      "metadata": {
        "jupyter": {
          "outputs_hidden": false,
          "source_hidden": false
        },
        "nteract": {
          "transient": {
            "deleting": false
          }
        },
        "collapsed": false
      },
      "source": [
        "# Extract the index (words) and polarity score\n",
        "words = Vietnamese_positive_top10.index\n",
        "polarity_scores = Vietnamese_positive_top10[\"polarity\"]\n",
        "\n",
        "words = words[::-1]\n",
        "polarity_scores = polarity_scores[::-1]\n",
        "\n",
        "# Create a bar plot\n",
        "plt.figure(figsize=(12, 6))\n",
        "plt.barh(words, polarity_scores, color=\"#0B4F6C\")\n",
        "\n",
        "# Rotate x-axis labels for better readability\n",
        "plt.xticks(rotation=45, ha=\"right\")\n",
        "\n",
        "# Set labels and title\n",
        "plt.xlabel(\"Polarity Score\")\n",
        "plt.ylabel(\"Words\")\n",
        "plt.title(\"Polarity Scores of Words for Positive Reviews in Vietnamese Restaurants\")\n",
        "\n",
        "# Show the plot\n",
        "plt.tight_layout()\n",
        "plt.show()"
      ]
    },
    {
      "cell_type": "code",
      "execution_count": 156,
      "outputs": [],
      "metadata": {
        "jupyter": {
          "outputs_hidden": false,
          "source_hidden": false
        },
        "nteract": {
          "transient": {
            "deleting": false
          }
        },
        "collapsed": false
      },
      "source": [
        "Vietnamese_polarity_score = get_polarity_score(Vietnamese_train, \"negative\")\n",
        "\n",
        "Vietnamese_dnm = Vietnamese_polarity_score[\n",
        "    Vietnamese_polarity_score.polarity < 0\n",
        "].sort_values(\"polarity\")\n",
        "Vietnamese_negative_top10 = Vietnamese_dnm[:10]\n",
        "\n",
        "Vietnamese_negative_top10"
      ]
    },
    {
      "cell_type": "code",
      "execution_count": 157,
      "outputs": [],
      "metadata": {
        "jupyter": {
          "outputs_hidden": false,
          "source_hidden": false
        },
        "nteract": {
          "transient": {
            "deleting": false
          }
        },
        "collapsed": false
      },
      "source": [
        "words = Vietnamese_negative_top10.index\n",
        "polarity_scores = Vietnamese_negative_top10[\"polarity\"]\n",
        "\n",
        "words = words[::-1]\n",
        "polarity_scores = polarity_scores[::-1]\n",
        "\n",
        "# Create a bar plot\n",
        "plt.figure(figsize=(12, 6))\n",
        "plt.barh(words, polarity_scores * (-1), color=\"#B80C09\")\n",
        "\n",
        "# Rotate x-axis labels for better readability\n",
        "plt.xticks(rotation=45, ha=\"right\")\n",
        "\n",
        "# Set labels and title\n",
        "plt.xlabel(\"Polarity Score\")\n",
        "plt.ylabel(\"Words\")\n",
        "plt.title(\"Polarity Scores of Words for Negative Reviews in Vietnamese Restaurants\")\n",
        "plt.xlim(0.002, 0.016)\n",
        "\n",
        "# Show the plot\n",
        "plt.tight_layout()\n",
        "plt.show()"
      ]
    },
    {
      "cell_type": "code",
      "execution_count": 158,
      "outputs": [],
      "metadata": {
        "jupyter": {
          "outputs_hidden": false,
          "source_hidden": false
        },
        "nteract": {
          "transient": {
            "deleting": false
          }
        },
        "collapsed": false
      },
      "source": [
        "French_reviews = get_dataset(\"French\")\n",
        "French_train, French_test = French_reviews.randomSplit([0.5, 0.5])\n",
        "\n",
        "French_polarity_score = get_polarity_score(French_train, \"positive\")\n",
        "\n",
        "French_dnm = French_polarity_score[French_polarity_score.polarity > 0].sort_values(\n",
        "    \"polarity\", ascending=False\n",
        ")\n",
        "French_positive_top10 = French_dnm[:10]\n",
        "\n",
        "French_positive_top10"
      ]
    },
    {
      "cell_type": "code",
      "execution_count": 159,
      "outputs": [],
      "metadata": {
        "jupyter": {
          "outputs_hidden": false,
          "source_hidden": false
        },
        "nteract": {
          "transient": {
            "deleting": false
          }
        },
        "collapsed": false
      },
      "source": [
        "# Extract the index (words) and polarity score\n",
        "words = French_positive_top10.index\n",
        "polarity_scores = French_positive_top10[\"polarity\"]\n",
        "\n",
        "words = words[::-1]\n",
        "polarity_scores = polarity_scores[::-1]\n",
        "\n",
        "# Create a bar plot\n",
        "plt.figure(figsize=(12, 6))\n",
        "plt.barh(words, polarity_scores, color=\"#0B4F6C\")\n",
        "\n",
        "# Rotate x-axis labels for better readability\n",
        "plt.xticks(rotation=45, ha=\"right\")\n",
        "\n",
        "# Set labels and title\n",
        "plt.xlabel(\"Polarity Score\")\n",
        "plt.ylabel(\"Words\")\n",
        "plt.title(\"Polarity Scores of Words for Positive Reviews in French Restaurants\")\n",
        "\n",
        "# Show the plot\n",
        "plt.tight_layout()\n",
        "plt.show()"
      ]
    },
    {
      "cell_type": "code",
      "execution_count": 160,
      "outputs": [],
      "metadata": {
        "jupyter": {
          "outputs_hidden": false,
          "source_hidden": false
        },
        "nteract": {
          "transient": {
            "deleting": false
          }
        },
        "collapsed": false
      },
      "source": [
        "French_polarity_score = get_polarity_score(French_train, \"negative\")\n",
        "\n",
        "French_dnm = French_polarity_score[French_polarity_score.polarity < 0].sort_values(\n",
        "    \"polarity\"\n",
        ")\n",
        "French_negative_top10 = French_dnm[:10]\n",
        "\n",
        "French_negative_top10"
      ]
    },
    {
      "cell_type": "code",
      "execution_count": 161,
      "outputs": [],
      "metadata": {
        "jupyter": {
          "outputs_hidden": false,
          "source_hidden": false
        },
        "nteract": {
          "transient": {
            "deleting": false
          }
        },
        "collapsed": false
      },
      "source": [
        "words = French_negative_top10.index\n",
        "polarity_scores = French_negative_top10[\"polarity\"]\n",
        "\n",
        "words = words[::-1]\n",
        "polarity_scores = polarity_scores[::-1]\n",
        "\n",
        "# Create a bar plot\n",
        "plt.figure(figsize=(12, 6))\n",
        "plt.barh(words, polarity_scores * (-1), color=\"#B80C09\")\n",
        "\n",
        "# Rotate x-axis labels for better readability\n",
        "plt.xticks(rotation=45, ha=\"right\")\n",
        "\n",
        "# Set labels and title\n",
        "plt.xlabel(\"Polarity Score\")\n",
        "plt.ylabel(\"Words\")\n",
        "plt.title(\"Polarity Scores of Words for Negative Reviews in French Restaurants\")\n",
        "plt.xlim(0.003, 0.015)\n",
        "\n",
        "# Show the plot\n",
        "plt.tight_layout()\n",
        "plt.show()"
      ]
    },
    {
      "cell_type": "code",
      "execution_count": 162,
      "outputs": [],
      "metadata": {
        "jupyter": {
          "outputs_hidden": false,
          "source_hidden": false
        },
        "nteract": {
          "transient": {
            "deleting": false
          }
        },
        "collapsed": false
      },
      "source": [
        "Italian_reviews = get_dataset(\"Italian\")\n",
        "Italian_train, Italian_test = Italian_reviews.randomSplit([0.5, 0.5])\n",
        "\n",
        "Italian_polarity_score = get_polarity_score(Italian_train, \"positive\")\n",
        "\n",
        "Italian_dnm = Italian_polarity_score[Italian_polarity_score.polarity > 0].sort_values(\n",
        "    \"polarity\", ascending=False\n",
        ")\n",
        "Italian_positive_top10 = Italian_dnm[:10]\n",
        "\n",
        "Italian_positive_top10"
      ]
    },
    {
      "cell_type": "code",
      "execution_count": 163,
      "outputs": [],
      "metadata": {
        "jupyter": {
          "outputs_hidden": false,
          "source_hidden": false
        },
        "nteract": {
          "transient": {
            "deleting": false
          }
        },
        "collapsed": false
      },
      "source": [
        "# Extract the index (words) and polarity score\n",
        "words = Italian_positive_top10.index\n",
        "polarity_scores = Italian_positive_top10[\"polarity\"]\n",
        "\n",
        "words = words[::-1]\n",
        "polarity_scores = polarity_scores[::-1]\n",
        "\n",
        "# Create a bar plot\n",
        "plt.figure(figsize=(12, 6))\n",
        "plt.barh(words, polarity_scores, color=\"#0B4F6C\")\n",
        "\n",
        "# Rotate x-axis labels for better readability\n",
        "plt.xticks(rotation=45, ha=\"right\")\n",
        "\n",
        "# Set labels and title\n",
        "plt.xlabel(\"Polarity Score\")\n",
        "plt.ylabel(\"Words\")\n",
        "plt.title(\"Polarity Scores of Words for Positive Reviews in Italian Restaurants\")\n",
        "\n",
        "# Show the plot\n",
        "plt.tight_layout()\n",
        "plt.show()"
      ]
    },
    {
      "cell_type": "code",
      "execution_count": 164,
      "outputs": [],
      "metadata": {
        "jupyter": {
          "outputs_hidden": false,
          "source_hidden": false
        },
        "nteract": {
          "transient": {
            "deleting": false
          }
        },
        "collapsed": false
      },
      "source": [
        "Italian_polarity_score = get_polarity_score(Italian_train, \"negative\")\n",
        "\n",
        "Italian_dnm = Italian_polarity_score[Italian_polarity_score.polarity < 0].sort_values(\n",
        "    \"polarity\"\n",
        ")\n",
        "Italian_negative_top10 = Italian_dnm[:10]\n",
        "\n",
        "Italian_negative_top10"
      ]
    },
    {
      "cell_type": "code",
      "execution_count": 165,
      "outputs": [],
      "metadata": {
        "jupyter": {
          "outputs_hidden": false,
          "source_hidden": false
        },
        "nteract": {
          "transient": {
            "deleting": false
          }
        },
        "collapsed": false
      },
      "source": [
        "words = Italian_negative_top10.index\n",
        "polarity_scores = Italian_negative_top10[\"polarity\"]\n",
        "\n",
        "words = words[::-1]\n",
        "polarity_scores = polarity_scores[::-1]\n",
        "\n",
        "# Create a bar plot\n",
        "plt.figure(figsize=(12, 6))\n",
        "plt.barh(words, polarity_scores * (-1), color=\"#B80C09\")\n",
        "\n",
        "# Rotate x-axis labels for better readability\n",
        "plt.xticks(rotation=45, ha=\"right\")\n",
        "\n",
        "# Set labels and title\n",
        "plt.xlabel(\"Polarity Score\")\n",
        "plt.ylabel(\"Words\")\n",
        "plt.title(\"Polarity Scores of Words for Negative Reviews in Italian Restaurants\")\n",
        "plt.xlim(0.003, 0.013)\n",
        "\n",
        "# Show the plot\n",
        "plt.tight_layout()\n",
        "plt.show()"
      ]
    }
  ],
  "metadata": {
    "description": null,
    "save_output": true,
    "kernelspec": {
      "name": "synapse_pyspark",
      "display_name": "Synapse PySpark"
    },
    "language_info": {
      "name": "python"
    }
  }
}