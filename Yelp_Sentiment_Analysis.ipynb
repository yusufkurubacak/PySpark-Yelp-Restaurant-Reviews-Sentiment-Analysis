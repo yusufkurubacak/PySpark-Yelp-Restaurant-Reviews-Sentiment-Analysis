{
  "cells": [
    {
      "cell_type": "markdown",
      "source": [
        "# Yelp Business Reviews - Sentiment Analysis"
      ],
      "metadata": {
        "nteract": {
          "transient": {
            "deleting": false
          }
        }
      }
    },
    {
      "cell_type": "markdown",
      "source": [
        "## Importing Libraries (will be edited)"
      ],
      "metadata": {}
    },
    {
      "cell_type": "code",
      "source": [
        "import nltk\n",
        "import numpy as np\n",
        "import pandas as pd\n",
        "import seaborn as sns\n",
        "#import findspark\n",
        "from pyspark.ml import Pipeline\n",
        "from pyspark.ml.clustering import KMeans\n",
        "from pyspark.ml.feature import IDF, StopWordsRemover, Tokenizer, VectorAssembler, CountVectorizer\n",
        "from pyspark.ml.linalg import Vector\n",
        "from pyspark.sql import SparkSession\n",
        "from pyspark.sql import functions as F\n",
        "from pyspark.sql.functions import col, length, lit, lower, regexp_replace, size, split, filter, udf, sum\n",
        "from pyspark.sql.functions import when\n",
        "from pyspark.sql.types import ArrayType,StringType, FloatType, StructType, StructField\n",
        "from pyspark.ml.classification import LogisticRegression"
      ],
      "outputs": [
        {
          "output_type": "display_data",
          "data": {
            "application/vnd.livy.statement-meta+json": {
              "spark_pool": "sparkpool",
              "session_id": "16",
              "statement_id": 108,
              "state": "finished",
              "livy_statement_state": "available",
              "queued_time": "2024-03-19T17:20:31.256445Z",
              "session_start_time": null,
              "execution_start_time": "2024-03-19T17:20:31.3957438Z",
              "execution_finish_time": "2024-03-19T17:20:31.5500261Z",
              "spark_jobs": null,
              "parent_msg_id": "b040e931-3617-4ad7-9fe5-9516488bc814"
            },
            "text/plain": "StatementMeta(sparkpool, 16, 108, Finished, Available)"
          },
          "metadata": {}
        }
      ],
      "execution_count": 107,
      "metadata": {}
    },
    {
      "cell_type": "markdown",
      "source": [
        "## Creating Spark Session"
      ],
      "metadata": {}
    },
    {
      "cell_type": "code",
      "source": [
        "\"\"\" UNCOMMENT WHEN RUNNING ON LOCAL !!!\n",
        "# Create a spark session\n",
        "findspark.init()\n",
        "spark = SparkSession.builder \\\n",
        "    .appName(\"Yelp_Sentiment_Analysis\") \\\n",
        "    .master(\"local[8]\") \\\n",
        "    .config(\"spark.executor.memory\", \"10g\") \\\n",
        "    .config(\"spark.executor.cores\", \"3\") \\\n",
        "    .config(\"spark.driver.memory\", \"2g\") \\\n",
        "    .getOrCreate()\n",
        "\n",
        "### Patlarsa dene\n",
        "#.config(\"spark.memory.offHeap.enabled\",\"true\") \n",
        "#.config(\"spark.memory.offHeap.size\",\"10g\")\n",
        "\"\"\""
      ],
      "outputs": [
        {
          "output_type": "display_data",
          "data": {
            "application/vnd.livy.statement-meta+json": {
              "spark_pool": "sparkpool",
              "session_id": "15",
              "statement_id": 3,
              "state": "finished",
              "livy_statement_state": "available",
              "queued_time": "2024-03-18T10:14:06.4420311Z",
              "session_start_time": null,
              "execution_start_time": "2024-03-18T10:15:44.6421362Z",
              "execution_finish_time": "2024-03-18T10:15:44.8033552Z",
              "spark_jobs": null,
              "parent_msg_id": "e37c66fb-a84c-4dae-aa18-f2b5fdec6d69"
            },
            "text/plain": "StatementMeta(sparkpool, 15, 3, Finished, Available)"
          },
          "metadata": {}
        },
        {
          "output_type": "execute_result",
          "execution_count": 7,
          "data": {
            "text/plain": "' UNCOMMENT WHEN RUNNING ON LOCAL !!!\\n# Create a spark session\\nfindspark.init()\\nspark = SparkSession.builder     .appName(\"Yelp_Sentiment_Analysis\")     .master(\"local[8]\")     .config(\"spark.executor.memory\", \"10g\")     .config(\"spark.executor.cores\", \"3\")     .config(\"spark.driver.memory\", \"2g\")     .getOrCreate()\\n\\n### Patlarsa dene\\n#.config(\"spark.memory.offHeap.enabled\",\"true\") \\n#.config(\"spark.memory.offHeap.size\",\"10g\")\\n'"
          },
          "metadata": {}
        }
      ],
      "execution_count": 141,
      "metadata": {}
    },
    {
      "cell_type": "code",
      "source": [
        "# Get config\n",
        "conf = spark.sparkContext.getConf()\n",
        "\n",
        "# Print the configuration settings\n",
        "print(\"spark.app.name = \", conf.get(\"spark.app.name\"))\n",
        "print(\"spark.master = \", conf.get(\"spark.master\"))\n",
        "print(\"spark.executor.memory = \", conf.get(\"spark.executor.memory\"))\n",
        "print(\"spark.executor.cores = \", conf.get(\"spark.executor.cores\")),\n",
        "print(\"spark.driver.memory = \", conf.get(\"spark.driver.memory\"))"
      ],
      "outputs": [
        {
          "output_type": "display_data",
          "data": {
            "application/vnd.livy.statement-meta+json": {
              "spark_pool": "sparkpool",
              "session_id": "15",
              "statement_id": 4,
              "state": "finished",
              "livy_statement_state": "available",
              "queued_time": "2024-03-18T10:14:06.6690763Z",
              "session_start_time": null,
              "execution_start_time": "2024-03-18T10:15:44.9562908Z",
              "execution_finish_time": "2024-03-18T10:15:45.467449Z",
              "spark_jobs": null,
              "parent_msg_id": "0826b4bf-d653-4a60-ad91-7916daabc6ef"
            },
            "text/plain": "StatementMeta(sparkpool, 15, 4, Finished, Available)"
          },
          "metadata": {}
        },
        {
          "output_type": "stream",
          "name": "stdout",
          "text": [
            "spark.app.name =  Yelp_Sentiment_Analysis_sparkpool_1710756846\nspark.master =  yarn\nspark.executor.memory =  28g\nspark.executor.cores =  4\nspark.driver.memory =  28g\n"
          ]
        }
      ],
      "execution_count": 142,
      "metadata": {}
    },
    {
      "cell_type": "code",
      "source": [
        "\"\"\"\r\n",
        "# Source file pathways on local disk\r\n",
        "path_business = \"../yelp_academic_dataset_business.json\"\r\n",
        "path_review = \"../yelp_academic_dataset_review.json\"\r\n",
        "positive_path = \"../positive_words.txt\"\r\n",
        "negative_path = \"../negative_words.txt\"\r\n",
        "\"\"\""
      ],
      "outputs": [
        {
          "output_type": "display_data",
          "data": {
            "application/vnd.livy.statement-meta+json": {
              "spark_pool": "sparkpool",
              "session_id": "15",
              "statement_id": 5,
              "state": "finished",
              "livy_statement_state": "available",
              "queued_time": "2024-03-18T10:14:07.1691833Z",
              "session_start_time": null,
              "execution_start_time": "2024-03-18T10:15:45.6138338Z",
              "execution_finish_time": "2024-03-18T10:15:45.7676439Z",
              "spark_jobs": null,
              "parent_msg_id": "43d67f3e-f439-45a3-9bcd-6d6118c8ef4c"
            },
            "text/plain": "StatementMeta(sparkpool, 15, 5, Finished, Available)"
          },
          "metadata": {}
        },
        {
          "output_type": "execute_result",
          "execution_count": 11,
          "data": {
            "text/plain": "'\\n# Source file pathways on local disk\\npath_business = \"../yelp_academic_dataset_business.json\"\\npath_review = \"../yelp_academic_dataset_review.json\"\\npositive_path = \"../positive_words.txt\"\\nnegative_path = \"../negative_words.txt\"\\n'"
          },
          "metadata": {}
        }
      ],
      "execution_count": 143,
      "metadata": {
        "jupyter": {
          "source_hidden": false,
          "outputs_hidden": false
        },
        "nteract": {
          "transient": {
            "deleting": false
          }
        }
      }
    },
    {
      "cell_type": "code",
      "source": [
        "\r\n",
        "# Source file pathways on ABFSS\r\n",
        "path_business = \"abfss://unity-catalog-storage@dbstoragepwtbcgut4qtn6.dfs.core.windows.net/yelp_academic_dataset_business.json\"\r\n",
        "path_review = \"abfss://unity-catalog-storage@dbstoragepwtbcgut4qtn6.dfs.core.windows.net/yelp_academic_dataset_review.json\"\r\n",
        "positive_path = \"abfss://unity-catalog-storage@dbstoragepwtbcgut4qtn6.dfs.core.windows.net/positive_words.txt\"\r\n",
        "negative_path = \"abfss://unity-catalog-storage@dbstoragepwtbcgut4qtn6.dfs.core.windows.net/negative_words.txt\"\r\n"
      ],
      "outputs": [
        {
          "output_type": "display_data",
          "data": {
            "application/vnd.livy.statement-meta+json": {
              "spark_pool": "sparkpool",
              "session_id": "16",
              "statement_id": 3,
              "state": "finished",
              "livy_statement_state": "available",
              "queued_time": "2024-03-19T16:12:13.0276818Z",
              "session_start_time": null,
              "execution_start_time": "2024-03-19T16:12:13.6551396Z",
              "execution_finish_time": "2024-03-19T16:12:13.8080401Z",
              "spark_jobs": null,
              "parent_msg_id": "803186a9-3de5-42e6-a740-c1205102e288"
            },
            "text/plain": "StatementMeta(sparkpool, 16, 3, Finished, Available)"
          },
          "metadata": {}
        }
      ],
      "execution_count": 2,
      "metadata": {
        "jupyter": {
          "source_hidden": false,
          "outputs_hidden": false
        },
        "nteract": {
          "transient": {
            "deleting": false
          }
        }
      }
    },
    {
      "cell_type": "markdown",
      "source": [
        "## Preprocessing of Business Dataset"
      ],
      "metadata": {}
    },
    {
      "cell_type": "code",
      "source": [
        "# Import business data\n",
        "business = spark.read.json(path_business)"
      ],
      "outputs": [
        {
          "output_type": "display_data",
          "data": {
            "application/vnd.livy.statement-meta+json": {
              "spark_pool": "sparkpool",
              "session_id": "16",
              "statement_id": 4,
              "state": "finished",
              "livy_statement_state": "available",
              "queued_time": "2024-03-19T16:12:17.4851134Z",
              "session_start_time": null,
              "execution_start_time": "2024-03-19T16:12:17.6188514Z",
              "execution_finish_time": "2024-03-19T16:12:44.1354878Z",
              "spark_jobs": null,
              "parent_msg_id": "5292583a-ae47-4318-b17c-b5306c871fe3"
            },
            "text/plain": "StatementMeta(sparkpool, 16, 4, Finished, Available)"
          },
          "metadata": {}
        }
      ],
      "execution_count": 3,
      "metadata": {
        "jupyter": {
          "outputs_hidden": false,
          "source_hidden": false
        },
        "nteract": {
          "transient": {
            "deleting": false
          }
        },
        "collapsed": false
      }
    },
    {
      "cell_type": "code",
      "source": [
        "# Print first 10 rows\n",
        "business.show(n=10, truncate=10)"
      ],
      "outputs": [
        {
          "output_type": "display_data",
          "data": {
            "application/vnd.livy.statement-meta+json": {
              "spark_pool": "sparkpool",
              "session_id": "15",
              "statement_id": 8,
              "state": "finished",
              "livy_statement_state": "available",
              "queued_time": "2024-03-18T10:14:08.0217538Z",
              "session_start_time": null,
              "execution_start_time": "2024-03-18T10:16:02.0497144Z",
              "execution_finish_time": "2024-03-18T10:16:04.802034Z",
              "spark_jobs": null,
              "parent_msg_id": "a05833b7-0fec-453b-b972-f806530a79d0"
            },
            "text/plain": "StatementMeta(sparkpool, 15, 8, Finished, Available)"
          },
          "metadata": {}
        },
        {
          "output_type": "stream",
          "name": "stdout",
          "text": [
            "+----------+----------+-----------+----------+----------+----------+-------+----------+----------+----------+-----------+------------+-----+-----+\n|   address|attributes|business_id|categories|      city|     hours|is_open|  latitude| longitude|      name|postal_code|review_count|stars|state|\n+----------+----------+-----------+----------+----------+----------+-------+----------+----------+----------+-----------+------------+-----+-----+\n|1616 Ch...|{null, ...| Pns2l4e...|Doctors...|Santa B...|      null|      0|34.4266787|-119.71...|Abby Ra...|      93101|           7|  5.0|   CA|\n|87 Gras...|{null, ...| mpf3x-B...|Shippin...|    Affton|{8:0-18...|      1| 38.551126|-90.335695|The UPS...|      63123|          15|  3.0|   MO|\n|5255 E ...|{null, ...| tUFrWir...|Departm...|    Tucson|{8:0-23...|      0| 32.223236|-110.88...|    Target|      85711|          22|  3.5|   AZ|\n|935 Rac...|{null, ...| MTSW4Mc...|Restaur...|Philade...|{7:0-21...|      1|39.9555052|-75.155...|St Hono...|      19107|          80|  4.0|   PA|\n|101 Wal...|{null, ...| mWMc6_w...|Brewpub...|Green Lane|{12:0-2...|      1|40.3381827|-75.471...|Perkiom...|      18054|          13|  4.5|   PA|\n|615 S M...|{null, ...| CF33F8-...|Burgers...|Ashland...|{9:0-0:...|      1| 36.269593|-87.058943|Sonic D...|      37015|           6|  2.0|   TN|\n|8522 Ea...|{null, ...| n_0UpQx...|Sportin...| Brentwood|{10:0-1...|      1| 38.627695|-90.340465|Famous ...|      63144|          13|  2.5|   MO|\n|400 Pas...|      null| qkRM_2X...|Synagog...|St. Pet...|{9:0-17...|      1|  27.76659|-82.732983|Temple ...|      33707|           5|  3.5|   FL|\n|8025 Ma...|{null, ...| k0hlBqX...|Pubs, R...|    Affton|      null|      0|38.5651648|-90.321...|Tsevi's...|      63123|          19|  3.0|   MO|\n|2312 Di...|{null, ...| bBDDEgk...|Ice Cre...| Nashville|{6:0-16...|      1|36.2081024|-86.768...|Sonic D...|      37207|          10|  1.5|   TN|\n+----------+----------+-----------+----------+----------+----------+-------+----------+----------+----------+-----------+------------+-----+-----+\nonly showing top 10 rows\n\n"
          ]
        }
      ],
      "execution_count": 146,
      "metadata": {}
    },
    {
      "cell_type": "code",
      "source": [
        "# Drop irrelevant columns\n",
        "business = business.drop(\"hours\").drop(\"attributes\")"
      ],
      "outputs": [
        {
          "output_type": "display_data",
          "data": {
            "application/vnd.livy.statement-meta+json": {
              "spark_pool": "sparkpool",
              "session_id": "16",
              "statement_id": 5,
              "state": "finished",
              "livy_statement_state": "available",
              "queued_time": "2024-03-19T16:12:20.8940193Z",
              "session_start_time": null,
              "execution_start_time": "2024-03-19T16:12:44.2789792Z",
              "execution_finish_time": "2024-03-19T16:12:44.4320166Z",
              "spark_jobs": null,
              "parent_msg_id": "98f114c0-26de-4157-848b-96839e0f5532"
            },
            "text/plain": "StatementMeta(sparkpool, 16, 5, Finished, Available)"
          },
          "metadata": {}
        }
      ],
      "execution_count": 4,
      "metadata": {}
    },
    {
      "cell_type": "code",
      "source": [
        "# Print current dataset schema\n",
        "business.printSchema()"
      ],
      "outputs": [
        {
          "output_type": "display_data",
          "data": {
            "application/vnd.livy.statement-meta+json": {
              "spark_pool": "sparkpool",
              "session_id": "15",
              "statement_id": 10,
              "state": "finished",
              "livy_statement_state": "available",
              "queued_time": "2024-03-18T10:14:08.5448948Z",
              "session_start_time": null,
              "execution_start_time": "2024-03-18T10:16:05.2207092Z",
              "execution_finish_time": "2024-03-18T10:16:05.3727468Z",
              "spark_jobs": null,
              "parent_msg_id": "030d2422-c658-44a0-8ccd-cf77edf0a252"
            },
            "text/plain": "StatementMeta(sparkpool, 15, 10, Finished, Available)"
          },
          "metadata": {}
        },
        {
          "output_type": "stream",
          "name": "stdout",
          "text": [
            "root\n |-- address: string (nullable = true)\n |-- business_id: string (nullable = true)\n |-- categories: string (nullable = true)\n |-- city: string (nullable = true)\n |-- is_open: long (nullable = true)\n |-- latitude: double (nullable = true)\n |-- longitude: double (nullable = true)\n |-- name: string (nullable = true)\n |-- postal_code: string (nullable = true)\n |-- review_count: long (nullable = true)\n |-- stars: double (nullable = true)\n |-- state: string (nullable = true)\n\n"
          ]
        }
      ],
      "execution_count": 148,
      "metadata": {}
    },
    {
      "cell_type": "code",
      "source": [
        "# Filter out rows with null 'categories'\n",
        "business = business.filter(col(\"categories\").isNotNull())"
      ],
      "outputs": [
        {
          "output_type": "display_data",
          "data": {
            "application/vnd.livy.statement-meta+json": {
              "spark_pool": "sparkpool",
              "session_id": "16",
              "statement_id": 6,
              "state": "finished",
              "livy_statement_state": "available",
              "queued_time": "2024-03-19T16:12:27.339167Z",
              "session_start_time": null,
              "execution_start_time": "2024-03-19T16:12:44.5754789Z",
              "execution_finish_time": "2024-03-19T16:12:44.7258102Z",
              "spark_jobs": null,
              "parent_msg_id": "de4ffc5e-3428-40c0-af0c-dd7cc04c9571"
            },
            "text/plain": "StatementMeta(sparkpool, 16, 6, Finished, Available)"
          },
          "metadata": {}
        }
      ],
      "execution_count": 5,
      "metadata": {}
    },
    {
      "cell_type": "code",
      "source": [
        "# Filter for businesses in US states\n",
        "states = [ \"AL\", \"AK\", \"AZ\", \"AR\", \"CA\", \"CO\", \"CT\", \"DC\", \"DE\", \"FL\", \"GA\", \"HI\", \"ID\", \"IL\", \"IN\", \"IA\", \"KS\", \"KY\", \"LA\", \"ME\", \"MD\", \"MA\", \"MI\", \"MN\", \"MS\",\\\n",
        " \"MO\", \"MT\", \"NE\", \"NV\", \"NH\", \"NJ\", \"NM\", \"NY\", \"NC\", \"ND\", \"OH\", \"OK\", \"OR\", \"PA\", \"RI\", \"SC\", \"SD\", \"TN\", \"TX\", \"UT\", \"VT\", \"VA\", \"WA\", \"WV\", \"WI\", \"WY\", ]\n",
        "\n",
        "usa = business.filter(col(\"state\").isin(states))"
      ],
      "outputs": [
        {
          "output_type": "display_data",
          "data": {
            "application/vnd.livy.statement-meta+json": {
              "spark_pool": "sparkpool",
              "session_id": "16",
              "statement_id": 7,
              "state": "finished",
              "livy_statement_state": "available",
              "queued_time": "2024-03-19T16:12:31.4478942Z",
              "session_start_time": null,
              "execution_start_time": "2024-03-19T16:12:44.8721277Z",
              "execution_finish_time": "2024-03-19T16:12:45.4164512Z",
              "spark_jobs": null,
              "parent_msg_id": "84eac816-9e1d-401d-a9eb-cb56c858f9f6"
            },
            "text/plain": "StatementMeta(sparkpool, 16, 7, Finished, Available)"
          },
          "metadata": {}
        }
      ],
      "execution_count": 6,
      "metadata": {}
    },
    {
      "cell_type": "code",
      "source": [
        "# Print out the total number of businesses in dataset\n",
        "print(f\"Number of US businesses in the dataset: {usa.count()}\")"
      ],
      "outputs": [
        {
          "output_type": "display_data",
          "data": {
            "application/vnd.livy.statement-meta+json": {
              "spark_pool": "sparkpool",
              "session_id": "15",
              "statement_id": 13,
              "state": "finished",
              "livy_statement_state": "available",
              "queued_time": "2024-03-18T10:14:09.1233233Z",
              "session_start_time": null,
              "execution_start_time": "2024-03-18T10:16:06.4285758Z",
              "execution_finish_time": "2024-03-18T10:16:10.4032937Z",
              "spark_jobs": null,
              "parent_msg_id": "e5152715-763b-4dcc-b908-b67bc74c16a9"
            },
            "text/plain": "StatementMeta(sparkpool, 15, 13, Finished, Available)"
          },
          "metadata": {}
        },
        {
          "output_type": "stream",
          "name": "stdout",
          "text": [
            "Number of US businesses in the dataset: 144669\n"
          ]
        }
      ],
      "execution_count": 151,
      "metadata": {}
    },
    {
      "cell_type": "code",
      "source": [
        "# Filter restaurants and print out the total number\n",
        "us_restaurants = usa.filter(usa[\"categories\"].contains(\"Restaurants\"))\n",
        "print(f\"Number of total US restaurants in the dataset: {us_restaurants.count()}\")"
      ],
      "outputs": [
        {
          "output_type": "display_data",
          "data": {
            "application/vnd.livy.statement-meta+json": {
              "spark_pool": "sparkpool",
              "session_id": "16",
              "statement_id": 8,
              "state": "finished",
              "livy_statement_state": "available",
              "queued_time": "2024-03-19T16:12:35.3061119Z",
              "session_start_time": null,
              "execution_start_time": "2024-03-19T16:12:45.5847247Z",
              "execution_finish_time": "2024-03-19T16:12:50.9048147Z",
              "spark_jobs": null,
              "parent_msg_id": "dd94c5fe-ec0c-4120-bba1-a29a5088accd"
            },
            "text/plain": "StatementMeta(sparkpool, 16, 8, Finished, Available)"
          },
          "metadata": {}
        },
        {
          "output_type": "stream",
          "name": "stdout",
          "text": [
            "Number of total US restaurants in the dataset: 49857\n"
          ]
        }
      ],
      "execution_count": 7,
      "metadata": {}
    },
    {
      "cell_type": "code",
      "source": [
        "# Label every row with their respective type of cuisine\n",
        "us_restaurants = us_restaurants.withColumn(\n",
        "    \"category\",\n",
        "    when(col(\"categories\").contains(\"Korean\"), \"Korean\")\n",
        "    .when(col(\"categories\").contains(\"Thai\"), \"Thai\")\n",
        "    .when(col(\"categories\").contains(\"French\"), \"French\")\n",
        "    .when(col(\"categories\").contains(\"Greek\"), \"Greek\")\n",
        "    .when(col(\"categories\").contains(\"Indian\"), \"Indian\")\n",
        "    .when(col(\"categories\").contains(\"Hawaiian\"), \"Hawaiian\")\n",
        "    .when(col(\"categories\").contains(\"African\"), \"African\")\n",
        "    .when(col(\"categories\").contains(\"Spanish\"), \"Spanish\")\n",
        ")"
      ],
      "outputs": [
        {
          "output_type": "display_data",
          "data": {
            "application/vnd.livy.statement-meta+json": {
              "spark_pool": "sparkpool",
              "session_id": "16",
              "statement_id": 9,
              "state": "finished",
              "livy_statement_state": "available",
              "queued_time": "2024-03-19T16:12:36.9175555Z",
              "session_start_time": null,
              "execution_start_time": "2024-03-19T16:12:51.0500263Z",
              "execution_finish_time": "2024-03-19T16:12:51.2070781Z",
              "spark_jobs": null,
              "parent_msg_id": "7d87f67b-cf8c-4048-b35a-1c72d720a71c"
            },
            "text/plain": "StatementMeta(sparkpool, 16, 9, Finished, Available)"
          },
          "metadata": {}
        }
      ],
      "execution_count": 8,
      "metadata": {}
    },
    {
      "cell_type": "code",
      "source": [
        "# Drop the old category column and filter out null categories\n",
        "us_restaurants = us_restaurants.drop(\"categories\")\n",
        "us_restaurants = us_restaurants.filter(col(\"category\").isNotNull())"
      ],
      "outputs": [
        {
          "output_type": "display_data",
          "data": {
            "application/vnd.livy.statement-meta+json": {
              "spark_pool": "sparkpool",
              "session_id": "16",
              "statement_id": 10,
              "state": "finished",
              "livy_statement_state": "available",
              "queued_time": "2024-03-19T16:12:38.6513563Z",
              "session_start_time": null,
              "execution_start_time": "2024-03-19T16:12:51.3417527Z",
              "execution_finish_time": "2024-03-19T16:12:51.4988228Z",
              "spark_jobs": null,
              "parent_msg_id": "76e683fe-efe2-47b1-9802-b1826471b8d7"
            },
            "text/plain": "StatementMeta(sparkpool, 16, 10, Finished, Available)"
          },
          "metadata": {}
        }
      ],
      "execution_count": 9,
      "metadata": {}
    },
    {
      "cell_type": "code",
      "source": [
        "# Print out the number of restaurants that are labeled by their cuisine types\n",
        "print(f\"Number of labeled US restaurants in the dataset: {us_restaurants.count()}\")"
      ],
      "outputs": [
        {
          "output_type": "display_data",
          "data": {
            "application/vnd.livy.statement-meta+json": {
              "spark_pool": "sparkpool",
              "session_id": "15",
              "statement_id": 17,
              "state": "finished",
              "livy_statement_state": "available",
              "queued_time": "2024-03-18T10:14:09.9552666Z",
              "session_start_time": null,
              "execution_start_time": "2024-03-18T10:16:13.0541044Z",
              "execution_finish_time": "2024-03-18T10:16:14.8778997Z",
              "spark_jobs": null,
              "parent_msg_id": "50c6f353-7475-4492-bb7a-8cec58fbcd07"
            },
            "text/plain": "StatementMeta(sparkpool, 15, 17, Finished, Available)"
          },
          "metadata": {}
        },
        {
          "output_type": "stream",
          "name": "stdout",
          "text": [
            "Number of labeled US restaurants in the dataset: 3819\n"
          ]
        }
      ],
      "execution_count": 155,
      "metadata": {}
    },
    {
      "cell_type": "code",
      "source": [
        "# Check if the dataset contains any duplicated businesses\n",
        "us_restaurants.groupBy(\"business_id\").count().filter(col(\"count\") > 1).count()"
      ],
      "outputs": [
        {
          "output_type": "display_data",
          "data": {
            "application/vnd.livy.statement-meta+json": {
              "spark_pool": "sparkpool",
              "session_id": "15",
              "statement_id": 18,
              "state": "finished",
              "livy_statement_state": "available",
              "queued_time": "2024-03-18T10:14:10.1789614Z",
              "session_start_time": null,
              "execution_start_time": "2024-03-18T10:16:15.0213313Z",
              "execution_finish_time": "2024-03-18T10:16:19.4899875Z",
              "spark_jobs": null,
              "parent_msg_id": "d89c6f39-35b3-4d2a-b7d7-f821e7e3d4bc"
            },
            "text/plain": "StatementMeta(sparkpool, 15, 18, Finished, Available)"
          },
          "metadata": {}
        },
        {
          "output_type": "execute_result",
          "execution_count": 37,
          "data": {
            "text/plain": "0"
          },
          "metadata": {}
        }
      ],
      "execution_count": 156,
      "metadata": {
        "jupyter": {
          "outputs_hidden": false,
          "source_hidden": false
        },
        "nteract": {
          "transient": {
            "deleting": false
          }
        },
        "collapsed": false
      }
    },
    {
      "cell_type": "markdown",
      "source": [
        "## Preprocessing of Review Dataset"
      ],
      "metadata": {
        "nteract": {
          "transient": {
            "deleting": false
          }
        }
      }
    },
    {
      "cell_type": "code",
      "source": [
        "# Import review data\n",
        "review = spark.read.json(path_review)"
      ],
      "outputs": [
        {
          "output_type": "display_data",
          "data": {
            "application/vnd.livy.statement-meta+json": {
              "spark_pool": "sparkpool",
              "session_id": "16",
              "statement_id": 11,
              "state": "finished",
              "livy_statement_state": "available",
              "queued_time": "2024-03-19T16:12:43.6717596Z",
              "session_start_time": null,
              "execution_start_time": "2024-03-19T16:12:51.6448624Z",
              "execution_finish_time": "2024-03-19T16:13:08.4493053Z",
              "spark_jobs": null,
              "parent_msg_id": "fee25774-8571-49ed-a88b-55b7ebaf8fc0"
            },
            "text/plain": "StatementMeta(sparkpool, 16, 11, Finished, Available)"
          },
          "metadata": {}
        }
      ],
      "execution_count": 10,
      "metadata": {
        "jupyter": {
          "outputs_hidden": false,
          "source_hidden": false
        },
        "nteract": {
          "transient": {
            "deleting": false
          }
        },
        "collapsed": false
      }
    },
    {
      "cell_type": "code",
      "source": [
        "# Print first 10 rows\n",
        "review.show(n=10, truncate=20)"
      ],
      "outputs": [
        {
          "output_type": "display_data",
          "data": {
            "application/vnd.livy.statement-meta+json": {
              "spark_pool": "sparkpool",
              "session_id": "15",
              "statement_id": 20,
              "state": "finished",
              "livy_statement_state": "available",
              "queued_time": "2024-03-18T10:14:10.6397539Z",
              "session_start_time": null,
              "execution_start_time": "2024-03-18T10:16:34.7747993Z",
              "execution_finish_time": "2024-03-18T10:16:35.8526372Z",
              "spark_jobs": null,
              "parent_msg_id": "73a5584b-d2b7-4c2c-826f-3867ed44d83d"
            },
            "text/plain": "StatementMeta(sparkpool, 15, 20, Finished, Available)"
          },
          "metadata": {}
        },
        {
          "output_type": "stream",
          "name": "stdout",
          "text": [
            "+--------------------+----+-------------------+-----+--------------------+-----+--------------------+------+--------------------+\n|         business_id|cool|               date|funny|           review_id|stars|                text|useful|             user_id|\n+--------------------+----+-------------------+-----+--------------------+-----+--------------------+------+--------------------+\n|XQfwVwDr-v0ZS3_Cb...|   0|2018-07-07 22:09:11|    0|KU_O5udG6zpxOg-Vc...|  3.0|If you decide to ...|     0|mh_-eMZ6K5RLWhZyI...|\n|7ATYjTIgM3jUlt4UM...|   1|2012-01-03 15:28:18|    0|BiTunyQ73aT9WBnpR...|  5.0|I've taken a lot ...|     1|OyoGAe7OKpv6SyGZT...|\n|YjUWPpI6HXG530lwP...|   0|2014-02-05 20:30:30|    0|saUsX_uimxRlCVr67...|  3.0|Family diner. Had...|     0|8g_iMtfSiwikVnbP2...|\n|kxX2SOes4o-D3ZQBk...|   1|2015-01-04 00:01:03|    0|AqPFMleE6RsU23_au...|  5.0|Wow!  Yummy, diff...|     1|_7bHUi9Uuf5__HHc_...|\n|e4Vwtrqf-wpJfwesg...|   1|2017-01-14 20:54:15|    0|Sx8TMOWLNuJBWer-0...|  4.0|Cute interior and...|     1|bcjbaE6dDog4jkNY9...|\n|04UD14gamNjLY0IDY...|   1|2015-09-23 23:10:31|    2|JrIxlS1TzJ-iCu79u...|  1.0|I am a long term ...|     1|eUta8W_HdHMXPzLBB...|\n|gmjsEdUsKpj9Xxu6p...|   0|2015-01-03 23:21:18|    2|6AxgBCNX_PNTOxmbR...|  5.0|Loved this tour! ...|     0|r3zeYsv1XFBRA4dJp...|\n|LHSTtnW3YHCeUkRDG...|   0|2015-08-07 02:29:16|    0|_ZeMknuYdlQcUqng_...|  5.0|Amazingly amazing...|     2|yfFzsLmaWF2d4Sr0U...|\n|B5XSoSG3SfvQGtKEG...|   0|2016-03-30 22:46:33|    1|ZKvDG2sBvHVdF5oBN...|  3.0|This easter inste...|     1|wSTuiTk-sKNdcFypr...|\n|gebiRewfieSdtt17P...|   0|2016-07-25 07:31:06|    0|pUycOfUwM8vqX7KjR...|  3.0|Had a party of 6 ...|     0|59MxRhNVhU9MYndMk...|\n+--------------------+----+-------------------+-----+--------------------+-----+--------------------+------+--------------------+\nonly showing top 10 rows\n\n"
          ]
        }
      ],
      "execution_count": 158,
      "metadata": {}
    },
    {
      "cell_type": "code",
      "source": [
        "# Print current dataset schema\n",
        "review.printSchema()"
      ],
      "outputs": [
        {
          "output_type": "display_data",
          "data": {
            "application/vnd.livy.statement-meta+json": {
              "spark_pool": "sparkpool",
              "session_id": "15",
              "statement_id": 21,
              "state": "finished",
              "livy_statement_state": "available",
              "queued_time": "2024-03-18T10:14:10.8511152Z",
              "session_start_time": null,
              "execution_start_time": "2024-03-18T10:16:35.9825222Z",
              "execution_finish_time": "2024-03-18T10:16:36.1311655Z",
              "spark_jobs": null,
              "parent_msg_id": "15c584e9-6dc7-4b6a-a7d9-75b447b23e05"
            },
            "text/plain": "StatementMeta(sparkpool, 15, 21, Finished, Available)"
          },
          "metadata": {}
        },
        {
          "output_type": "stream",
          "name": "stdout",
          "text": [
            "root\n |-- business_id: string (nullable = true)\n |-- cool: long (nullable = true)\n |-- date: string (nullable = true)\n |-- funny: long (nullable = true)\n |-- review_id: string (nullable = true)\n |-- stars: double (nullable = true)\n |-- text: string (nullable = true)\n |-- useful: long (nullable = true)\n |-- user_id: string (nullable = true)\n\n"
          ]
        }
      ],
      "execution_count": 159,
      "metadata": {}
    },
    {
      "cell_type": "markdown",
      "source": [
        "## Merging Business and Review Datasets"
      ],
      "metadata": {
        "nteract": {
          "transient": {
            "deleting": false
          }
        }
      }
    },
    {
      "cell_type": "code",
      "source": [
        "# Change the names of 'stars' columns in both datasets to avoid confusion\n",
        "us_restaurants = us_restaurants.withColumnRenamed(\"stars\", \"avg_star\")\n",
        "review = review.withColumnRenamed(\"stars\", \"review_star\")"
      ],
      "outputs": [
        {
          "output_type": "display_data",
          "data": {
            "application/vnd.livy.statement-meta+json": {
              "spark_pool": "sparkpool",
              "session_id": "16",
              "statement_id": 12,
              "state": "finished",
              "livy_statement_state": "available",
              "queued_time": "2024-03-19T16:12:49.3191848Z",
              "session_start_time": null,
              "execution_start_time": "2024-03-19T16:13:08.5933372Z",
              "execution_finish_time": "2024-03-19T16:13:08.7521645Z",
              "spark_jobs": null,
              "parent_msg_id": "a56a4c20-dc0b-4b38-b71a-aadfb00a84cd"
            },
            "text/plain": "StatementMeta(sparkpool, 16, 12, Finished, Available)"
          },
          "metadata": {}
        }
      ],
      "execution_count": 11,
      "metadata": {
        "jupyter": {
          "outputs_hidden": false,
          "source_hidden": false
        },
        "nteract": {
          "transient": {
            "deleting": false
          }
        },
        "collapsed": false
      }
    },
    {
      "cell_type": "code",
      "source": [
        "# Merge the dataframes on 'business_id'\n",
        "restaurants_reviews = us_restaurants.join(review, on=\"business_id\", how=\"inner\")"
      ],
      "outputs": [
        {
          "output_type": "display_data",
          "data": {
            "application/vnd.livy.statement-meta+json": {
              "spark_pool": "sparkpool",
              "session_id": "16",
              "statement_id": 13,
              "state": "finished",
              "livy_statement_state": "available",
              "queued_time": "2024-03-19T16:12:53.4648045Z",
              "session_start_time": null,
              "execution_start_time": "2024-03-19T16:13:08.8998529Z",
              "execution_finish_time": "2024-03-19T16:13:09.0852143Z",
              "spark_jobs": null,
              "parent_msg_id": "22ef39e0-1e00-48bc-b308-926e54e3d113"
            },
            "text/plain": "StatementMeta(sparkpool, 16, 13, Finished, Available)"
          },
          "metadata": {}
        }
      ],
      "execution_count": 12,
      "metadata": {
        "jupyter": {
          "outputs_hidden": false,
          "source_hidden": false
        },
        "nteract": {
          "transient": {
            "deleting": false
          }
        },
        "collapsed": false
      }
    },
    {
      "cell_type": "code",
      "source": [
        "# Print the schema of merged dataframe\n",
        "restaurants_reviews.printSchema()"
      ],
      "outputs": [
        {
          "output_type": "display_data",
          "data": {
            "application/vnd.livy.statement-meta+json": {
              "spark_pool": "sparkpool",
              "session_id": "15",
              "statement_id": 24,
              "state": "finished",
              "livy_statement_state": "available",
              "queued_time": "2024-03-18T10:14:11.5623103Z",
              "session_start_time": null,
              "execution_start_time": "2024-03-18T10:16:36.8082911Z",
              "execution_finish_time": "2024-03-18T10:16:36.9602785Z",
              "spark_jobs": null,
              "parent_msg_id": "d948fcd3-4aa5-4db2-ac41-16c6c2154ba7"
            },
            "text/plain": "StatementMeta(sparkpool, 15, 24, Finished, Available)"
          },
          "metadata": {}
        },
        {
          "output_type": "stream",
          "name": "stdout",
          "text": [
            "root\n |-- business_id: string (nullable = true)\n |-- address: string (nullable = true)\n |-- city: string (nullable = true)\n |-- is_open: long (nullable = true)\n |-- latitude: double (nullable = true)\n |-- longitude: double (nullable = true)\n |-- name: string (nullable = true)\n |-- postal_code: string (nullable = true)\n |-- review_count: long (nullable = true)\n |-- avg_star: double (nullable = true)\n |-- state: string (nullable = true)\n |-- category: string (nullable = true)\n |-- cool: long (nullable = true)\n |-- date: string (nullable = true)\n |-- funny: long (nullable = true)\n |-- review_id: string (nullable = true)\n |-- review_star: double (nullable = true)\n |-- text: string (nullable = true)\n |-- useful: long (nullable = true)\n |-- user_id: string (nullable = true)\n\n"
          ]
        }
      ],
      "execution_count": 162,
      "metadata": {
        "jupyter": {
          "outputs_hidden": false,
          "source_hidden": false
        },
        "nteract": {
          "transient": {
            "deleting": false
          }
        },
        "collapsed": false,
        "scrolled": true
      }
    },
    {
      "cell_type": "markdown",
      "source": [
        "## Preprocessing of Restaurants_Reviews Dataset"
      ],
      "metadata": {}
    },
    {
      "cell_type": "code",
      "source": [
        "# Create a 'labels' column\n",
        "# 4-5 Stars --> Positive\n",
        "# 3 Stars --> Neutral\n",
        "# 1-2 Stars --> Negative\n",
        "restaurants_reviews = restaurants_reviews.withColumn(\n",
        "    \"labels\",\n",
        "    when(restaurants_reviews[\"review_star\"] >= 4, \"positive\")\n",
        "    .when(restaurants_reviews[\"review_star\"] == 3, \"neutral\")\n",
        "    .when(restaurants_reviews[\"review_star\"] < 3, \"negative\"),\n",
        ")"
      ],
      "outputs": [
        {
          "output_type": "display_data",
          "data": {
            "application/vnd.livy.statement-meta+json": {
              "spark_pool": "sparkpool",
              "session_id": "16",
              "statement_id": 14,
              "state": "finished",
              "livy_statement_state": "available",
              "queued_time": "2024-03-19T16:13:00.9021537Z",
              "session_start_time": null,
              "execution_start_time": "2024-03-19T16:13:09.221377Z",
              "execution_finish_time": "2024-03-19T16:13:09.380925Z",
              "spark_jobs": null,
              "parent_msg_id": "662c83f5-5d6b-4588-adc7-cedc0f6fadf2"
            },
            "text/plain": "StatementMeta(sparkpool, 16, 14, Finished, Available)"
          },
          "metadata": {}
        }
      ],
      "execution_count": 13,
      "metadata": {}
    },
    {
      "cell_type": "code",
      "source": [
        "# Filter out neutral reviews and count the rest\n",
        "restaurants_reviews = restaurants_reviews.where(\n",
        "    restaurants_reviews[\"labels\"] != \"neutral\"\n",
        ")\n",
        "print(f'The number of positive and negative reviews : {restaurants_reviews.count()}')"
      ],
      "outputs": [
        {
          "output_type": "display_data",
          "data": {
            "application/vnd.livy.statement-meta+json": {
              "spark_pool": "sparkpool",
              "session_id": "16",
              "statement_id": 15,
              "state": "finished",
              "livy_statement_state": "available",
              "queued_time": "2024-03-19T16:13:11.7594021Z",
              "session_start_time": null,
              "execution_start_time": "2024-03-19T16:13:11.8917938Z",
              "execution_finish_time": "2024-03-19T16:13:30.6868662Z",
              "spark_jobs": null,
              "parent_msg_id": "6900961d-8bca-45cf-8268-5c1c17151263"
            },
            "text/plain": "StatementMeta(sparkpool, 16, 15, Finished, Available)"
          },
          "metadata": {}
        },
        {
          "output_type": "stream",
          "name": "stdout",
          "text": [
            "The number of positive and negative reviews : 419726\n"
          ]
        }
      ],
      "execution_count": 14,
      "metadata": {}
    },
    {
      "cell_type": "code",
      "source": [
        "# Show the distribution of reviews by category\r\n",
        "restaurants_reviews.groupBy('category').count().sort('count',ascending = False).show()"
      ],
      "outputs": [
        {
          "output_type": "display_data",
          "data": {
            "application/vnd.livy.statement-meta+json": {
              "spark_pool": "sparkpool",
              "session_id": "16",
              "statement_id": 16,
              "state": "finished",
              "livy_statement_state": "available",
              "queued_time": "2024-03-19T16:13:20.0527492Z",
              "session_start_time": null,
              "execution_start_time": "2024-03-19T16:13:30.8392376Z",
              "execution_finish_time": "2024-03-19T16:13:51.3189883Z",
              "spark_jobs": null,
              "parent_msg_id": "e4445a9f-6506-4fa2-8aa6-71c3a60b65b9"
            },
            "text/plain": "StatementMeta(sparkpool, 16, 16, Finished, Available)"
          },
          "metadata": {}
        },
        {
          "output_type": "stream",
          "name": "stdout",
          "text": [
            "+--------+-----+\n|category|count|\n+--------+-----+\n|    Thai|99373|\n|  French|81571|\n|  Indian|66369|\n|   Greek|63339|\n|  Korean|48354|\n| Spanish|33161|\n|Hawaiian|21394|\n| African| 6165|\n+--------+-----+\n\n"
          ]
        }
      ],
      "execution_count": 15,
      "metadata": {
        "jupyter": {
          "source_hidden": false,
          "outputs_hidden": false
        },
        "nteract": {
          "transient": {
            "deleting": false
          }
        }
      }
    },
    {
      "cell_type": "markdown",
      "source": [
        "## Data Transformation on Reviews"
      ],
      "metadata": {}
    },
    {
      "cell_type": "code",
      "source": [
        "# Show 'text' column before transformation\n",
        "restaurants_reviews.select(\"text\").show(10, truncate=80)"
      ],
      "outputs": [
        {
          "output_type": "display_data",
          "data": {
            "application/vnd.livy.statement-meta+json": {
              "spark_pool": "sparkpool",
              "session_id": "15",
              "statement_id": 28,
              "state": "finished",
              "livy_statement_state": "available",
              "queued_time": "2024-03-18T10:14:12.4641909Z",
              "session_start_time": null,
              "execution_start_time": "2024-03-18T10:17:08.3795766Z",
              "execution_finish_time": "2024-03-18T10:17:10.1844458Z",
              "spark_jobs": null,
              "parent_msg_id": "2d8ee037-6f9b-4b78-9c0b-8ff0226ccc23"
            },
            "text/plain": "StatementMeta(sparkpool, 15, 28, Finished, Available)"
          },
          "metadata": {}
        },
        {
          "output_type": "stream",
          "name": "stdout",
          "text": [
            "+--------------------------------------------------------------------------------+\n|                                                                            text|\n+--------------------------------------------------------------------------------+\n|Wow!  Yummy, different,  delicious.   Our favorite is the lamb curry and korm...|\n|I am a long term frequent customer of this establishment. I just went in to o...|\n|I was really between 3 and 4 stars for this one. I LOVE the 96th street Naked...|\n|Best thai food in the area.  Everything was authentic and delicious.  Will de...|\n|It was my fiance's birthday and he decided he wanted a good, laid back Thai r...|\n|My go to menu is coconut soup and pad thai with protein. I tried same menu he...|\n|Been here so many times before and all I can say is the food is really good. ...|\n|This is the first time I tried this place and  I was surprisingly surprised. ...|\n|I must admit, I wasn't expecting much. This place totally blew us away. This ...|\n|We have been here twice for brunch and have enjoyed it immensely. Everything ...|\n+--------------------------------------------------------------------------------+\nonly showing top 10 rows\n\n"
          ]
        }
      ],
      "execution_count": 166,
      "metadata": {}
    },
    {
      "cell_type": "code",
      "source": [
        "# Convert 'text' to lowercase\n",
        "restaurants_reviews = restaurants_reviews.withColumn(\"text\", F.lower(F.col(\"text\")))"
      ],
      "outputs": [
        {
          "output_type": "display_data",
          "data": {
            "application/vnd.livy.statement-meta+json": {
              "spark_pool": "sparkpool",
              "session_id": "16",
              "statement_id": 17,
              "state": "finished",
              "livy_statement_state": "available",
              "queued_time": "2024-03-19T16:13:26.9118413Z",
              "session_start_time": null,
              "execution_start_time": "2024-03-19T16:13:51.4614252Z",
              "execution_finish_time": "2024-03-19T16:13:51.6121333Z",
              "spark_jobs": null,
              "parent_msg_id": "f44e2c69-8021-41e6-9dbb-00123523bc48"
            },
            "text/plain": "StatementMeta(sparkpool, 16, 17, Finished, Available)"
          },
          "metadata": {}
        }
      ],
      "execution_count": 16,
      "metadata": {}
    },
    {
      "cell_type": "code",
      "source": [
        "# Transform review text by using regular expressions\n",
        "\n",
        "# Replace all non-alphanumeric characters with a whitespace.\n",
        "restaurants_reviews = restaurants_reviews.withColumn(\n",
        "    \"text_clean\", F.regexp_replace(F.col(\"text\"), \"[^a-zA-Z0-9\\s]\", \" \")\n",
        ")\n",
        "\n",
        "# Replace all line break character with a whitespace.\n",
        "restaurants_reviews = restaurants_reviews.withColumn(\n",
        "    \"text_clean\", F.regexp_replace(F.col(\"text_clean\"), \"\\n\", \" \")\n",
        ")\n",
        "\n",
        "# Replace all consecutive whitespaces with a single whitespace.\n",
        "restaurants_reviews = restaurants_reviews.withColumn(\n",
        "    \"text_clean\", F.regexp_replace(F.col(\"text_clean\"), \"\\\\s+\", \" \")\n",
        ")\n",
        "\n",
        "# Delete all whitespace characters at the end of each string.\n",
        "restaurants_reviews = restaurants_reviews.withColumn(\n",
        "    \"text_clean\", F.regexp_replace(F.col(\"text_clean\"), \"\\s+$\", \"\")\n",
        ")"
      ],
      "outputs": [
        {
          "output_type": "display_data",
          "data": {
            "application/vnd.livy.statement-meta+json": {
              "spark_pool": "sparkpool",
              "session_id": "16",
              "statement_id": 18,
              "state": "finished",
              "livy_statement_state": "available",
              "queued_time": "2024-03-19T16:13:28.955491Z",
              "session_start_time": null,
              "execution_start_time": "2024-03-19T16:13:51.7656434Z",
              "execution_finish_time": "2024-03-19T16:13:51.9287531Z",
              "spark_jobs": null,
              "parent_msg_id": "21a846ea-a2c8-4715-ad14-a7389eb4c853"
            },
            "text/plain": "StatementMeta(sparkpool, 16, 18, Finished, Available)"
          },
          "metadata": {}
        }
      ],
      "execution_count": 17,
      "metadata": {
        "jupyter": {
          "outputs_hidden": false,
          "source_hidden": false
        },
        "nteract": {
          "transient": {
            "deleting": false
          }
        },
        "collapsed": false
      }
    },
    {
      "cell_type": "code",
      "source": [
        "# Show 'text_clean' column after transformation\n",
        "restaurants_reviews.select(\"text_clean\").show(10, truncate=50)"
      ],
      "outputs": [
        {
          "output_type": "display_data",
          "data": {
            "application/vnd.livy.statement-meta+json": {
              "spark_pool": "sparkpool",
              "session_id": "15",
              "statement_id": 31,
              "state": "finished",
              "livy_statement_state": "available",
              "queued_time": "2024-03-18T10:14:13.0455084Z",
              "session_start_time": null,
              "execution_start_time": "2024-03-18T10:17:10.8835204Z",
              "execution_finish_time": "2024-03-18T10:17:12.6842031Z",
              "spark_jobs": null,
              "parent_msg_id": "6dd02836-968a-489f-a58a-f2de00a78fed"
            },
            "text/plain": "StatementMeta(sparkpool, 15, 31, Finished, Available)"
          },
          "metadata": {}
        },
        {
          "output_type": "stream",
          "name": "stdout",
          "text": [
            "+--------------------------------------------------+\n|                                        text_clean|\n+--------------------------------------------------+\n|wow yummy different delicious our favorite is t...|\n|i am a long term frequent customer of this esta...|\n|i was really between 3 and 4 stars for this one...|\n|best thai food in the area everything was authe...|\n|it was my fiance s birthday and he decided he w...|\n|my go to menu is coconut soup and pad thai with...|\n|been here so many times before and all i can sa...|\n|this is the first time i tried this place and i...|\n|i must admit i wasn t expecting much this place...|\n|we have been here twice for brunch and have enj...|\n+--------------------------------------------------+\nonly showing top 10 rows\n\n"
          ]
        }
      ],
      "execution_count": 169,
      "metadata": {}
    },
    {
      "cell_type": "code",
      "source": [
        "#Drop unnecessary columns\r\n",
        "restaurants_reviews = restaurants_reviews.select(['category','text_clean','labels'])"
      ],
      "outputs": [
        {
          "output_type": "display_data",
          "data": {
            "application/vnd.livy.statement-meta+json": {
              "spark_pool": "sparkpool",
              "session_id": "16",
              "statement_id": 19,
              "state": "finished",
              "livy_statement_state": "available",
              "queued_time": "2024-03-19T16:13:41.6653862Z",
              "session_start_time": null,
              "execution_start_time": "2024-03-19T16:13:52.0662135Z",
              "execution_finish_time": "2024-03-19T16:13:52.2214892Z",
              "spark_jobs": null,
              "parent_msg_id": "3ca1a2b3-df7d-49a1-a1ec-9ee23eaf5f7e"
            },
            "text/plain": "StatementMeta(sparkpool, 16, 19, Finished, Available)"
          },
          "metadata": {}
        }
      ],
      "execution_count": 18,
      "metadata": {
        "jupyter": {
          "source_hidden": false,
          "outputs_hidden": false
        },
        "nteract": {
          "transient": {
            "deleting": false
          }
        }
      }
    },
    {
      "cell_type": "code",
      "source": [
        "#Print the schema\r\n",
        "restaurants_reviews.printSchema()"
      ],
      "outputs": [
        {
          "output_type": "display_data",
          "data": {
            "application/vnd.livy.statement-meta+json": {
              "spark_pool": "sparkpool",
              "session_id": "16",
              "statement_id": 20,
              "state": "finished",
              "livy_statement_state": "available",
              "queued_time": "2024-03-19T16:13:52.6101766Z",
              "session_start_time": null,
              "execution_start_time": "2024-03-19T16:13:53.2575052Z",
              "execution_finish_time": "2024-03-19T16:13:53.407334Z",
              "spark_jobs": null,
              "parent_msg_id": "cadca530-ff48-46c0-967e-643c0f8b0cad"
            },
            "text/plain": "StatementMeta(sparkpool, 16, 20, Finished, Available)"
          },
          "metadata": {}
        },
        {
          "output_type": "stream",
          "name": "stdout",
          "text": [
            "root\n |-- category: string (nullable = true)\n |-- text_clean: string (nullable = true)\n |-- labels: string (nullable = true)\n\n"
          ]
        }
      ],
      "execution_count": 19,
      "metadata": {
        "jupyter": {
          "source_hidden": false,
          "outputs_hidden": false
        },
        "nteract": {
          "transient": {
            "deleting": false
          }
        }
      }
    },
    {
      "cell_type": "code",
      "source": [
        "#Cache the processed DataFrame\r\n",
        "restaurants_reviews.cache()\r\n",
        "restaurants_reviews.storageLevel"
      ],
      "outputs": [
        {
          "output_type": "display_data",
          "data": {
            "application/vnd.livy.statement-meta+json": {
              "spark_pool": "sparkpool",
              "session_id": "16",
              "statement_id": 21,
              "state": "finished",
              "livy_statement_state": "available",
              "queued_time": "2024-03-19T16:13:56.5686702Z",
              "session_start_time": null,
              "execution_start_time": "2024-03-19T16:13:56.7155973Z",
              "execution_finish_time": "2024-03-19T16:13:57.2392561Z",
              "spark_jobs": null,
              "parent_msg_id": "9fdb9e6f-65e9-4ba3-93e1-203941b3743b"
            },
            "text/plain": "StatementMeta(sparkpool, 16, 21, Finished, Available)"
          },
          "metadata": {}
        },
        {
          "output_type": "execute_result",
          "execution_count": 43,
          "data": {
            "text/plain": "StorageLevel(True, True, False, True, 1)"
          },
          "metadata": {}
        }
      ],
      "execution_count": 20,
      "metadata": {
        "jupyter": {
          "source_hidden": false,
          "outputs_hidden": false
        },
        "nteract": {
          "transient": {
            "deleting": false
          }
        }
      }
    },
    {
      "cell_type": "markdown",
      "source": [
        "## Positive and Negative Words"
      ],
      "metadata": {
        "nteract": {
          "transient": {
            "deleting": false
          }
        }
      }
    },
    {
      "cell_type": "code",
      "source": [
        "# There are 2 .txt files in the main directory where positive and negative words in English language are collected.\n",
        "# Mentioned text files will be used to evaluate whether a word is positive or negative.\n",
        "\n",
        "# Read text files and create RDDs\n",
        "positive_rdd = spark.sparkContext.textFile(positive_path)\n",
        "negative_rdd = spark.sparkContext.textFile(negative_path)\n",
        "\n",
        "# Convert RDDs into lists\n",
        "positive_words = positive_rdd.collect()\n",
        "negative_words = negative_rdd.collect()\n",
        "\n",
        "# Create lists with useless words that doesn't give any valuable info about restaurants.\n",
        "positive_useless = [ \"great\", \"amazing\", \"love\", \"best\", \"awesome\", \"excellent\", \"good\", \"favorite\", \"loved\", \"perfect\", \"gem\", \"perfectly\",\n",
        "\"wonderful\", \"happy\", \"enjoyed\", \"nice\", \"well\", \"super\", \"like\", \"better\", \"decent\", \"fine\", \"pretty\", \"enough\", \"excited\", \"impressed\", \n",
        "\"ready\", \"fantastic\", \"glad\", \"right\", \"fabulous\", ]\n",
        "negative_useless = [ \"bad\", \"disappointed\", \"unfortunately\", \"disappointing\", \"horrible\", \"lacking\", \"terrible\", \"sorry\", \"disappoint\", \"worst\", ]\n",
        "\n",
        "# Filter useless words out\n",
        "positive_words = [x for x in positive_words if x not in positive_useless]\n",
        "negative_words = [x for x in negative_words if x not in negative_useless]\n",
        "\n",
        "# Print first 10 elements of lists\n",
        "print(positive_words[:10])\n",
        "print(negative_words[:10])"
      ],
      "outputs": [
        {
          "output_type": "display_data",
          "data": {
            "application/vnd.livy.statement-meta+json": {
              "spark_pool": "sparkpool",
              "session_id": "16",
              "statement_id": 22,
              "state": "finished",
              "livy_statement_state": "available",
              "queued_time": "2024-03-19T16:13:59.6425552Z",
              "session_start_time": null,
              "execution_start_time": "2024-03-19T16:13:59.7811583Z",
              "execution_finish_time": "2024-03-19T16:14:03.3860338Z",
              "spark_jobs": null,
              "parent_msg_id": "f297a345-c472-49b3-970a-0a15b8206aba"
            },
            "text/plain": "StatementMeta(sparkpool, 16, 22, Finished, Available)"
          },
          "metadata": {}
        },
        {
          "output_type": "stream",
          "name": "stdout",
          "text": [
            "['abound', 'abounds', 'abundance', 'abundant', 'accessable', 'accessible', 'acclaim', 'acclaimed', 'acclamation', 'accolade']\n['abnormal', 'abolish', 'abominable', 'abominably', 'abominate', 'abomination', 'abort', 'aborted', 'aborts', 'abrade']\n"
          ]
        }
      ],
      "execution_count": 21,
      "metadata": {
        "scrolled": true
      }
    },
    {
      "cell_type": "code",
      "source": [
        "# Define a function that filters rows based on the 'category' parameter\n",
        "def get_dataset(category):\n",
        "    \"\"\"Takes in a category name as string. Returns a DataFrame with filtered rows based on category argument.\"\"\"\n",
        "\n",
        "    # Filter DataFrame to only include reviews for the given category\n",
        "    df = restaurants_reviews.filter(col(\"category\") == category)\n",
        "\n",
        "    # Select relevant columns\n",
        "    df = df.select([\"text_clean\",\"labels\"])\n",
        "\n",
        "    return df"
      ],
      "outputs": [
        {
          "output_type": "display_data",
          "data": {
            "application/vnd.livy.statement-meta+json": {
              "spark_pool": "sparkpool",
              "session_id": "16",
              "statement_id": 23,
              "state": "finished",
              "livy_statement_state": "available",
              "queued_time": "2024-03-19T16:14:02.4946509Z",
              "session_start_time": null,
              "execution_start_time": "2024-03-19T16:14:03.9508517Z",
              "execution_finish_time": "2024-03-19T16:14:04.0974929Z",
              "spark_jobs": null,
              "parent_msg_id": "c05f5ca1-4ba0-4fbf-8bea-bb706bf80f3d"
            },
            "text/plain": "StatementMeta(sparkpool, 16, 23, Finished, Available)"
          },
          "metadata": {}
        }
      ],
      "execution_count": 22,
      "metadata": {
        "jupyter": {
          "outputs_hidden": false,
          "source_hidden": false
        },
        "nteract": {
          "transient": {
            "deleting": false
          }
        },
        "collapsed": false
      }
    },
    {
      "cell_type": "code",
      "source": [
        "def filter_words(col):\r\n",
        "    \"\"\" Splits into a list and filter out the words that are not in positive or negative word list.\"\"\"\r\n",
        "    \r\n",
        "    text = [i for i in col.split() if i in positive_words + negative_words]\r\n",
        "   \r\n",
        "    return text"
      ],
      "outputs": [
        {
          "output_type": "display_data",
          "data": {
            "application/vnd.livy.statement-meta+json": {
              "spark_pool": "sparkpool",
              "session_id": "16",
              "statement_id": 24,
              "state": "finished",
              "livy_statement_state": "available",
              "queued_time": "2024-03-19T16:14:06.1143979Z",
              "session_start_time": null,
              "execution_start_time": "2024-03-19T16:14:06.2433426Z",
              "execution_finish_time": "2024-03-19T16:14:06.3997013Z",
              "spark_jobs": null,
              "parent_msg_id": "8b5e47e0-14ee-48c1-acbb-f0e6a204bcbd"
            },
            "text/plain": "StatementMeta(sparkpool, 16, 24, Finished, Available)"
          },
          "metadata": {}
        }
      ],
      "execution_count": 23,
      "metadata": {
        "jupyter": {
          "source_hidden": false,
          "outputs_hidden": false
        },
        "nteract": {
          "transient": {
            "deleting": false
          }
        }
      }
    },
    {
      "cell_type": "markdown",
      "source": [
        "After this point, all the processes will be implemented for 'African' restaurants."
      ],
      "metadata": {}
    },
    {
      "cell_type": "code",
      "source": [
        "African = get_dataset(\"African\")"
      ],
      "outputs": [
        {
          "output_type": "display_data",
          "data": {
            "application/vnd.livy.statement-meta+json": {
              "spark_pool": "sparkpool",
              "session_id": "16",
              "statement_id": 25,
              "state": "finished",
              "livy_statement_state": "available",
              "queued_time": "2024-03-19T16:14:08.764274Z",
              "session_start_time": null,
              "execution_start_time": "2024-03-19T16:14:09.0221028Z",
              "execution_finish_time": "2024-03-19T16:14:09.1685624Z",
              "spark_jobs": null,
              "parent_msg_id": "476f11f5-cc2d-43b6-a4ba-71aeefb6e06c"
            },
            "text/plain": "StatementMeta(sparkpool, 16, 25, Finished, Available)"
          },
          "metadata": {}
        }
      ],
      "execution_count": 24,
      "metadata": {}
    },
    {
      "cell_type": "code",
      "source": [
        "African = African.withColumn(\"text_filtered\", udf(filter_words, returnType=ArrayType(StringType()))(col(\"text_clean\")))\r\n",
        "African = African.drop('text_clean')"
      ],
      "outputs": [
        {
          "output_type": "display_data",
          "data": {
            "application/vnd.livy.statement-meta+json": {
              "spark_pool": "sparkpool",
              "session_id": "16",
              "statement_id": 26,
              "state": "finished",
              "livy_statement_state": "available",
              "queued_time": "2024-03-19T16:14:13.0555419Z",
              "session_start_time": null,
              "execution_start_time": "2024-03-19T16:14:13.2143754Z",
              "execution_finish_time": "2024-03-19T16:14:13.360751Z",
              "spark_jobs": null,
              "parent_msg_id": "4753e883-7298-4a2c-bd46-f913efbfc6a6"
            },
            "text/plain": "StatementMeta(sparkpool, 16, 26, Finished, Available)"
          },
          "metadata": {}
        }
      ],
      "execution_count": 25,
      "metadata": {
        "jupyter": {
          "source_hidden": false,
          "outputs_hidden": false
        },
        "nteract": {
          "transient": {
            "deleting": false
          }
        }
      }
    },
    {
      "cell_type": "code",
      "source": [
        "African.show(5, truncate = 40)"
      ],
      "outputs": [
        {
          "output_type": "display_data",
          "data": {
            "application/vnd.livy.statement-meta+json": {
              "spark_pool": "sparkpool",
              "session_id": "15",
              "statement_id": 40,
              "state": "finished",
              "livy_statement_state": "available",
              "queued_time": "2024-03-18T10:14:14.7940307Z",
              "session_start_time": null,
              "execution_start_time": "2024-03-18T10:17:16.0095843Z",
              "execution_finish_time": "2024-03-18T10:17:24.5438344Z",
              "spark_jobs": null,
              "parent_msg_id": "66a70d0c-1f07-48cc-acd1-1b32a9ee9e33"
            },
            "text/plain": "StatementMeta(sparkpool, 15, 40, Finished, Available)"
          },
          "metadata": {}
        },
        {
          "output_type": "stream",
          "name": "stdout",
          "text": [
            "+--------+----------------------------------------+\n|  labels|                           text_filtered|\n+--------+----------------------------------------+\n|positive|                              [friendly]|\n|positive|                                 [rusty]|\n|positive|[fresh, dedicated, gained, enjoy, enj...|\n|positive|[lost, beautifully, slow, superb, ina...|\n|positive|[top, delicious, desert, crime, excep...|\n+--------+----------------------------------------+\nonly showing top 5 rows\n\n"
          ]
        }
      ],
      "execution_count": 178,
      "metadata": {
        "jupyter": {
          "source_hidden": false,
          "outputs_hidden": false
        },
        "nteract": {
          "transient": {
            "deleting": false
          }
        }
      }
    },
    {
      "cell_type": "code",
      "source": [
        "African.dtypes"
      ],
      "outputs": [
        {
          "output_type": "display_data",
          "data": {
            "application/vnd.livy.statement-meta+json": {
              "spark_pool": "sparkpool",
              "session_id": "15",
              "statement_id": 41,
              "state": "finished",
              "livy_statement_state": "available",
              "queued_time": "2024-03-18T10:14:15.0015356Z",
              "session_start_time": null,
              "execution_start_time": "2024-03-18T10:17:24.711175Z",
              "execution_finish_time": "2024-03-18T10:17:24.8672333Z",
              "spark_jobs": null,
              "parent_msg_id": "867ea25e-4a80-4b47-b491-e56ecd2610a8"
            },
            "text/plain": "StatementMeta(sparkpool, 15, 41, Finished, Available)"
          },
          "metadata": {}
        },
        {
          "output_type": "execute_result",
          "execution_count": 83,
          "data": {
            "text/plain": "[('labels', 'string'), ('text_filtered', 'array<string>')]"
          },
          "metadata": {}
        }
      ],
      "execution_count": 179,
      "metadata": {
        "jupyter": {
          "source_hidden": false,
          "outputs_hidden": false
        },
        "nteract": {
          "transient": {
            "deleting": false
          }
        }
      }
    },
    {
      "cell_type": "code",
      "source": [
        "vectorizer = CountVectorizer(inputCol = 'text_filtered', outputCol = 'vector')\n",
        "\n",
        "# Fit the CountVectorizer object to the training data\n",
        "vectorizer_model = vectorizer.fit(African)"
      ],
      "outputs": [
        {
          "output_type": "display_data",
          "data": {
            "application/vnd.livy.statement-meta+json": {
              "spark_pool": "sparkpool",
              "session_id": "16",
              "statement_id": 27,
              "state": "finished",
              "livy_statement_state": "available",
              "queued_time": "2024-03-19T16:16:35.5837528Z",
              "session_start_time": null,
              "execution_start_time": "2024-03-19T16:16:35.7170697Z",
              "execution_finish_time": "2024-03-19T16:17:31.5773892Z",
              "spark_jobs": null,
              "parent_msg_id": "1a35c3e4-7494-4716-a065-1d6f111ca644"
            },
            "text/plain": "StatementMeta(sparkpool, 16, 27, Finished, Available)"
          },
          "metadata": {}
        }
      ],
      "execution_count": 26,
      "metadata": {
        "jupyter": {
          "outputs_hidden": false,
          "source_hidden": false
        },
        "nteract": {
          "transient": {
            "deleting": false
          }
        },
        "collapsed": false
      }
    },
    {
      "cell_type": "code",
      "source": [
        "vocab = vectorizer_model.vocabulary\r\n",
        "vocab[:10]"
      ],
      "outputs": [
        {
          "output_type": "display_data",
          "data": {
            "application/vnd.livy.statement-meta+json": {
              "spark_pool": "sparkpool",
              "session_id": "16",
              "statement_id": 29,
              "state": "finished",
              "livy_statement_state": "available",
              "queued_time": "2024-03-19T16:18:22.3348346Z",
              "session_start_time": null,
              "execution_start_time": "2024-03-19T16:18:24.4433664Z",
              "execution_finish_time": "2024-03-19T16:18:24.6237815Z",
              "spark_jobs": null,
              "parent_msg_id": "bbacebad-2e4f-4224-a3ac-60d6a85cdf1b"
            },
            "text/plain": "StatementMeta(sparkpool, 16, 29, Finished, Available)"
          },
          "metadata": {}
        },
        {
          "output_type": "execute_result",
          "execution_count": 59,
          "data": {
            "text/plain": "['delicious',\n 'friendly',\n 'recommend',\n 'fried',\n 'fresh',\n 'sweet',\n 'worth',\n 'hot',\n 'enjoy',\n 'beautiful']"
          },
          "metadata": {}
        }
      ],
      "execution_count": 28,
      "metadata": {
        "jupyter": {
          "source_hidden": false,
          "outputs_hidden": false
        },
        "nteract": {
          "transient": {
            "deleting": false
          }
        }
      }
    },
    {
      "cell_type": "code",
      "source": [
        "African_df = vectorizer_model.transform(African)"
      ],
      "outputs": [
        {
          "output_type": "display_data",
          "data": {
            "application/vnd.livy.statement-meta+json": {
              "spark_pool": "sparkpool",
              "session_id": "16",
              "statement_id": 30,
              "state": "finished",
              "livy_statement_state": "available",
              "queued_time": "2024-03-19T16:22:35.0198753Z",
              "session_start_time": null,
              "execution_start_time": "2024-03-19T16:22:35.1608837Z",
              "execution_finish_time": "2024-03-19T16:22:36.2228273Z",
              "spark_jobs": null,
              "parent_msg_id": "9a12c08c-f5af-447b-ae6e-9dfcaa3e7997"
            },
            "text/plain": "StatementMeta(sparkpool, 16, 30, Finished, Available)"
          },
          "metadata": {}
        }
      ],
      "execution_count": 29,
      "metadata": {
        "jupyter": {
          "source_hidden": false,
          "outputs_hidden": false
        },
        "nteract": {
          "transient": {
            "deleting": false
          }
        }
      }
    },
    {
      "cell_type": "code",
      "source": [
        "African_df = African_df.withColumn('labels_bool', when(col('labels') == 'positive' , 1).otherwise(0))"
      ],
      "outputs": [
        {
          "output_type": "display_data",
          "data": {
            "application/vnd.livy.statement-meta+json": {
              "spark_pool": "sparkpool",
              "session_id": "16",
              "statement_id": 31,
              "state": "finished",
              "livy_statement_state": "available",
              "queued_time": "2024-03-19T16:22:43.8432843Z",
              "session_start_time": null,
              "execution_start_time": "2024-03-19T16:22:44.0056456Z",
              "execution_finish_time": "2024-03-19T16:22:44.1606403Z",
              "spark_jobs": null,
              "parent_msg_id": "dbe6f5f9-5473-49eb-b628-143000061175"
            },
            "text/plain": "StatementMeta(sparkpool, 16, 31, Finished, Available)"
          },
          "metadata": {}
        }
      ],
      "execution_count": 30,
      "metadata": {
        "jupyter": {
          "source_hidden": false,
          "outputs_hidden": false
        },
        "nteract": {
          "transient": {
            "deleting": false
          }
        }
      }
    },
    {
      "cell_type": "code",
      "source": [
        "African_df.show(5,truncate = 80)"
      ],
      "outputs": [
        {
          "output_type": "display_data",
          "data": {
            "application/vnd.livy.statement-meta+json": {
              "spark_pool": "sparkpool",
              "session_id": "16",
              "statement_id": 32,
              "state": "finished",
              "livy_statement_state": "available",
              "queued_time": "2024-03-19T16:22:46.2985845Z",
              "session_start_time": null,
              "execution_start_time": "2024-03-19T16:22:46.423271Z",
              "execution_finish_time": "2024-03-19T16:22:51.7182768Z",
              "spark_jobs": null,
              "parent_msg_id": "be5b825f-6748-4719-8733-1cc0de1c1c4e"
            },
            "text/plain": "StatementMeta(sparkpool, 16, 32, Finished, Available)"
          },
          "metadata": {}
        },
        {
          "output_type": "stream",
          "name": "stdout",
          "text": [
            "+--------+--------------------------------------------------------------------------------+--------------------------------------------------------------------------------+-----------+\n|  labels|                                                                   text_filtered|                                                                          vector|labels_bool|\n+--------+--------------------------------------------------------------------------------+--------------------------------------------------------------------------------+-----------+\n|positive|                                                                      [friendly]|                                                                (1973,[1],[1.0])|          1|\n|positive|                                                                         [rusty]|                                                               (1973,[24],[1.0])|          1|\n|positive|[fresh, dedicated, gained, enjoy, enjoy, beautiful, awful, cozy, crowded, pri...|(1973,[4,6,8,9,52,59,67,79,889,1525,1758],[1.0,1.0,2.0,1.0,1.0,1.0,1.0,1.0,1....|          1|\n|positive|      [lost, beautifully, slow, superb, inadequately, attentive, worth, correct]|         (1973,[6,17,18,137,143,166,186,1596],[1.0,1.0,1.0,1.0,1.0,1.0,1.0,1.0])|          1|\n|positive|                                    [top, delicious, desert, crime, exceptional]|                                 (1973,[0,14,120,261,685],[1.0,1.0,1.0,1.0,1.0])|          1|\n+--------+--------------------------------------------------------------------------------+--------------------------------------------------------------------------------+-----------+\nonly showing top 5 rows\n\n"
          ]
        }
      ],
      "execution_count": 31,
      "metadata": {
        "jupyter": {
          "outputs_hidden": false,
          "source_hidden": false
        },
        "nteract": {
          "transient": {
            "deleting": false
          }
        },
        "collapsed": false
      }
    },
    {
      "cell_type": "code",
      "source": [
        "lr = LogisticRegression(featuresCol = 'vector', labelCol = 'labels_bool')\r\n",
        "lr_model = lr.fit(African_df)"
      ],
      "outputs": [
        {
          "output_type": "display_data",
          "data": {
            "application/vnd.livy.statement-meta+json": {
              "spark_pool": "sparkpool",
              "session_id": "16",
              "statement_id": 35,
              "state": "finished",
              "livy_statement_state": "available",
              "queued_time": "2024-03-19T16:25:58.770199Z",
              "session_start_time": null,
              "execution_start_time": "2024-03-19T16:25:58.8973336Z",
              "execution_finish_time": "2024-03-19T16:27:18.5696091Z",
              "spark_jobs": null,
              "parent_msg_id": "ba6b961d-61d1-42bf-8b6c-76ea48004e94"
            },
            "text/plain": "StatementMeta(sparkpool, 16, 35, Finished, Available)"
          },
          "metadata": {}
        }
      ],
      "execution_count": 34,
      "metadata": {
        "jupyter": {
          "source_hidden": false,
          "outputs_hidden": false
        },
        "nteract": {
          "transient": {
            "deleting": false
          }
        }
      }
    },
    {
      "cell_type": "code",
      "source": [
        "coeff = lr_model.coefficients\r\n",
        "#.toArray()\r\n",
        "#coeff_arr[:10]\r\n",
        "coeff = [float(i) for i in coeff]\r\n",
        "coeff[:10]\r\n"
      ],
      "outputs": [
        {
          "output_type": "display_data",
          "data": {
            "application/vnd.livy.statement-meta+json": {
              "spark_pool": "sparkpool",
              "session_id": "16",
              "statement_id": 48,
              "state": "finished",
              "livy_statement_state": "available",
              "queued_time": "2024-03-19T16:33:03.0584541Z",
              "session_start_time": null,
              "execution_start_time": "2024-03-19T16:33:03.1792206Z",
              "execution_finish_time": "2024-03-19T16:33:03.3312286Z",
              "spark_jobs": null,
              "parent_msg_id": "2f3e0a0d-5421-4a88-a3fa-2e354594a589"
            },
            "text/plain": "StatementMeta(sparkpool, 16, 48, Finished, Available)"
          },
          "metadata": {}
        },
        {
          "output_type": "execute_result",
          "execution_count": 97,
          "data": {
            "text/plain": "[3.5142131495857862,\n 1.6145403133077412,\n 1.1109860864548948,\n 0.15765733354170938,\n 0.6378908148979348,\n 0.6598956827227213,\n 0.4010368794016506,\n 0.8482240461514386,\n -0.38347548657368236,\n 0.028192397027727568]"
          },
          "metadata": {}
        }
      ],
      "execution_count": 47,
      "metadata": {
        "jupyter": {
          "source_hidden": false,
          "outputs_hidden": false
        },
        "nteract": {
          "transient": {
            "deleting": false
          }
        }
      }
    },
    {
      "cell_type": "code",
      "source": [
        "word_coeff = [(i,j) for (i,j) in zip(vocab,coeff)]\r\n",
        "word_coeff[:5]"
      ],
      "outputs": [
        {
          "output_type": "display_data",
          "data": {
            "application/vnd.livy.statement-meta+json": {
              "spark_pool": "sparkpool",
              "session_id": "16",
              "statement_id": 49,
              "state": "finished",
              "livy_statement_state": "available",
              "queued_time": "2024-03-19T16:38:31.0846513Z",
              "session_start_time": null,
              "execution_start_time": "2024-03-19T16:38:31.2259744Z",
              "execution_finish_time": "2024-03-19T16:38:31.404813Z",
              "spark_jobs": null,
              "parent_msg_id": "3a391528-64b9-4f48-a2dc-92f2d7292964"
            },
            "text/plain": "StatementMeta(sparkpool, 16, 49, Finished, Available)"
          },
          "metadata": {}
        },
        {
          "output_type": "execute_result",
          "execution_count": 99,
          "data": {
            "text/plain": "[('delicious', 3.5142131495857862),\n ('friendly', 1.6145403133077412),\n ('recommend', 1.1109860864548948),\n ('fried', 0.15765733354170938),\n ('fresh', 0.6378908148979348)]"
          },
          "metadata": {}
        }
      ],
      "execution_count": 48,
      "metadata": {
        "jupyter": {
          "source_hidden": false,
          "outputs_hidden": false
        },
        "nteract": {
          "transient": {
            "deleting": false
          }
        }
      }
    },
    {
      "cell_type": "code",
      "source": [
        "word_coeff_df = spark.createDataFrame(word_coeff,['word','coeff'])\r\n",
        "word_coeff_df.show(5)"
      ],
      "outputs": [
        {
          "output_type": "display_data",
          "data": {
            "application/vnd.livy.statement-meta+json": {
              "spark_pool": "sparkpool",
              "session_id": "16",
              "statement_id": 50,
              "state": "finished",
              "livy_statement_state": "available",
              "queued_time": "2024-03-19T16:38:55.1306956Z",
              "session_start_time": null,
              "execution_start_time": "2024-03-19T16:38:55.2550742Z",
              "execution_finish_time": "2024-03-19T16:38:56.5075227Z",
              "spark_jobs": null,
              "parent_msg_id": "f30babef-f9a5-4a97-a1ba-44fb1404c3f2"
            },
            "text/plain": "StatementMeta(sparkpool, 16, 50, Finished, Available)"
          },
          "metadata": {}
        },
        {
          "output_type": "stream",
          "name": "stdout",
          "text": [
            "+---------+-------------------+\n|     word|              coeff|\n+---------+-------------------+\n|delicious| 3.5142131495857862|\n| friendly| 1.6145403133077412|\n|recommend| 1.1109860864548948|\n|    fried|0.15765733354170938|\n|    fresh| 0.6378908148979348|\n+---------+-------------------+\nonly showing top 5 rows\n\n"
          ]
        }
      ],
      "execution_count": 49,
      "metadata": {
        "jupyter": {
          "source_hidden": false,
          "outputs_hidden": false
        },
        "nteract": {
          "transient": {
            "deleting": false
          }
        }
      }
    },
    {
      "cell_type": "code",
      "source": [
        "African_df.select('vector').show(5, truncate = 100)"
      ],
      "outputs": [
        {
          "output_type": "display_data",
          "data": {
            "application/vnd.livy.statement-meta+json": {
              "spark_pool": "sparkpool",
              "session_id": "16",
              "statement_id": 66,
              "state": "finished",
              "livy_statement_state": "available",
              "queued_time": "2024-03-19T16:48:39.537738Z",
              "session_start_time": null,
              "execution_start_time": "2024-03-19T16:48:39.6650424Z",
              "execution_finish_time": "2024-03-19T16:48:43.5732964Z",
              "spark_jobs": null,
              "parent_msg_id": "685a0015-26e8-49a3-9325-1c2cdd4b20ff"
            },
            "text/plain": "StatementMeta(sparkpool, 16, 66, Finished, Available)"
          },
          "metadata": {}
        },
        {
          "output_type": "stream",
          "name": "stdout",
          "text": [
            "+----------------------------------------------------------------------------------------+\n|                                                                                  vector|\n+----------------------------------------------------------------------------------------+\n|                                                                        (1973,[1],[1.0])|\n|                                                                       (1973,[24],[1.0])|\n|(1973,[4,6,8,9,52,59,67,79,889,1525,1758],[1.0,1.0,2.0,1.0,1.0,1.0,1.0,1.0,1.0,1.0,1.0])|\n|                 (1973,[6,17,18,137,143,166,186,1596],[1.0,1.0,1.0,1.0,1.0,1.0,1.0,1.0])|\n|                                         (1973,[0,14,120,261,685],[1.0,1.0,1.0,1.0,1.0])|\n+----------------------------------------------------------------------------------------+\nonly showing top 5 rows\n\n"
          ]
        }
      ],
      "execution_count": 65,
      "metadata": {
        "jupyter": {
          "source_hidden": false,
          "outputs_hidden": false
        },
        "nteract": {
          "transient": {
            "deleting": false
          }
        }
      }
    },
    {
      "cell_type": "code",
      "source": [
        "from pyspark.ml.functions import vector_to_array\r\n",
        "vector_dense_arr = vector_to_array(African_df.vector)\r\n",
        "African_df = African_df.withColumn('vector_dense_arr',vector_dense_arr)"
      ],
      "outputs": [
        {
          "output_type": "display_data",
          "data": {
            "application/vnd.livy.statement-meta+json": {
              "spark_pool": "sparkpool",
              "session_id": "16",
              "statement_id": 68,
              "state": "finished",
              "livy_statement_state": "available",
              "queued_time": "2024-03-19T16:58:27.7783575Z",
              "session_start_time": null,
              "execution_start_time": "2024-03-19T16:58:27.8920873Z",
              "execution_finish_time": "2024-03-19T16:58:28.0635881Z",
              "spark_jobs": null,
              "parent_msg_id": "13a5180c-e941-4a0f-a5ba-cd7859fd8d44"
            },
            "text/plain": "StatementMeta(sparkpool, 16, 68, Finished, Available)"
          },
          "metadata": {}
        }
      ],
      "execution_count": 67,
      "metadata": {
        "jupyter": {
          "source_hidden": false,
          "outputs_hidden": false
        },
        "nteract": {
          "transient": {
            "deleting": false
          }
        }
      }
    },
    {
      "cell_type": "code",
      "source": [
        "African_df.show(5)"
      ],
      "outputs": [
        {
          "output_type": "display_data",
          "data": {
            "application/vnd.livy.statement-meta+json": {
              "spark_pool": "sparkpool",
              "session_id": "16",
              "statement_id": 69,
              "state": "finished",
              "livy_statement_state": "available",
              "queued_time": "2024-03-19T16:58:35.7488079Z",
              "session_start_time": null,
              "execution_start_time": "2024-03-19T16:58:35.8648092Z",
              "execution_finish_time": "2024-03-19T16:58:41.1597909Z",
              "spark_jobs": null,
              "parent_msg_id": "762c7ef5-2e04-4c34-a1b3-e944ddb3c712"
            },
            "text/plain": "StatementMeta(sparkpool, 16, 69, Finished, Available)"
          },
          "metadata": {}
        },
        {
          "output_type": "stream",
          "name": "stdout",
          "text": [
            "+--------+--------------------+--------------------+-----------+--------------------+\n|  labels|       text_filtered|              vector|labels_bool|    vector_dense_arr|\n+--------+--------------------+--------------------+-----------+--------------------+\n|positive|          [friendly]|    (1973,[1],[1.0])|          1|[0.0, 1.0, 0.0, 0...|\n|positive|             [rusty]|   (1973,[24],[1.0])|          1|[0.0, 0.0, 0.0, 0...|\n|positive|[fresh, dedicated...|(1973,[4,6,8,9,52...|          1|[0.0, 0.0, 0.0, 0...|\n|positive|[lost, beautifull...|(1973,[6,17,18,13...|          1|[0.0, 0.0, 0.0, 0...|\n|positive|[top, delicious, ...|(1973,[0,14,120,2...|          1|[1.0, 0.0, 0.0, 0...|\n+--------+--------------------+--------------------+-----------+--------------------+\nonly showing top 5 rows\n\n"
          ]
        }
      ],
      "execution_count": 68,
      "metadata": {
        "jupyter": {
          "source_hidden": false,
          "outputs_hidden": false
        },
        "nteract": {
          "transient": {
            "deleting": false
          }
        }
      }
    },
    {
      "cell_type": "code",
      "source": [
        "vector_dense_rdd = African_df.select('vector_dense_arr').rdd\r\n",
        "c = vector_dense_rdd.collect()\r\n",
        "type(c)"
      ],
      "outputs": [
        {
          "output_type": "display_data",
          "data": {
            "application/vnd.livy.statement-meta+json": {
              "spark_pool": "sparkpool",
              "session_id": "16",
              "statement_id": 96,
              "state": "finished",
              "livy_statement_state": "available",
              "queued_time": "2024-03-19T17:14:18.0826671Z",
              "session_start_time": null,
              "execution_start_time": "2024-03-19T17:14:18.2016435Z",
              "execution_finish_time": "2024-03-19T17:14:41.447073Z",
              "spark_jobs": null,
              "parent_msg_id": "b3669be7-3b2c-4a7b-b340-f788984cbb35"
            },
            "text/plain": "StatementMeta(sparkpool, 16, 96, Finished, Available)"
          },
          "metadata": {}
        },
        {
          "output_type": "execute_result",
          "execution_count": 193,
          "data": {
            "text/plain": "list"
          },
          "metadata": {}
        }
      ],
      "execution_count": 95,
      "metadata": {
        "jupyter": {
          "source_hidden": false,
          "outputs_hidden": false
        },
        "nteract": {
          "transient": {
            "deleting": false
          }
        }
      }
    },
    {
      "cell_type": "code",
      "source": [
        "c = list(map(lambda x: x[0],c))"
      ],
      "outputs": [
        {
          "output_type": "display_data",
          "data": {
            "application/vnd.livy.statement-meta+json": {
              "spark_pool": "sparkpool",
              "session_id": "16",
              "statement_id": 97,
              "state": "finished",
              "livy_statement_state": "available",
              "queued_time": "2024-03-19T17:14:47.0972154Z",
              "session_start_time": null,
              "execution_start_time": "2024-03-19T17:14:47.2191969Z",
              "execution_finish_time": "2024-03-19T17:14:47.3700302Z",
              "spark_jobs": null,
              "parent_msg_id": "5ee573ca-a2da-43ae-894f-705d50ae7b5c"
            },
            "text/plain": "StatementMeta(sparkpool, 16, 97, Finished, Available)"
          },
          "metadata": {}
        }
      ],
      "execution_count": 96,
      "metadata": {
        "jupyter": {
          "source_hidden": false,
          "outputs_hidden": false
        },
        "nteract": {
          "transient": {
            "deleting": false
          }
        }
      }
    },
    {
      "cell_type": "code",
      "source": [
        "schema = StructType(\r\n",
        "[StructField(i,FloatType(),False) for i in vocab]\r\n",
        ")"
      ],
      "outputs": [
        {
          "output_type": "display_data",
          "data": {
            "application/vnd.livy.statement-meta+json": {
              "spark_pool": "sparkpool",
              "session_id": "16",
              "statement_id": 110,
              "state": "finished",
              "livy_statement_state": "available",
              "queued_time": "2024-03-19T17:21:28.6913593Z",
              "session_start_time": null,
              "execution_start_time": "2024-03-19T17:21:28.817581Z",
              "execution_finish_time": "2024-03-19T17:21:28.9877015Z",
              "spark_jobs": null,
              "parent_msg_id": "0dc23cc2-873f-4625-bfe1-8b2c9b420b5d"
            },
            "text/plain": "StatementMeta(sparkpool, 16, 110, Finished, Available)"
          },
          "metadata": {}
        }
      ],
      "execution_count": 109,
      "metadata": {
        "jupyter": {
          "source_hidden": false,
          "outputs_hidden": false
        },
        "nteract": {
          "transient": {
            "deleting": false
          }
        }
      }
    },
    {
      "cell_type": "code",
      "source": [
        "schema[:10]"
      ],
      "outputs": [
        {
          "output_type": "display_data",
          "data": {
            "application/vnd.livy.statement-meta+json": {
              "spark_pool": "sparkpool",
              "session_id": "16",
              "statement_id": 111,
              "state": "finished",
              "livy_statement_state": "available",
              "queued_time": "2024-03-19T17:21:42.3133083Z",
              "session_start_time": null,
              "execution_start_time": "2024-03-19T17:21:42.439554Z",
              "execution_finish_time": "2024-03-19T17:21:42.615169Z",
              "spark_jobs": null,
              "parent_msg_id": "cb29982d-3d3f-4e81-b018-f6863f866576"
            },
            "text/plain": "StatementMeta(sparkpool, 16, 111, Finished, Available)"
          },
          "metadata": {}
        },
        {
          "output_type": "execute_result",
          "execution_count": 223,
          "data": {
            "text/plain": "StructType([StructField('delicious', FloatType(), False), StructField('friendly', FloatType(), False), StructField('recommend', FloatType(), False), StructField('fried', FloatType(), False), StructField('fresh', FloatType(), False), StructField('sweet', FloatType(), False), StructField('worth', FloatType(), False), StructField('hot', FloatType(), False), StructField('enjoy', FloatType(), False), StructField('beautiful', FloatType(), False)])"
          },
          "metadata": {}
        }
      ],
      "execution_count": 110,
      "metadata": {
        "jupyter": {
          "source_hidden": false,
          "outputs_hidden": false
        },
        "nteract": {
          "transient": {
            "deleting": false
          }
        }
      }
    },
    {
      "cell_type": "code",
      "source": [
        "matrix = spark.createDataFrame(c,schema = schema)"
      ],
      "outputs": [
        {
          "output_type": "display_data",
          "data": {
            "application/vnd.livy.statement-meta+json": {
              "spark_pool": "sparkpool",
              "session_id": "16",
              "statement_id": 112,
              "state": "finished",
              "livy_statement_state": "available",
              "queued_time": "2024-03-19T17:21:59.5561616Z",
              "session_start_time": null,
              "execution_start_time": "2024-03-19T17:21:59.6738649Z",
              "execution_finish_time": "2024-03-19T17:22:10.1924777Z",
              "spark_jobs": null,
              "parent_msg_id": "56ee48e2-06c5-4215-9e8a-09a4af9eec8f"
            },
            "text/plain": "StatementMeta(sparkpool, 16, 112, Finished, Available)"
          },
          "metadata": {}
        }
      ],
      "execution_count": 111,
      "metadata": {
        "jupyter": {
          "source_hidden": false,
          "outputs_hidden": false
        },
        "nteract": {
          "transient": {
            "deleting": false
          }
        }
      }
    },
    {
      "cell_type": "code",
      "source": [
        "matrix_pd = matrix.toPandas()"
      ],
      "outputs": [
        {
          "output_type": "display_data",
          "data": {
            "application/vnd.livy.statement-meta+json": {
              "spark_pool": "sparkpool",
              "session_id": "16",
              "statement_id": 114,
              "state": "finished",
              "livy_statement_state": "available",
              "queued_time": "2024-03-19T17:22:49.1120382Z",
              "session_start_time": null,
              "execution_start_time": "2024-03-19T17:22:49.2389641Z",
              "execution_finish_time": "2024-03-19T17:22:57.8175757Z",
              "spark_jobs": null,
              "parent_msg_id": "a1eea477-4e19-4195-a550-337228063bcd"
            },
            "text/plain": "StatementMeta(sparkpool, 16, 114, Finished, Available)"
          },
          "metadata": {}
        }
      ],
      "execution_count": 113,
      "metadata": {
        "jupyter": {
          "source_hidden": false,
          "outputs_hidden": false
        },
        "nteract": {
          "transient": {
            "deleting": false
          }
        }
      }
    },
    {
      "cell_type": "code",
      "source": [
        "matrix_pd.head(3)"
      ],
      "outputs": [
        {
          "output_type": "display_data",
          "data": {
            "application/vnd.livy.statement-meta+json": {
              "spark_pool": "sparkpool",
              "session_id": "16",
              "statement_id": 115,
              "state": "finished",
              "livy_statement_state": "available",
              "queued_time": "2024-03-19T17:22:56.3034297Z",
              "session_start_time": null,
              "execution_start_time": "2024-03-19T17:22:57.9456507Z",
              "execution_finish_time": "2024-03-19T17:22:58.1046488Z",
              "spark_jobs": null,
              "parent_msg_id": "d7396a62-7b40-4230-bf68-e7a5941cf8bf"
            },
            "text/plain": "StatementMeta(sparkpool, 16, 115, Finished, Available)"
          },
          "metadata": {}
        },
        {
          "output_type": "execute_result",
          "execution_count": 231,
          "data": {
            "text/plain": "   delicious  friendly  recommend  fried  fresh  sweet  worth  hot  enjoy  \\\n0        0.0       1.0        0.0    0.0    0.0    0.0    0.0  0.0    0.0   \n1        0.0       0.0        0.0    0.0    0.0    0.0    0.0  0.0    0.0   \n2        0.0       0.0        0.0    0.0    1.0    0.0    1.0  0.0    2.0   \n\n   beautiful  ...  whine  trusted  threats  starvation  shambles  viciously  \\\n0        0.0  ...    0.0      0.0      0.0         0.0       0.0        0.0   \n1        0.0  ...    0.0      0.0      0.0         0.0       0.0        0.0   \n2        1.0  ...    0.0      0.0      0.0         0.0       0.0        0.0   \n\n   favour  mirage  meltdown  haunt  \n0     0.0     0.0       0.0    0.0  \n1     0.0     0.0       0.0    0.0  \n2     0.0     0.0       0.0    0.0  \n\n[3 rows x 1973 columns]",
            "text/html": "<div>\n<style scoped>\n    .dataframe tbody tr th:only-of-type {\n        vertical-align: middle;\n    }\n\n    .dataframe tbody tr th {\n        vertical-align: top;\n    }\n\n    .dataframe thead th {\n        text-align: right;\n    }\n</style>\n<table border=\"1\" class=\"dataframe\">\n  <thead>\n    <tr style=\"text-align: right;\">\n      <th></th>\n      <th>delicious</th>\n      <th>friendly</th>\n      <th>recommend</th>\n      <th>fried</th>\n      <th>fresh</th>\n      <th>sweet</th>\n      <th>worth</th>\n      <th>hot</th>\n      <th>enjoy</th>\n      <th>beautiful</th>\n      <th>...</th>\n      <th>whine</th>\n      <th>trusted</th>\n      <th>threats</th>\n      <th>starvation</th>\n      <th>shambles</th>\n      <th>viciously</th>\n      <th>favour</th>\n      <th>mirage</th>\n      <th>meltdown</th>\n      <th>haunt</th>\n    </tr>\n  </thead>\n  <tbody>\n    <tr>\n      <th>0</th>\n      <td>0.0</td>\n      <td>1.0</td>\n      <td>0.0</td>\n      <td>0.0</td>\n      <td>0.0</td>\n      <td>0.0</td>\n      <td>0.0</td>\n      <td>0.0</td>\n      <td>0.0</td>\n      <td>0.0</td>\n      <td>...</td>\n      <td>0.0</td>\n      <td>0.0</td>\n      <td>0.0</td>\n      <td>0.0</td>\n      <td>0.0</td>\n      <td>0.0</td>\n      <td>0.0</td>\n      <td>0.0</td>\n      <td>0.0</td>\n      <td>0.0</td>\n    </tr>\n    <tr>\n      <th>1</th>\n      <td>0.0</td>\n      <td>0.0</td>\n      <td>0.0</td>\n      <td>0.0</td>\n      <td>0.0</td>\n      <td>0.0</td>\n      <td>0.0</td>\n      <td>0.0</td>\n      <td>0.0</td>\n      <td>0.0</td>\n      <td>...</td>\n      <td>0.0</td>\n      <td>0.0</td>\n      <td>0.0</td>\n      <td>0.0</td>\n      <td>0.0</td>\n      <td>0.0</td>\n      <td>0.0</td>\n      <td>0.0</td>\n      <td>0.0</td>\n      <td>0.0</td>\n    </tr>\n    <tr>\n      <th>2</th>\n      <td>0.0</td>\n      <td>0.0</td>\n      <td>0.0</td>\n      <td>0.0</td>\n      <td>1.0</td>\n      <td>0.0</td>\n      <td>1.0</td>\n      <td>0.0</td>\n      <td>2.0</td>\n      <td>1.0</td>\n      <td>...</td>\n      <td>0.0</td>\n      <td>0.0</td>\n      <td>0.0</td>\n      <td>0.0</td>\n      <td>0.0</td>\n      <td>0.0</td>\n      <td>0.0</td>\n      <td>0.0</td>\n      <td>0.0</td>\n      <td>0.0</td>\n    </tr>\n  </tbody>\n</table>\n<p>3 rows × 1973 columns</p>\n</div>"
          },
          "metadata": {}
        }
      ],
      "execution_count": 114,
      "metadata": {
        "jupyter": {
          "source_hidden": false,
          "outputs_hidden": false
        },
        "nteract": {
          "transient": {
            "deleting": false
          }
        }
      }
    },
    {
      "cell_type": "code",
      "source": [
        "frequency = matrix_pd.sum(axis = 0)"
      ],
      "outputs": [
        {
          "output_type": "display_data",
          "data": {
            "application/vnd.livy.statement-meta+json": {
              "spark_pool": "sparkpool",
              "session_id": "16",
              "statement_id": 122,
              "state": "finished",
              "livy_statement_state": "available",
              "queued_time": "2024-03-19T17:26:30.792102Z",
              "session_start_time": null,
              "execution_start_time": "2024-03-19T17:26:30.9141317Z",
              "execution_finish_time": "2024-03-19T17:26:31.0659258Z",
              "spark_jobs": null,
              "parent_msg_id": "2a8adadb-6395-4235-942e-d73356dd53a9"
            },
            "text/plain": "StatementMeta(sparkpool, 16, 122, Finished, Available)"
          },
          "metadata": {}
        }
      ],
      "execution_count": 121,
      "metadata": {
        "jupyter": {
          "source_hidden": false,
          "outputs_hidden": false
        },
        "nteract": {
          "transient": {
            "deleting": false
          }
        }
      }
    },
    {
      "cell_type": "code",
      "source": [
        "frequency"
      ],
      "outputs": [
        {
          "output_type": "display_data",
          "data": {
            "application/vnd.livy.statement-meta+json": {
              "spark_pool": "sparkpool",
              "session_id": "16",
              "statement_id": 123,
              "state": "finished",
              "livy_statement_state": "available",
              "queued_time": "2024-03-19T17:26:32.2391746Z",
              "session_start_time": null,
              "execution_start_time": "2024-03-19T17:26:32.3558797Z",
              "execution_finish_time": "2024-03-19T17:26:32.5022004Z",
              "spark_jobs": null,
              "parent_msg_id": "16192035-ca42-4ca3-bca6-4ce65406974b"
            },
            "text/plain": "StatementMeta(sparkpool, 16, 123, Finished, Available)"
          },
          "metadata": {}
        },
        {
          "output_type": "execute_result",
          "execution_count": 247,
          "data": {
            "text/plain": "delicious    1514.0\nfriendly      925.0\nrecommend     766.0\nfried         657.0\nfresh         592.0\n              ...  \nviciously       1.0\nfavour          1.0\nmirage          1.0\nmeltdown        1.0\nhaunt           1.0\nLength: 1973, dtype: float32"
          },
          "metadata": {}
        }
      ],
      "execution_count": 122,
      "metadata": {
        "jupyter": {
          "source_hidden": false,
          "outputs_hidden": false
        },
        "nteract": {
          "transient": {
            "deleting": false
          }
        }
      }
    },
    {
      "cell_type": "code",
      "source": [
        "freq_rdd = sc.parallelize(frequency)"
      ],
      "outputs": [
        {
          "output_type": "display_data",
          "data": {
            "application/vnd.livy.statement-meta+json": {
              "spark_pool": "sparkpool",
              "session_id": "16",
              "statement_id": 127,
              "state": "finished",
              "livy_statement_state": "available",
              "queued_time": "2024-03-19T17:28:56.0877343Z",
              "session_start_time": null,
              "execution_start_time": "2024-03-19T17:28:56.2470596Z",
              "execution_finish_time": "2024-03-19T17:28:56.3995025Z",
              "spark_jobs": null,
              "parent_msg_id": "b8f75e94-f20c-4217-9f47-5724e7897abc"
            },
            "text/plain": "StatementMeta(sparkpool, 16, 127, Finished, Available)"
          },
          "metadata": {}
        }
      ],
      "execution_count": 126,
      "metadata": {
        "jupyter": {
          "source_hidden": false,
          "outputs_hidden": false
        },
        "nteract": {
          "transient": {
            "deleting": false
          }
        }
      }
    },
    {
      "cell_type": "code",
      "source": [
        "freq = freq_rdd.collect()"
      ],
      "outputs": [
        {
          "output_type": "display_data",
          "data": {
            "application/vnd.livy.statement-meta+json": {
              "spark_pool": "sparkpool",
              "session_id": "16",
              "statement_id": 133,
              "state": "finished",
              "livy_statement_state": "available",
              "queued_time": "2024-03-19T17:38:58.2219969Z",
              "session_start_time": null,
              "execution_start_time": "2024-03-19T17:38:58.3545601Z",
              "execution_finish_time": "2024-03-19T17:38:58.4978651Z",
              "spark_jobs": null,
              "parent_msg_id": "92c5f853-6437-49e1-90b8-753df67a5e26"
            },
            "text/plain": "StatementMeta(sparkpool, 16, 133, Finished, Available)"
          },
          "metadata": {}
        }
      ],
      "execution_count": 132,
      "metadata": {
        "jupyter": {
          "source_hidden": false,
          "outputs_hidden": false
        },
        "nteract": {
          "transient": {
            "deleting": false
          }
        }
      }
    },
    {
      "cell_type": "code",
      "source": [
        "display(freq[:10])\r\n",
        "type(freq)"
      ],
      "outputs": [
        {
          "output_type": "display_data",
          "data": {
            "application/vnd.livy.statement-meta+json": {
              "spark_pool": "sparkpool",
              "session_id": "16",
              "statement_id": 134,
              "state": "finished",
              "livy_statement_state": "available",
              "queued_time": "2024-03-19T17:39:17.6842976Z",
              "session_start_time": null,
              "execution_start_time": "2024-03-19T17:39:17.8088356Z",
              "execution_finish_time": "2024-03-19T17:39:17.9598653Z",
              "spark_jobs": null,
              "parent_msg_id": "05b1e345-29c6-4f14-b3dd-25cb06702b27"
            },
            "text/plain": "StatementMeta(sparkpool, 16, 134, Finished, Available)"
          },
          "metadata": {}
        },
        {
          "output_type": "display_data",
          "data": {
            "text/plain": "[1514.0, 925.0, 766.0, 657.0, 592.0, 501.0, 454.0, 446.0, 296.0, 295.0]"
          },
          "metadata": {}
        },
        {
          "output_type": "execute_result",
          "execution_count": 269,
          "data": {
            "text/plain": "list"
          },
          "metadata": {}
        }
      ],
      "execution_count": 133,
      "metadata": {
        "jupyter": {
          "source_hidden": false,
          "outputs_hidden": false
        },
        "nteract": {
          "transient": {
            "deleting": false
          }
        }
      }
    },
    {
      "cell_type": "code",
      "source": [
        "word_coeff_freq = [(i,j,k) for (i,j,k) in zip(vocab,coeff,freq)]"
      ],
      "outputs": [
        {
          "output_type": "display_data",
          "data": {
            "application/vnd.livy.statement-meta+json": {
              "spark_pool": "sparkpool",
              "session_id": "16",
              "statement_id": 135,
              "state": "finished",
              "livy_statement_state": "available",
              "queued_time": "2024-03-19T17:40:34.3683021Z",
              "session_start_time": null,
              "execution_start_time": "2024-03-19T17:40:34.5044666Z",
              "execution_finish_time": "2024-03-19T17:40:34.6598039Z",
              "spark_jobs": null,
              "parent_msg_id": "d3dfbe96-87d5-49b1-bcfe-cb582edb4707"
            },
            "text/plain": "StatementMeta(sparkpool, 16, 135, Finished, Available)"
          },
          "metadata": {}
        }
      ],
      "execution_count": 134,
      "metadata": {
        "jupyter": {
          "source_hidden": false,
          "outputs_hidden": false
        },
        "nteract": {
          "transient": {
            "deleting": false
          }
        }
      }
    },
    {
      "cell_type": "code",
      "source": [
        "word_coeff_freq[:10]"
      ],
      "outputs": [
        {
          "output_type": "display_data",
          "data": {
            "application/vnd.livy.statement-meta+json": {
              "spark_pool": "sparkpool",
              "session_id": "16",
              "statement_id": 136,
              "state": "finished",
              "livy_statement_state": "available",
              "queued_time": "2024-03-19T17:40:42.2656802Z",
              "session_start_time": null,
              "execution_start_time": "2024-03-19T17:40:42.3836514Z",
              "execution_finish_time": "2024-03-19T17:40:42.5382214Z",
              "spark_jobs": null,
              "parent_msg_id": "008be23e-a882-4906-b34f-6e22eacb3054"
            },
            "text/plain": "StatementMeta(sparkpool, 16, 136, Finished, Available)"
          },
          "metadata": {}
        },
        {
          "output_type": "execute_result",
          "execution_count": 273,
          "data": {
            "text/plain": "[('delicious', 3.5142131495857862, 1514.0),\n ('friendly', 1.6145403133077412, 925.0),\n ('recommend', 1.1109860864548948, 766.0),\n ('fried', 0.15765733354170938, 657.0),\n ('fresh', 0.6378908148979348, 592.0),\n ('sweet', 0.6598956827227213, 501.0),\n ('worth', 0.4010368794016506, 454.0),\n ('hot', 0.8482240461514386, 446.0),\n ('enjoy', -0.38347548657368236, 296.0),\n ('beautiful', 0.028192397027727568, 295.0)]"
          },
          "metadata": {}
        }
      ],
      "execution_count": 135,
      "metadata": {
        "jupyter": {
          "source_hidden": false,
          "outputs_hidden": false
        },
        "nteract": {
          "transient": {
            "deleting": false
          }
        }
      }
    },
    {
      "cell_type": "code",
      "source": [
        "word_coeff_freq_df = spark.createDataFrame(word_coeff_freq, ['word','coeff','freq'])"
      ],
      "outputs": [
        {
          "output_type": "display_data",
          "data": {
            "application/vnd.livy.statement-meta+json": {
              "spark_pool": "sparkpool",
              "session_id": "16",
              "statement_id": 137,
              "state": "finished",
              "livy_statement_state": "available",
              "queued_time": "2024-03-19T17:41:15.3358275Z",
              "session_start_time": null,
              "execution_start_time": "2024-03-19T17:41:15.4723838Z",
              "execution_finish_time": "2024-03-19T17:41:15.6272888Z",
              "spark_jobs": null,
              "parent_msg_id": "29f82760-54f1-4848-9317-e46d848004b4"
            },
            "text/plain": "StatementMeta(sparkpool, 16, 137, Finished, Available)"
          },
          "metadata": {}
        }
      ],
      "execution_count": 136,
      "metadata": {
        "jupyter": {
          "source_hidden": false,
          "outputs_hidden": false
        },
        "nteract": {
          "transient": {
            "deleting": false
          }
        }
      }
    },
    {
      "cell_type": "code",
      "source": [
        "word_coeff_freq_df.show(10)"
      ],
      "outputs": [
        {
          "output_type": "display_data",
          "data": {
            "application/vnd.livy.statement-meta+json": {
              "spark_pool": "sparkpool",
              "session_id": "16",
              "statement_id": 138,
              "state": "finished",
              "livy_statement_state": "available",
              "queued_time": "2024-03-19T17:41:26.4400149Z",
              "session_start_time": null,
              "execution_start_time": "2024-03-19T17:41:26.55884Z",
              "execution_finish_time": "2024-03-19T17:41:27.0722157Z",
              "spark_jobs": null,
              "parent_msg_id": "d25878d8-551d-41a3-b9ee-bda718a2d9f3"
            },
            "text/plain": "StatementMeta(sparkpool, 16, 138, Finished, Available)"
          },
          "metadata": {}
        },
        {
          "output_type": "stream",
          "name": "stdout",
          "text": [
            "+---------+--------------------+------+\n|     word|               coeff|  freq|\n+---------+--------------------+------+\n|delicious|  3.5142131495857862|1514.0|\n| friendly|  1.6145403133077412| 925.0|\n|recommend|  1.1109860864548948| 766.0|\n|    fried| 0.15765733354170938| 657.0|\n|    fresh|  0.6378908148979348| 592.0|\n|    sweet|  0.6598956827227213| 501.0|\n|    worth|  0.4010368794016506| 454.0|\n|      hot|  0.8482240461514386| 446.0|\n|    enjoy|-0.38347548657368236| 296.0|\n|beautiful|0.028192397027727568| 295.0|\n+---------+--------------------+------+\nonly showing top 10 rows\n\n"
          ]
        }
      ],
      "execution_count": 137,
      "metadata": {
        "jupyter": {
          "source_hidden": false,
          "outputs_hidden": false
        },
        "nteract": {
          "transient": {
            "deleting": false
          }
        }
      }
    },
    {
      "cell_type": "code",
      "source": [
        "n = matrix.count()"
      ],
      "outputs": [
        {
          "output_type": "display_data",
          "data": {
            "application/vnd.livy.statement-meta+json": {
              "spark_pool": "sparkpool",
              "session_id": "16",
              "statement_id": 148,
              "state": "finished",
              "livy_statement_state": "available",
              "queued_time": "2024-03-19T17:50:48.8938613Z",
              "session_start_time": null,
              "execution_start_time": "2024-03-19T17:50:49.0096723Z",
              "execution_finish_time": "2024-03-19T17:50:52.9359247Z",
              "spark_jobs": null,
              "parent_msg_id": "aaa76962-9f46-4571-882a-7ac4d2ddcdd3"
            },
            "text/plain": "StatementMeta(sparkpool, 16, 148, Finished, Available)"
          },
          "metadata": {}
        }
      ],
      "execution_count": 147,
      "metadata": {
        "jupyter": {
          "source_hidden": false,
          "outputs_hidden": false
        },
        "nteract": {
          "transient": {
            "deleting": false
          }
        }
      }
    },
    {
      "cell_type": "code",
      "source": [
        "African_master_df = word_coeff_freq_df.withColumn('polarity', col('coeff') * col('freq') / n)"
      ],
      "outputs": [
        {
          "output_type": "display_data",
          "data": {
            "application/vnd.livy.statement-meta+json": {
              "spark_pool": "sparkpool",
              "session_id": "16",
              "statement_id": 149,
              "state": "finished",
              "livy_statement_state": "available",
              "queued_time": "2024-03-19T17:50:59.4846566Z",
              "session_start_time": null,
              "execution_start_time": "2024-03-19T17:50:59.5966652Z",
              "execution_finish_time": "2024-03-19T17:50:59.7486474Z",
              "spark_jobs": null,
              "parent_msg_id": "22c4e3c3-f072-4622-8460-b68dd2c99015"
            },
            "text/plain": "StatementMeta(sparkpool, 16, 149, Finished, Available)"
          },
          "metadata": {}
        }
      ],
      "execution_count": 148,
      "metadata": {
        "jupyter": {
          "source_hidden": false,
          "outputs_hidden": false
        },
        "nteract": {
          "transient": {
            "deleting": false
          }
        }
      }
    },
    {
      "cell_type": "code",
      "source": [
        "African_master_df.sort('polarity',ascending = True).show(10)"
      ],
      "outputs": [
        {
          "output_type": "display_data",
          "data": {
            "application/vnd.livy.statement-meta+json": {
              "spark_pool": "sparkpool",
              "session_id": "16",
              "statement_id": 153,
              "state": "finished",
              "livy_statement_state": "available",
              "queued_time": "2024-03-19T17:52:15.0764104Z",
              "session_start_time": null,
              "execution_start_time": "2024-03-19T17:52:16.133052Z",
              "execution_finish_time": "2024-03-19T17:52:16.6535733Z",
              "spark_jobs": null,
              "parent_msg_id": "936a74a1-f92a-4dbc-ba77-0ea95c312aab"
            },
            "text/plain": "StatementMeta(sparkpool, 16, 153, Finished, Available)"
          },
          "metadata": {}
        },
        {
          "output_type": "stream",
          "name": "stdout",
          "text": [
            "+----------+-------------------+-----+--------------------+\n|      word|              coeff| freq|            polarity|\n+----------+-------------------+-----+--------------------+\n|disgusting| -18.44232885431427| 52.0|-0.15555573405098816|\n|     worse|-15.350032167926164| 51.0|-0.12698323447919455|\n|     gross|-18.299362432783834| 42.0|-0.12466718932310154|\n|    refund|-30.264265606858057| 23.0|-0.11290804687067889|\n|ridiculous|-21.297797546546924| 32.0|-0.11054817866820787|\n|     trash|-17.522439260009563| 34.0|-0.09663632357507301|\n|      hell| -23.55126254741446| 24.0| -0.0916837471432193|\n|      cold|-2.1202958246952326|263.0|-0.09045219819867739|\n|      poor| -6.326108253147369| 87.0|-0.08927354712470739|\n|      rude| -4.223422464588291|125.0|-0.08563305889270661|\n+----------+-------------------+-----+--------------------+\nonly showing top 10 rows\n\n"
          ]
        }
      ],
      "execution_count": 152,
      "metadata": {
        "jupyter": {
          "source_hidden": false,
          "outputs_hidden": false
        },
        "nteract": {
          "transient": {
            "deleting": false
          }
        }
      }
    },
    {
      "cell_type": "code",
      "source": [
        "African_master_df.sort('polarity',ascending = False).show(10)"
      ],
      "outputs": [
        {
          "output_type": "display_data",
          "data": {
            "application/vnd.livy.statement-meta+json": {
              "spark_pool": "sparkpool",
              "session_id": "16",
              "statement_id": 154,
              "state": "finished",
              "livy_statement_state": "available",
              "queued_time": "2024-03-19T17:52:51.6627882Z",
              "session_start_time": null,
              "execution_start_time": "2024-03-19T17:52:51.7777079Z",
              "execution_finish_time": "2024-03-19T17:52:52.3036886Z",
              "spark_jobs": null,
              "parent_msg_id": "3349260f-d50d-47ec-90d5-800c3c144903"
            },
            "text/plain": "StatementMeta(sparkpool, 16, 154, Finished, Available)"
          },
          "metadata": {}
        },
        {
          "output_type": "stream",
          "name": "stdout",
          "text": [
            "+-----------+------------------+------+-------------------+\n|       word|             coeff|  freq|           polarity|\n+-----------+------------------+------+-------------------+\n|  delicious|3.5142131495857862|1514.0| 0.8630200662567528|\n|   friendly|1.6145403133077412| 925.0|  0.242246519028331|\n| phenomenal|14.140373647346719|  79.0|0.18119862419146646|\n|   romantic|34.296216047190484|  26.0| 0.1446393539703086|\n|  recommend|1.1109860864548948| 766.0|  0.138039795981257|\n|   enjoying|14.766156268565892|  51.0|0.12215311755018012|\n|outstanding| 8.706570101615911|  84.0|0.11862966561812434|\n| perfection|  7.13990960547127|  95.0| 0.1100229379594113|\n| delightful|14.429629095083811|  45.0|   0.10532575981813|\n|   generous|5.3207318962317505| 112.0|0.09666212041815994|\n+-----------+------------------+------+-------------------+\nonly showing top 10 rows\n\n"
          ]
        }
      ],
      "execution_count": 153,
      "metadata": {
        "jupyter": {
          "source_hidden": false,
          "outputs_hidden": false
        },
        "nteract": {
          "transient": {
            "deleting": false
          }
        }
      }
    },
    {
      "cell_type": "code",
      "source": [
        "## get frequency of each word in all reviews in specific category\n",
        "Korean_reviews = pd.DataFrame(\n",
        "    vectorizer_model.toarray(), columns=vectorizer.get_feature_names()\n",
        ")\n",
        "Korean_reviews[\"labels\"] = class_train\n",
        "Korean_frequency = Korean_reviews[Korean_reviews[\"labels\"] == \"negative\"].sum()[:-1]"
      ],
      "outputs": [
        {
          "output_type": "display_data",
          "data": {
            "application/vnd.livy.statement-meta+json": {
              "execution_finish_time": "2023-09-20T20:44:10.6183143Z",
              "execution_start_time": "2023-09-20T20:44:10.4423873Z",
              "livy_statement_state": "available",
              "parent_msg_id": "77dc6b9d-8e83-4fdf-95b8-491cae7c3bda",
              "queued_time": "2023-09-20T20:44:10.2567248Z",
              "session_id": "33",
              "session_start_time": null,
              "spark_jobs": null,
              "spark_pool": "sparkpvikeur",
              "state": "finished",
              "statement_id": 80
            },
            "text/plain": "StatementMeta(sparkpvikeur, 33, 80, Finished, Available)"
          },
          "metadata": {}
        }
      ],
      "execution_count": 79,
      "metadata": {
        "jupyter": {
          "outputs_hidden": false,
          "source_hidden": false
        },
        "nteract": {
          "transient": {
            "deleting": false
          }
        },
        "collapsed": false
      }
    },
    {
      "cell_type": "code",
      "source": [
        "Korean_reviews"
      ],
      "outputs": [
        {
          "output_type": "display_data",
          "data": {
            "application/vnd.livy.statement-meta+json": {
              "execution_finish_time": "2023-09-20T20:10:15.463978Z",
              "execution_start_time": "2023-09-20T20:10:15.2832038Z",
              "livy_statement_state": "available",
              "parent_msg_id": "38514a03-c4a2-46e5-8033-26d2b313fa6d",
              "queued_time": "2023-09-20T20:03:47.5116662Z",
              "session_id": "33",
              "session_start_time": null,
              "spark_jobs": null,
              "spark_pool": "sparkpvikeur",
              "state": "finished",
              "statement_id": 53
            },
            "text/plain": "StatementMeta(sparkpvikeur, 33, 53, Finished, Available)"
          },
          "metadata": {}
        },
        {
          "output_type": "execute_result",
          "execution_count": 107,
          "data": {
            "text/html": "<div>\n<style scoped>\n    .dataframe tbody tr th:only-of-type {\n        vertical-align: middle;\n    }\n\n    .dataframe tbody tr th {\n        vertical-align: top;\n    }\n\n    .dataframe thead th {\n        text-align: right;\n    }\n</style>\n<table border=\"1\" class=\"dataframe\">\n  <thead>\n    <tr style=\"text-align: right;\">\n      <th></th>\n      <th>abnormal</th>\n      <th>abominable</th>\n      <th>abomination</th>\n      <th>abound</th>\n      <th>abounds</th>\n      <th>abrupt</th>\n      <th>abruptly</th>\n      <th>absence</th>\n      <th>absurd</th>\n      <th>absurdity</th>\n      <th>...</th>\n      <th>wretched</th>\n      <th>wrinkles</th>\n      <th>wrong</th>\n      <th>wrongly</th>\n      <th>yawn</th>\n      <th>yay</th>\n      <th>youthful</th>\n      <th>zest</th>\n      <th>zombie</th>\n      <th>labels</th>\n    </tr>\n  </thead>\n  <tbody>\n    <tr>\n      <th>0</th>\n      <td>0</td>\n      <td>0</td>\n      <td>0</td>\n      <td>0</td>\n      <td>0</td>\n      <td>0</td>\n      <td>0</td>\n      <td>0</td>\n      <td>1</td>\n      <td>0</td>\n      <td>...</td>\n      <td>0</td>\n      <td>0</td>\n      <td>0</td>\n      <td>0</td>\n      <td>0</td>\n      <td>0</td>\n      <td>0</td>\n      <td>0</td>\n      <td>0</td>\n      <td>positive</td>\n    </tr>\n    <tr>\n      <th>1</th>\n      <td>0</td>\n      <td>0</td>\n      <td>0</td>\n      <td>0</td>\n      <td>0</td>\n      <td>0</td>\n      <td>0</td>\n      <td>0</td>\n      <td>0</td>\n      <td>0</td>\n      <td>...</td>\n      <td>0</td>\n      <td>0</td>\n      <td>0</td>\n      <td>0</td>\n      <td>0</td>\n      <td>0</td>\n      <td>0</td>\n      <td>0</td>\n      <td>0</td>\n      <td>positive</td>\n    </tr>\n    <tr>\n      <th>2</th>\n      <td>0</td>\n      <td>0</td>\n      <td>0</td>\n      <td>0</td>\n      <td>0</td>\n      <td>0</td>\n      <td>0</td>\n      <td>0</td>\n      <td>0</td>\n      <td>0</td>\n      <td>...</td>\n      <td>0</td>\n      <td>0</td>\n      <td>0</td>\n      <td>0</td>\n      <td>0</td>\n      <td>0</td>\n      <td>0</td>\n      <td>0</td>\n      <td>0</td>\n      <td>positive</td>\n    </tr>\n    <tr>\n      <th>3</th>\n      <td>0</td>\n      <td>0</td>\n      <td>0</td>\n      <td>0</td>\n      <td>0</td>\n      <td>0</td>\n      <td>0</td>\n      <td>0</td>\n      <td>0</td>\n      <td>0</td>\n      <td>...</td>\n      <td>0</td>\n      <td>0</td>\n      <td>0</td>\n      <td>0</td>\n      <td>0</td>\n      <td>0</td>\n      <td>0</td>\n      <td>0</td>\n      <td>0</td>\n      <td>positive</td>\n    </tr>\n    <tr>\n      <th>4</th>\n      <td>0</td>\n      <td>0</td>\n      <td>0</td>\n      <td>0</td>\n      <td>0</td>\n      <td>0</td>\n      <td>0</td>\n      <td>0</td>\n      <td>0</td>\n      <td>0</td>\n      <td>...</td>\n      <td>0</td>\n      <td>0</td>\n      <td>0</td>\n      <td>0</td>\n      <td>0</td>\n      <td>0</td>\n      <td>0</td>\n      <td>0</td>\n      <td>0</td>\n      <td>positive</td>\n    </tr>\n    <tr>\n      <th>...</th>\n      <td>...</td>\n      <td>...</td>\n      <td>...</td>\n      <td>...</td>\n      <td>...</td>\n      <td>...</td>\n      <td>...</td>\n      <td>...</td>\n      <td>...</td>\n      <td>...</td>\n      <td>...</td>\n      <td>...</td>\n      <td>...</td>\n      <td>...</td>\n      <td>...</td>\n      <td>...</td>\n      <td>...</td>\n      <td>...</td>\n      <td>...</td>\n      <td>...</td>\n      <td>...</td>\n    </tr>\n    <tr>\n      <th>24020</th>\n      <td>0</td>\n      <td>0</td>\n      <td>0</td>\n      <td>0</td>\n      <td>0</td>\n      <td>0</td>\n      <td>0</td>\n      <td>0</td>\n      <td>0</td>\n      <td>0</td>\n      <td>...</td>\n      <td>0</td>\n      <td>0</td>\n      <td>0</td>\n      <td>0</td>\n      <td>0</td>\n      <td>0</td>\n      <td>0</td>\n      <td>0</td>\n      <td>0</td>\n      <td>negative</td>\n    </tr>\n    <tr>\n      <th>24021</th>\n      <td>0</td>\n      <td>0</td>\n      <td>0</td>\n      <td>0</td>\n      <td>0</td>\n      <td>0</td>\n      <td>0</td>\n      <td>0</td>\n      <td>0</td>\n      <td>0</td>\n      <td>...</td>\n      <td>0</td>\n      <td>0</td>\n      <td>0</td>\n      <td>0</td>\n      <td>0</td>\n      <td>0</td>\n      <td>0</td>\n      <td>0</td>\n      <td>0</td>\n      <td>positive</td>\n    </tr>\n    <tr>\n      <th>24022</th>\n      <td>0</td>\n      <td>0</td>\n      <td>0</td>\n      <td>0</td>\n      <td>0</td>\n      <td>0</td>\n      <td>0</td>\n      <td>0</td>\n      <td>0</td>\n      <td>0</td>\n      <td>...</td>\n      <td>0</td>\n      <td>0</td>\n      <td>0</td>\n      <td>0</td>\n      <td>0</td>\n      <td>0</td>\n      <td>0</td>\n      <td>0</td>\n      <td>0</td>\n      <td>positive</td>\n    </tr>\n    <tr>\n      <th>24023</th>\n      <td>0</td>\n      <td>0</td>\n      <td>0</td>\n      <td>0</td>\n      <td>0</td>\n      <td>0</td>\n      <td>0</td>\n      <td>0</td>\n      <td>0</td>\n      <td>0</td>\n      <td>...</td>\n      <td>0</td>\n      <td>0</td>\n      <td>1</td>\n      <td>0</td>\n      <td>0</td>\n      <td>0</td>\n      <td>0</td>\n      <td>0</td>\n      <td>0</td>\n      <td>positive</td>\n    </tr>\n    <tr>\n      <th>24024</th>\n      <td>0</td>\n      <td>0</td>\n      <td>0</td>\n      <td>0</td>\n      <td>0</td>\n      <td>0</td>\n      <td>0</td>\n      <td>0</td>\n      <td>0</td>\n      <td>0</td>\n      <td>...</td>\n      <td>0</td>\n      <td>0</td>\n      <td>0</td>\n      <td>0</td>\n      <td>0</td>\n      <td>0</td>\n      <td>0</td>\n      <td>0</td>\n      <td>0</td>\n      <td>positive</td>\n    </tr>\n  </tbody>\n</table>\n<p>24025 rows × 2962 columns</p>\n</div>",
            "text/plain": "       abnormal  abominable  abomination  abound  abounds  abrupt  abruptly  \\\n0             0           0            0       0        0       0         0   \n1             0           0            0       0        0       0         0   \n2             0           0            0       0        0       0         0   \n3             0           0            0       0        0       0         0   \n4             0           0            0       0        0       0         0   \n...         ...         ...          ...     ...      ...     ...       ...   \n24020         0           0            0       0        0       0         0   \n24021         0           0            0       0        0       0         0   \n24022         0           0            0       0        0       0         0   \n24023         0           0            0       0        0       0         0   \n24024         0           0            0       0        0       0         0   \n\n       absence  absurd  absurdity  ...  wretched  wrinkles  wrong  wrongly  \\\n0            0       1          0  ...         0         0      0        0   \n1            0       0          0  ...         0         0      0        0   \n2            0       0          0  ...         0         0      0        0   \n3            0       0          0  ...         0         0      0        0   \n4            0       0          0  ...         0         0      0        0   \n...        ...     ...        ...  ...       ...       ...    ...      ...   \n24020        0       0          0  ...         0         0      0        0   \n24021        0       0          0  ...         0         0      0        0   \n24022        0       0          0  ...         0         0      0        0   \n24023        0       0          0  ...         0         0      1        0   \n24024        0       0          0  ...         0         0      0        0   \n\n       yawn  yay  youthful  zest  zombie    labels  \n0         0    0         0     0       0  positive  \n1         0    0         0     0       0  positive  \n2         0    0         0     0       0  positive  \n3         0    0         0     0       0  positive  \n4         0    0         0     0       0  positive  \n...     ...  ...       ...   ...     ...       ...  \n24020     0    0         0     0       0  negative  \n24021     0    0         0     0       0  positive  \n24022     0    0         0     0       0  positive  \n24023     0    0         0     0       0  positive  \n24024     0    0         0     0       0  positive  \n\n[24025 rows x 2962 columns]"
          },
          "metadata": {}
        }
      ],
      "execution_count": 52,
      "metadata": {
        "jupyter": {
          "outputs_hidden": false,
          "source_hidden": false
        },
        "nteract": {
          "transient": {
            "deleting": false
          }
        },
        "collapsed": false
      }
    },
    {
      "cell_type": "code",
      "source": [
        "Korean_words_score.set_index(\"word\", inplace=True)"
      ],
      "outputs": [
        {
          "output_type": "display_data",
          "data": {
            "application/vnd.livy.statement-meta+json": {
              "execution_finish_time": "2023-09-20T20:10:15.8079428Z",
              "execution_start_time": "2023-09-20T20:10:15.6321934Z",
              "livy_statement_state": "available",
              "parent_msg_id": "1b4fe9f5-0657-4fcd-b67f-06943d314ff0",
              "queued_time": "2023-09-20T20:03:47.7223805Z",
              "session_id": "33",
              "session_start_time": null,
              "spark_jobs": null,
              "spark_pool": "sparkpvikeur",
              "state": "finished",
              "statement_id": 54
            },
            "text/plain": "StatementMeta(sparkpvikeur, 33, 54, Finished, Available)"
          },
          "metadata": {}
        }
      ],
      "execution_count": 53,
      "metadata": {
        "jupyter": {
          "outputs_hidden": false,
          "source_hidden": false
        },
        "nteract": {
          "transient": {
            "deleting": false
          }
        },
        "collapsed": false
      }
    },
    {
      "cell_type": "code",
      "source": [
        "Korean_polarity_score = Korean_words_score\n",
        "Korean_polarity_score[\"frequency\"] = Korean_frequency"
      ],
      "outputs": [
        {
          "output_type": "display_data",
          "data": {
            "application/vnd.livy.statement-meta+json": {
              "execution_finish_time": "2023-09-20T20:44:19.6961155Z",
              "execution_start_time": "2023-09-20T20:44:19.4784553Z",
              "livy_statement_state": "available",
              "parent_msg_id": "ed778abf-2378-460b-92cc-d724e6d8b564",
              "queued_time": "2023-09-20T20:44:19.3010931Z",
              "session_id": "33",
              "session_start_time": null,
              "spark_jobs": null,
              "spark_pool": "sparkpvikeur",
              "state": "finished",
              "statement_id": 81
            },
            "text/plain": "StatementMeta(sparkpvikeur, 33, 81, Finished, Available)"
          },
          "metadata": {}
        }
      ],
      "execution_count": 80,
      "metadata": {
        "jupyter": {
          "outputs_hidden": false,
          "source_hidden": false
        },
        "nteract": {
          "transient": {
            "deleting": false
          }
        },
        "collapsed": false
      }
    },
    {
      "cell_type": "code",
      "source": [
        "print(Korean_polarity_score)"
      ],
      "outputs": [
        {
          "output_type": "display_data",
          "data": {
            "application/vnd.livy.statement-meta+json": {
              "execution_finish_time": "2023-09-20T20:10:16.5591092Z",
              "execution_start_time": "2023-09-20T20:10:16.385475Z",
              "livy_statement_state": "available",
              "parent_msg_id": "d92e3d50-830b-45e0-af86-9b2fd75587ab",
              "queued_time": "2023-09-20T20:03:48.122573Z",
              "session_id": "33",
              "session_start_time": null,
              "spark_jobs": null,
              "spark_pool": "sparkpvikeur",
              "state": "finished",
              "statement_id": 56
            },
            "text/plain": "StatementMeta(sparkpvikeur, 33, 56, Finished, Available)"
          },
          "metadata": {}
        },
        {
          "output_type": "stream",
          "name": "stdout",
          "text": [
            "                    score frequency\nword                               \nabnormal     0.000000e+00         3\nabominable   0.000000e+00         1\nabomination  0.000000e+00         0\nabound       5.204170e-18         3\nabounds      0.000000e+00         1\n...                   ...       ...\nyawn        -4.456437e-01         1\nyay          1.204412e+00        51\nyouthful     0.000000e+00         2\nzest         3.664487e-01         3\nzombie       4.383998e-02         4\n\n[2961 rows x 2 columns]\n"
          ]
        }
      ],
      "execution_count": 55,
      "metadata": {
        "jupyter": {
          "outputs_hidden": false,
          "source_hidden": false
        },
        "nteract": {
          "transient": {
            "deleting": false
          }
        },
        "collapsed": false
      }
    },
    {
      "cell_type": "code",
      "source": [
        "## calculate polarity score\n",
        "Korean_polarity_score[\"polarity\"] = (\n",
        "    Korean_polarity_score.score\n",
        "    * Korean_polarity_score.frequency\n",
        "    / Korean_reviews.shape[0]\n",
        ")"
      ],
      "outputs": [
        {
          "output_type": "display_data",
          "data": {
            "application/vnd.livy.statement-meta+json": {
              "execution_finish_time": "2023-09-20T20:44:26.0422832Z",
              "execution_start_time": "2023-09-20T20:44:25.86701Z",
              "livy_statement_state": "available",
              "parent_msg_id": "5fa6f816-4b51-40db-9f71-757fdde6d12c",
              "queued_time": "2023-09-20T20:44:25.7143253Z",
              "session_id": "33",
              "session_start_time": null,
              "spark_jobs": null,
              "spark_pool": "sparkpvikeur",
              "state": "finished",
              "statement_id": 82
            },
            "text/plain": "StatementMeta(sparkpvikeur, 33, 82, Finished, Available)"
          },
          "metadata": {}
        }
      ],
      "execution_count": 81,
      "metadata": {
        "jupyter": {
          "outputs_hidden": false,
          "source_hidden": false
        },
        "nteract": {
          "transient": {
            "deleting": false
          }
        },
        "collapsed": false
      }
    },
    {
      "cell_type": "code",
      "source": [
        "Korean_polarity_score"
      ],
      "outputs": [
        {
          "output_type": "display_data",
          "data": {
            "application/vnd.livy.statement-meta+json": {
              "execution_finish_time": "2023-09-20T20:10:17.249692Z",
              "execution_start_time": "2023-09-20T20:10:17.0727158Z",
              "livy_statement_state": "available",
              "parent_msg_id": "ac8d1e71-5393-4f3b-81fd-000b7e65ed40",
              "queued_time": "2023-09-20T20:03:48.5726228Z",
              "session_id": "33",
              "session_start_time": null,
              "spark_jobs": null,
              "spark_pool": "sparkpvikeur",
              "state": "finished",
              "statement_id": 58
            },
            "text/plain": "StatementMeta(sparkpvikeur, 33, 58, Finished, Available)"
          },
          "metadata": {}
        },
        {
          "output_type": "execute_result",
          "execution_count": 117,
          "data": {
            "text/html": "<div>\n<style scoped>\n    .dataframe tbody tr th:only-of-type {\n        vertical-align: middle;\n    }\n\n    .dataframe tbody tr th {\n        vertical-align: top;\n    }\n\n    .dataframe thead th {\n        text-align: right;\n    }\n</style>\n<table border=\"1\" class=\"dataframe\">\n  <thead>\n    <tr style=\"text-align: right;\">\n      <th></th>\n      <th>score</th>\n      <th>frequency</th>\n      <th>polarity</th>\n    </tr>\n    <tr>\n      <th>word</th>\n      <th></th>\n      <th></th>\n      <th></th>\n    </tr>\n  </thead>\n  <tbody>\n    <tr>\n      <th>abnormal</th>\n      <td>0.000000e+00</td>\n      <td>3</td>\n      <td>0.0</td>\n    </tr>\n    <tr>\n      <th>abominable</th>\n      <td>0.000000e+00</td>\n      <td>1</td>\n      <td>0.0</td>\n    </tr>\n    <tr>\n      <th>abomination</th>\n      <td>0.000000e+00</td>\n      <td>0</td>\n      <td>0.0</td>\n    </tr>\n    <tr>\n      <th>abound</th>\n      <td>5.204170e-18</td>\n      <td>3</td>\n      <td>0.0</td>\n    </tr>\n    <tr>\n      <th>abounds</th>\n      <td>0.000000e+00</td>\n      <td>1</td>\n      <td>0.0</td>\n    </tr>\n    <tr>\n      <th>...</th>\n      <td>...</td>\n      <td>...</td>\n      <td>...</td>\n    </tr>\n    <tr>\n      <th>yawn</th>\n      <td>-4.456437e-01</td>\n      <td>1</td>\n      <td>-0.000019</td>\n    </tr>\n    <tr>\n      <th>yay</th>\n      <td>1.204412e+00</td>\n      <td>51</td>\n      <td>0.002557</td>\n    </tr>\n    <tr>\n      <th>youthful</th>\n      <td>0.000000e+00</td>\n      <td>2</td>\n      <td>0.0</td>\n    </tr>\n    <tr>\n      <th>zest</th>\n      <td>3.664487e-01</td>\n      <td>3</td>\n      <td>0.000046</td>\n    </tr>\n    <tr>\n      <th>zombie</th>\n      <td>4.383998e-02</td>\n      <td>4</td>\n      <td>0.000007</td>\n    </tr>\n  </tbody>\n</table>\n<p>2961 rows × 3 columns</p>\n</div>",
            "text/plain": "                    score frequency  polarity\nword                                         \nabnormal     0.000000e+00         3       0.0\nabominable   0.000000e+00         1       0.0\nabomination  0.000000e+00         0       0.0\nabound       5.204170e-18         3       0.0\nabounds      0.000000e+00         1       0.0\n...                   ...       ...       ...\nyawn        -4.456437e-01         1 -0.000019\nyay          1.204412e+00        51  0.002557\nyouthful     0.000000e+00         2       0.0\nzest         3.664487e-01         3  0.000046\nzombie       4.383998e-02         4  0.000007\n\n[2961 rows x 3 columns]"
          },
          "metadata": {}
        }
      ],
      "execution_count": 57,
      "metadata": {
        "jupyter": {
          "outputs_hidden": false,
          "source_hidden": false
        },
        "nteract": {
          "transient": {
            "deleting": false
          }
        },
        "collapsed": false
      }
    },
    {
      "cell_type": "code",
      "source": [
        "Korean_polarity_score.polarity = Korean_polarity_score.polarity.astype(float)\n",
        "Korean_polarity_score.frequency = Korean_polarity_score.frequency.astype(float)"
      ],
      "outputs": [
        {
          "output_type": "display_data",
          "data": {
            "application/vnd.livy.statement-meta+json": {
              "execution_finish_time": "2023-09-20T20:44:36.0619607Z",
              "execution_start_time": "2023-09-20T20:44:35.8869585Z",
              "livy_statement_state": "available",
              "parent_msg_id": "f7102910-5b76-4059-b98e-20198ba8daf2",
              "queued_time": "2023-09-20T20:44:35.7027077Z",
              "session_id": "33",
              "session_start_time": null,
              "spark_jobs": null,
              "spark_pool": "sparkpvikeur",
              "state": "finished",
              "statement_id": 83
            },
            "text/plain": "StatementMeta(sparkpvikeur, 33, 83, Finished, Available)"
          },
          "metadata": {}
        }
      ],
      "execution_count": 82,
      "metadata": {
        "jupyter": {
          "outputs_hidden": false,
          "source_hidden": false
        },
        "nteract": {
          "transient": {
            "deleting": false
          }
        },
        "collapsed": false
      }
    },
    {
      "cell_type": "code",
      "source": [
        "Koreann_dnm = Korean_polarity_score[Korean_polarity_score.polarity < 0].sort_values(\n",
        "    \"polarity\", ascending=True\n",
        ")"
      ],
      "outputs": [
        {
          "output_type": "display_data",
          "data": {
            "application/vnd.livy.statement-meta+json": {
              "execution_finish_time": "2023-09-20T20:45:15.230801Z",
              "execution_start_time": "2023-09-20T20:45:15.0482247Z",
              "livy_statement_state": "available",
              "parent_msg_id": "1537e401-3db7-4fdb-92f6-f7543fd64192",
              "queued_time": "2023-09-20T20:45:14.8989593Z",
              "session_id": "33",
              "session_start_time": null,
              "spark_jobs": null,
              "spark_pool": "sparkpvikeur",
              "state": "finished",
              "statement_id": 84
            },
            "text/plain": "StatementMeta(sparkpvikeur, 33, 84, Finished, Available)"
          },
          "metadata": {}
        }
      ],
      "execution_count": 83,
      "metadata": {
        "jupyter": {
          "outputs_hidden": false,
          "source_hidden": false
        },
        "nteract": {
          "transient": {
            "deleting": false
          }
        },
        "collapsed": false
      }
    },
    {
      "cell_type": "code",
      "source": [
        "Koreann_dnm[:10]"
      ],
      "outputs": [
        {
          "output_type": "display_data",
          "data": {
            "application/vnd.livy.statement-meta+json": {
              "execution_finish_time": "2023-09-20T20:45:24.3776435Z",
              "execution_start_time": "2023-09-20T20:45:24.1994263Z",
              "livy_statement_state": "available",
              "parent_msg_id": "143198c5-2d39-41c6-94c9-397c9b8d1c9c",
              "queued_time": "2023-09-20T20:45:24.0500797Z",
              "session_id": "33",
              "session_start_time": null,
              "spark_jobs": null,
              "spark_pool": "sparkpvikeur",
              "state": "finished",
              "statement_id": 85
            },
            "text/plain": "StatementMeta(sparkpvikeur, 33, 85, Finished, Available)"
          },
          "metadata": {}
        },
        {
          "output_type": "execute_result",
          "execution_count": 171,
          "data": {
            "text/html": "<div>\n<style scoped>\n    .dataframe tbody tr th:only-of-type {\n        vertical-align: middle;\n    }\n\n    .dataframe tbody tr th {\n        vertical-align: top;\n    }\n\n    .dataframe thead th {\n        text-align: right;\n    }\n</style>\n<table border=\"1\" class=\"dataframe\">\n  <thead>\n    <tr style=\"text-align: right;\">\n      <th></th>\n      <th>score</th>\n      <th>frequency</th>\n      <th>polarity</th>\n    </tr>\n    <tr>\n      <th>word</th>\n      <th></th>\n      <th></th>\n      <th></th>\n    </tr>\n  </thead>\n  <tbody>\n    <tr>\n      <th>rude</th>\n      <td>-0.863911</td>\n      <td>333.0</td>\n      <td>-0.011974</td>\n    </tr>\n    <tr>\n      <th>bland</th>\n      <td>-0.817480</td>\n      <td>321.0</td>\n      <td>-0.010922</td>\n    </tr>\n    <tr>\n      <th>awful</th>\n      <td>-1.048444</td>\n      <td>193.0</td>\n      <td>-0.008422</td>\n    </tr>\n    <tr>\n      <th>mediocre</th>\n      <td>-0.927327</td>\n      <td>173.0</td>\n      <td>-0.006678</td>\n    </tr>\n    <tr>\n      <th>poor</th>\n      <td>-0.818426</td>\n      <td>181.0</td>\n      <td>-0.006166</td>\n    </tr>\n    <tr>\n      <th>worse</th>\n      <td>-1.016657</td>\n      <td>124.0</td>\n      <td>-0.005247</td>\n    </tr>\n    <tr>\n      <th>overpriced</th>\n      <td>-0.750453</td>\n      <td>158.0</td>\n      <td>-0.004935</td>\n    </tr>\n    <tr>\n      <th>dirty</th>\n      <td>-0.734106</td>\n      <td>157.0</td>\n      <td>-0.004797</td>\n    </tr>\n    <tr>\n      <th>disappointment</th>\n      <td>-1.002231</td>\n      <td>103.0</td>\n      <td>-0.004297</td>\n    </tr>\n    <tr>\n      <th>sad</th>\n      <td>-0.676781</td>\n      <td>139.0</td>\n      <td>-0.003916</td>\n    </tr>\n  </tbody>\n</table>\n</div>",
            "text/plain": "                   score  frequency  polarity\nword                                         \nrude           -0.863911      333.0 -0.011974\nbland          -0.817480      321.0 -0.010922\nawful          -1.048444      193.0 -0.008422\nmediocre       -0.927327      173.0 -0.006678\npoor           -0.818426      181.0 -0.006166\nworse          -1.016657      124.0 -0.005247\noverpriced     -0.750453      158.0 -0.004935\ndirty          -0.734106      157.0 -0.004797\ndisappointment -1.002231      103.0 -0.004297\nsad            -0.676781      139.0 -0.003916"
          },
          "metadata": {}
        }
      ],
      "execution_count": 84,
      "metadata": {
        "jupyter": {
          "outputs_hidden": false,
          "source_hidden": false
        },
        "nteract": {
          "transient": {
            "deleting": false
          }
        },
        "collapsed": false
      }
    },
    {
      "cell_type": "code",
      "source": [
        "negative_top10 = Koreann_dnm[:10]"
      ],
      "outputs": [
        {
          "output_type": "display_data",
          "data": {
            "application/vnd.livy.statement-meta+json": {
              "execution_finish_time": "2023-09-20T20:45:59.0726971Z",
              "execution_start_time": "2023-09-20T20:45:58.8737596Z",
              "livy_statement_state": "available",
              "parent_msg_id": "ba91c4d3-2df9-4717-bb22-beeb12bcfb69",
              "queued_time": "2023-09-20T20:45:58.7154264Z",
              "session_id": "33",
              "session_start_time": null,
              "spark_jobs": null,
              "spark_pool": "sparkpvikeur",
              "state": "finished",
              "statement_id": 86
            },
            "text/plain": "StatementMeta(sparkpvikeur, 33, 86, Finished, Available)"
          },
          "metadata": {}
        }
      ],
      "execution_count": 85,
      "metadata": {
        "jupyter": {
          "outputs_hidden": false,
          "source_hidden": false
        },
        "nteract": {
          "transient": {
            "deleting": false
          }
        },
        "collapsed": false
      }
    },
    {
      "cell_type": "code",
      "source": [
        "positive_top10 = Koreann_dnm[:10]\n",
        "positive_top10"
      ],
      "outputs": [
        {
          "output_type": "display_data",
          "data": {
            "application/vnd.livy.statement-meta+json": {
              "execution_finish_time": "2023-09-20T20:43:53.1510168Z",
              "execution_start_time": "2023-09-20T20:43:52.974786Z",
              "livy_statement_state": "available",
              "parent_msg_id": "e09726db-7253-497c-8726-22e206d9af56",
              "queued_time": "2023-09-20T20:43:52.8212351Z",
              "session_id": "33",
              "session_start_time": null,
              "spark_jobs": null,
              "spark_pool": "sparkpvikeur",
              "state": "finished",
              "statement_id": 79
            },
            "text/plain": "StatementMeta(sparkpvikeur, 33, 79, Finished, Available)"
          },
          "metadata": {}
        },
        {
          "output_type": "execute_result",
          "execution_count": 159,
          "data": {
            "text/html": "<div>\n<style scoped>\n    .dataframe tbody tr th:only-of-type {\n        vertical-align: middle;\n    }\n\n    .dataframe tbody tr th {\n        vertical-align: top;\n    }\n\n    .dataframe thead th {\n        text-align: right;\n    }\n</style>\n<table border=\"1\" class=\"dataframe\">\n  <thead>\n    <tr style=\"text-align: right;\">\n      <th></th>\n      <th>score</th>\n      <th>frequency</th>\n      <th>polarity</th>\n    </tr>\n    <tr>\n      <th>word</th>\n      <th></th>\n      <th></th>\n      <th></th>\n    </tr>\n  </thead>\n  <tbody>\n    <tr>\n      <th>delicious</th>\n      <td>0.655812</td>\n      <td>5883.0</td>\n      <td>0.160589</td>\n    </tr>\n    <tr>\n      <th>friendly</th>\n      <td>0.289149</td>\n      <td>3346.0</td>\n      <td>0.040270</td>\n    </tr>\n    <tr>\n      <th>fresh</th>\n      <td>0.180404</td>\n      <td>3544.0</td>\n      <td>0.026612</td>\n    </tr>\n    <tr>\n      <th>hot</th>\n      <td>0.142227</td>\n      <td>3220.0</td>\n      <td>0.019062</td>\n    </tr>\n    <tr>\n      <th>fried</th>\n      <td>0.100547</td>\n      <td>3530.0</td>\n      <td>0.014773</td>\n    </tr>\n    <tr>\n      <th>attentive</th>\n      <td>0.323440</td>\n      <td>1005.0</td>\n      <td>0.013530</td>\n    </tr>\n    <tr>\n      <th>tender</th>\n      <td>0.464511</td>\n      <td>640.0</td>\n      <td>0.012374</td>\n    </tr>\n    <tr>\n      <th>fun</th>\n      <td>0.294122</td>\n      <td>908.0</td>\n      <td>0.011116</td>\n    </tr>\n    <tr>\n      <th>generous</th>\n      <td>0.595265</td>\n      <td>446.0</td>\n      <td>0.011050</td>\n    </tr>\n    <tr>\n      <th>pleasantly</th>\n      <td>1.127433</td>\n      <td>217.0</td>\n      <td>0.010183</td>\n    </tr>\n  </tbody>\n</table>\n</div>",
            "text/plain": "               score  frequency  polarity\nword                                     \ndelicious   0.655812     5883.0  0.160589\nfriendly    0.289149     3346.0  0.040270\nfresh       0.180404     3544.0  0.026612\nhot         0.142227     3220.0  0.019062\nfried       0.100547     3530.0  0.014773\nattentive   0.323440     1005.0  0.013530\ntender      0.464511      640.0  0.012374\nfun         0.294122      908.0  0.011116\ngenerous    0.595265      446.0  0.011050\npleasantly  1.127433      217.0  0.010183"
          },
          "metadata": {}
        }
      ],
      "execution_count": 78,
      "metadata": {
        "jupyter": {
          "outputs_hidden": false,
          "source_hidden": false
        },
        "nteract": {
          "transient": {
            "deleting": false
          }
        },
        "collapsed": false
      }
    },
    {
      "cell_type": "code",
      "source": [
        "Koreann_dnm.info()"
      ],
      "outputs": [
        {
          "output_type": "display_data",
          "data": {
            "application/vnd.livy.statement-meta+json": {
              "execution_finish_time": "2023-09-20T20:10:19.3828324Z",
              "execution_start_time": "2023-09-20T20:10:19.2108429Z",
              "livy_statement_state": "available",
              "parent_msg_id": "84095b2e-c125-459b-91ea-fa8557f71d39",
              "queued_time": "2023-09-20T20:03:50.075839Z",
              "session_id": "33",
              "session_start_time": null,
              "spark_jobs": null,
              "spark_pool": "sparkpvikeur",
              "state": "finished",
              "statement_id": 64
            },
            "text/plain": "StatementMeta(sparkpvikeur, 33, 64, Finished, Available)"
          },
          "metadata": {}
        },
        {
          "output_type": "stream",
          "name": "stdout",
          "text": [
            "<class 'pandas.core.frame.DataFrame'>\nIndex: 1020 entries, delicious to distasteful\nData columns (total 3 columns):\n #   Column     Non-Null Count  Dtype  \n---  ------     --------------  -----  \n 0   score      1020 non-null   float64\n 1   frequency  1020 non-null   float64\n 2   polarity   1020 non-null   float64\ndtypes: float64(3)\nmemory usage: 31.9+ KB\n"
          ]
        }
      ],
      "execution_count": 63,
      "metadata": {
        "jupyter": {
          "outputs_hidden": false,
          "source_hidden": false
        },
        "nteract": {
          "transient": {
            "deleting": false
          }
        },
        "collapsed": false
      }
    },
    {
      "cell_type": "code",
      "source": [
        "import matplotlib.pyplot as plt\n",
        "\n",
        "# Extract the index (words) and polarity score\n",
        "words = positive_top10.index\n",
        "polarity_scores = positive_top10[\"polarity\"]\n",
        "\n",
        "words = words[::-1]\n",
        "polarity_scores = polarity_scores[::-1]\n",
        "\n",
        "# Create a bar plot\n",
        "plt.figure(figsize=(12, 6))\n",
        "plt.barh(words, polarity_scores, color=\"#0B4F6C\")\n",
        "\n",
        "# Rotate x-axis labels for better readability\n",
        "plt.xticks(rotation=45, ha=\"right\")\n",
        "\n",
        "# Set labels and title\n",
        "plt.xlabel(\"Polarity Score\")\n",
        "plt.ylabel(\"Words\")\n",
        "plt.title(\"Polarity Scores of Words for Positive Reviews in Korean Restaurants\")\n",
        "\n",
        "# Show the plot\n",
        "plt.tight_layout()\n",
        "plt.show()"
      ],
      "outputs": [
        {
          "output_type": "display_data",
          "data": {
            "application/vnd.livy.statement-meta+json": {
              "execution_finish_time": "2023-09-20T21:11:34.6875509Z",
              "execution_start_time": "2023-09-20T21:11:34.5103653Z",
              "livy_statement_state": "available",
              "parent_msg_id": "a2a2d257-27e0-4873-97c1-69de8985a235",
              "queued_time": "2023-09-20T21:11:34.3472011Z",
              "session_id": "33",
              "session_start_time": null,
              "spark_jobs": null,
              "spark_pool": "sparkpvikeur",
              "state": "finished",
              "statement_id": 116
            },
            "text/plain": "StatementMeta(sparkpvikeur, 33, 116, Finished, Available)"
          },
          "metadata": {}
        },
        {
          "output_type": "display_data",
          "data": {
            "image/png": "[encoded data removed]",
            "text/plain": "<Figure size 864x432 with 1 Axes>"
          },
          "metadata": {
            "needs_background": "light"
          }
        }
      ],
      "execution_count": 115,
      "metadata": {
        "jupyter": {
          "outputs_hidden": false,
          "source_hidden": false
        },
        "nteract": {
          "transient": {
            "deleting": false
          }
        },
        "collapsed": false
      }
    },
    {
      "cell_type": "code",
      "source": [
        "# Extract the index (words) and polarity score\n",
        "words = negative_top10.index\n",
        "polarity_scores = negative_top10[\"polarity\"]\n",
        "\n",
        "words = words[::-1]\n",
        "polarity_scores = polarity_scores[::-1]\n",
        "\n",
        "# Create a bar plot\n",
        "plt.figure(figsize=(12, 6))\n",
        "plt.barh(words, polarity_scores * (-1), color=\"#B80C09\")\n",
        "\n",
        "# Rotate x-axis labels for better readability\n",
        "plt.xticks(rotation=45, ha=\"right\")\n",
        "\n",
        "# Set labels and title\n",
        "plt.xlabel(\"Polarity Score\")\n",
        "plt.ylabel(\"Words\")\n",
        "plt.title(\"Polarity Scores of Words for Negative Reviews in Korean Restaurants\")\n",
        "plt.xlim(0.003, 0.013)\n",
        "\n",
        "# Show the plot\n",
        "plt.tight_layout()\n",
        "plt.savefig(\"red_plot.png\")\n",
        "plt.show()"
      ],
      "outputs": [
        {
          "output_type": "display_data",
          "data": {
            "application/vnd.livy.statement-meta+json": {
              "execution_finish_time": "2023-09-20T21:11:31.1837025Z",
              "execution_start_time": "2023-09-20T21:11:30.5987942Z",
              "livy_statement_state": "available",
              "parent_msg_id": "3d38ca85-5963-4462-afed-d1e45e381f34",
              "queued_time": "2023-09-20T21:11:30.428557Z",
              "session_id": "33",
              "session_start_time": null,
              "spark_jobs": null,
              "spark_pool": "sparkpvikeur",
              "state": "finished",
              "statement_id": 115
            },
            "text/plain": "StatementMeta(sparkpvikeur, 33, 115, Finished, Available)"
          },
          "metadata": {}
        },
        {
          "output_type": "display_data",
          "data": {
            "image/png": "[encoded data removed]",
            "text/plain": "<Figure size 864x432 with 1 Axes>"
          },
          "metadata": {
            "needs_background": "light"
          }
        }
      ],
      "execution_count": 114,
      "metadata": {
        "jupyter": {
          "outputs_hidden": false,
          "source_hidden": false
        },
        "nteract": {
          "transient": {
            "deleting": false
          }
        },
        "collapsed": false
      }
    },
    {
      "cell_type": "code",
      "source": [
        "from pyspark.sql.functions import col, split\n",
        "from sklearn.feature_extraction.text import CountVectorizer\n",
        "\n",
        "\n",
        "def get_polarity_score(dataset, review_type):\n",
        "    dataset = dataset.withColumn(\"text\", F.udf(filter_words)(F.col(\"text\")))\n",
        "\n",
        "    terms_train = dataset.select(\"text\").rdd.flatMap(lambda row: row).collect()\n",
        "    class_train = dataset.select(\"labels\").rdd.flatMap(lambda row: row).collect()\n",
        "\n",
        "    terms_test = dataset.select(\"text\").rdd.flatMap(lambda row: row).collect()\n",
        "    class_test = dataset.select(\"labels\").rdd.flatMap(lambda row: row).collect()\n",
        "\n",
        "    vectorizer = CountVectorizer()\n",
        "    vectorizer_model = vectorizer.fit_transform(terms_train)\n",
        "\n",
        "    svm = LinearSVC(max_iter=10000)\n",
        "    svm.fit(vectorizer_model, class_train)\n",
        "\n",
        "    coeff = svm.coef_[0]\n",
        "    cuisine_words_score = pd.DataFrame(\n",
        "        {\"score\": coeff, \"word\": vectorizer.get_feature_names()}\n",
        "    )\n",
        "\n",
        "    cuisine_reviews = pd.DataFrame(\n",
        "        vectorizer_model.toarray(), columns=vectorizer.get_feature_names()\n",
        "    )\n",
        "    cuisine_reviews[\"labels\"] = class_train\n",
        "\n",
        "    if review_type == \"positive\":\n",
        "        cuisine_frequency = cuisine_reviews[\n",
        "            cuisine_reviews[\"labels\"] == \"positive\"\n",
        "        ].sum()[:-1]\n",
        "    else:\n",
        "        cuisine_frequency = cuisine_reviews[\n",
        "            cuisine_reviews[\"labels\"] == \"negative\"\n",
        "        ].sum()[:-1]\n",
        "\n",
        "    cuisine_words_score.set_index(\"word\", inplace=True)\n",
        "    cuisine_polarity_score = cuisine_words_score\n",
        "    cuisine_polarity_score[\"frequency\"] = cuisine_frequency\n",
        "\n",
        "    cuisine_polarity_score[\"polarity\"] = (\n",
        "        cuisine_polarity_score.score\n",
        "        * cuisine_polarity_score.frequency\n",
        "        / cuisine_reviews.shape[0]\n",
        "    )\n",
        "\n",
        "    ## drop unnecessary words\n",
        "    unuseful_positive_words = cuisine_polarity_score.loc[\n",
        "        [\n",
        "            \"great\",\n",
        "            \"amazing\",\n",
        "            \"love\",\n",
        "            \"best\",\n",
        "            \"awesome\",\n",
        "            \"excellent\",\n",
        "            \"good\",\n",
        "            \"favorite\",\n",
        "            \"loved\",\n",
        "            \"perfect\",\n",
        "            \"gem\",\n",
        "            \"perfectly\",\n",
        "            \"wonderful\",\n",
        "            \"happy\",\n",
        "            \"enjoyed\",\n",
        "            \"nice\",\n",
        "            \"well\",\n",
        "            \"super\",\n",
        "            \"like\",\n",
        "            \"better\",\n",
        "            \"decent\",\n",
        "            \"fine\",\n",
        "            \"pretty\",\n",
        "            \"enough\",\n",
        "            \"excited\",\n",
        "            \"impressed\",\n",
        "            \"ready\",\n",
        "            \"fantastic\",\n",
        "            \"glad\",\n",
        "            \"right\",\n",
        "            \"fabulous\",\n",
        "        ]\n",
        "    ]\n",
        "    unuseful_negative_words = cuisine_polarity_score.loc[\n",
        "        [\n",
        "            \"bad\",\n",
        "            \"disappointed\",\n",
        "            \"unfortunately\",\n",
        "            \"disappointing\",\n",
        "            \"horrible\",\n",
        "            \"lacking\",\n",
        "            \"terrible\",\n",
        "            \"sorry\",\n",
        "            \"disappoint\",\n",
        "            \"worst\",\n",
        "        ]\n",
        "    ]\n",
        "\n",
        "    unuseful_words = unuseful_positive_words + unuseful_negative_words\n",
        "    cuisine_polarity_score.drop(unuseful_words.index, axis=0, inplace=True)\n",
        "\n",
        "    cuisine_polarity_score.polarity = cuisine_polarity_score.polarity.astype(float)\n",
        "    cuisine_polarity_score.frequency = cuisine_polarity_score.frequency.astype(float)\n",
        "\n",
        "    return cuisine_polarity_score"
      ],
      "outputs": [
        {
          "output_type": "display_data",
          "data": {
            "application/vnd.livy.statement-meta+json": {
              "execution_finish_time": "2023-09-20T22:09:49.460705Z",
              "execution_start_time": "2023-09-20T22:09:49.2910665Z",
              "livy_statement_state": "available",
              "parent_msg_id": "ec53491f-7bfb-486c-8245-46f1c8261cef",
              "queued_time": "2023-09-20T22:09:49.0993904Z",
              "session_id": "33",
              "session_start_time": null,
              "spark_jobs": null,
              "spark_pool": "sparkpvikeur",
              "state": "finished",
              "statement_id": 129
            },
            "text/plain": "StatementMeta(sparkpvikeur, 33, 129, Finished, Available)"
          },
          "metadata": {}
        }
      ],
      "execution_count": 128,
      "metadata": {
        "jupyter": {
          "outputs_hidden": false,
          "source_hidden": false
        },
        "nteract": {
          "transient": {
            "deleting": false
          }
        },
        "collapsed": false
      }
    },
    {
      "cell_type": "code",
      "source": [
        "Japanese_reviews = get_dataset(\"Japanese\")\n",
        "Japanese_train, Japanese_test = Japanese_reviews.randomSplit([0.5, 0.5])"
      ],
      "outputs": [
        {
          "output_type": "display_data",
          "data": {
            "application/vnd.livy.statement-meta+json": {
              "execution_finish_time": "2023-09-20T22:10:09.4344493Z",
              "execution_start_time": "2023-09-20T22:10:09.2702915Z",
              "livy_statement_state": "available",
              "parent_msg_id": "aed3801b-e9b3-4883-9ca2-b115281367e3",
              "queued_time": "2023-09-20T22:10:09.1058878Z",
              "session_id": "33",
              "session_start_time": null,
              "spark_jobs": null,
              "spark_pool": "sparkpvikeur",
              "state": "finished",
              "statement_id": 130
            },
            "text/plain": "StatementMeta(sparkpvikeur, 33, 130, Finished, Available)"
          },
          "metadata": {}
        }
      ],
      "execution_count": 129,
      "metadata": {
        "jupyter": {
          "outputs_hidden": false,
          "source_hidden": false
        },
        "nteract": {
          "transient": {
            "deleting": false
          }
        },
        "collapsed": false
      }
    },
    {
      "cell_type": "code",
      "source": [
        "Japanese_polarity_score = get_polarity_score(Japanese_train, \"positive\")"
      ],
      "outputs": [
        {
          "output_type": "display_data",
          "data": {
            "application/vnd.livy.statement-meta+json": {
              "execution_finish_time": "2023-09-20T22:18:26.3823107Z",
              "execution_start_time": "2023-09-20T22:10:12.1219944Z",
              "livy_statement_state": "available",
              "parent_msg_id": "99e1c4cd-e2cc-4470-aef6-14dc2934c480",
              "queued_time": "2023-09-20T22:10:11.9733502Z",
              "session_id": "33",
              "session_start_time": null,
              "spark_jobs": null,
              "spark_pool": "sparkpvikeur",
              "state": "finished",
              "statement_id": 131
            },
            "text/plain": "StatementMeta(sparkpvikeur, 33, 131, Finished, Available)"
          },
          "metadata": {}
        }
      ],
      "execution_count": 130,
      "metadata": {
        "jupyter": {
          "outputs_hidden": false,
          "source_hidden": false
        },
        "nteract": {
          "transient": {
            "deleting": false
          }
        },
        "collapsed": false
      }
    },
    {
      "cell_type": "code",
      "source": [
        "Japanese_polarity_score = get_polarity_score(Japanese_train, \"negative\")"
      ],
      "outputs": [
        {
          "output_type": "display_data",
          "data": {
            "application/vnd.livy.statement-meta+json": {
              "execution_finish_time": "2023-09-20T22:43:27.1605325Z",
              "execution_start_time": "2023-09-20T22:35:16.4919427Z",
              "livy_statement_state": "available",
              "parent_msg_id": "5ff01a94-906e-447c-b5fa-3e2f206246dd",
              "queued_time": "2023-09-20T22:35:16.3323133Z",
              "session_id": "33",
              "session_start_time": null,
              "spark_jobs": null,
              "spark_pool": "sparkpvikeur",
              "state": "finished",
              "statement_id": 144
            },
            "text/plain": "StatementMeta(sparkpvikeur, 33, 144, Finished, Available)"
          },
          "metadata": {}
        }
      ],
      "execution_count": 143,
      "metadata": {
        "jupyter": {
          "outputs_hidden": false,
          "source_hidden": false
        },
        "nteract": {
          "transient": {
            "deleting": false
          }
        },
        "collapsed": false
      }
    },
    {
      "cell_type": "code",
      "source": [
        "Japanese_dnm = Japanese_polarity_score[\n",
        "    Japanese_polarity_score.polarity < 0\n",
        "].sort_values(\"polarity\")\n",
        "Japanese_negative_top10 = Japanese_dnm[:10]"
      ],
      "outputs": [
        {
          "output_type": "display_data",
          "data": {
            "application/vnd.livy.statement-meta+json": {
              "execution_finish_time": "2023-09-20T22:43:51.7814625Z",
              "execution_start_time": "2023-09-20T22:43:51.6101112Z",
              "livy_statement_state": "available",
              "parent_msg_id": "1c47bff4-a6c1-46f3-84db-0e170d111897",
              "queued_time": "2023-09-20T22:43:51.4200987Z",
              "session_id": "33",
              "session_start_time": null,
              "spark_jobs": null,
              "spark_pool": "sparkpvikeur",
              "state": "finished",
              "statement_id": 145
            },
            "text/plain": "StatementMeta(sparkpvikeur, 33, 145, Finished, Available)"
          },
          "metadata": {}
        }
      ],
      "execution_count": 144,
      "metadata": {
        "jupyter": {
          "outputs_hidden": false,
          "source_hidden": false
        },
        "nteract": {
          "transient": {
            "deleting": false
          }
        },
        "collapsed": false
      }
    },
    {
      "cell_type": "code",
      "source": [
        "Japanese_dnm = Japanese_polarity_score[\n",
        "    Japanese_polarity_score.polarity > 0\n",
        "].sort_values(\"polarity\", ascending=False)\n",
        "Japanese_positive_top10 = Japanese_dnm[:10]"
      ],
      "outputs": [
        {
          "output_type": "display_data",
          "data": {
            "application/vnd.livy.statement-meta+json": {
              "execution_finish_time": "2023-09-20T22:18:58.5242451Z",
              "execution_start_time": "2023-09-20T22:18:58.3353052Z",
              "livy_statement_state": "available",
              "parent_msg_id": "251f5142-dcb9-4943-a4f2-e794199d6e04",
              "queued_time": "2023-09-20T22:18:58.1515785Z",
              "session_id": "33",
              "session_start_time": null,
              "spark_jobs": null,
              "spark_pool": "sparkpvikeur",
              "state": "finished",
              "statement_id": 132
            },
            "text/plain": "StatementMeta(sparkpvikeur, 33, 132, Finished, Available)"
          },
          "metadata": {}
        }
      ],
      "execution_count": 131,
      "metadata": {
        "jupyter": {
          "outputs_hidden": false,
          "source_hidden": false
        },
        "nteract": {
          "transient": {
            "deleting": false
          }
        },
        "collapsed": false
      }
    },
    {
      "cell_type": "code",
      "source": [
        "Japanese_positive_top10"
      ],
      "outputs": [
        {
          "output_type": "display_data",
          "data": {
            "application/vnd.livy.statement-meta+json": {
              "execution_finish_time": "2023-09-20T22:19:13.1920466Z",
              "execution_start_time": "2023-09-20T22:19:13.0111833Z",
              "livy_statement_state": "available",
              "parent_msg_id": "d5e3af84-f332-46dc-a746-1bbcf89ecc38",
              "queued_time": "2023-09-20T22:19:12.8582102Z",
              "session_id": "33",
              "session_start_time": null,
              "spark_jobs": null,
              "spark_pool": "sparkpvikeur",
              "state": "finished",
              "statement_id": 133
            },
            "text/plain": "StatementMeta(sparkpvikeur, 33, 133, Finished, Available)"
          },
          "metadata": {}
        },
        {
          "output_type": "execute_result",
          "execution_count": 267,
          "data": {
            "text/html": "<div>\n<style scoped>\n    .dataframe tbody tr th:only-of-type {\n        vertical-align: middle;\n    }\n\n    .dataframe tbody tr th {\n        vertical-align: top;\n    }\n\n    .dataframe thead th {\n        text-align: right;\n    }\n</style>\n<table border=\"1\" class=\"dataframe\">\n  <thead>\n    <tr style=\"text-align: right;\">\n      <th></th>\n      <th>score</th>\n      <th>frequency</th>\n      <th>polarity</th>\n    </tr>\n    <tr>\n      <th>word</th>\n      <th></th>\n      <th></th>\n      <th></th>\n    </tr>\n  </thead>\n  <tbody>\n    <tr>\n      <th>delicious</th>\n      <td>0.630658</td>\n      <td>17750.0</td>\n      <td>0.129132</td>\n    </tr>\n    <tr>\n      <th>fresh</th>\n      <td>0.217987</td>\n      <td>17677.0</td>\n      <td>0.044451</td>\n    </tr>\n    <tr>\n      <th>friendly</th>\n      <td>0.186391</td>\n      <td>10722.0</td>\n      <td>0.023054</td>\n    </tr>\n    <tr>\n      <th>recommend</th>\n      <td>0.158203</td>\n      <td>9112.0</td>\n      <td>0.016629</td>\n    </tr>\n    <tr>\n      <th>incredible</th>\n      <td>0.629253</td>\n      <td>1403.0</td>\n      <td>0.010184</td>\n    </tr>\n    <tr>\n      <th>fun</th>\n      <td>0.296365</td>\n      <td>2978.0</td>\n      <td>0.010181</td>\n    </tr>\n    <tr>\n      <th>reasonable</th>\n      <td>0.349892</td>\n      <td>2399.0</td>\n      <td>0.009683</td>\n    </tr>\n    <tr>\n      <th>phenomenal</th>\n      <td>0.912085</td>\n      <td>864.0</td>\n      <td>0.009091</td>\n    </tr>\n    <tr>\n      <th>fast</th>\n      <td>0.210384</td>\n      <td>3568.0</td>\n      <td>0.008659</td>\n    </tr>\n    <tr>\n      <th>variety</th>\n      <td>0.239237</td>\n      <td>2808.0</td>\n      <td>0.007749</td>\n    </tr>\n  </tbody>\n</table>\n</div>",
            "text/plain": "               score  frequency  polarity\nword                                     \ndelicious   0.630658    17750.0  0.129132\nfresh       0.217987    17677.0  0.044451\nfriendly    0.186391    10722.0  0.023054\nrecommend   0.158203     9112.0  0.016629\nincredible  0.629253     1403.0  0.010184\nfun         0.296365     2978.0  0.010181\nreasonable  0.349892     2399.0  0.009683\nphenomenal  0.912085      864.0  0.009091\nfast        0.210384     3568.0  0.008659\nvariety     0.239237     2808.0  0.007749"
          },
          "metadata": {}
        }
      ],
      "execution_count": 132,
      "metadata": {
        "jupyter": {
          "outputs_hidden": false,
          "source_hidden": false
        },
        "nteract": {
          "transient": {
            "deleting": false
          }
        },
        "collapsed": false
      }
    },
    {
      "cell_type": "code",
      "source": [
        "Japanese_dnm = Japanese_polarity_score[\n",
        "    Japanese_polarity_score.polarity < 0\n",
        "].sort_values(\"polarity\")\n",
        "Japanese_negative_top10 = Japanese_dnm[:10]"
      ],
      "outputs": [
        {
          "output_type": "display_data",
          "data": {
            "application/vnd.livy.statement-meta+json": {
              "execution_finish_time": "2023-09-20T22:19:23.4379666Z",
              "execution_start_time": "2023-09-20T22:19:23.2753906Z",
              "livy_statement_state": "available",
              "parent_msg_id": "a888f913-7337-4e08-aec7-51db08dd0ae3",
              "queued_time": "2023-09-20T22:19:23.1275216Z",
              "session_id": "33",
              "session_start_time": null,
              "spark_jobs": null,
              "spark_pool": "sparkpvikeur",
              "state": "finished",
              "statement_id": 134
            },
            "text/plain": "StatementMeta(sparkpvikeur, 33, 134, Finished, Available)"
          },
          "metadata": {}
        }
      ],
      "execution_count": 133,
      "metadata": {
        "jupyter": {
          "outputs_hidden": false,
          "source_hidden": false
        },
        "nteract": {
          "transient": {
            "deleting": false
          }
        },
        "collapsed": false
      }
    },
    {
      "cell_type": "code",
      "source": [
        "Japanese_negative_top10"
      ],
      "outputs": [
        {
          "output_type": "display_data",
          "data": {
            "application/vnd.livy.statement-meta+json": {
              "execution_finish_time": "2023-09-20T22:19:33.1961059Z",
              "execution_start_time": "2023-09-20T22:19:32.9941946Z",
              "livy_statement_state": "available",
              "parent_msg_id": "a2100d41-c6c9-420d-8763-179371b88ef5",
              "queued_time": "2023-09-20T22:19:32.8381861Z",
              "session_id": "33",
              "session_start_time": null,
              "spark_jobs": null,
              "spark_pool": "sparkpvikeur",
              "state": "finished",
              "statement_id": 135
            },
            "text/plain": "StatementMeta(sparkpvikeur, 33, 135, Finished, Available)"
          },
          "metadata": {}
        },
        {
          "output_type": "execute_result",
          "execution_count": 271,
          "data": {
            "text/html": "<div>\n<style scoped>\n    .dataframe tbody tr th:only-of-type {\n        vertical-align: middle;\n    }\n\n    .dataframe tbody tr th {\n        vertical-align: top;\n    }\n\n    .dataframe thead th {\n        text-align: right;\n    }\n</style>\n<table border=\"1\" class=\"dataframe\">\n  <thead>\n    <tr style=\"text-align: right;\">\n      <th></th>\n      <th>score</th>\n      <th>frequency</th>\n      <th>polarity</th>\n    </tr>\n    <tr>\n      <th>word</th>\n      <th></th>\n      <th></th>\n      <th></th>\n    </tr>\n  </thead>\n  <tbody>\n    <tr>\n      <th>won</th>\n      <td>-0.360497</td>\n      <td>1639.0</td>\n      <td>-0.006816</td>\n    </tr>\n    <tr>\n      <th>cold</th>\n      <td>-0.301390</td>\n      <td>1404.0</td>\n      <td>-0.004881</td>\n    </tr>\n    <tr>\n      <th>slow</th>\n      <td>-0.276158</td>\n      <td>1200.0</td>\n      <td>-0.003823</td>\n    </tr>\n    <tr>\n      <th>expensive</th>\n      <td>-0.236125</td>\n      <td>1396.0</td>\n      <td>-0.003802</td>\n    </tr>\n    <tr>\n      <th>bland</th>\n      <td>-0.674458</td>\n      <td>480.0</td>\n      <td>-0.003735</td>\n    </tr>\n    <tr>\n      <th>hard</th>\n      <td>-0.162388</td>\n      <td>1977.0</td>\n      <td>-0.003703</td>\n    </tr>\n    <tr>\n      <th>warm</th>\n      <td>-0.233779</td>\n      <td>1305.0</td>\n      <td>-0.003519</td>\n    </tr>\n    <tr>\n      <th>wrong</th>\n      <td>-0.197911</td>\n      <td>1369.0</td>\n      <td>-0.003125</td>\n    </tr>\n    <tr>\n      <th>mediocre</th>\n      <td>-0.882468</td>\n      <td>244.0</td>\n      <td>-0.002484</td>\n    </tr>\n    <tr>\n      <th>overpriced</th>\n      <td>-0.605671</td>\n      <td>313.0</td>\n      <td>-0.002187</td>\n    </tr>\n  </tbody>\n</table>\n</div>",
            "text/plain": "               score  frequency  polarity\nword                                     \nwon        -0.360497     1639.0 -0.006816\ncold       -0.301390     1404.0 -0.004881\nslow       -0.276158     1200.0 -0.003823\nexpensive  -0.236125     1396.0 -0.003802\nbland      -0.674458      480.0 -0.003735\nhard       -0.162388     1977.0 -0.003703\nwarm       -0.233779     1305.0 -0.003519\nwrong      -0.197911     1369.0 -0.003125\nmediocre   -0.882468      244.0 -0.002484\noverpriced -0.605671      313.0 -0.002187"
          },
          "metadata": {}
        }
      ],
      "execution_count": 134,
      "metadata": {
        "jupyter": {
          "outputs_hidden": false,
          "source_hidden": false
        },
        "nteract": {
          "transient": {
            "deleting": false
          }
        },
        "collapsed": false
      }
    },
    {
      "cell_type": "code",
      "source": [
        "# Extract the index (words) and polarity score\n",
        "words = Japanese_positive_top10.index\n",
        "polarity_scores = Japanese_positive_top10[\"polarity\"]\n",
        "\n",
        "words = words[::-1]\n",
        "polarity_scores = polarity_scores[::-1]\n",
        "\n",
        "# Create a bar plot\n",
        "plt.figure(figsize=(12, 6))\n",
        "plt.barh(words, polarity_scores, color=\"#0B4F6C\")\n",
        "\n",
        "# Rotate x-axis labels for better readability\n",
        "plt.xticks(rotation=45, ha=\"right\")\n",
        "\n",
        "# Set labels and title\n",
        "plt.xlabel(\"Polarity Score\")\n",
        "plt.ylabel(\"Words\")\n",
        "plt.title(\"Polarity Scores of Words for Positive Reviews in Japanese Restaurants\")\n",
        "\n",
        "# Show the plot\n",
        "plt.tight_layout()\n",
        "plt.show()"
      ],
      "outputs": [
        {
          "output_type": "display_data",
          "data": {
            "application/vnd.livy.statement-meta+json": {
              "execution_finish_time": "2023-09-20T22:23:39.2751313Z",
              "execution_start_time": "2023-09-20T22:23:39.1090011Z",
              "livy_statement_state": "available",
              "parent_msg_id": "5acf0670-63e7-4fc1-97d7-d4d27a44acd1",
              "queued_time": "2023-09-20T22:23:38.9573869Z",
              "session_id": "33",
              "session_start_time": null,
              "spark_jobs": null,
              "spark_pool": "sparkpvikeur",
              "state": "finished",
              "statement_id": 137
            },
            "text/plain": "StatementMeta(sparkpvikeur, 33, 137, Finished, Available)"
          },
          "metadata": {}
        },
        {
          "output_type": "display_data",
          "data": {
            "image/png": "[encoded data removed]",
            "text/plain": "<Figure size 864x432 with 1 Axes>"
          },
          "metadata": {
            "needs_background": "light"
          }
        }
      ],
      "execution_count": 136,
      "metadata": {
        "jupyter": {
          "outputs_hidden": false,
          "source_hidden": false
        },
        "nteract": {
          "transient": {
            "deleting": false
          }
        },
        "collapsed": false
      }
    },
    {
      "cell_type": "code",
      "source": [
        "words = Japanese_negative_top10.index\n",
        "polarity_scores = Japanese_negative_top10[\"polarity\"]\n",
        "\n",
        "words = words[::-1]\n",
        "polarity_scores = polarity_scores[::-1]\n",
        "\n",
        "# Create a bar plot\n",
        "plt.figure(figsize=(12, 6))\n",
        "plt.barh(words, polarity_scores * (-1), color=\"#B80C09\")\n",
        "\n",
        "# Rotate x-axis labels for better readability\n",
        "plt.xticks(rotation=45, ha=\"right\")\n",
        "\n",
        "# Set labels and title\n",
        "plt.xlabel(\"Polarity Score\")\n",
        "plt.ylabel(\"Words\")\n",
        "plt.title(\"Polarity Scores of Words for Negative Reviews in Japanese Restaurants\")\n",
        "plt.xlim(0.003, 0.015)\n",
        "\n",
        "# Show the plot\n",
        "plt.tight_layout()\n",
        "plt.show()"
      ],
      "outputs": [
        {
          "output_type": "display_data",
          "data": {
            "application/vnd.livy.statement-meta+json": {
              "execution_finish_time": "2023-09-20T22:43:58.0970782Z",
              "execution_start_time": "2023-09-20T22:43:57.5344153Z",
              "livy_statement_state": "available",
              "parent_msg_id": "63577924-f720-4a89-9878-23779418061c",
              "queued_time": "2023-09-20T22:43:57.3712096Z",
              "session_id": "33",
              "session_start_time": null,
              "spark_jobs": null,
              "spark_pool": "sparkpvikeur",
              "state": "finished",
              "statement_id": 146
            },
            "text/plain": "StatementMeta(sparkpvikeur, 33, 146, Finished, Available)"
          },
          "metadata": {}
        },
        {
          "output_type": "display_data",
          "data": {
            "image/png": "[encoded data removed]",
            "text/plain": "<Figure size 864x432 with 1 Axes>"
          },
          "metadata": {
            "needs_background": "light"
          }
        }
      ],
      "execution_count": 145,
      "metadata": {
        "jupyter": {
          "outputs_hidden": false,
          "source_hidden": false
        },
        "nteract": {
          "transient": {
            "deleting": false
          }
        },
        "collapsed": false
      }
    },
    {
      "cell_type": "code",
      "source": [
        "Thai_reviews = get_dataset(\"Thai\")\n",
        "Thai_train, Thai_test = Thai_reviews.randomSplit([0.5, 0.5])\n",
        "\n",
        "Thai_polarity_score = get_polarity_score(Thai_train, \"positive\")\n",
        "\n",
        "Thai_dnm = Thai_polarity_score[Thai_polarity_score.polarity > 0].sort_values(\n",
        "    \"polarity\", ascending=False\n",
        ")\n",
        "Thai_positive_top10 = Thai_dnm[:10]"
      ],
      "outputs": [
        {
          "output_type": "display_data",
          "data": {
            "application/vnd.livy.statement-meta+json": {
              "execution_finish_time": "2023-09-20T22:33:36.397679Z",
              "execution_start_time": "2023-09-20T22:29:49.3988519Z",
              "livy_statement_state": "available",
              "parent_msg_id": "e1fea960-fec9-4ec1-8c26-6059649eacca",
              "queued_time": "2023-09-20T22:29:49.209948Z",
              "session_id": "33",
              "session_start_time": null,
              "spark_jobs": null,
              "spark_pool": "sparkpvikeur",
              "state": "finished",
              "statement_id": 142
            },
            "text/plain": "StatementMeta(sparkpvikeur, 33, 142, Finished, Available)"
          },
          "metadata": {}
        }
      ],
      "execution_count": 141,
      "metadata": {
        "jupyter": {
          "outputs_hidden": false,
          "source_hidden": false
        },
        "nteract": {
          "transient": {
            "deleting": false
          }
        },
        "collapsed": false
      }
    },
    {
      "cell_type": "code",
      "source": [
        "Thai_positive_top10"
      ],
      "outputs": [
        {
          "output_type": "display_data",
          "data": {
            "application/vnd.livy.statement-meta+json": {
              "execution_finish_time": "2023-09-20T22:34:38.7538834Z",
              "execution_start_time": "2023-09-20T22:34:38.5771397Z",
              "livy_statement_state": "available",
              "parent_msg_id": "e0e3925a-7b18-42b2-bb02-a6cc4ee729ff",
              "queued_time": "2023-09-20T22:34:38.3962134Z",
              "session_id": "33",
              "session_start_time": null,
              "spark_jobs": null,
              "spark_pool": "sparkpvikeur",
              "state": "finished",
              "statement_id": 143
            },
            "text/plain": "StatementMeta(sparkpvikeur, 33, 143, Finished, Available)"
          },
          "metadata": {}
        },
        {
          "output_type": "execute_result",
          "execution_count": 287,
          "data": {
            "text/html": "<div>\n<style scoped>\n    .dataframe tbody tr th:only-of-type {\n        vertical-align: middle;\n    }\n\n    .dataframe tbody tr th {\n        vertical-align: top;\n    }\n\n    .dataframe thead th {\n        text-align: right;\n    }\n</style>\n<table border=\"1\" class=\"dataframe\">\n  <thead>\n    <tr style=\"text-align: right;\">\n      <th></th>\n      <th>score</th>\n      <th>frequency</th>\n      <th>polarity</th>\n    </tr>\n    <tr>\n      <th>word</th>\n      <th></th>\n      <th></th>\n      <th></th>\n    </tr>\n  </thead>\n  <tbody>\n    <tr>\n      <th>delicious</th>\n      <td>0.717085</td>\n      <td>8865.0</td>\n      <td>0.183045</td>\n    </tr>\n    <tr>\n      <th>friendly</th>\n      <td>0.341132</td>\n      <td>5069.0</td>\n      <td>0.049791</td>\n    </tr>\n    <tr>\n      <th>fresh</th>\n      <td>0.240278</td>\n      <td>5215.0</td>\n      <td>0.036081</td>\n    </tr>\n    <tr>\n      <th>recommend</th>\n      <td>0.198194</td>\n      <td>3698.0</td>\n      <td>0.021104</td>\n    </tr>\n    <tr>\n      <th>reasonable</th>\n      <td>0.496542</td>\n      <td>1134.0</td>\n      <td>0.016213</td>\n    </tr>\n    <tr>\n      <th>hot</th>\n      <td>0.143173</td>\n      <td>3860.0</td>\n      <td>0.015913</td>\n    </tr>\n    <tr>\n      <th>generous</th>\n      <td>0.652925</td>\n      <td>751.0</td>\n      <td>0.014119</td>\n    </tr>\n    <tr>\n      <th>incredible</th>\n      <td>0.751852</td>\n      <td>512.0</td>\n      <td>0.011084</td>\n    </tr>\n    <tr>\n      <th>attentive</th>\n      <td>0.264062</td>\n      <td>1369.0</td>\n      <td>0.010409</td>\n    </tr>\n    <tr>\n      <th>outstanding</th>\n      <td>0.635766</td>\n      <td>564.0</td>\n      <td>0.010325</td>\n    </tr>\n  </tbody>\n</table>\n</div>",
            "text/plain": "                score  frequency  polarity\nword                                      \ndelicious    0.717085     8865.0  0.183045\nfriendly     0.341132     5069.0  0.049791\nfresh        0.240278     5215.0  0.036081\nrecommend    0.198194     3698.0  0.021104\nreasonable   0.496542     1134.0  0.016213\nhot          0.143173     3860.0  0.015913\ngenerous     0.652925      751.0  0.014119\nincredible   0.751852      512.0  0.011084\nattentive    0.264062     1369.0  0.010409\noutstanding  0.635766      564.0  0.010325"
          },
          "metadata": {}
        }
      ],
      "execution_count": 142,
      "metadata": {
        "jupyter": {
          "outputs_hidden": false,
          "source_hidden": false
        },
        "nteract": {
          "transient": {
            "deleting": false
          }
        },
        "collapsed": false
      }
    },
    {
      "cell_type": "code",
      "source": [
        "# Extract the index (words) and polarity score\n",
        "words = Thai_positive_top10.index\n",
        "polarity_scores = Thai_positive_top10[\"polarity\"]\n",
        "\n",
        "words = words[::-1]\n",
        "polarity_scores = polarity_scores[::-1]\n",
        "\n",
        "# Create a bar plot\n",
        "plt.figure(figsize=(12, 6))\n",
        "plt.barh(words, polarity_scores, color=\"#0B4F6C\")\n",
        "\n",
        "# Rotate x-axis labels for better readability\n",
        "plt.xticks(rotation=45, ha=\"right\")\n",
        "\n",
        "# Set labels and title\n",
        "plt.xlabel(\"Polarity Score\")\n",
        "plt.ylabel(\"Words\")\n",
        "plt.title(\"Polarity Scores of Words for Positive Reviews in Thai Restaurants\")\n",
        "\n",
        "# Show the plot\n",
        "plt.tight_layout()\n",
        "plt.show()"
      ],
      "outputs": [
        {
          "output_type": "display_data",
          "data": {
            "application/vnd.livy.statement-meta+json": {
              "execution_finish_time": "2023-09-20T22:45:17.73746Z",
              "execution_start_time": "2023-09-20T22:45:17.5537295Z",
              "livy_statement_state": "available",
              "parent_msg_id": "45993b20-86d9-402c-9827-ba5d3184bd36",
              "queued_time": "2023-09-20T22:45:17.3421808Z",
              "session_id": "33",
              "session_start_time": null,
              "spark_jobs": null,
              "spark_pool": "sparkpvikeur",
              "state": "finished",
              "statement_id": 147
            },
            "text/plain": "StatementMeta(sparkpvikeur, 33, 147, Finished, Available)"
          },
          "metadata": {}
        },
        {
          "output_type": "display_data",
          "data": {
            "image/png": "[encoded data removed]",
            "text/plain": "<Figure size 864x432 with 1 Axes>"
          },
          "metadata": {
            "needs_background": "light"
          }
        }
      ],
      "execution_count": 146,
      "metadata": {
        "jupyter": {
          "outputs_hidden": false,
          "source_hidden": false
        },
        "nteract": {
          "transient": {
            "deleting": false
          }
        },
        "collapsed": false
      }
    },
    {
      "cell_type": "code",
      "source": [
        "Thai_polarity_score = get_polarity_score(Thai_train, \"negative\")\n",
        "\n",
        "Thai_dnm = Thai_polarity_score[Thai_polarity_score.polarity < 0].sort_values(\"polarity\")\n",
        "Thai_negative_top10 = Thai_dnm[:10]\n",
        "\n",
        "Thai_negative_top10"
      ],
      "outputs": [
        {
          "output_type": "display_data",
          "data": {
            "application/vnd.livy.statement-meta+json": {
              "execution_finish_time": "2023-09-20T22:49:27.5880547Z",
              "execution_start_time": "2023-09-20T22:45:42.9664164Z",
              "livy_statement_state": "available",
              "parent_msg_id": "70c7ae3b-d53d-45dc-9392-e2dcbcc1745a",
              "queued_time": "2023-09-20T22:45:42.8180968Z",
              "session_id": "33",
              "session_start_time": null,
              "spark_jobs": null,
              "spark_pool": "sparkpvikeur",
              "state": "finished",
              "statement_id": 148
            },
            "text/plain": "StatementMeta(sparkpvikeur, 33, 148, Finished, Available)"
          },
          "metadata": {}
        },
        {
          "output_type": "execute_result",
          "execution_count": 297,
          "data": {
            "text/html": "<div>\n<style scoped>\n    .dataframe tbody tr th:only-of-type {\n        vertical-align: middle;\n    }\n\n    .dataframe tbody tr th {\n        vertical-align: top;\n    }\n\n    .dataframe thead th {\n        text-align: right;\n    }\n</style>\n<table border=\"1\" class=\"dataframe\">\n  <thead>\n    <tr style=\"text-align: right;\">\n      <th></th>\n      <th>score</th>\n      <th>frequency</th>\n      <th>polarity</th>\n    </tr>\n    <tr>\n      <th>word</th>\n      <th></th>\n      <th></th>\n      <th></th>\n    </tr>\n  </thead>\n  <tbody>\n    <tr>\n      <th>bland</th>\n      <td>-0.801745</td>\n      <td>697.0</td>\n      <td>-0.016091</td>\n    </tr>\n    <tr>\n      <th>mediocre</th>\n      <td>-1.171518</td>\n      <td>288.0</td>\n      <td>-0.009715</td>\n    </tr>\n    <tr>\n      <th>rude</th>\n      <td>-0.814762</td>\n      <td>403.0</td>\n      <td>-0.009455</td>\n    </tr>\n    <tr>\n      <th>awful</th>\n      <td>-0.778009</td>\n      <td>294.0</td>\n      <td>-0.006586</td>\n    </tr>\n    <tr>\n      <th>poor</th>\n      <td>-0.707433</td>\n      <td>274.0</td>\n      <td>-0.005581</td>\n    </tr>\n    <tr>\n      <th>waste</th>\n      <td>-0.951479</td>\n      <td>185.0</td>\n      <td>-0.005068</td>\n    </tr>\n    <tr>\n      <th>disgusting</th>\n      <td>-0.970191</td>\n      <td>145.0</td>\n      <td>-0.004051</td>\n    </tr>\n    <tr>\n      <th>cold</th>\n      <td>-0.385813</td>\n      <td>342.0</td>\n      <td>-0.003799</td>\n    </tr>\n    <tr>\n      <th>unacceptable</th>\n      <td>-2.243292</td>\n      <td>58.0</td>\n      <td>-0.003746</td>\n    </tr>\n    <tr>\n      <th>won</th>\n      <td>-0.258580</td>\n      <td>491.0</td>\n      <td>-0.003656</td>\n    </tr>\n  </tbody>\n</table>\n</div>",
            "text/plain": "                 score  frequency  polarity\nword                                       \nbland        -0.801745      697.0 -0.016091\nmediocre     -1.171518      288.0 -0.009715\nrude         -0.814762      403.0 -0.009455\nawful        -0.778009      294.0 -0.006586\npoor         -0.707433      274.0 -0.005581\nwaste        -0.951479      185.0 -0.005068\ndisgusting   -0.970191      145.0 -0.004051\ncold         -0.385813      342.0 -0.003799\nunacceptable -2.243292       58.0 -0.003746\nwon          -0.258580      491.0 -0.003656"
          },
          "metadata": {}
        }
      ],
      "execution_count": 147,
      "metadata": {
        "jupyter": {
          "outputs_hidden": false,
          "source_hidden": false
        },
        "nteract": {
          "transient": {
            "deleting": false
          }
        },
        "collapsed": false
      }
    },
    {
      "cell_type": "code",
      "source": [
        "words = Thai_negative_top10.index\n",
        "polarity_scores = Thai_negative_top10[\"polarity\"]\n",
        "\n",
        "words = words[::-1]\n",
        "polarity_scores = polarity_scores[::-1]\n",
        "\n",
        "# Create a bar plot\n",
        "plt.figure(figsize=(12, 6))\n",
        "plt.barh(words, polarity_scores * (-1), color=\"#B80C09\")\n",
        "\n",
        "# Rotate x-axis labels for better readability\n",
        "plt.xticks(rotation=45, ha=\"right\")\n",
        "\n",
        "# Set labels and title\n",
        "plt.xlabel(\"Polarity Score\")\n",
        "plt.ylabel(\"Words\")\n",
        "plt.title(\"Polarity Scores of Words for Negative Reviews in Thai Restaurants\")\n",
        "# plt.xlim(0.00, 0.013)\n",
        "\n",
        "# Show the plot\n",
        "plt.tight_layout()\n",
        "plt.show()"
      ],
      "outputs": [
        {
          "output_type": "display_data",
          "data": {
            "application/vnd.livy.statement-meta+json": {
              "execution_finish_time": "2023-09-20T22:49:54.2438045Z",
              "execution_start_time": "2023-09-20T22:49:53.6786377Z",
              "livy_statement_state": "available",
              "parent_msg_id": "ac0587ed-dc68-4e0b-8b15-542975fba8af",
              "queued_time": "2023-09-20T22:49:53.48955Z",
              "session_id": "33",
              "session_start_time": null,
              "spark_jobs": null,
              "spark_pool": "sparkpvikeur",
              "state": "finished",
              "statement_id": 149
            },
            "text/plain": "StatementMeta(sparkpvikeur, 33, 149, Finished, Available)"
          },
          "metadata": {}
        },
        {
          "output_type": "display_data",
          "data": {
            "image/png": "[encoded data removed]",
            "text/plain": "<Figure size 864x432 with 1 Axes>"
          },
          "metadata": {
            "needs_background": "light"
          }
        }
      ],
      "execution_count": 148,
      "metadata": {
        "jupyter": {
          "outputs_hidden": false,
          "source_hidden": false
        },
        "nteract": {
          "transient": {
            "deleting": false
          }
        },
        "collapsed": false
      }
    },
    {
      "cell_type": "code",
      "source": [
        "Chinese_reviews = get_dataset(\"Chinese\")\n",
        "Chinese_train, Chinese_test = Chinese_reviews.randomSplit([0.5, 0.5])\n",
        "\n",
        "Chinese_polarity_score = get_polarity_score(Chinese_train, \"positive\")\n",
        "\n",
        "Chinese_dnm = Chinese_polarity_score[Chinese_polarity_score.polarity > 0].sort_values(\n",
        "    \"polarity\", ascending=False\n",
        ")\n",
        "Chinese_positive_top10 = Chinese_dnm[:10]\n",
        "\n",
        "Chinese_positive_top10"
      ],
      "outputs": [
        {
          "output_type": "display_data",
          "data": {
            "application/vnd.livy.statement-meta+json": {
              "execution_finish_time": "2023-09-20T22:59:33.1459551Z",
              "execution_start_time": "2023-09-20T22:51:47.8665313Z",
              "livy_statement_state": "available",
              "parent_msg_id": "85bcaefd-3532-449d-be6f-bd78190eab68",
              "queued_time": "2023-09-20T22:51:47.7101662Z",
              "session_id": "33",
              "session_start_time": null,
              "spark_jobs": null,
              "spark_pool": "sparkpvikeur",
              "state": "finished",
              "statement_id": 150
            },
            "text/plain": "StatementMeta(sparkpvikeur, 33, 150, Finished, Available)"
          },
          "metadata": {}
        },
        {
          "output_type": "execute_result",
          "execution_count": 301,
          "data": {
            "text/html": "<div>\n<style scoped>\n    .dataframe tbody tr th:only-of-type {\n        vertical-align: middle;\n    }\n\n    .dataframe tbody tr th {\n        vertical-align: top;\n    }\n\n    .dataframe thead th {\n        text-align: right;\n    }\n</style>\n<table border=\"1\" class=\"dataframe\">\n  <thead>\n    <tr style=\"text-align: right;\">\n      <th></th>\n      <th>score</th>\n      <th>frequency</th>\n      <th>polarity</th>\n    </tr>\n    <tr>\n      <th>word</th>\n      <th></th>\n      <th></th>\n      <th></th>\n    </tr>\n  </thead>\n  <tbody>\n    <tr>\n      <th>delicious</th>\n      <td>0.627716</td>\n      <td>14603.0</td>\n      <td>0.114275</td>\n    </tr>\n    <tr>\n      <th>friendly</th>\n      <td>0.273740</td>\n      <td>8513.0</td>\n      <td>0.029051</td>\n    </tr>\n    <tr>\n      <th>fresh</th>\n      <td>0.219349</td>\n      <td>10235.0</td>\n      <td>0.027988</td>\n    </tr>\n    <tr>\n      <th>hot</th>\n      <td>0.130188</td>\n      <td>10314.0</td>\n      <td>0.016740</td>\n    </tr>\n    <tr>\n      <th>authentic</th>\n      <td>0.253108</td>\n      <td>4949.0</td>\n      <td>0.015616</td>\n    </tr>\n    <tr>\n      <th>recommend</th>\n      <td>0.164335</td>\n      <td>6882.0</td>\n      <td>0.014099</td>\n    </tr>\n    <tr>\n      <th>fast</th>\n      <td>0.232254</td>\n      <td>4793.0</td>\n      <td>0.013878</td>\n    </tr>\n    <tr>\n      <th>reasonable</th>\n      <td>0.405346</td>\n      <td>2133.0</td>\n      <td>0.010779</td>\n    </tr>\n    <tr>\n      <th>fun</th>\n      <td>0.243427</td>\n      <td>2741.0</td>\n      <td>0.008318</td>\n    </tr>\n    <tr>\n      <th>solid</th>\n      <td>0.576089</td>\n      <td>1151.0</td>\n      <td>0.008266</td>\n    </tr>\n  </tbody>\n</table>\n</div>",
            "text/plain": "               score  frequency  polarity\nword                                     \ndelicious   0.627716    14603.0  0.114275\nfriendly    0.273740     8513.0  0.029051\nfresh       0.219349    10235.0  0.027988\nhot         0.130188    10314.0  0.016740\nauthentic   0.253108     4949.0  0.015616\nrecommend   0.164335     6882.0  0.014099\nfast        0.232254     4793.0  0.013878\nreasonable  0.405346     2133.0  0.010779\nfun         0.243427     2741.0  0.008318\nsolid       0.576089     1151.0  0.008266"
          },
          "metadata": {}
        }
      ],
      "execution_count": 149,
      "metadata": {
        "jupyter": {
          "outputs_hidden": false,
          "source_hidden": false
        },
        "nteract": {
          "transient": {
            "deleting": false
          }
        },
        "collapsed": false
      }
    },
    {
      "cell_type": "code",
      "source": [
        "# Extract the index (words) and polarity score\n",
        "words = Chinese_positive_top10.index\n",
        "polarity_scores = Chinese_positive_top10[\"polarity\"]\n",
        "\n",
        "words = words[::-1]\n",
        "polarity_scores = polarity_scores[::-1]\n",
        "\n",
        "# Create a bar plot\n",
        "plt.figure(figsize=(12, 6))\n",
        "plt.barh(words, polarity_scores, color=\"#0B4F6C\")\n",
        "\n",
        "# Rotate x-axis labels for better readability\n",
        "plt.xticks(rotation=45, ha=\"right\")\n",
        "\n",
        "# Set labels and title\n",
        "plt.xlabel(\"Polarity Score\")\n",
        "plt.ylabel(\"Words\")\n",
        "plt.title(\"Polarity Scores of Words for Positive Reviews in Chinese Restaurants\")\n",
        "\n",
        "# Show the plot\n",
        "plt.tight_layout()\n",
        "plt.show()"
      ],
      "outputs": [
        {
          "output_type": "display_data",
          "data": {
            "application/vnd.livy.statement-meta+json": {
              "execution_finish_time": "2023-09-20T23:00:02.6464694Z",
              "execution_start_time": "2023-09-20T23:00:02.4672192Z",
              "livy_statement_state": "available",
              "parent_msg_id": "3efb86da-85e4-4051-a7c3-ab4df0ddc5b5",
              "queued_time": "2023-09-20T23:00:02.3098107Z",
              "session_id": "33",
              "session_start_time": null,
              "spark_jobs": null,
              "spark_pool": "sparkpvikeur",
              "state": "finished",
              "statement_id": 151
            },
            "text/plain": "StatementMeta(sparkpvikeur, 33, 151, Finished, Available)"
          },
          "metadata": {}
        },
        {
          "output_type": "display_data",
          "data": {
            "image/png": "[encoded data removed]",
            "text/plain": "<Figure size 864x432 with 1 Axes>"
          },
          "metadata": {
            "needs_background": "light"
          }
        }
      ],
      "execution_count": 150,
      "metadata": {
        "jupyter": {
          "outputs_hidden": false,
          "source_hidden": false
        },
        "nteract": {
          "transient": {
            "deleting": false
          }
        },
        "collapsed": false
      }
    },
    {
      "cell_type": "code",
      "source": [
        "Chinese_polarity_score = get_polarity_score(Chinese_train, \"negative\")\n",
        "\n",
        "Chinese_dnm = Chinese_polarity_score[Chinese_polarity_score.polarity < 0].sort_values(\n",
        "    \"polarity\"\n",
        ")\n",
        "Chinese_negative_top10 = Chinese_dnm[:10]\n",
        "\n",
        "Chinese_negative_top10"
      ],
      "outputs": [
        {
          "output_type": "display_data",
          "data": {
            "application/vnd.livy.statement-meta+json": {
              "execution_finish_time": "2023-09-20T23:15:37.1769243Z",
              "execution_start_time": "2023-09-20T23:07:53.5610316Z",
              "livy_statement_state": "available",
              "parent_msg_id": "bfaf5e56-0046-4070-b6c2-c71af3b85add",
              "queued_time": "2023-09-20T23:03:52.2754487Z",
              "session_id": "33",
              "session_start_time": null,
              "spark_jobs": null,
              "spark_pool": "sparkpvikeur",
              "state": "finished",
              "statement_id": 153
            },
            "text/plain": "StatementMeta(sparkpvikeur, 33, 153, Finished, Available)"
          },
          "metadata": {}
        },
        {
          "output_type": "execute_result",
          "execution_count": 307,
          "data": {
            "text/html": "<div>\n<style scoped>\n    .dataframe tbody tr th:only-of-type {\n        vertical-align: middle;\n    }\n\n    .dataframe tbody tr th {\n        vertical-align: top;\n    }\n\n    .dataframe thead th {\n        text-align: right;\n    }\n</style>\n<table border=\"1\" class=\"dataframe\">\n  <thead>\n    <tr style=\"text-align: right;\">\n      <th></th>\n      <th>score</th>\n      <th>frequency</th>\n      <th>polarity</th>\n    </tr>\n    <tr>\n      <th>word</th>\n      <th></th>\n      <th></th>\n      <th></th>\n    </tr>\n  </thead>\n  <tbody>\n    <tr>\n      <th>bland</th>\n      <td>-0.736475</td>\n      <td>1937.0</td>\n      <td>-0.017784</td>\n    </tr>\n    <tr>\n      <th>rude</th>\n      <td>-0.711342</td>\n      <td>1914.0</td>\n      <td>-0.016973</td>\n    </tr>\n    <tr>\n      <th>awful</th>\n      <td>-0.945411</td>\n      <td>1026.0</td>\n      <td>-0.012092</td>\n    </tr>\n    <tr>\n      <th>disgusting</th>\n      <td>-1.040535</td>\n      <td>911.0</td>\n      <td>-0.011817</td>\n    </tr>\n    <tr>\n      <th>mediocre</th>\n      <td>-0.918463</td>\n      <td>838.0</td>\n      <td>-0.009595</td>\n    </tr>\n    <tr>\n      <th>poor</th>\n      <td>-0.789878</td>\n      <td>946.0</td>\n      <td>-0.009315</td>\n    </tr>\n    <tr>\n      <th>cold</th>\n      <td>-0.376346</td>\n      <td>1786.0</td>\n      <td>-0.008379</td>\n    </tr>\n    <tr>\n      <th>refund</th>\n      <td>-1.097594</td>\n      <td>526.0</td>\n      <td>-0.007197</td>\n    </tr>\n    <tr>\n      <th>won</th>\n      <td>-0.295939</td>\n      <td>1840.0</td>\n      <td>-0.006788</td>\n    </tr>\n    <tr>\n      <th>gross</th>\n      <td>-0.762037</td>\n      <td>684.0</td>\n      <td>-0.006498</td>\n    </tr>\n  </tbody>\n</table>\n</div>",
            "text/plain": "               score  frequency  polarity\nword                                     \nbland      -0.736475     1937.0 -0.017784\nrude       -0.711342     1914.0 -0.016973\nawful      -0.945411     1026.0 -0.012092\ndisgusting -1.040535      911.0 -0.011817\nmediocre   -0.918463      838.0 -0.009595\npoor       -0.789878      946.0 -0.009315\ncold       -0.376346     1786.0 -0.008379\nrefund     -1.097594      526.0 -0.007197\nwon        -0.295939     1840.0 -0.006788\ngross      -0.762037      684.0 -0.006498"
          },
          "metadata": {}
        }
      ],
      "execution_count": 152,
      "metadata": {
        "jupyter": {
          "outputs_hidden": false,
          "source_hidden": false
        },
        "nteract": {
          "transient": {
            "deleting": false
          }
        },
        "collapsed": false
      }
    },
    {
      "cell_type": "code",
      "source": [
        "words = Chinese_negative_top10.index\n",
        "polarity_scores = Chinese_negative_top10[\"polarity\"]\n",
        "\n",
        "words = words[::-1]\n",
        "polarity_scores = polarity_scores[::-1]\n",
        "\n",
        "# Create a bar plot\n",
        "plt.figure(figsize=(12, 6))\n",
        "plt.barh(words, polarity_scores * (-1), color=\"#B80C09\")\n",
        "\n",
        "# Rotate x-axis labels for better readability\n",
        "plt.xticks(rotation=45, ha=\"right\")\n",
        "\n",
        "# Set labels and title\n",
        "plt.xlabel(\"Polarity Score\")\n",
        "plt.ylabel(\"Words\")\n",
        "plt.title(\"Polarity Scores of Words for Negative Reviews in Chinese Restaurants\")\n",
        "plt.xlim(0.0050, 0.018)\n",
        "\n",
        "# Show the plot\n",
        "plt.tight_layout()\n",
        "plt.show()"
      ],
      "outputs": [
        {
          "output_type": "display_data",
          "data": {
            "application/vnd.livy.statement-meta+json": {
              "execution_finish_time": "2023-09-20T23:15:37.9243353Z",
              "execution_start_time": "2023-09-20T23:15:37.353475Z",
              "livy_statement_state": "available",
              "parent_msg_id": "37936183-f905-4671-a434-b00464a0566b",
              "queued_time": "2023-09-20T23:03:52.4645672Z",
              "session_id": "33",
              "session_start_time": null,
              "spark_jobs": null,
              "spark_pool": "sparkpvikeur",
              "state": "finished",
              "statement_id": 154
            },
            "text/plain": "StatementMeta(sparkpvikeur, 33, 154, Finished, Available)"
          },
          "metadata": {}
        },
        {
          "output_type": "display_data",
          "data": {
            "image/png": "[encoded data removed]",
            "text/plain": "<Figure size 864x432 with 1 Axes>"
          },
          "metadata": {
            "needs_background": "light"
          }
        }
      ],
      "execution_count": 153,
      "metadata": {
        "jupyter": {
          "outputs_hidden": false,
          "source_hidden": false
        },
        "nteract": {
          "transient": {
            "deleting": false
          }
        },
        "collapsed": false
      }
    },
    {
      "cell_type": "code",
      "source": [
        "Vietnamese_reviews = get_dataset(\"Vietnamese\")\n",
        "Vietnamese_train, Vietnamese_test = Vietnamese_reviews.randomSplit([0.5, 0.5])\n",
        "\n",
        "Vietnamese_polarity_score = get_polarity_score(Vietnamese_train, \"positive\")\n",
        "\n",
        "Vietnamese_dnm = Vietnamese_polarity_score[\n",
        "    Vietnamese_polarity_score.polarity > 0\n",
        "].sort_values(\"polarity\", ascending=False)\n",
        "Vietnamese_positive_top10 = Vietnamese_dnm[:10]\n",
        "\n",
        "Vietnamese_positive_top10"
      ],
      "outputs": [
        {
          "output_type": "display_data",
          "data": {
            "application/vnd.livy.statement-meta+json": {
              "execution_finish_time": "2023-09-20T23:19:06.281712Z",
              "execution_start_time": "2023-09-20T23:15:38.0804343Z",
              "livy_statement_state": "available",
              "parent_msg_id": "3c1de248-c2ca-4d75-aacb-625a128f47e0",
              "queued_time": "2023-09-20T23:03:52.6776333Z",
              "session_id": "33",
              "session_start_time": null,
              "spark_jobs": null,
              "spark_pool": "sparkpvikeur",
              "state": "finished",
              "statement_id": 155
            },
            "text/plain": "StatementMeta(sparkpvikeur, 33, 155, Finished, Available)"
          },
          "metadata": {}
        },
        {
          "output_type": "execute_result",
          "execution_count": 311,
          "data": {
            "text/html": "<div>\n<style scoped>\n    .dataframe tbody tr th:only-of-type {\n        vertical-align: middle;\n    }\n\n    .dataframe tbody tr th {\n        vertical-align: top;\n    }\n\n    .dataframe thead th {\n        text-align: right;\n    }\n</style>\n<table border=\"1\" class=\"dataframe\">\n  <thead>\n    <tr style=\"text-align: right;\">\n      <th></th>\n      <th>score</th>\n      <th>frequency</th>\n      <th>polarity</th>\n    </tr>\n    <tr>\n      <th>word</th>\n      <th></th>\n      <th></th>\n      <th></th>\n    </tr>\n  </thead>\n  <tbody>\n    <tr>\n      <th>delicious</th>\n      <td>0.624095</td>\n      <td>7521.0</td>\n      <td>0.157749</td>\n    </tr>\n    <tr>\n      <th>fresh</th>\n      <td>0.211654</td>\n      <td>5973.0</td>\n      <td>0.042487</td>\n    </tr>\n    <tr>\n      <th>friendly</th>\n      <td>0.266902</td>\n      <td>4325.0</td>\n      <td>0.038795</td>\n    </tr>\n    <tr>\n      <th>fast</th>\n      <td>0.338089</td>\n      <td>1736.0</td>\n      <td>0.019725</td>\n    </tr>\n    <tr>\n      <th>affordable</th>\n      <td>1.297649</td>\n      <td>441.0</td>\n      <td>0.019233</td>\n    </tr>\n    <tr>\n      <th>tender</th>\n      <td>0.547594</td>\n      <td>782.0</td>\n      <td>0.014391</td>\n    </tr>\n    <tr>\n      <th>reasonable</th>\n      <td>0.417511</td>\n      <td>949.0</td>\n      <td>0.013316</td>\n    </tr>\n    <tr>\n      <th>recommend</th>\n      <td>0.136030</td>\n      <td>2866.0</td>\n      <td>0.013102</td>\n    </tr>\n    <tr>\n      <th>rich</th>\n      <td>0.738488</td>\n      <td>472.0</td>\n      <td>0.011715</td>\n    </tr>\n    <tr>\n      <th>incredible</th>\n      <td>0.784784</td>\n      <td>421.0</td>\n      <td>0.011104</td>\n    </tr>\n  </tbody>\n</table>\n</div>",
            "text/plain": "               score  frequency  polarity\nword                                     \ndelicious   0.624095     7521.0  0.157749\nfresh       0.211654     5973.0  0.042487\nfriendly    0.266902     4325.0  0.038795\nfast        0.338089     1736.0  0.019725\naffordable  1.297649      441.0  0.019233\ntender      0.547594      782.0  0.014391\nreasonable  0.417511      949.0  0.013316\nrecommend   0.136030     2866.0  0.013102\nrich        0.738488      472.0  0.011715\nincredible  0.784784      421.0  0.011104"
          },
          "metadata": {}
        }
      ],
      "execution_count": 154,
      "metadata": {
        "jupyter": {
          "outputs_hidden": false,
          "source_hidden": false
        },
        "nteract": {
          "transient": {
            "deleting": false
          }
        },
        "collapsed": false
      }
    },
    {
      "cell_type": "code",
      "source": [
        "# Extract the index (words) and polarity score\n",
        "words = Vietnamese_positive_top10.index\n",
        "polarity_scores = Vietnamese_positive_top10[\"polarity\"]\n",
        "\n",
        "words = words[::-1]\n",
        "polarity_scores = polarity_scores[::-1]\n",
        "\n",
        "# Create a bar plot\n",
        "plt.figure(figsize=(12, 6))\n",
        "plt.barh(words, polarity_scores, color=\"#0B4F6C\")\n",
        "\n",
        "# Rotate x-axis labels for better readability\n",
        "plt.xticks(rotation=45, ha=\"right\")\n",
        "\n",
        "# Set labels and title\n",
        "plt.xlabel(\"Polarity Score\")\n",
        "plt.ylabel(\"Words\")\n",
        "plt.title(\"Polarity Scores of Words for Positive Reviews in Vietnamese Restaurants\")\n",
        "\n",
        "# Show the plot\n",
        "plt.tight_layout()\n",
        "plt.show()"
      ],
      "outputs": [
        {
          "output_type": "display_data",
          "data": {
            "application/vnd.livy.statement-meta+json": {
              "execution_finish_time": "2023-09-20T23:19:07.0996533Z",
              "execution_start_time": "2023-09-20T23:19:06.5007821Z",
              "livy_statement_state": "available",
              "parent_msg_id": "61ff45a0-12bc-4fe8-b464-c96afd2f3187",
              "queued_time": "2023-09-20T23:03:53.0673151Z",
              "session_id": "33",
              "session_start_time": null,
              "spark_jobs": null,
              "spark_pool": "sparkpvikeur",
              "state": "finished",
              "statement_id": 156
            },
            "text/plain": "StatementMeta(sparkpvikeur, 33, 156, Finished, Available)"
          },
          "metadata": {}
        },
        {
          "output_type": "display_data",
          "data": {
            "image/png": "[encoded data removed]",
            "text/plain": "<Figure size 864x432 with 1 Axes>"
          },
          "metadata": {
            "needs_background": "light"
          }
        }
      ],
      "execution_count": 155,
      "metadata": {
        "jupyter": {
          "outputs_hidden": false,
          "source_hidden": false
        },
        "nteract": {
          "transient": {
            "deleting": false
          }
        },
        "collapsed": false
      }
    },
    {
      "cell_type": "code",
      "source": [
        "Vietnamese_polarity_score = get_polarity_score(Vietnamese_train, \"negative\")\n",
        "\n",
        "Vietnamese_dnm = Vietnamese_polarity_score[\n",
        "    Vietnamese_polarity_score.polarity < 0\n",
        "].sort_values(\"polarity\")\n",
        "Vietnamese_negative_top10 = Vietnamese_dnm[:10]\n",
        "\n",
        "Vietnamese_negative_top10"
      ],
      "outputs": [
        {
          "output_type": "display_data",
          "data": {
            "application/vnd.livy.statement-meta+json": {
              "execution_finish_time": "2023-09-20T23:22:31.2309516Z",
              "execution_start_time": "2023-09-20T23:19:07.2635054Z",
              "livy_statement_state": "available",
              "parent_msg_id": "18d87025-f5e7-4a2d-8e0b-cfb8fa5e995f",
              "queued_time": "2023-09-20T23:03:53.3349821Z",
              "session_id": "33",
              "session_start_time": null,
              "spark_jobs": null,
              "spark_pool": "sparkpvikeur",
              "state": "finished",
              "statement_id": 157
            },
            "text/plain": "StatementMeta(sparkpvikeur, 33, 157, Finished, Available)"
          },
          "metadata": {}
        },
        {
          "output_type": "execute_result",
          "execution_count": 315,
          "data": {
            "text/html": "<div>\n<style scoped>\n    .dataframe tbody tr th:only-of-type {\n        vertical-align: middle;\n    }\n\n    .dataframe tbody tr th {\n        vertical-align: top;\n    }\n\n    .dataframe thead th {\n        text-align: right;\n    }\n</style>\n<table border=\"1\" class=\"dataframe\">\n  <thead>\n    <tr style=\"text-align: right;\">\n      <th></th>\n      <th>score</th>\n      <th>frequency</th>\n      <th>polarity</th>\n    </tr>\n    <tr>\n      <th>word</th>\n      <th></th>\n      <th></th>\n      <th></th>\n    </tr>\n  </thead>\n  <tbody>\n    <tr>\n      <th>bland</th>\n      <td>-0.909860</td>\n      <td>521.0</td>\n      <td>-0.015931</td>\n    </tr>\n    <tr>\n      <th>rude</th>\n      <td>-0.898965</td>\n      <td>398.0</td>\n      <td>-0.012024</td>\n    </tr>\n    <tr>\n      <th>mediocre</th>\n      <td>-1.001408</td>\n      <td>195.0</td>\n      <td>-0.006563</td>\n    </tr>\n    <tr>\n      <th>poor</th>\n      <td>-0.779064</td>\n      <td>216.0</td>\n      <td>-0.005655</td>\n    </tr>\n    <tr>\n      <th>awful</th>\n      <td>-0.821718</td>\n      <td>180.0</td>\n      <td>-0.004971</td>\n    </tr>\n    <tr>\n      <th>won</th>\n      <td>-0.379819</td>\n      <td>377.0</td>\n      <td>-0.004812</td>\n    </tr>\n    <tr>\n      <th>disgusting</th>\n      <td>-1.093164</td>\n      <td>129.0</td>\n      <td>-0.004739</td>\n    </tr>\n    <tr>\n      <th>dirty</th>\n      <td>-0.656986</td>\n      <td>208.0</td>\n      <td>-0.004593</td>\n    </tr>\n    <tr>\n      <th>waste</th>\n      <td>-0.977121</td>\n      <td>136.0</td>\n      <td>-0.004466</td>\n    </tr>\n    <tr>\n      <th>refund</th>\n      <td>-1.114519</td>\n      <td>100.0</td>\n      <td>-0.003746</td>\n    </tr>\n  </tbody>\n</table>\n</div>",
            "text/plain": "               score  frequency  polarity\nword                                     \nbland      -0.909860      521.0 -0.015931\nrude       -0.898965      398.0 -0.012024\nmediocre   -1.001408      195.0 -0.006563\npoor       -0.779064      216.0 -0.005655\nawful      -0.821718      180.0 -0.004971\nwon        -0.379819      377.0 -0.004812\ndisgusting -1.093164      129.0 -0.004739\ndirty      -0.656986      208.0 -0.004593\nwaste      -0.977121      136.0 -0.004466\nrefund     -1.114519      100.0 -0.003746"
          },
          "metadata": {}
        }
      ],
      "execution_count": 156,
      "metadata": {
        "jupyter": {
          "outputs_hidden": false,
          "source_hidden": false
        },
        "nteract": {
          "transient": {
            "deleting": false
          }
        },
        "collapsed": false
      }
    },
    {
      "cell_type": "code",
      "source": [
        "words = Vietnamese_negative_top10.index\n",
        "polarity_scores = Vietnamese_negative_top10[\"polarity\"]\n",
        "\n",
        "words = words[::-1]\n",
        "polarity_scores = polarity_scores[::-1]\n",
        "\n",
        "# Create a bar plot\n",
        "plt.figure(figsize=(12, 6))\n",
        "plt.barh(words, polarity_scores * (-1), color=\"#B80C09\")\n",
        "\n",
        "# Rotate x-axis labels for better readability\n",
        "plt.xticks(rotation=45, ha=\"right\")\n",
        "\n",
        "# Set labels and title\n",
        "plt.xlabel(\"Polarity Score\")\n",
        "plt.ylabel(\"Words\")\n",
        "plt.title(\"Polarity Scores of Words for Negative Reviews in Vietnamese Restaurants\")\n",
        "plt.xlim(0.002, 0.016)\n",
        "\n",
        "# Show the plot\n",
        "plt.tight_layout()\n",
        "plt.show()"
      ],
      "outputs": [
        {
          "output_type": "display_data",
          "data": {
            "application/vnd.livy.statement-meta+json": {
              "execution_finish_time": "2023-09-20T23:22:32.0589318Z",
              "execution_start_time": "2023-09-20T23:22:31.4478474Z",
              "livy_statement_state": "available",
              "parent_msg_id": "587f9bb6-1842-4578-b9d5-e0fec83d0722",
              "queued_time": "2023-09-20T23:03:53.5600628Z",
              "session_id": "33",
              "session_start_time": null,
              "spark_jobs": null,
              "spark_pool": "sparkpvikeur",
              "state": "finished",
              "statement_id": 158
            },
            "text/plain": "StatementMeta(sparkpvikeur, 33, 158, Finished, Available)"
          },
          "metadata": {}
        },
        {
          "output_type": "display_data",
          "data": {
            "image/png": "[encoded data removed]",
            "text/plain": "<Figure size 864x432 with 1 Axes>"
          },
          "metadata": {
            "needs_background": "light"
          }
        }
      ],
      "execution_count": 157,
      "metadata": {
        "jupyter": {
          "outputs_hidden": false,
          "source_hidden": false
        },
        "nteract": {
          "transient": {
            "deleting": false
          }
        },
        "collapsed": false
      }
    },
    {
      "cell_type": "code",
      "source": [
        "French_reviews = get_dataset(\"French\")\n",
        "French_train, French_test = French_reviews.randomSplit([0.5, 0.5])\n",
        "\n",
        "French_polarity_score = get_polarity_score(French_train, \"positive\")\n",
        "\n",
        "French_dnm = French_polarity_score[French_polarity_score.polarity > 0].sort_values(\n",
        "    \"polarity\", ascending=False\n",
        ")\n",
        "French_positive_top10 = French_dnm[:10]\n",
        "\n",
        "French_positive_top10"
      ],
      "outputs": [
        {
          "output_type": "display_data",
          "data": {
            "application/vnd.livy.statement-meta+json": {
              "execution_finish_time": "2023-09-20T23:27:15.0578121Z",
              "execution_start_time": "2023-09-20T23:22:32.2392627Z",
              "livy_statement_state": "available",
              "parent_msg_id": "c085b940-eaa2-4de8-aafa-ac774f99e0fa",
              "queued_time": "2023-09-20T23:03:53.7681044Z",
              "session_id": "33",
              "session_start_time": null,
              "spark_jobs": null,
              "spark_pool": "sparkpvikeur",
              "state": "finished",
              "statement_id": 159
            },
            "text/plain": "StatementMeta(sparkpvikeur, 33, 159, Finished, Available)"
          },
          "metadata": {}
        },
        {
          "output_type": "execute_result",
          "execution_count": 319,
          "data": {
            "text/html": "<div>\n<style scoped>\n    .dataframe tbody tr th:only-of-type {\n        vertical-align: middle;\n    }\n\n    .dataframe tbody tr th {\n        vertical-align: top;\n    }\n\n    .dataframe thead th {\n        text-align: right;\n    }\n</style>\n<table border=\"1\" class=\"dataframe\">\n  <thead>\n    <tr style=\"text-align: right;\">\n      <th></th>\n      <th>score</th>\n      <th>frequency</th>\n      <th>polarity</th>\n    </tr>\n    <tr>\n      <th>word</th>\n      <th></th>\n      <th></th>\n      <th></th>\n    </tr>\n  </thead>\n  <tbody>\n    <tr>\n      <th>delicious</th>\n      <td>0.519593</td>\n      <td>10371.0</td>\n      <td>0.147704</td>\n    </tr>\n    <tr>\n      <th>die</th>\n      <td>0.923148</td>\n      <td>879.0</td>\n      <td>0.022242</td>\n    </tr>\n    <tr>\n      <th>friendly</th>\n      <td>0.179614</td>\n      <td>4147.0</td>\n      <td>0.020417</td>\n    </tr>\n    <tr>\n      <th>incredible</th>\n      <td>0.468560</td>\n      <td>1291.0</td>\n      <td>0.016581</td>\n    </tr>\n    <tr>\n      <th>fresh</th>\n      <td>0.155101</td>\n      <td>3785.0</td>\n      <td>0.016091</td>\n    </tr>\n    <tr>\n      <th>perfection</th>\n      <td>0.568103</td>\n      <td>1018.0</td>\n      <td>0.015852</td>\n    </tr>\n    <tr>\n      <th>recommend</th>\n      <td>0.130516</td>\n      <td>3946.0</td>\n      <td>0.014117</td>\n    </tr>\n    <tr>\n      <th>delightful</th>\n      <td>0.680756</td>\n      <td>689.0</td>\n      <td>0.012856</td>\n    </tr>\n    <tr>\n      <th>heaven</th>\n      <td>1.090333</td>\n      <td>429.0</td>\n      <td>0.012821</td>\n    </tr>\n    <tr>\n      <th>superb</th>\n      <td>0.772796</td>\n      <td>597.0</td>\n      <td>0.012646</td>\n    </tr>\n  </tbody>\n</table>\n</div>",
            "text/plain": "               score  frequency  polarity\nword                                     \ndelicious   0.519593    10371.0  0.147704\ndie         0.923148      879.0  0.022242\nfriendly    0.179614     4147.0  0.020417\nincredible  0.468560     1291.0  0.016581\nfresh       0.155101     3785.0  0.016091\nperfection  0.568103     1018.0  0.015852\nrecommend   0.130516     3946.0  0.014117\ndelightful  0.680756      689.0  0.012856\nheaven      1.090333      429.0  0.012821\nsuperb      0.772796      597.0  0.012646"
          },
          "metadata": {}
        }
      ],
      "execution_count": 158,
      "metadata": {
        "jupyter": {
          "outputs_hidden": false,
          "source_hidden": false
        },
        "nteract": {
          "transient": {
            "deleting": false
          }
        },
        "collapsed": false
      }
    },
    {
      "cell_type": "code",
      "source": [
        "# Extract the index (words) and polarity score\n",
        "words = French_positive_top10.index\n",
        "polarity_scores = French_positive_top10[\"polarity\"]\n",
        "\n",
        "words = words[::-1]\n",
        "polarity_scores = polarity_scores[::-1]\n",
        "\n",
        "# Create a bar plot\n",
        "plt.figure(figsize=(12, 6))\n",
        "plt.barh(words, polarity_scores, color=\"#0B4F6C\")\n",
        "\n",
        "# Rotate x-axis labels for better readability\n",
        "plt.xticks(rotation=45, ha=\"right\")\n",
        "\n",
        "# Set labels and title\n",
        "plt.xlabel(\"Polarity Score\")\n",
        "plt.ylabel(\"Words\")\n",
        "plt.title(\"Polarity Scores of Words for Positive Reviews in French Restaurants\")\n",
        "\n",
        "# Show the plot\n",
        "plt.tight_layout()\n",
        "plt.show()"
      ],
      "outputs": [
        {
          "output_type": "display_data",
          "data": {
            "application/vnd.livy.statement-meta+json": {
              "execution_finish_time": "2023-09-20T23:27:15.814118Z",
              "execution_start_time": "2023-09-20T23:27:15.2226256Z",
              "livy_statement_state": "available",
              "parent_msg_id": "fc36613d-b6b7-4cb7-a53c-89007b1b09b9",
              "queued_time": "2023-09-20T23:03:54.1038602Z",
              "session_id": "33",
              "session_start_time": null,
              "spark_jobs": null,
              "spark_pool": "sparkpvikeur",
              "state": "finished",
              "statement_id": 160
            },
            "text/plain": "StatementMeta(sparkpvikeur, 33, 160, Finished, Available)"
          },
          "metadata": {}
        },
        {
          "output_type": "display_data",
          "data": {
            "image/png": "[encoded data removed]",
            "text/plain": "<Figure size 864x432 with 1 Axes>"
          },
          "metadata": {
            "needs_background": "light"
          }
        }
      ],
      "execution_count": 159,
      "metadata": {
        "jupyter": {
          "outputs_hidden": false,
          "source_hidden": false
        },
        "nteract": {
          "transient": {
            "deleting": false
          }
        },
        "collapsed": false
      }
    },
    {
      "cell_type": "code",
      "source": [
        "French_polarity_score = get_polarity_score(French_train, \"negative\")\n",
        "\n",
        "French_dnm = French_polarity_score[French_polarity_score.polarity < 0].sort_values(\n",
        "    \"polarity\"\n",
        ")\n",
        "French_negative_top10 = French_dnm[:10]\n",
        "\n",
        "French_negative_top10"
      ],
      "outputs": [
        {
          "output_type": "display_data",
          "data": {
            "application/vnd.livy.statement-meta+json": {
              "execution_finish_time": "2023-09-20T23:31:58.762223Z",
              "execution_start_time": "2023-09-20T23:27:15.975488Z",
              "livy_statement_state": "available",
              "parent_msg_id": "68b6c1f1-91ea-4c6e-baa4-f11740dd16b2",
              "queued_time": "2023-09-20T23:03:54.3164182Z",
              "session_id": "33",
              "session_start_time": null,
              "spark_jobs": null,
              "spark_pool": "sparkpvikeur",
              "state": "finished",
              "statement_id": 161
            },
            "text/plain": "StatementMeta(sparkpvikeur, 33, 161, Finished, Available)"
          },
          "metadata": {}
        },
        {
          "output_type": "execute_result",
          "execution_count": 323,
          "data": {
            "text/html": "<div>\n<style scoped>\n    .dataframe tbody tr th:only-of-type {\n        vertical-align: middle;\n    }\n\n    .dataframe tbody tr th {\n        vertical-align: top;\n    }\n\n    .dataframe thead th {\n        text-align: right;\n    }\n</style>\n<table border=\"1\" class=\"dataframe\">\n  <thead>\n    <tr style=\"text-align: right;\">\n      <th></th>\n      <th>score</th>\n      <th>frequency</th>\n      <th>polarity</th>\n    </tr>\n    <tr>\n      <th>word</th>\n      <th></th>\n      <th></th>\n      <th></th>\n    </tr>\n  </thead>\n  <tbody>\n    <tr>\n      <th>rude</th>\n      <td>-0.854016</td>\n      <td>634.0</td>\n      <td>-0.014841</td>\n    </tr>\n    <tr>\n      <th>mediocre</th>\n      <td>-1.102159</td>\n      <td>425.0</td>\n      <td>-0.012839</td>\n    </tr>\n    <tr>\n      <th>awful</th>\n      <td>-1.240246</td>\n      <td>320.0</td>\n      <td>-0.010878</td>\n    </tr>\n    <tr>\n      <th>poor</th>\n      <td>-0.932538</td>\n      <td>424.0</td>\n      <td>-0.010838</td>\n    </tr>\n    <tr>\n      <th>cold</th>\n      <td>-0.499318</td>\n      <td>777.0</td>\n      <td>-0.010634</td>\n    </tr>\n    <tr>\n      <th>bland</th>\n      <td>-0.679282</td>\n      <td>473.0</td>\n      <td>-0.008807</td>\n    </tr>\n    <tr>\n      <th>overpriced</th>\n      <td>-0.730252</td>\n      <td>343.0</td>\n      <td>-0.006866</td>\n    </tr>\n    <tr>\n      <th>disappointment</th>\n      <td>-0.842512</td>\n      <td>284.0</td>\n      <td>-0.006558</td>\n    </tr>\n    <tr>\n      <th>waste</th>\n      <td>-0.817233</td>\n      <td>228.0</td>\n      <td>-0.005107</td>\n    </tr>\n    <tr>\n      <th>slow</th>\n      <td>-0.385713</td>\n      <td>464.0</td>\n      <td>-0.004906</td>\n    </tr>\n  </tbody>\n</table>\n</div>",
            "text/plain": "                   score  frequency  polarity\nword                                         \nrude           -0.854016      634.0 -0.014841\nmediocre       -1.102159      425.0 -0.012839\nawful          -1.240246      320.0 -0.010878\npoor           -0.932538      424.0 -0.010838\ncold           -0.499318      777.0 -0.010634\nbland          -0.679282      473.0 -0.008807\noverpriced     -0.730252      343.0 -0.006866\ndisappointment -0.842512      284.0 -0.006558\nwaste          -0.817233      228.0 -0.005107\nslow           -0.385713      464.0 -0.004906"
          },
          "metadata": {}
        }
      ],
      "execution_count": 160,
      "metadata": {
        "jupyter": {
          "outputs_hidden": false,
          "source_hidden": false
        },
        "nteract": {
          "transient": {
            "deleting": false
          }
        },
        "collapsed": false
      }
    },
    {
      "cell_type": "code",
      "source": [
        "words = French_negative_top10.index\n",
        "polarity_scores = French_negative_top10[\"polarity\"]\n",
        "\n",
        "words = words[::-1]\n",
        "polarity_scores = polarity_scores[::-1]\n",
        "\n",
        "# Create a bar plot\n",
        "plt.figure(figsize=(12, 6))\n",
        "plt.barh(words, polarity_scores * (-1), color=\"#B80C09\")\n",
        "\n",
        "# Rotate x-axis labels for better readability\n",
        "plt.xticks(rotation=45, ha=\"right\")\n",
        "\n",
        "# Set labels and title\n",
        "plt.xlabel(\"Polarity Score\")\n",
        "plt.ylabel(\"Words\")\n",
        "plt.title(\"Polarity Scores of Words for Negative Reviews in French Restaurants\")\n",
        "plt.xlim(0.003, 0.015)\n",
        "\n",
        "# Show the plot\n",
        "plt.tight_layout()\n",
        "plt.show()"
      ],
      "outputs": [
        {
          "output_type": "display_data",
          "data": {
            "application/vnd.livy.statement-meta+json": {
              "execution_finish_time": "2023-09-20T23:31:59.5751372Z",
              "execution_start_time": "2023-09-20T23:31:58.9340252Z",
              "livy_statement_state": "available",
              "parent_msg_id": "605dbd56-5e0d-429c-89bd-c5b6b7cdc72d",
              "queued_time": "2023-09-20T23:03:54.5564613Z",
              "session_id": "33",
              "session_start_time": null,
              "spark_jobs": null,
              "spark_pool": "sparkpvikeur",
              "state": "finished",
              "statement_id": 162
            },
            "text/plain": "StatementMeta(sparkpvikeur, 33, 162, Finished, Available)"
          },
          "metadata": {}
        },
        {
          "output_type": "display_data",
          "data": {
            "image/png": "[encoded data removed]",
            "text/plain": "<Figure size 864x432 with 1 Axes>"
          },
          "metadata": {
            "needs_background": "light"
          }
        }
      ],
      "execution_count": 161,
      "metadata": {
        "jupyter": {
          "outputs_hidden": false,
          "source_hidden": false
        },
        "nteract": {
          "transient": {
            "deleting": false
          }
        },
        "collapsed": false
      }
    },
    {
      "cell_type": "code",
      "source": [
        "Italian_reviews = get_dataset(\"Italian\")\n",
        "Italian_train, Italian_test = Italian_reviews.randomSplit([0.5, 0.5])\n",
        "\n",
        "Italian_polarity_score = get_polarity_score(Italian_train, \"positive\")\n",
        "\n",
        "Italian_dnm = Italian_polarity_score[Italian_polarity_score.polarity > 0].sort_values(\n",
        "    \"polarity\", ascending=False\n",
        ")\n",
        "Italian_positive_top10 = Italian_dnm[:10]\n",
        "\n",
        "Italian_positive_top10"
      ],
      "outputs": [
        {
          "output_type": "display_data",
          "data": {
            "application/vnd.livy.statement-meta+json": {
              "execution_finish_time": "2023-09-20T23:50:01.6176638Z",
              "execution_start_time": "2023-09-20T23:31:59.759004Z",
              "livy_statement_state": "available",
              "parent_msg_id": "da263e6f-5f57-4bf6-9fd4-e6e0fc0ee054",
              "queued_time": "2023-09-20T23:03:54.7554738Z",
              "session_id": "33",
              "session_start_time": null,
              "spark_jobs": null,
              "spark_pool": "sparkpvikeur",
              "state": "finished",
              "statement_id": 163
            },
            "text/plain": "StatementMeta(sparkpvikeur, 33, 163, Finished, Available)"
          },
          "metadata": {}
        },
        {
          "output_type": "execute_result",
          "execution_count": 327,
          "data": {
            "text/html": "<div>\n<style scoped>\n    .dataframe tbody tr th:only-of-type {\n        vertical-align: middle;\n    }\n\n    .dataframe tbody tr th {\n        vertical-align: top;\n    }\n\n    .dataframe thead th {\n        text-align: right;\n    }\n</style>\n<table border=\"1\" class=\"dataframe\">\n  <thead>\n    <tr style=\"text-align: right;\">\n      <th></th>\n      <th>score</th>\n      <th>frequency</th>\n      <th>polarity</th>\n    </tr>\n    <tr>\n      <th>word</th>\n      <th></th>\n      <th></th>\n      <th></th>\n    </tr>\n  </thead>\n  <tbody>\n    <tr>\n      <th>delicious</th>\n      <td>0.563559</td>\n      <td>42755.0</td>\n      <td>0.125925</td>\n    </tr>\n    <tr>\n      <th>friendly</th>\n      <td>0.263824</td>\n      <td>23246.0</td>\n      <td>0.032052</td>\n    </tr>\n    <tr>\n      <th>fresh</th>\n      <td>0.208104</td>\n      <td>23625.0</td>\n      <td>0.025694</td>\n    </tr>\n    <tr>\n      <th>recommend</th>\n      <td>0.169390</td>\n      <td>17514.0</td>\n      <td>0.015505</td>\n    </tr>\n    <tr>\n      <th>incredible</th>\n      <td>0.551996</td>\n      <td>4341.0</td>\n      <td>0.012523</td>\n    </tr>\n    <tr>\n      <th>outstanding</th>\n      <td>0.465147</td>\n      <td>4892.0</td>\n      <td>0.011892</td>\n    </tr>\n    <tr>\n      <th>die</th>\n      <td>0.508333</td>\n      <td>3323.0</td>\n      <td>0.008828</td>\n    </tr>\n    <tr>\n      <th>perfection</th>\n      <td>0.557264</td>\n      <td>3025.0</td>\n      <td>0.008810</td>\n    </tr>\n    <tr>\n      <th>reasonable</th>\n      <td>0.322967</td>\n      <td>4562.0</td>\n      <td>0.007700</td>\n    </tr>\n    <tr>\n      <th>phenomenal</th>\n      <td>0.590119</td>\n      <td>2483.0</td>\n      <td>0.007658</td>\n    </tr>\n  </tbody>\n</table>\n</div>",
            "text/plain": "                score  frequency  polarity\nword                                      \ndelicious    0.563559    42755.0  0.125925\nfriendly     0.263824    23246.0  0.032052\nfresh        0.208104    23625.0  0.025694\nrecommend    0.169390    17514.0  0.015505\nincredible   0.551996     4341.0  0.012523\noutstanding  0.465147     4892.0  0.011892\ndie          0.508333     3323.0  0.008828\nperfection   0.557264     3025.0  0.008810\nreasonable   0.322967     4562.0  0.007700\nphenomenal   0.590119     2483.0  0.007658"
          },
          "metadata": {}
        }
      ],
      "execution_count": 162,
      "metadata": {
        "jupyter": {
          "outputs_hidden": false,
          "source_hidden": false
        },
        "nteract": {
          "transient": {
            "deleting": false
          }
        },
        "collapsed": false
      }
    },
    {
      "cell_type": "code",
      "source": [
        "# Extract the index (words) and polarity score\n",
        "words = Italian_positive_top10.index\n",
        "polarity_scores = Italian_positive_top10[\"polarity\"]\n",
        "\n",
        "words = words[::-1]\n",
        "polarity_scores = polarity_scores[::-1]\n",
        "\n",
        "# Create a bar plot\n",
        "plt.figure(figsize=(12, 6))\n",
        "plt.barh(words, polarity_scores, color=\"#0B4F6C\")\n",
        "\n",
        "# Rotate x-axis labels for better readability\n",
        "plt.xticks(rotation=45, ha=\"right\")\n",
        "\n",
        "# Set labels and title\n",
        "plt.xlabel(\"Polarity Score\")\n",
        "plt.ylabel(\"Words\")\n",
        "plt.title(\"Polarity Scores of Words for Positive Reviews in Italian Restaurants\")\n",
        "\n",
        "# Show the plot\n",
        "plt.tight_layout()\n",
        "plt.show()"
      ],
      "outputs": [
        {
          "output_type": "display_data",
          "data": {
            "application/vnd.livy.statement-meta+json": {
              "execution_finish_time": "2023-09-20T23:50:01.9477617Z",
              "execution_start_time": "2023-09-20T23:50:01.7776633Z",
              "livy_statement_state": "available",
              "parent_msg_id": "7c944536-41e5-4245-b426-3535e7d674b8",
              "queued_time": "2023-09-20T23:03:54.9783899Z",
              "session_id": "33",
              "session_start_time": null,
              "spark_jobs": null,
              "spark_pool": "sparkpvikeur",
              "state": "finished",
              "statement_id": 164
            },
            "text/plain": "StatementMeta(sparkpvikeur, 33, 164, Finished, Available)"
          },
          "metadata": {}
        },
        {
          "output_type": "display_data",
          "data": {
            "image/png": "[encoded data removed]",
            "text/plain": "<Figure size 864x432 with 1 Axes>"
          },
          "metadata": {
            "needs_background": "light"
          }
        }
      ],
      "execution_count": 163,
      "metadata": {
        "jupyter": {
          "outputs_hidden": false,
          "source_hidden": false
        },
        "nteract": {
          "transient": {
            "deleting": false
          }
        },
        "collapsed": false
      }
    },
    {
      "cell_type": "code",
      "source": [
        "Italian_polarity_score = get_polarity_score(Italian_train, \"negative\")\n",
        "\n",
        "Italian_dnm = Italian_polarity_score[Italian_polarity_score.polarity < 0].sort_values(\n",
        "    \"polarity\"\n",
        ")\n",
        "Italian_negative_top10 = Italian_dnm[:10]\n",
        "\n",
        "Italian_negative_top10"
      ],
      "outputs": [
        {
          "output_type": "display_data",
          "data": {
            "application/vnd.livy.statement-meta+json": {
              "execution_finish_time": "2023-09-21T00:08:04.4341724Z",
              "execution_start_time": "2023-09-20T23:50:02.1085977Z",
              "livy_statement_state": "available",
              "parent_msg_id": "677a35cf-27b7-4fec-90e6-11e42dcb371e",
              "queued_time": "2023-09-20T23:03:55.1869488Z",
              "session_id": "33",
              "session_start_time": null,
              "spark_jobs": null,
              "spark_pool": "sparkpvikeur",
              "state": "finished",
              "statement_id": 165
            },
            "text/plain": "StatementMeta(sparkpvikeur, 33, 165, Finished, Available)"
          },
          "metadata": {}
        },
        {
          "output_type": "execute_result",
          "execution_count": 331,
          "data": {
            "text/html": "<div>\n<style scoped>\n    .dataframe tbody tr th:only-of-type {\n        vertical-align: middle;\n    }\n\n    .dataframe tbody tr th {\n        vertical-align: top;\n    }\n\n    .dataframe thead th {\n        text-align: right;\n    }\n</style>\n<table border=\"1\" class=\"dataframe\">\n  <thead>\n    <tr style=\"text-align: right;\">\n      <th></th>\n      <th>score</th>\n      <th>frequency</th>\n      <th>polarity</th>\n    </tr>\n    <tr>\n      <th>word</th>\n      <th></th>\n      <th></th>\n      <th></th>\n    </tr>\n  </thead>\n  <tbody>\n    <tr>\n      <th>bland</th>\n      <td>-0.811017</td>\n      <td>3477.0</td>\n      <td>-0.014737</td>\n    </tr>\n    <tr>\n      <th>rude</th>\n      <td>-0.642542</td>\n      <td>4077.0</td>\n      <td>-0.013691</td>\n    </tr>\n    <tr>\n      <th>cold</th>\n      <td>-0.438996</td>\n      <td>5193.0</td>\n      <td>-0.011914</td>\n    </tr>\n    <tr>\n      <th>mediocre</th>\n      <td>-0.927451</td>\n      <td>2206.0</td>\n      <td>-0.010693</td>\n    </tr>\n    <tr>\n      <th>awful</th>\n      <td>-0.802959</td>\n      <td>2407.0</td>\n      <td>-0.010101</td>\n    </tr>\n    <tr>\n      <th>poor</th>\n      <td>-0.679134</td>\n      <td>2727.0</td>\n      <td>-0.009679</td>\n    </tr>\n    <tr>\n      <th>won</th>\n      <td>-0.335935</td>\n      <td>3886.0</td>\n      <td>-0.006822</td>\n    </tr>\n    <tr>\n      <th>overpriced</th>\n      <td>-0.672999</td>\n      <td>1661.0</td>\n      <td>-0.005842</td>\n    </tr>\n    <tr>\n      <th>waste</th>\n      <td>-0.695442</td>\n      <td>1476.0</td>\n      <td>-0.005365</td>\n    </tr>\n    <tr>\n      <th>disgusting</th>\n      <td>-0.781415</td>\n      <td>1255.0</td>\n      <td>-0.005125</td>\n    </tr>\n  </tbody>\n</table>\n</div>",
            "text/plain": "               score  frequency  polarity\nword                                     \nbland      -0.811017     3477.0 -0.014737\nrude       -0.642542     4077.0 -0.013691\ncold       -0.438996     5193.0 -0.011914\nmediocre   -0.927451     2206.0 -0.010693\nawful      -0.802959     2407.0 -0.010101\npoor       -0.679134     2727.0 -0.009679\nwon        -0.335935     3886.0 -0.006822\noverpriced -0.672999     1661.0 -0.005842\nwaste      -0.695442     1476.0 -0.005365\ndisgusting -0.781415     1255.0 -0.005125"
          },
          "metadata": {}
        }
      ],
      "execution_count": 164,
      "metadata": {
        "jupyter": {
          "outputs_hidden": false,
          "source_hidden": false
        },
        "nteract": {
          "transient": {
            "deleting": false
          }
        },
        "collapsed": false
      }
    },
    {
      "cell_type": "code",
      "source": [
        "words = Italian_negative_top10.index\n",
        "polarity_scores = Italian_negative_top10[\"polarity\"]\n",
        "\n",
        "words = words[::-1]\n",
        "polarity_scores = polarity_scores[::-1]\n",
        "\n",
        "# Create a bar plot\n",
        "plt.figure(figsize=(12, 6))\n",
        "plt.barh(words, polarity_scores * (-1), color=\"#B80C09\")\n",
        "\n",
        "# Rotate x-axis labels for better readability\n",
        "plt.xticks(rotation=45, ha=\"right\")\n",
        "\n",
        "# Set labels and title\n",
        "plt.xlabel(\"Polarity Score\")\n",
        "plt.ylabel(\"Words\")\n",
        "plt.title(\"Polarity Scores of Words for Negative Reviews in Italian Restaurants\")\n",
        "plt.xlim(0.003, 0.013)\n",
        "\n",
        "# Show the plot\n",
        "plt.tight_layout()\n",
        "plt.show()"
      ],
      "outputs": [
        {
          "output_type": "display_data",
          "data": {
            "application/vnd.livy.statement-meta+json": {
              "execution_finish_time": "2023-09-21T00:08:05.1691196Z",
              "execution_start_time": "2023-09-21T00:08:04.603838Z",
              "livy_statement_state": "available",
              "parent_msg_id": "f0ae95a9-9979-492a-81e9-d48237f8f02b",
              "queued_time": "2023-09-20T23:03:55.4917169Z",
              "session_id": "33",
              "session_start_time": null,
              "spark_jobs": null,
              "spark_pool": "sparkpvikeur",
              "state": "finished",
              "statement_id": 166
            },
            "text/plain": "StatementMeta(sparkpvikeur, 33, 166, Finished, Available)"
          },
          "metadata": {}
        },
        {
          "output_type": "display_data",
          "data": {
            "image/png": "[encoded data removed]",
            "text/plain": "<Figure size 864x432 with 1 Axes>"
          },
          "metadata": {
            "needs_background": "light"
          }
        }
      ],
      "execution_count": 165,
      "metadata": {
        "jupyter": {
          "outputs_hidden": false,
          "source_hidden": false
        },
        "nteract": {
          "transient": {
            "deleting": false
          }
        },
        "collapsed": false
      }
    }
  ],
  "metadata": {
    "kernelspec": {
      "name": "synapse_pyspark",
      "language": "Python",
      "display_name": "Synapse PySpark"
    },
    "language_info": {
      "name": "python"
    },
    "kernel_info": {
      "name": "synapse_pyspark"
    },
    "description": null,
    "save_output": true,
    "synapse_widget": {
      "version": "0.1",
      "state": {}
    }
  },
  "nbformat": 4,
  "nbformat_minor": 2
}