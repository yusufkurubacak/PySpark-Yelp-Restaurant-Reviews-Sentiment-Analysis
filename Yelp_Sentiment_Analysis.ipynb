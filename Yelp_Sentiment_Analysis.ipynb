{
  "cells": [
    {
      "cell_type": "markdown",
      "source": [
        "# Yelp Business Reviews - Sentiment Analysis"
      ],
      "metadata": {
        "nteract": {
          "transient": {
            "deleting": false
          }
        }
      }
    },
    {
      "cell_type": "markdown",
      "source": [
        "## Importing Libraries (will be edited)"
      ],
      "metadata": {}
    },
    {
      "cell_type": "code",
      "source": [
        "import nltk\n",
        "import numpy as np\n",
        "import pandas as pd\n",
        "import seaborn as sns\n",
        "import matplotlib.pyplot as plt\n",
        "#import findspark\n",
        "from pyspark.ml import Pipeline\n",
        "from pyspark.ml.clustering import KMeans\n",
        "from pyspark.ml.feature import IDF, StopWordsRemover, Tokenizer, VectorAssembler, CountVectorizer\n",
        "from pyspark.ml.linalg import Vector\n",
        "from pyspark.sql import SparkSession\n",
        "from pyspark.sql import functions as F\n",
        "from pyspark.sql.functions import col, length, lit, lower, regexp_replace, size, split, filter, udf, sum\n",
        "from pyspark.sql.functions import when\n",
        "from pyspark.sql.types import ArrayType,StringType, FloatType, StructType, StructField\n",
        "from pyspark.ml.classification import LogisticRegression\n",
        "from pyspark.ml.functions import vector_to_array"
      ],
      "outputs": [
        {
          "output_type": "display_data",
          "data": {
            "application/vnd.livy.statement-meta+json": {
              "spark_pool": "sparkpool",
              "session_id": "20",
              "statement_id": 46,
              "state": "finished",
              "livy_statement_state": "available",
              "queued_time": "2024-03-20T16:05:36.8207495Z",
              "session_start_time": null,
              "execution_start_time": "2024-03-20T16:05:36.9598603Z",
              "execution_finish_time": "2024-03-20T16:05:37.1052051Z",
              "spark_jobs": null,
              "parent_msg_id": "8bc42ab5-67ca-4e40-aeb1-6ff200e3f14d"
            },
            "text/plain": "StatementMeta(sparkpool, 20, 46, Finished, Available)"
          },
          "metadata": {}
        }
      ],
      "execution_count": 314,
      "metadata": {}
    },
    {
      "cell_type": "markdown",
      "source": [
        "## Creating Spark Session"
      ],
      "metadata": {}
    },
    {
      "cell_type": "code",
      "source": [
        "\"\"\" UNCOMMENT WHEN RUNNING ON LOCAL !!!\n",
        "# Create a spark session\n",
        "findspark.init()\n",
        "spark = SparkSession.builder \\\n",
        "    .appName(\"Yelp_Sentiment_Analysis\") \\\n",
        "    .master(\"local[8]\") \\\n",
        "    .config(\"spark.executor.memory\", \"10g\") \\\n",
        "    .config(\"spark.executor.cores\", \"3\") \\\n",
        "    .config(\"spark.driver.memory\", \"2g\") \\\n",
        "    .getOrCreate()\n",
        "\n",
        "### Patlarsa dene\n",
        "#.config(\"spark.memory.offHeap.enabled\",\"true\") \n",
        "#.config(\"spark.memory.offHeap.size\",\"10g\")\n",
        "\"\"\""
      ],
      "outputs": [
        {
          "output_type": "display_data",
          "data": {
            "application/vnd.livy.statement-meta+json": {
              "spark_pool": "sparkpool",
              "session_id": "18",
              "statement_id": 36,
              "state": "finished",
              "livy_statement_state": "available",
              "queued_time": "2024-03-20T15:18:07.5015591Z",
              "session_start_time": null,
              "execution_start_time": "2024-03-20T15:18:07.7541366Z",
              "execution_finish_time": "2024-03-20T15:18:07.9033721Z",
              "spark_jobs": null,
              "parent_msg_id": "a17c18d0-2ed0-4745-8226-37d8c2e39667"
            },
            "text/plain": "StatementMeta(sparkpool, 18, 36, Finished, Available)"
          },
          "metadata": {}
        },
        {
          "output_type": "execute_result",
          "execution_count": 73,
          "data": {
            "text/plain": "' UNCOMMENT WHEN RUNNING ON LOCAL !!!\\n# Create a spark session\\nfindspark.init()\\nspark = SparkSession.builder     .appName(\"Yelp_Sentiment_Analysis\")     .master(\"local[8]\")     .config(\"spark.executor.memory\", \"10g\")     .config(\"spark.executor.cores\", \"3\")     .config(\"spark.driver.memory\", \"2g\")     .getOrCreate()\\n\\n### Patlarsa dene\\n#.config(\"spark.memory.offHeap.enabled\",\"true\") \\n#.config(\"spark.memory.offHeap.size\",\"10g\")\\n'"
          },
          "metadata": {}
        }
      ],
      "execution_count": 190,
      "metadata": {}
    },
    {
      "cell_type": "code",
      "source": [
        "# Get config\n",
        "conf = spark.sparkContext.getConf()\n",
        "\n",
        "# Print the configuration settings\n",
        "print(\"spark.app.name = \", conf.get(\"spark.app.name\"))\n",
        "print(\"spark.master = \", conf.get(\"spark.master\"))\n",
        "print(\"spark.executor.memory = \", conf.get(\"spark.executor.memory\"))\n",
        "print(\"spark.executor.cores = \", conf.get(\"spark.executor.cores\")),\n",
        "print(\"spark.driver.memory = \", conf.get(\"spark.driver.memory\"))"
      ],
      "outputs": [
        {
          "output_type": "display_data",
          "data": {
            "application/vnd.livy.statement-meta+json": {
              "spark_pool": "sparkpool",
              "session_id": "20",
              "statement_id": 47,
              "state": "finished",
              "livy_statement_state": "available",
              "queued_time": "2024-03-20T16:05:41.4127033Z",
              "session_start_time": null,
              "execution_start_time": "2024-03-20T16:05:41.5517925Z",
              "execution_finish_time": "2024-03-20T16:05:41.7019949Z",
              "spark_jobs": null,
              "parent_msg_id": "aaaab4b9-5d3f-4828-bbcd-24f8577b1747"
            },
            "text/plain": "StatementMeta(sparkpool, 20, 47, Finished, Available)"
          },
          "metadata": {}
        },
        {
          "output_type": "stream",
          "name": "stdout",
          "text": [
            "spark.app.name =  Yelp_Sentiment_Analysis_sparkpool_1710949780\nspark.master =  yarn\nspark.executor.memory =  28g\nspark.executor.cores =  4\nspark.driver.memory =  28g\n"
          ]
        }
      ],
      "execution_count": 315,
      "metadata": {}
    },
    {
      "cell_type": "code",
      "source": [
        "\"\"\"\r\n",
        "# Source file pathways on local disk\r\n",
        "path_business = \"../yelp_academic_dataset_business.json\"\r\n",
        "path_review = \"../yelp_academic_dataset_review.json\"\r\n",
        "positive_path = \"../positive_words.txt\"\r\n",
        "negative_path = \"../negative_words.txt\"\r\n",
        "\"\"\""
      ],
      "outputs": [
        {
          "output_type": "display_data",
          "data": {
            "application/vnd.livy.statement-meta+json": {
              "spark_pool": "sparkpool",
              "session_id": "18",
              "statement_id": 38,
              "state": "finished",
              "livy_statement_state": "available",
              "queued_time": "2024-03-20T15:18:08.1226103Z",
              "session_start_time": null,
              "execution_start_time": "2024-03-20T15:18:08.7326712Z",
              "execution_finish_time": "2024-03-20T15:18:08.8872381Z",
              "spark_jobs": null,
              "parent_msg_id": "a856b4e9-2cb1-45ad-aa47-87479cab7ef5"
            },
            "text/plain": "StatementMeta(sparkpool, 18, 38, Finished, Available)"
          },
          "metadata": {}
        },
        {
          "output_type": "execute_result",
          "execution_count": 77,
          "data": {
            "text/plain": "'\\n# Source file pathways on local disk\\npath_business = \"../yelp_academic_dataset_business.json\"\\npath_review = \"../yelp_academic_dataset_review.json\"\\npositive_path = \"../positive_words.txt\"\\nnegative_path = \"../negative_words.txt\"\\n'"
          },
          "metadata": {}
        }
      ],
      "execution_count": 192,
      "metadata": {
        "jupyter": {
          "source_hidden": false,
          "outputs_hidden": false
        },
        "nteract": {
          "transient": {
            "deleting": false
          }
        }
      }
    },
    {
      "cell_type": "code",
      "source": [
        "\r\n",
        "# Source file pathways on ABFSS\r\n",
        "path_business = \"abfss://unity-catalog-storage@dbstoragepwtbcgut4qtn6.dfs.core.windows.net/yelp_academic_dataset_business.json\"\r\n",
        "path_review = \"abfss://unity-catalog-storage@dbstoragepwtbcgut4qtn6.dfs.core.windows.net/yelp_academic_dataset_review.json\"\r\n",
        "positive_path = \"abfss://unity-catalog-storage@dbstoragepwtbcgut4qtn6.dfs.core.windows.net/positive_words.txt\"\r\n",
        "negative_path = \"abfss://unity-catalog-storage@dbstoragepwtbcgut4qtn6.dfs.core.windows.net/negative_words.txt\"\r\n"
      ],
      "outputs": [
        {
          "output_type": "display_data",
          "data": {
            "application/vnd.livy.statement-meta+json": {
              "spark_pool": "sparkpool",
              "session_id": "20",
              "statement_id": 48,
              "state": "finished",
              "livy_statement_state": "available",
              "queued_time": "2024-03-20T16:05:44.6012202Z",
              "session_start_time": null,
              "execution_start_time": "2024-03-20T16:05:44.7617337Z",
              "execution_finish_time": "2024-03-20T16:05:44.9092294Z",
              "spark_jobs": null,
              "parent_msg_id": "9a854ffe-6b46-419a-9284-da2ea9c7d784"
            },
            "text/plain": "StatementMeta(sparkpool, 20, 48, Finished, Available)"
          },
          "metadata": {}
        }
      ],
      "execution_count": 316,
      "metadata": {
        "jupyter": {
          "source_hidden": false,
          "outputs_hidden": false
        },
        "nteract": {
          "transient": {
            "deleting": false
          }
        }
      }
    },
    {
      "cell_type": "markdown",
      "source": [
        "## Preprocessing of Business Dataset"
      ],
      "metadata": {}
    },
    {
      "cell_type": "code",
      "source": [
        "# Import business data\n",
        "business = spark.read.json(path_business)"
      ],
      "outputs": [
        {
          "output_type": "display_data",
          "data": {
            "application/vnd.livy.statement-meta+json": {
              "spark_pool": "sparkpool",
              "session_id": "20",
              "statement_id": 49,
              "state": "finished",
              "livy_statement_state": "available",
              "queued_time": "2024-03-20T16:05:46.7184721Z",
              "session_start_time": null,
              "execution_start_time": "2024-03-20T16:05:46.8547898Z",
              "execution_finish_time": "2024-03-20T16:05:48.6721728Z",
              "spark_jobs": null,
              "parent_msg_id": "d45bd580-c0e5-41af-bce7-d35b4fff04dd"
            },
            "text/plain": "StatementMeta(sparkpool, 20, 49, Finished, Available)"
          },
          "metadata": {}
        }
      ],
      "execution_count": 317,
      "metadata": {
        "jupyter": {
          "outputs_hidden": false,
          "source_hidden": false
        },
        "nteract": {
          "transient": {
            "deleting": false
          }
        },
        "collapsed": false
      }
    },
    {
      "cell_type": "code",
      "source": [
        "# Print first 10 rows\n",
        "business.show(n=10, truncate=10)"
      ],
      "outputs": [
        {
          "output_type": "display_data",
          "data": {
            "application/vnd.livy.statement-meta+json": {
              "spark_pool": "sparkpool",
              "session_id": "20",
              "statement_id": 50,
              "state": "finished",
              "livy_statement_state": "available",
              "queued_time": "2024-03-20T16:05:51.0630166Z",
              "session_start_time": null,
              "execution_start_time": "2024-03-20T16:05:51.1955864Z",
              "execution_finish_time": "2024-03-20T16:05:51.7492178Z",
              "spark_jobs": null,
              "parent_msg_id": "aa6c161f-67a6-449f-86f0-2d56681b89db"
            },
            "text/plain": "StatementMeta(sparkpool, 20, 50, Finished, Available)"
          },
          "metadata": {}
        },
        {
          "output_type": "stream",
          "name": "stdout",
          "text": [
            "+----------+----------+-----------+----------+----------+----------+-------+----------+----------+----------+-----------+------------+-----+-----+\n|   address|attributes|business_id|categories|      city|     hours|is_open|  latitude| longitude|      name|postal_code|review_count|stars|state|\n+----------+----------+-----------+----------+----------+----------+-------+----------+----------+----------+-----------+------------+-----+-----+\n|1616 Ch...|{null, ...| Pns2l4e...|Doctors...|Santa B...|      null|      0|34.4266787|-119.71...|Abby Ra...|      93101|           7|  5.0|   CA|\n|87 Gras...|{null, ...| mpf3x-B...|Shippin...|    Affton|{8:0-18...|      1| 38.551126|-90.335695|The UPS...|      63123|          15|  3.0|   MO|\n|5255 E ...|{null, ...| tUFrWir...|Departm...|    Tucson|{8:0-23...|      0| 32.223236|-110.88...|    Target|      85711|          22|  3.5|   AZ|\n|935 Rac...|{null, ...| MTSW4Mc...|Restaur...|Philade...|{7:0-21...|      1|39.9555052|-75.155...|St Hono...|      19107|          80|  4.0|   PA|\n|101 Wal...|{null, ...| mWMc6_w...|Brewpub...|Green Lane|{12:0-2...|      1|40.3381827|-75.471...|Perkiom...|      18054|          13|  4.5|   PA|\n|615 S M...|{null, ...| CF33F8-...|Burgers...|Ashland...|{9:0-0:...|      1| 36.269593|-87.058943|Sonic D...|      37015|           6|  2.0|   TN|\n|8522 Ea...|{null, ...| n_0UpQx...|Sportin...| Brentwood|{10:0-1...|      1| 38.627695|-90.340465|Famous ...|      63144|          13|  2.5|   MO|\n|400 Pas...|      null| qkRM_2X...|Synagog...|St. Pet...|{9:0-17...|      1|  27.76659|-82.732983|Temple ...|      33707|           5|  3.5|   FL|\n|8025 Ma...|{null, ...| k0hlBqX...|Pubs, R...|    Affton|      null|      0|38.5651648|-90.321...|Tsevi's...|      63123|          19|  3.0|   MO|\n|2312 Di...|{null, ...| bBDDEgk...|Ice Cre...| Nashville|{6:0-16...|      1|36.2081024|-86.768...|Sonic D...|      37207|          10|  1.5|   TN|\n+----------+----------+-----------+----------+----------+----------+-------+----------+----------+----------+-----------+------------+-----+-----+\nonly showing top 10 rows\n\n"
          ]
        }
      ],
      "execution_count": 318,
      "metadata": {}
    },
    {
      "cell_type": "code",
      "source": [
        "business = business.drop('attributes','hours')"
      ],
      "outputs": [
        {
          "output_type": "display_data",
          "data": {
            "application/vnd.livy.statement-meta+json": {
              "spark_pool": "sparkpool",
              "session_id": "20",
              "statement_id": 51,
              "state": "finished",
              "livy_statement_state": "available",
              "queued_time": "2024-03-20T16:06:15.4864674Z",
              "session_start_time": null,
              "execution_start_time": "2024-03-20T16:06:15.6242074Z",
              "execution_finish_time": "2024-03-20T16:06:15.7738155Z",
              "spark_jobs": null,
              "parent_msg_id": "79b6720c-af19-47cd-bbc3-877efc97ca5f"
            },
            "text/plain": "StatementMeta(sparkpool, 20, 51, Finished, Available)"
          },
          "metadata": {}
        }
      ],
      "execution_count": 319,
      "metadata": {
        "jupyter": {
          "source_hidden": false,
          "outputs_hidden": false
        },
        "nteract": {
          "transient": {
            "deleting": false
          }
        }
      }
    },
    {
      "cell_type": "code",
      "source": [
        "# Print current dataset schema\n",
        "business.printSchema()"
      ],
      "outputs": [
        {
          "output_type": "display_data",
          "data": {
            "application/vnd.livy.statement-meta+json": {
              "spark_pool": "sparkpool",
              "session_id": "20",
              "statement_id": 52,
              "state": "finished",
              "livy_statement_state": "available",
              "queued_time": "2024-03-20T16:06:18.4740834Z",
              "session_start_time": null,
              "execution_start_time": "2024-03-20T16:06:18.6101798Z",
              "execution_finish_time": "2024-03-20T16:06:18.756136Z",
              "spark_jobs": null,
              "parent_msg_id": "a9be1c8f-cb3d-47f8-9788-4462cbdb7797"
            },
            "text/plain": "StatementMeta(sparkpool, 20, 52, Finished, Available)"
          },
          "metadata": {}
        },
        {
          "output_type": "stream",
          "name": "stdout",
          "text": [
            "root\n |-- address: string (nullable = true)\n |-- business_id: string (nullable = true)\n |-- categories: string (nullable = true)\n |-- city: string (nullable = true)\n |-- is_open: long (nullable = true)\n |-- latitude: double (nullable = true)\n |-- longitude: double (nullable = true)\n |-- name: string (nullable = true)\n |-- postal_code: string (nullable = true)\n |-- review_count: long (nullable = true)\n |-- stars: double (nullable = true)\n |-- state: string (nullable = true)\n\n"
          ]
        }
      ],
      "execution_count": 320,
      "metadata": {}
    },
    {
      "cell_type": "code",
      "source": [
        "# Filter out rows with null 'categories'\n",
        "business = business.filter(col(\"categories\").isNotNull())"
      ],
      "outputs": [
        {
          "output_type": "display_data",
          "data": {
            "application/vnd.livy.statement-meta+json": {
              "spark_pool": "sparkpool",
              "session_id": "20",
              "statement_id": 53,
              "state": "finished",
              "livy_statement_state": "available",
              "queued_time": "2024-03-20T16:06:22.289159Z",
              "session_start_time": null,
              "execution_start_time": "2024-03-20T16:06:22.420468Z",
              "execution_finish_time": "2024-03-20T16:06:22.569169Z",
              "spark_jobs": null,
              "parent_msg_id": "06635b2e-2f4c-40ef-bae9-f34a516e9a9e"
            },
            "text/plain": "StatementMeta(sparkpool, 20, 53, Finished, Available)"
          },
          "metadata": {}
        }
      ],
      "execution_count": 321,
      "metadata": {}
    },
    {
      "cell_type": "code",
      "source": [
        "# Filter for businesses in US states\n",
        "states = [ \"AL\", \"AK\", \"AZ\", \"AR\", \"CA\", \"CO\", \"CT\", \"DC\", \"DE\", \"FL\", \"GA\", \"HI\", \"ID\", \"IL\", \"IN\", \"IA\", \"KS\", \"KY\", \"LA\", \"ME\", \"MD\", \"MA\", \"MI\", \"MN\", \"MS\",\\\n",
        " \"MO\", \"MT\", \"NE\", \"NV\", \"NH\", \"NJ\", \"NM\", \"NY\", \"NC\", \"ND\", \"OH\", \"OK\", \"OR\", \"PA\", \"RI\", \"SC\", \"SD\", \"TN\", \"TX\", \"UT\", \"VT\", \"VA\", \"WA\", \"WV\", \"WI\", \"WY\", ]\n",
        "\n",
        "usa = business.filter(col(\"state\").isin(states))"
      ],
      "outputs": [
        {
          "output_type": "display_data",
          "data": {
            "application/vnd.livy.statement-meta+json": {
              "spark_pool": "sparkpool",
              "session_id": "20",
              "statement_id": 54,
              "state": "finished",
              "livy_statement_state": "available",
              "queued_time": "2024-03-20T16:06:26.7342262Z",
              "session_start_time": null,
              "execution_start_time": "2024-03-20T16:06:26.8658822Z",
              "execution_finish_time": "2024-03-20T16:06:27.0220172Z",
              "spark_jobs": null,
              "parent_msg_id": "d8c9b9e7-8e22-4da7-bc4d-07c93b53c5ac"
            },
            "text/plain": "StatementMeta(sparkpool, 20, 54, Finished, Available)"
          },
          "metadata": {}
        }
      ],
      "execution_count": 322,
      "metadata": {}
    },
    {
      "cell_type": "code",
      "source": [
        "# Print out the total number of businesses in dataset\n",
        "print(f\"Number of US businesses in the dataset: {usa.count()}\")"
      ],
      "outputs": [
        {
          "output_type": "display_data",
          "data": {
            "application/vnd.livy.statement-meta+json": {
              "spark_pool": "sparkpool",
              "session_id": "20",
              "statement_id": 55,
              "state": "finished",
              "livy_statement_state": "available",
              "queued_time": "2024-03-20T16:06:43.052415Z",
              "session_start_time": null,
              "execution_start_time": "2024-03-20T16:06:43.2124634Z",
              "execution_finish_time": "2024-03-20T16:06:44.1862362Z",
              "spark_jobs": null,
              "parent_msg_id": "26a06507-a334-433a-ac28-92be59ef1711"
            },
            "text/plain": "StatementMeta(sparkpool, 20, 55, Finished, Available)"
          },
          "metadata": {}
        },
        {
          "output_type": "stream",
          "name": "stdout",
          "text": [
            "Number of US businesses in the dataset: 144669\n"
          ]
        }
      ],
      "execution_count": 323,
      "metadata": {}
    },
    {
      "cell_type": "code",
      "source": [
        "# Filter restaurants and print out the total number\n",
        "us_restaurants = usa.filter(usa[\"categories\"].contains(\"Restaurants\"))\n",
        "print(f\"Number of total US restaurants in the dataset: {us_restaurants.count()}\")"
      ],
      "outputs": [
        {
          "output_type": "display_data",
          "data": {
            "application/vnd.livy.statement-meta+json": {
              "spark_pool": "sparkpool",
              "session_id": "20",
              "statement_id": 56,
              "state": "finished",
              "livy_statement_state": "available",
              "queued_time": "2024-03-20T16:06:48.5201368Z",
              "session_start_time": null,
              "execution_start_time": "2024-03-20T16:06:48.6551432Z",
              "execution_finish_time": "2024-03-20T16:06:49.7500498Z",
              "spark_jobs": null,
              "parent_msg_id": "0b9724db-58b1-4bdf-8fec-1b03bb8efe3c"
            },
            "text/plain": "StatementMeta(sparkpool, 20, 56, Finished, Available)"
          },
          "metadata": {}
        },
        {
          "output_type": "stream",
          "name": "stdout",
          "text": [
            "Number of total US restaurants in the dataset: 49857\n"
          ]
        }
      ],
      "execution_count": 324,
      "metadata": {}
    },
    {
      "cell_type": "code",
      "source": [
        "# Label every row with their respective type of cuisine\n",
        "us_restaurants = us_restaurants.withColumn(\n",
        "    \"category\",\n",
        "    when(col(\"categories\").contains(\"Korean\"), \"Korean\")\n",
        "    .when(col(\"categories\").contains(\"Thai\"), \"Thai\")\n",
        "    .when(col(\"categories\").contains(\"French\"), \"French\")\n",
        "    .when(col(\"categories\").contains(\"Greek\"), \"Greek\")\n",
        "    .when(col(\"categories\").contains(\"Indian\"), \"Indian\")\n",
        "    .when(col(\"categories\").contains(\"Hawaiian\"), \"Hawaiian\")\n",
        "    .when(col(\"categories\").contains(\"African\"), \"African\")\n",
        "    .when(col(\"categories\").contains(\"Spanish\"), \"Spanish\")\n",
        ")"
      ],
      "outputs": [
        {
          "output_type": "display_data",
          "data": {
            "application/vnd.livy.statement-meta+json": {
              "spark_pool": "sparkpool",
              "session_id": "20",
              "statement_id": 57,
              "state": "finished",
              "livy_statement_state": "available",
              "queued_time": "2024-03-20T16:06:57.5709603Z",
              "session_start_time": null,
              "execution_start_time": "2024-03-20T16:06:57.7304113Z",
              "execution_finish_time": "2024-03-20T16:06:57.8775746Z",
              "spark_jobs": null,
              "parent_msg_id": "33bd8029-5640-4d35-8558-8cf3b51c3f02"
            },
            "text/plain": "StatementMeta(sparkpool, 20, 57, Finished, Available)"
          },
          "metadata": {}
        }
      ],
      "execution_count": 325,
      "metadata": {}
    },
    {
      "cell_type": "code",
      "source": [
        "# Drop the old category column and filter out null categories\n",
        "us_restaurants = us_restaurants.drop(\"categories\")\n",
        "us_restaurants = us_restaurants.filter(col(\"category\").isNotNull())"
      ],
      "outputs": [
        {
          "output_type": "display_data",
          "data": {
            "application/vnd.livy.statement-meta+json": {
              "spark_pool": "sparkpool",
              "session_id": "20",
              "statement_id": 58,
              "state": "finished",
              "livy_statement_state": "available",
              "queued_time": "2024-03-20T16:07:10.6056696Z",
              "session_start_time": null,
              "execution_start_time": "2024-03-20T16:07:10.7391686Z",
              "execution_finish_time": "2024-03-20T16:07:10.895124Z",
              "spark_jobs": null,
              "parent_msg_id": "6c2d1dbd-631a-4981-b1cf-f5ac146e2c10"
            },
            "text/plain": "StatementMeta(sparkpool, 20, 58, Finished, Available)"
          },
          "metadata": {}
        }
      ],
      "execution_count": 326,
      "metadata": {}
    },
    {
      "cell_type": "code",
      "source": [
        "# Print out the number of restaurants that are labeled by their cuisine types\n",
        "print(f\"Number of labeled US restaurants in the dataset: {us_restaurants.count()}\")"
      ],
      "outputs": [
        {
          "output_type": "display_data",
          "data": {
            "application/vnd.livy.statement-meta+json": {
              "spark_pool": "sparkpool",
              "session_id": "20",
              "statement_id": 59,
              "state": "finished",
              "livy_statement_state": "available",
              "queued_time": "2024-03-20T16:07:22.432041Z",
              "session_start_time": null,
              "execution_start_time": "2024-03-20T16:07:22.5764406Z",
              "execution_finish_time": "2024-03-20T16:07:23.6421411Z",
              "spark_jobs": null,
              "parent_msg_id": "f45855ca-2917-4132-9048-7839001edc98"
            },
            "text/plain": "StatementMeta(sparkpool, 20, 59, Finished, Available)"
          },
          "metadata": {}
        },
        {
          "output_type": "stream",
          "name": "stdout",
          "text": [
            "Number of labeled US restaurants in the dataset: 3819\n"
          ]
        }
      ],
      "execution_count": 327,
      "metadata": {}
    },
    {
      "cell_type": "code",
      "source": [
        "# Check if the dataset contains any duplicated businesses\n",
        "us_restaurants.groupBy(\"business_id\").count().filter(col(\"count\") > 1).count()"
      ],
      "outputs": [
        {
          "output_type": "display_data",
          "data": {
            "application/vnd.livy.statement-meta+json": {
              "spark_pool": "sparkpool",
              "session_id": "20",
              "statement_id": 17,
              "state": "finished",
              "livy_statement_state": "available",
              "queued_time": "2024-03-20T15:52:48.019294Z",
              "session_start_time": null,
              "execution_start_time": "2024-03-20T15:52:49.3594949Z",
              "execution_finish_time": "2024-03-20T15:52:53.3024401Z",
              "spark_jobs": null,
              "parent_msg_id": "9a3947da-ef49-4370-aeac-b761ff196586"
            },
            "text/plain": "StatementMeta(sparkpool, 20, 17, Finished, Available)"
          },
          "metadata": {}
        },
        {
          "output_type": "execute_result",
          "execution_count": 35,
          "data": {
            "text/plain": "0"
          },
          "metadata": {}
        }
      ],
      "execution_count": 285,
      "metadata": {
        "jupyter": {
          "outputs_hidden": false,
          "source_hidden": false
        },
        "nteract": {
          "transient": {
            "deleting": false
          }
        },
        "collapsed": false
      }
    },
    {
      "cell_type": "code",
      "source": [
        "us_restaurants.show(5)"
      ],
      "outputs": [
        {
          "output_type": "display_data",
          "data": {
            "application/vnd.livy.statement-meta+json": {
              "spark_pool": "sparkpool",
              "session_id": "20",
              "statement_id": 60,
              "state": "finished",
              "livy_statement_state": "available",
              "queued_time": "2024-03-20T16:07:39.1090915Z",
              "session_start_time": null,
              "execution_start_time": "2024-03-20T16:07:39.9733059Z",
              "execution_finish_time": "2024-03-20T16:07:40.1309591Z",
              "spark_jobs": null,
              "parent_msg_id": "3e2f1d79-53a9-4013-988e-b77f70d4b873"
            },
            "text/plain": "StatementMeta(sparkpool, 20, 60, Finished, Available)"
          },
          "metadata": {}
        },
        {
          "output_type": "stream",
          "name": "stdout",
          "text": [
            "+--------------------+--------------------+---------------+-------+-------------+--------------+--------------------+-----------+------------+-----+-----+--------+\n|             address|         business_id|           city|is_open|     latitude|     longitude|                name|postal_code|review_count|stars|state|category|\n+--------------------+--------------------+---------------+-------+-------------+--------------+--------------------+-----------+------------+-----+-----+--------+\n|   8025 Mackenzie Rd|k0hlBqXX-Bt0vf1op...|         Affton|      0|   38.5651648|   -90.3210868|Tsevi's Pub And G...|      63123|          19|  3.0|   MO|   Greek|\n|       1224 South St|ROeacJQwBeh05Rqg7...|   Philadelphia|      1|    39.943223|    -75.162568|                 BAP|      19147|         205|  4.5|   PA|  Korean|\n|       163 107th Ave|vje0KIiE7vtpx7Jzm...|Treasure Island|      1|   27.7694046|    -82.767317|           The Pearl|      33706|         129|  4.0|   FL|  French|\n|2E Summit Sq Shop...|vPcfJ3rm3NpdqVDod...|      Langhorne|      1|   40.2177843|   -74.9265858|         China Pearl|      19047|          27|  1.5|   PA|    Thai|\n|      6614 Osteen Rd|8c0r7olQSYGcws0bT...|New Port Richey|      0|28.2502179787|-82.6824409515|       Zesty Tsunami|      34653|           5|  4.0|   FL|Hawaiian|\n+--------------------+--------------------+---------------+-------+-------------+--------------+--------------------+-----------+------------+-----+-----+--------+\nonly showing top 5 rows\n\n"
          ]
        }
      ],
      "execution_count": 328,
      "metadata": {
        "jupyter": {
          "source_hidden": false,
          "outputs_hidden": false
        },
        "nteract": {
          "transient": {
            "deleting": false
          }
        }
      }
    },
    {
      "cell_type": "markdown",
      "source": [
        "## Preprocessing of Review Dataset"
      ],
      "metadata": {
        "nteract": {
          "transient": {
            "deleting": false
          }
        }
      }
    },
    {
      "cell_type": "code",
      "source": [
        "# Import review data\n",
        "review = spark.read.json(path_review)"
      ],
      "outputs": [
        {
          "output_type": "display_data",
          "data": {
            "application/vnd.livy.statement-meta+json": {
              "spark_pool": "sparkpool",
              "session_id": "20",
              "statement_id": 61,
              "state": "finished",
              "livy_statement_state": "available",
              "queued_time": "2024-03-20T16:07:45.5686955Z",
              "session_start_time": null,
              "execution_start_time": "2024-03-20T16:07:45.7119051Z",
              "execution_finish_time": "2024-03-20T16:08:00.3670223Z",
              "spark_jobs": null,
              "parent_msg_id": "3e3bc54d-9ab3-4f7a-9dda-9ec1c499bbdd"
            },
            "text/plain": "StatementMeta(sparkpool, 20, 61, Finished, Available)"
          },
          "metadata": {}
        }
      ],
      "execution_count": 329,
      "metadata": {
        "jupyter": {
          "outputs_hidden": false,
          "source_hidden": false
        },
        "nteract": {
          "transient": {
            "deleting": false
          }
        },
        "collapsed": false
      }
    },
    {
      "cell_type": "code",
      "source": [
        "# Print first 10 rows\n",
        "review.show(n=10, truncate=20)"
      ],
      "outputs": [
        {
          "output_type": "display_data",
          "data": {
            "application/vnd.livy.statement-meta+json": {
              "spark_pool": "sparkpool",
              "session_id": "20",
              "statement_id": 62,
              "state": "finished",
              "livy_statement_state": "available",
              "queued_time": "2024-03-20T16:07:49.5188485Z",
              "session_start_time": null,
              "execution_start_time": "2024-03-20T16:08:00.5439614Z",
              "execution_finish_time": "2024-03-20T16:08:01.0874159Z",
              "spark_jobs": null,
              "parent_msg_id": "27f31cbb-021a-4224-b45f-587f39dc01ba"
            },
            "text/plain": "StatementMeta(sparkpool, 20, 62, Finished, Available)"
          },
          "metadata": {}
        },
        {
          "output_type": "stream",
          "name": "stdout",
          "text": [
            "+--------------------+----+-------------------+-----+--------------------+-----+--------------------+------+--------------------+\n|         business_id|cool|               date|funny|           review_id|stars|                text|useful|             user_id|\n+--------------------+----+-------------------+-----+--------------------+-----+--------------------+------+--------------------+\n|XQfwVwDr-v0ZS3_Cb...|   0|2018-07-07 22:09:11|    0|KU_O5udG6zpxOg-Vc...|  3.0|If you decide to ...|     0|mh_-eMZ6K5RLWhZyI...|\n|7ATYjTIgM3jUlt4UM...|   1|2012-01-03 15:28:18|    0|BiTunyQ73aT9WBnpR...|  5.0|I've taken a lot ...|     1|OyoGAe7OKpv6SyGZT...|\n|YjUWPpI6HXG530lwP...|   0|2014-02-05 20:30:30|    0|saUsX_uimxRlCVr67...|  3.0|Family diner. Had...|     0|8g_iMtfSiwikVnbP2...|\n|kxX2SOes4o-D3ZQBk...|   1|2015-01-04 00:01:03|    0|AqPFMleE6RsU23_au...|  5.0|Wow!  Yummy, diff...|     1|_7bHUi9Uuf5__HHc_...|\n|e4Vwtrqf-wpJfwesg...|   1|2017-01-14 20:54:15|    0|Sx8TMOWLNuJBWer-0...|  4.0|Cute interior and...|     1|bcjbaE6dDog4jkNY9...|\n|04UD14gamNjLY0IDY...|   1|2015-09-23 23:10:31|    2|JrIxlS1TzJ-iCu79u...|  1.0|I am a long term ...|     1|eUta8W_HdHMXPzLBB...|\n|gmjsEdUsKpj9Xxu6p...|   0|2015-01-03 23:21:18|    2|6AxgBCNX_PNTOxmbR...|  5.0|Loved this tour! ...|     0|r3zeYsv1XFBRA4dJp...|\n|LHSTtnW3YHCeUkRDG...|   0|2015-08-07 02:29:16|    0|_ZeMknuYdlQcUqng_...|  5.0|Amazingly amazing...|     2|yfFzsLmaWF2d4Sr0U...|\n|B5XSoSG3SfvQGtKEG...|   0|2016-03-30 22:46:33|    1|ZKvDG2sBvHVdF5oBN...|  3.0|This easter inste...|     1|wSTuiTk-sKNdcFypr...|\n|gebiRewfieSdtt17P...|   0|2016-07-25 07:31:06|    0|pUycOfUwM8vqX7KjR...|  3.0|Had a party of 6 ...|     0|59MxRhNVhU9MYndMk...|\n+--------------------+----+-------------------+-----+--------------------+-----+--------------------+------+--------------------+\nonly showing top 10 rows\n\n"
          ]
        }
      ],
      "execution_count": 330,
      "metadata": {}
    },
    {
      "cell_type": "code",
      "source": [
        "review = review.select('business_id','text','stars')"
      ],
      "outputs": [
        {
          "output_type": "display_data",
          "data": {
            "application/vnd.livy.statement-meta+json": {
              "spark_pool": "sparkpool",
              "session_id": "20",
              "statement_id": 63,
              "state": "finished",
              "livy_statement_state": "available",
              "queued_time": "2024-03-20T16:08:26.6972891Z",
              "session_start_time": null,
              "execution_start_time": "2024-03-20T16:08:26.8327949Z",
              "execution_finish_time": "2024-03-20T16:08:27.5632979Z",
              "spark_jobs": null,
              "parent_msg_id": "f7ff9826-2de2-46d3-a859-a41d07c1b370"
            },
            "text/plain": "StatementMeta(sparkpool, 20, 63, Finished, Available)"
          },
          "metadata": {}
        }
      ],
      "execution_count": 331,
      "metadata": {
        "jupyter": {
          "source_hidden": false,
          "outputs_hidden": false
        },
        "nteract": {
          "transient": {
            "deleting": false
          }
        }
      }
    },
    {
      "cell_type": "code",
      "source": [
        "# Print current dataset schema\n",
        "review.printSchema()"
      ],
      "outputs": [
        {
          "output_type": "display_data",
          "data": {
            "application/vnd.livy.statement-meta+json": {
              "spark_pool": "sparkpool",
              "session_id": "20",
              "statement_id": 64,
              "state": "finished",
              "livy_statement_state": "available",
              "queued_time": "2024-03-20T16:08:29.5359054Z",
              "session_start_time": null,
              "execution_start_time": "2024-03-20T16:08:29.6738599Z",
              "execution_finish_time": "2024-03-20T16:08:29.8200883Z",
              "spark_jobs": null,
              "parent_msg_id": "e51e522e-59df-4ccf-ae4e-10a0cadbe0a8"
            },
            "text/plain": "StatementMeta(sparkpool, 20, 64, Finished, Available)"
          },
          "metadata": {}
        },
        {
          "output_type": "stream",
          "name": "stdout",
          "text": [
            "root\n |-- business_id: string (nullable = true)\n |-- text: string (nullable = true)\n |-- stars: double (nullable = true)\n\n"
          ]
        }
      ],
      "execution_count": 332,
      "metadata": {}
    },
    {
      "cell_type": "markdown",
      "source": [
        "## Merging Business and Review Datasets"
      ],
      "metadata": {
        "nteract": {
          "transient": {
            "deleting": false
          }
        }
      }
    },
    {
      "cell_type": "code",
      "source": [
        "# Change the names of 'stars' columns in both datasets to avoid confusion\n",
        "us_restaurants = us_restaurants.withColumnRenamed(\"stars\", \"avg_star\")\n",
        "review = review.withColumnRenamed(\"stars\", \"review_star\")"
      ],
      "outputs": [
        {
          "output_type": "display_data",
          "data": {
            "application/vnd.livy.statement-meta+json": {
              "spark_pool": "sparkpool",
              "session_id": "20",
              "statement_id": 65,
              "state": "finished",
              "livy_statement_state": "available",
              "queued_time": "2024-03-20T16:08:33.8431609Z",
              "session_start_time": null,
              "execution_start_time": "2024-03-20T16:08:33.9766096Z",
              "execution_finish_time": "2024-03-20T16:08:34.1335507Z",
              "spark_jobs": null,
              "parent_msg_id": "c52d9eb9-7359-451b-8b54-c13ce9b164fa"
            },
            "text/plain": "StatementMeta(sparkpool, 20, 65, Finished, Available)"
          },
          "metadata": {}
        }
      ],
      "execution_count": 333,
      "metadata": {
        "jupyter": {
          "outputs_hidden": false,
          "source_hidden": false
        },
        "nteract": {
          "transient": {
            "deleting": false
          }
        },
        "collapsed": false
      }
    },
    {
      "cell_type": "code",
      "source": [
        "# Merge the dataframes on 'business_id'\n",
        "restaurants_reviews = us_restaurants.join(review, on=\"business_id\", how=\"inner\")"
      ],
      "outputs": [
        {
          "output_type": "display_data",
          "data": {
            "application/vnd.livy.statement-meta+json": {
              "spark_pool": "sparkpool",
              "session_id": "20",
              "statement_id": 66,
              "state": "finished",
              "livy_statement_state": "available",
              "queued_time": "2024-03-20T16:08:38.2073486Z",
              "session_start_time": null,
              "execution_start_time": "2024-03-20T16:08:38.3507725Z",
              "execution_finish_time": "2024-03-20T16:08:38.494882Z",
              "spark_jobs": null,
              "parent_msg_id": "c6455e48-fe54-47a3-b7da-66731aa6f0a9"
            },
            "text/plain": "StatementMeta(sparkpool, 20, 66, Finished, Available)"
          },
          "metadata": {}
        }
      ],
      "execution_count": 334,
      "metadata": {
        "jupyter": {
          "outputs_hidden": false,
          "source_hidden": false
        },
        "nteract": {
          "transient": {
            "deleting": false
          }
        },
        "collapsed": false
      }
    },
    {
      "cell_type": "code",
      "source": [
        "# Print the schema of merged dataframe\n",
        "restaurants_reviews.printSchema()"
      ],
      "outputs": [
        {
          "output_type": "display_data",
          "data": {
            "application/vnd.livy.statement-meta+json": {
              "spark_pool": "sparkpool",
              "session_id": "20",
              "statement_id": 67,
              "state": "finished",
              "livy_statement_state": "available",
              "queued_time": "2024-03-20T16:08:44.6365708Z",
              "session_start_time": null,
              "execution_start_time": "2024-03-20T16:08:44.7689873Z",
              "execution_finish_time": "2024-03-20T16:08:44.9143567Z",
              "spark_jobs": null,
              "parent_msg_id": "a2ec10c9-12f3-46d4-bc3c-722d887acf1a"
            },
            "text/plain": "StatementMeta(sparkpool, 20, 67, Finished, Available)"
          },
          "metadata": {}
        },
        {
          "output_type": "stream",
          "name": "stdout",
          "text": [
            "root\n |-- business_id: string (nullable = true)\n |-- address: string (nullable = true)\n |-- city: string (nullable = true)\n |-- is_open: long (nullable = true)\n |-- latitude: double (nullable = true)\n |-- longitude: double (nullable = true)\n |-- name: string (nullable = true)\n |-- postal_code: string (nullable = true)\n |-- review_count: long (nullable = true)\n |-- avg_star: double (nullable = true)\n |-- state: string (nullable = true)\n |-- category: string (nullable = true)\n |-- text: string (nullable = true)\n |-- review_star: double (nullable = true)\n\n"
          ]
        }
      ],
      "execution_count": 335,
      "metadata": {
        "jupyter": {
          "outputs_hidden": false,
          "source_hidden": false
        },
        "nteract": {
          "transient": {
            "deleting": false
          }
        },
        "collapsed": false,
        "scrolled": true
      }
    },
    {
      "cell_type": "markdown",
      "source": [
        "## Preprocessing of Restaurants_Reviews Dataset"
      ],
      "metadata": {}
    },
    {
      "cell_type": "code",
      "source": [
        "# Create a 'labels' column\n",
        "# 4-5 Stars --> Positive\n",
        "# 3 Stars --> Neutral\n",
        "# 1-2 Stars --> Negative\n",
        "restaurants_reviews = restaurants_reviews.withColumn(\n",
        "    \"labels\",\n",
        "    when(restaurants_reviews[\"review_star\"] >= 4, \"positive\")\n",
        "    .when(restaurants_reviews[\"review_star\"] == 3, \"neutral\")\n",
        "    .when(restaurants_reviews[\"review_star\"] < 3, \"negative\"),\n",
        ")"
      ],
      "outputs": [
        {
          "output_type": "display_data",
          "data": {
            "application/vnd.livy.statement-meta+json": {
              "spark_pool": "sparkpool",
              "session_id": "20",
              "statement_id": 68,
              "state": "finished",
              "livy_statement_state": "available",
              "queued_time": "2024-03-20T16:08:52.6532642Z",
              "session_start_time": null,
              "execution_start_time": "2024-03-20T16:08:52.7962737Z",
              "execution_finish_time": "2024-03-20T16:08:52.9473009Z",
              "spark_jobs": null,
              "parent_msg_id": "ba3de84a-bb67-4ad3-aada-3b7a52005eec"
            },
            "text/plain": "StatementMeta(sparkpool, 20, 68, Finished, Available)"
          },
          "metadata": {}
        }
      ],
      "execution_count": 336,
      "metadata": {}
    },
    {
      "cell_type": "code",
      "source": [
        "# Filter out neutral reviews and count the rest\n",
        "restaurants_reviews = restaurants_reviews.where(\n",
        "    restaurants_reviews[\"labels\"] != \"neutral\"\n",
        ")\n",
        "print(f'The number of positive and negative reviews : {restaurants_reviews.count()}')"
      ],
      "outputs": [
        {
          "output_type": "display_data",
          "data": {
            "application/vnd.livy.statement-meta+json": {
              "spark_pool": "sparkpool",
              "session_id": "20",
              "statement_id": 69,
              "state": "finished",
              "livy_statement_state": "available",
              "queued_time": "2024-03-20T16:08:57.6138765Z",
              "session_start_time": null,
              "execution_start_time": "2024-03-20T16:08:57.9468444Z",
              "execution_finish_time": "2024-03-20T16:09:11.8481678Z",
              "spark_jobs": null,
              "parent_msg_id": "dc1463bf-c285-4656-a65b-8636a3ad9f25"
            },
            "text/plain": "StatementMeta(sparkpool, 20, 69, Finished, Available)"
          },
          "metadata": {}
        },
        {
          "output_type": "stream",
          "name": "stdout",
          "text": [
            "The number of positive and negative reviews : 419726\n"
          ]
        }
      ],
      "execution_count": 337,
      "metadata": {}
    },
    {
      "cell_type": "code",
      "source": [
        "# Show the distribution of reviews by category\r\n",
        "restaurants_reviews.groupBy('category').count().sort('count',ascending = False).show()"
      ],
      "outputs": [
        {
          "output_type": "display_data",
          "data": {
            "application/vnd.livy.statement-meta+json": {
              "spark_pool": "sparkpool",
              "session_id": "20",
              "statement_id": 70,
              "state": "finished",
              "livy_statement_state": "available",
              "queued_time": "2024-03-20T16:09:15.3453321Z",
              "session_start_time": null,
              "execution_start_time": "2024-03-20T16:09:15.4936309Z",
              "execution_finish_time": "2024-03-20T16:09:30.5469587Z",
              "spark_jobs": null,
              "parent_msg_id": "05dff143-2bea-4417-8c11-ed18cc19186e"
            },
            "text/plain": "StatementMeta(sparkpool, 20, 70, Finished, Available)"
          },
          "metadata": {}
        },
        {
          "output_type": "stream",
          "name": "stdout",
          "text": [
            "+--------+-----+\n|category|count|\n+--------+-----+\n|    Thai|99373|\n|  French|81571|\n|  Indian|66369|\n|   Greek|63339|\n|  Korean|48354|\n| Spanish|33161|\n|Hawaiian|21394|\n| African| 6165|\n+--------+-----+\n\n"
          ]
        }
      ],
      "execution_count": 338,
      "metadata": {
        "jupyter": {
          "source_hidden": false,
          "outputs_hidden": false
        },
        "nteract": {
          "transient": {
            "deleting": false
          }
        }
      }
    },
    {
      "cell_type": "markdown",
      "source": [
        "## Data Transformation on Reviews"
      ],
      "metadata": {}
    },
    {
      "cell_type": "code",
      "source": [
        "# Show 'text' column before transformation\n",
        "restaurants_reviews.select(\"text\").show(10, truncate=80)"
      ],
      "outputs": [
        {
          "output_type": "display_data",
          "data": {
            "application/vnd.livy.statement-meta+json": {
              "spark_pool": "sparkpool",
              "session_id": "20",
              "statement_id": 71,
              "state": "finished",
              "livy_statement_state": "available",
              "queued_time": "2024-03-20T16:09:21.2610863Z",
              "session_start_time": null,
              "execution_start_time": "2024-03-20T16:09:30.6901698Z",
              "execution_finish_time": "2024-03-20T16:09:32.5033949Z",
              "spark_jobs": null,
              "parent_msg_id": "eadc4e1e-db5b-4ab8-a946-0771817d3303"
            },
            "text/plain": "StatementMeta(sparkpool, 20, 71, Finished, Available)"
          },
          "metadata": {}
        },
        {
          "output_type": "stream",
          "name": "stdout",
          "text": [
            "+--------------------------------------------------------------------------------+\n|                                                                            text|\n+--------------------------------------------------------------------------------+\n|Wow!  Yummy, different,  delicious.   Our favorite is the lamb curry and korm...|\n|I am a long term frequent customer of this establishment. I just went in to o...|\n|I was really between 3 and 4 stars for this one. I LOVE the 96th street Naked...|\n|Best thai food in the area.  Everything was authentic and delicious.  Will de...|\n|It was my fiance's birthday and he decided he wanted a good, laid back Thai r...|\n|My go to menu is coconut soup and pad thai with protein. I tried same menu he...|\n|Been here so many times before and all I can say is the food is really good. ...|\n|This is the first time I tried this place and  I was surprisingly surprised. ...|\n|I must admit, I wasn't expecting much. This place totally blew us away. This ...|\n|We have been here twice for brunch and have enjoyed it immensely. Everything ...|\n+--------------------------------------------------------------------------------+\nonly showing top 10 rows\n\n"
          ]
        }
      ],
      "execution_count": 339,
      "metadata": {}
    },
    {
      "cell_type": "code",
      "source": [
        "# Convert 'text' to lowercase\n",
        "restaurants_reviews = restaurants_reviews.withColumn(\"text\", F.lower(F.col(\"text\")))"
      ],
      "outputs": [
        {
          "output_type": "display_data",
          "data": {
            "application/vnd.livy.statement-meta+json": {
              "spark_pool": "sparkpool",
              "session_id": "20",
              "statement_id": 72,
              "state": "finished",
              "livy_statement_state": "available",
              "queued_time": "2024-03-20T16:09:36.5893954Z",
              "session_start_time": null,
              "execution_start_time": "2024-03-20T16:09:36.7091932Z",
              "execution_finish_time": "2024-03-20T16:09:36.860061Z",
              "spark_jobs": null,
              "parent_msg_id": "f8eb0081-0b07-47de-8b38-5fdb922a887a"
            },
            "text/plain": "StatementMeta(sparkpool, 20, 72, Finished, Available)"
          },
          "metadata": {}
        }
      ],
      "execution_count": 340,
      "metadata": {}
    },
    {
      "cell_type": "code",
      "source": [
        "# Transform review text by using regular expressions\n",
        "\n",
        "# Replace all non-alphanumeric characters with a whitespace.\n",
        "restaurants_reviews = restaurants_reviews.withColumn(\n",
        "    \"text_clean\", F.regexp_replace(F.col(\"text\"), \"[^a-zA-Z0-9\\s]\", \" \")\n",
        ")\n",
        "\n",
        "# Replace all line break character with a whitespace.\n",
        "restaurants_reviews = restaurants_reviews.withColumn(\n",
        "    \"text_clean\", F.regexp_replace(F.col(\"text_clean\"), \"\\n\", \" \")\n",
        ")\n",
        "\n",
        "# Replace all consecutive whitespaces with a single whitespace.\n",
        "restaurants_reviews = restaurants_reviews.withColumn(\n",
        "    \"text_clean\", F.regexp_replace(F.col(\"text_clean\"), \"\\\\s+\", \" \")\n",
        ")\n",
        "\n",
        "# Delete all whitespace characters at the end of each string.\n",
        "restaurants_reviews = restaurants_reviews.withColumn(\n",
        "    \"text_clean\", F.regexp_replace(F.col(\"text_clean\"), \"\\s+$\", \"\")\n",
        ")"
      ],
      "outputs": [
        {
          "output_type": "display_data",
          "data": {
            "application/vnd.livy.statement-meta+json": {
              "spark_pool": "sparkpool",
              "session_id": "20",
              "statement_id": 73,
              "state": "finished",
              "livy_statement_state": "available",
              "queued_time": "2024-03-20T16:09:38.9263801Z",
              "session_start_time": null,
              "execution_start_time": "2024-03-20T16:09:39.0507214Z",
              "execution_finish_time": "2024-03-20T16:09:39.2089926Z",
              "spark_jobs": null,
              "parent_msg_id": "aff5fb0b-b7f2-4bcc-b3f2-50505c2ff5a8"
            },
            "text/plain": "StatementMeta(sparkpool, 20, 73, Finished, Available)"
          },
          "metadata": {}
        }
      ],
      "execution_count": 341,
      "metadata": {
        "jupyter": {
          "outputs_hidden": false,
          "source_hidden": false
        },
        "nteract": {
          "transient": {
            "deleting": false
          }
        },
        "collapsed": false
      }
    },
    {
      "cell_type": "code",
      "source": [
        "# Show 'text_clean' column after transformation\n",
        "restaurants_reviews.select(\"text_clean\").show(10, truncate=50)"
      ],
      "outputs": [
        {
          "output_type": "display_data",
          "data": {
            "application/vnd.livy.statement-meta+json": {
              "spark_pool": "sparkpool",
              "session_id": "20",
              "statement_id": 74,
              "state": "finished",
              "livy_statement_state": "available",
              "queued_time": "2024-03-20T16:09:44.1985284Z",
              "session_start_time": null,
              "execution_start_time": "2024-03-20T16:09:44.3378456Z",
              "execution_finish_time": "2024-03-20T16:09:45.4181451Z",
              "spark_jobs": null,
              "parent_msg_id": "3e282335-23c1-4ed5-a6c6-7ab46aa3c80e"
            },
            "text/plain": "StatementMeta(sparkpool, 20, 74, Finished, Available)"
          },
          "metadata": {}
        },
        {
          "output_type": "stream",
          "name": "stdout",
          "text": [
            "+--------------------------------------------------+\n|                                        text_clean|\n+--------------------------------------------------+\n|wow yummy different delicious our favorite is t...|\n|i am a long term frequent customer of this esta...|\n|i was really between 3 and 4 stars for this one...|\n|best thai food in the area everything was authe...|\n|it was my fiance s birthday and he decided he w...|\n|my go to menu is coconut soup and pad thai with...|\n|been here so many times before and all i can sa...|\n|this is the first time i tried this place and i...|\n|i must admit i wasn t expecting much this place...|\n|we have been here twice for brunch and have enj...|\n+--------------------------------------------------+\nonly showing top 10 rows\n\n"
          ]
        }
      ],
      "execution_count": 342,
      "metadata": {}
    },
    {
      "cell_type": "code",
      "source": [
        "restaurants_reviews = restaurants_reviews.withColumn('labels_bool', when(col('labels') == 'positive' , 1).otherwise(0))"
      ],
      "outputs": [
        {
          "output_type": "display_data",
          "data": {
            "application/vnd.livy.statement-meta+json": {
              "spark_pool": "sparkpool",
              "session_id": "20",
              "statement_id": 75,
              "state": "finished",
              "livy_statement_state": "available",
              "queued_time": "2024-03-20T16:09:48.9975156Z",
              "session_start_time": null,
              "execution_start_time": "2024-03-20T16:09:49.1269884Z",
              "execution_finish_time": "2024-03-20T16:09:49.2851282Z",
              "spark_jobs": null,
              "parent_msg_id": "298a398b-e07b-4a3c-a273-51a942d82317"
            },
            "text/plain": "StatementMeta(sparkpool, 20, 75, Finished, Available)"
          },
          "metadata": {}
        }
      ],
      "execution_count": 343,
      "metadata": {
        "jupyter": {
          "source_hidden": false,
          "outputs_hidden": false
        },
        "nteract": {
          "transient": {
            "deleting": false
          }
        }
      }
    },
    {
      "cell_type": "code",
      "source": [
        "restaurants_reviews.show(5)"
      ],
      "outputs": [
        {
          "output_type": "display_data",
          "data": {
            "application/vnd.livy.statement-meta+json": {
              "spark_pool": "sparkpool",
              "session_id": "20",
              "statement_id": 76,
              "state": "finished",
              "livy_statement_state": "available",
              "queued_time": "2024-03-20T16:09:58.0174712Z",
              "session_start_time": null,
              "execution_start_time": "2024-03-20T16:09:58.1463673Z",
              "execution_finish_time": "2024-03-20T16:09:59.9515959Z",
              "spark_jobs": null,
              "parent_msg_id": "3a68f00b-1c24-4718-8d06-dfd425ce22a3"
            },
            "text/plain": "StatementMeta(sparkpool, 20, 76, Finished, Available)"
          },
          "metadata": {}
        },
        {
          "output_type": "stream",
          "name": "stdout",
          "text": [
            "+--------------------+--------------------+------------+-------+-------------+--------------+--------------------+-----------+------------+--------+-----+--------+--------------------+-----------+--------+--------------------+-----------+\n|         business_id|             address|        city|is_open|     latitude|     longitude|                name|postal_code|review_count|avg_star|state|category|                text|review_star|  labels|          text_clean|labels_bool|\n+--------------------+--------------------+------------+-------+-------------+--------------+--------------------+-----------+------------+--------+-----+--------+--------------------+-----------+--------+--------------------+-----------+\n|kxX2SOes4o-D3ZQBk...|      2481 Grant Ave|Philadelphia|      1|40.0798480557| -75.025079772|               Zaika|      19114|         181|     4.0|   PA|  Indian|wow!  yummy, diff...|        5.0|positive|wow yummy differe...|          1|\n|04UD14gamNjLY0IDY...|        795 S 3rd St|Philadelphia|      0|   39.9380132|   -75.1481307|            Dmitri's|      19147|         273|     4.0|   PA|   Greek|i am a long term ...|        1.0|negative|i am a long term ...|          0|\n|cPepkJeRMtHapc_b2...|2902 W 86th St, S...|Indianapolis|      0|    39.912505|    -86.211285|Naked Tchopstix E...|      46268|          33|     3.5|   IN|Hawaiian|i was really betw...|        4.0|positive|i was really betw...|          1|\n|x4XdNhp0Xn8lOivzc...|700 Nutt Rd, Ste 730|Phoenixville|      1|40.1326346939|-75.5332256005|Thai Place Restau...|      19460|         222|     4.5|   PA|    Thai|best thai food in...|        5.0|positive|best thai food in...|          1|\n|VJEzpfLs_Jnzgqh5A...|       306 S 16th St|Philadelphia|      1|39.9470839462|-75.1682054067|Jasmine Rice - Ri...|      19102|         307|     3.5|   PA|    Thai|it was my fiance'...|        4.0|positive|it was my fiance ...|          1|\n+--------------------+--------------------+------------+-------+-------------+--------------+--------------------+-----------+------------+--------+-----+--------+--------------------+-----------+--------+--------------------+-----------+\nonly showing top 5 rows\n\n"
          ]
        }
      ],
      "execution_count": 344,
      "metadata": {
        "jupyter": {
          "source_hidden": false,
          "outputs_hidden": false
        },
        "nteract": {
          "transient": {
            "deleting": false
          }
        }
      }
    },
    {
      "cell_type": "markdown",
      "source": [
        "## Positive and Negative Words"
      ],
      "metadata": {
        "nteract": {
          "transient": {
            "deleting": false
          }
        }
      }
    },
    {
      "cell_type": "code",
      "source": [
        "# There are 2 .txt files in the main directory where positive and negative words in English language are collected.\n",
        "# Mentioned text files will be used to evaluate whether a word is positive or negative.\n",
        "\n",
        "# Read text files and create RDDs\n",
        "positive_rdd = spark.sparkContext.textFile(positive_path)\n",
        "negative_rdd = spark.sparkContext.textFile(negative_path)\n",
        "\n",
        "# Convert RDDs into lists\n",
        "positive_words = positive_rdd.collect()\n",
        "negative_words = negative_rdd.collect()\n",
        "\n",
        "# Create lists with useless words that doesn't give any valuable info about restaurants.\n",
        "positive_useless = [ \"great\", \"amazing\", \"love\", \"best\", \"awesome\", \"excellent\", \"good\", \"favorite\", \"loved\", \"perfect\", \"gem\", \"perfectly\",\n",
        "\"wonderful\", \"happy\", \"enjoyed\", \"nice\", \"well\", \"super\", \"like\", \"better\", \"decent\", \"fine\", \"pretty\", \"enough\", \"excited\", \"impressed\", \n",
        "\"ready\", \"fantastic\", \"glad\", \"right\", \"fabulous\", ]\n",
        "negative_useless = [ \"bad\", \"disappointed\", \"unfortunately\", \"disappointing\", \"horrible\", \"lacking\", \"terrible\", \"sorry\", \"disappoint\", \"worst\", ]\n",
        "\n",
        "# Filter useless words out\n",
        "positive_words = [x for x in positive_words if x not in positive_useless]\n",
        "negative_words = [x for x in negative_words if x not in negative_useless]\n",
        "\n",
        "# Print first 10 elements of lists\n",
        "print(positive_words[:10])\n",
        "print(negative_words[:10])"
      ],
      "outputs": [
        {
          "output_type": "display_data",
          "data": {
            "application/vnd.livy.statement-meta+json": {
              "spark_pool": "sparkpool",
              "session_id": "20",
              "statement_id": 77,
              "state": "finished",
              "livy_statement_state": "available",
              "queued_time": "2024-03-20T16:10:07.0426982Z",
              "session_start_time": null,
              "execution_start_time": "2024-03-20T16:10:07.1894749Z",
              "execution_finish_time": "2024-03-20T16:10:07.7207496Z",
              "spark_jobs": null,
              "parent_msg_id": "cce6b2b0-f1b2-4c12-af4d-8ec6e2e56f05"
            },
            "text/plain": "StatementMeta(sparkpool, 20, 77, Finished, Available)"
          },
          "metadata": {}
        },
        {
          "output_type": "stream",
          "name": "stdout",
          "text": [
            "['abound', 'abounds', 'abundance', 'abundant', 'accessable', 'accessible', 'acclaim', 'acclaimed', 'acclamation', 'accolade']\n['abnormal', 'abolish', 'abominable', 'abominably', 'abominate', 'abomination', 'abort', 'aborted', 'aborts', 'abrade']\n"
          ]
        }
      ],
      "execution_count": 345,
      "metadata": {
        "scrolled": true
      }
    },
    {
      "cell_type": "code",
      "source": [
        "def filter_words(col):\r\n",
        "    \"\"\" Splits into a list and filter out the words that are not in positive or negative word list.\"\"\"\r\n",
        "    \r\n",
        "    text = [i for i in col.split() if i in positive_words + negative_words]\r\n",
        "   \r\n",
        "    return text"
      ],
      "outputs": [
        {
          "output_type": "display_data",
          "data": {
            "application/vnd.livy.statement-meta+json": {
              "spark_pool": "sparkpool",
              "session_id": "20",
              "statement_id": 78,
              "state": "finished",
              "livy_statement_state": "available",
              "queued_time": "2024-03-20T16:10:11.1350703Z",
              "session_start_time": null,
              "execution_start_time": "2024-03-20T16:10:12.1502864Z",
              "execution_finish_time": "2024-03-20T16:10:13.6879409Z",
              "spark_jobs": null,
              "parent_msg_id": "35c1893b-fe20-4f11-bac0-02ab588d7aaf"
            },
            "text/plain": "StatementMeta(sparkpool, 20, 78, Finished, Available)"
          },
          "metadata": {}
        }
      ],
      "execution_count": 346,
      "metadata": {
        "jupyter": {
          "source_hidden": false,
          "outputs_hidden": false
        },
        "nteract": {
          "transient": {
            "deleting": false
          }
        }
      }
    },
    {
      "cell_type": "code",
      "source": [
        "restaurants_reviews = restaurants_reviews.withColumn(\"text_filtered\", udf(filter_words, returnType=ArrayType(StringType()))(col(\"text_clean\")))"
      ],
      "outputs": [
        {
          "output_type": "display_data",
          "data": {
            "application/vnd.livy.statement-meta+json": {
              "spark_pool": "sparkpool",
              "session_id": "20",
              "statement_id": 79,
              "state": "finished",
              "livy_statement_state": "available",
              "queued_time": "2024-03-20T16:10:15.7770543Z",
              "session_start_time": null,
              "execution_start_time": "2024-03-20T16:10:15.9060166Z",
              "execution_finish_time": "2024-03-20T16:10:16.0719553Z",
              "spark_jobs": null,
              "parent_msg_id": "9af8b397-e9a8-45f9-b288-9c6bea75e1ca"
            },
            "text/plain": "StatementMeta(sparkpool, 20, 79, Finished, Available)"
          },
          "metadata": {}
        }
      ],
      "execution_count": 347,
      "metadata": {
        "jupyter": {
          "source_hidden": false,
          "outputs_hidden": false
        },
        "nteract": {
          "transient": {
            "deleting": false
          }
        }
      }
    },
    {
      "cell_type": "code",
      "source": [
        "restaurants_reviews.show(3,truncate = 20)"
      ],
      "outputs": [
        {
          "output_type": "display_data",
          "data": {
            "application/vnd.livy.statement-meta+json": {
              "spark_pool": "sparkpool",
              "session_id": "20",
              "statement_id": 80,
              "state": "finished",
              "livy_statement_state": "available",
              "queued_time": "2024-03-20T16:10:27.5850712Z",
              "session_start_time": null,
              "execution_start_time": "2024-03-20T16:10:27.716653Z",
              "execution_finish_time": "2024-03-20T16:10:44.3801877Z",
              "spark_jobs": null,
              "parent_msg_id": "2e2a3f31-24a7-4ed3-a087-f1531d238cf8"
            },
            "text/plain": "StatementMeta(sparkpool, 20, 80, Finished, Available)"
          },
          "metadata": {}
        },
        {
          "output_type": "stream",
          "name": "stdout",
          "text": [
            "+--------------------+--------------------+------------+-------+-------------+-------------+--------------------+-----------+------------+--------+-----+--------+--------------------+-----------+--------+--------------------+-----------+--------------------+\n|         business_id|             address|        city|is_open|     latitude|    longitude|                name|postal_code|review_count|avg_star|state|category|                text|review_star|  labels|          text_clean|labels_bool|       text_filtered|\n+--------------------+--------------------+------------+-------+-------------+-------------+--------------------+-----------+------------+--------+-----+--------+--------------------+-----------+--------+--------------------+-----------+--------------------+\n|kxX2SOes4o-D3ZQBk...|      2481 Grant Ave|Philadelphia|      1|40.0798480557|-75.025079772|               Zaika|      19114|         181|     4.0|   PA|  Indian|wow!  yummy, diff...|        5.0|positive|wow yummy differe...|          1|[wow, delicious, ...|\n|04UD14gamNjLY0IDY...|        795 S 3rd St|Philadelphia|      0|   39.9380132|  -75.1481307|            Dmitri's|      19147|         273|     4.0|   PA|   Greek|i am a long term ...|        1.0|negative|i am a long term ...|          0|        [dick, fuck]|\n|cPepkJeRMtHapc_b2...|2902 W 86th St, S...|Indianapolis|      0|    39.912505|   -86.211285|Naked Tchopstix E...|      46268|          33|     3.5|   IN|Hawaiian|i was really betw...|        4.0|positive|i was really betw...|          1|[consistently, sl...|\n+--------------------+--------------------+------------+-------+-------------+-------------+--------------------+-----------+------------+--------+-----+--------+--------------------+-----------+--------+--------------------+-----------+--------------------+\nonly showing top 3 rows\n\n"
          ]
        }
      ],
      "execution_count": 348,
      "metadata": {
        "jupyter": {
          "source_hidden": false,
          "outputs_hidden": false
        },
        "nteract": {
          "transient": {
            "deleting": false
          }
        }
      }
    },
    {
      "cell_type": "code",
      "source": [
        "#Drop unnecessary columns\r\n",
        "restaurants_reviews = restaurants_reviews.select(['category','text_filtered','labels_bool'])"
      ],
      "outputs": [
        {
          "output_type": "display_data",
          "data": {
            "application/vnd.livy.statement-meta+json": {
              "spark_pool": "sparkpool",
              "session_id": "20",
              "statement_id": 81,
              "state": "finished",
              "livy_statement_state": "available",
              "queued_time": "2024-03-20T16:11:03.0230502Z",
              "session_start_time": null,
              "execution_start_time": "2024-03-20T16:11:03.1635319Z",
              "execution_finish_time": "2024-03-20T16:11:03.3168253Z",
              "spark_jobs": null,
              "parent_msg_id": "ffac66fa-03e4-42f3-b2f5-a7dda2b43390"
            },
            "text/plain": "StatementMeta(sparkpool, 20, 81, Finished, Available)"
          },
          "metadata": {}
        }
      ],
      "execution_count": 349,
      "metadata": {
        "jupyter": {
          "source_hidden": false,
          "outputs_hidden": false
        },
        "nteract": {
          "transient": {
            "deleting": false
          }
        }
      }
    },
    {
      "cell_type": "code",
      "source": [
        "#Print the schema\r\n",
        "restaurants_reviews.printSchema()"
      ],
      "outputs": [
        {
          "output_type": "display_data",
          "data": {
            "application/vnd.livy.statement-meta+json": {
              "spark_pool": "sparkpool",
              "session_id": "20",
              "statement_id": 82,
              "state": "finished",
              "livy_statement_state": "available",
              "queued_time": "2024-03-20T16:11:04.9472774Z",
              "session_start_time": null,
              "execution_start_time": "2024-03-20T16:11:05.3373093Z",
              "execution_finish_time": "2024-03-20T16:11:05.4893018Z",
              "spark_jobs": null,
              "parent_msg_id": "1a91376a-4ffe-47bd-aa6b-15fe2ba3d96b"
            },
            "text/plain": "StatementMeta(sparkpool, 20, 82, Finished, Available)"
          },
          "metadata": {}
        },
        {
          "output_type": "stream",
          "name": "stdout",
          "text": [
            "root\n |-- category: string (nullable = true)\n |-- text_filtered: array (nullable = true)\n |    |-- element: string (containsNull = true)\n |-- labels_bool: integer (nullable = false)\n\n"
          ]
        }
      ],
      "execution_count": 350,
      "metadata": {
        "jupyter": {
          "source_hidden": false,
          "outputs_hidden": false
        },
        "nteract": {
          "transient": {
            "deleting": false
          }
        }
      }
    },
    {
      "cell_type": "code",
      "source": [
        "restaurants_reviews.show(3)"
      ],
      "outputs": [
        {
          "output_type": "display_data",
          "data": {
            "application/vnd.livy.statement-meta+json": {
              "spark_pool": "sparkpool",
              "session_id": "20",
              "statement_id": 83,
              "state": "finished",
              "livy_statement_state": "available",
              "queued_time": "2024-03-20T16:11:15.2329386Z",
              "session_start_time": null,
              "execution_start_time": "2024-03-20T16:11:15.3585972Z",
              "execution_finish_time": "2024-03-20T16:11:32.0761245Z",
              "spark_jobs": null,
              "parent_msg_id": "9f29434d-741d-4203-973c-c5f1b3d0672d"
            },
            "text/plain": "StatementMeta(sparkpool, 20, 83, Finished, Available)"
          },
          "metadata": {}
        },
        {
          "output_type": "stream",
          "name": "stdout",
          "text": [
            "+--------+--------------------+-----------+\n|category|       text_filtered|labels_bool|\n+--------+--------------------+-----------+\n|  Indian|[wow, delicious, ...|          1|\n|   Greek|        [dick, fuck]|          0|\n|Hawaiian|[consistently, sl...|          1|\n+--------+--------------------+-----------+\nonly showing top 3 rows\n\n"
          ]
        }
      ],
      "execution_count": 351,
      "metadata": {
        "jupyter": {
          "source_hidden": false,
          "outputs_hidden": false
        },
        "nteract": {
          "transient": {
            "deleting": false
          }
        }
      }
    },
    {
      "cell_type": "code",
      "source": [
        "#Cache the processed DataFrame\r\n",
        "restaurants_reviews.cache()\r\n",
        "restaurants_reviews.storageLevel"
      ],
      "outputs": [
        {
          "output_type": "display_data",
          "data": {
            "application/vnd.livy.statement-meta+json": {
              "spark_pool": "sparkpool",
              "session_id": "20",
              "statement_id": 37,
              "state": "finished",
              "livy_statement_state": "available",
              "queued_time": "2024-03-20T15:57:13.5164659Z",
              "session_start_time": null,
              "execution_start_time": "2024-03-20T15:57:13.6402948Z",
              "execution_finish_time": "2024-03-20T15:57:14.1507844Z",
              "spark_jobs": null,
              "parent_msg_id": "bf581b6b-0bad-405a-8efc-eb956192172c"
            },
            "text/plain": "StatementMeta(sparkpool, 20, 37, Finished, Available)"
          },
          "metadata": {}
        },
        {
          "output_type": "execute_result",
          "execution_count": 75,
          "data": {
            "text/plain": "StorageLevel(True, True, False, True, 1)"
          },
          "metadata": {}
        }
      ],
      "execution_count": 305,
      "metadata": {
        "jupyter": {
          "source_hidden": false,
          "outputs_hidden": false
        },
        "nteract": {
          "transient": {
            "deleting": false
          }
        }
      }
    },
    {
      "cell_type": "code",
      "source": [
        "restaurants_reviews.count()"
      ],
      "outputs": [
        {
          "output_type": "display_data",
          "data": {
            "application/vnd.livy.statement-meta+json": {
              "spark_pool": "sparkpool",
              "session_id": "20",
              "statement_id": 84,
              "state": "finished",
              "livy_statement_state": "available",
              "queued_time": "2024-03-20T16:11:45.2873851Z",
              "session_start_time": null,
              "execution_start_time": "2024-03-20T16:11:45.4079306Z",
              "execution_finish_time": "2024-03-20T16:12:00.030706Z",
              "spark_jobs": null,
              "parent_msg_id": "0f9595b5-3f4e-4748-a00a-6b45083d726b"
            },
            "text/plain": "StatementMeta(sparkpool, 20, 84, Finished, Available)"
          },
          "metadata": {}
        },
        {
          "output_type": "execute_result",
          "execution_count": 169,
          "data": {
            "text/plain": "419726"
          },
          "metadata": {}
        }
      ],
      "execution_count": 352,
      "metadata": {
        "jupyter": {
          "source_hidden": false,
          "outputs_hidden": false
        },
        "nteract": {
          "transient": {
            "deleting": false
          }
        }
      }
    },
    {
      "cell_type": "code",
      "source": [
        "def get_polarity(category):\r\n",
        "    \r\n",
        "    df = restaurants_reviews.filter(col(\"category\") == category)\r\n",
        "    df = df.select(['text_filtered','labels_bool'])\r\n",
        "    #df.cache()\r\n",
        "    print(df.storageLevel)\r\n",
        "\r\n",
        "    vectorizer = CountVectorizer(inputCol = 'text_filtered', outputCol = 'vector')\r\n",
        "    vectorizer_model = vectorizer.fit(df)\r\n",
        "    vocab = vectorizer_model.vocabulary\r\n",
        "    df = vectorizer_model.transform(df)\r\n",
        "    print('1')\r\n",
        "    lr = LogisticRegression(featuresCol = 'vector', labelCol = 'labels_bool')\r\n",
        "    lr_model = lr.fit(df)\r\n",
        "    coeff = lr_model.coefficients\r\n",
        "    coeff = [float(i) for i in coeff]\r\n",
        "    print('2')\r\n",
        "    vector_dense_arr = vector_to_array(df.vector)\r\n",
        "    df = df.withColumn('vector_dense',vector_dense_arr)\r\n",
        "    vector_dense_rdd = df.select('vector_dense').rdd\r\n",
        "    vec = vector_dense_rdd.collect()\r\n",
        "    vec = list(map(lambda x: x[0],vec))\r\n",
        "    print('3')\r\n",
        "    schema = StructType(\r\n",
        "    [StructField(i,FloatType(),False) for i in vocab]\r\n",
        "    )\r\n",
        "    matrix = spark.createDataFrame(vec,schema = schema)\r\n",
        "    matrix_pd = matrix.toPandas()\r\n",
        "    print('4')\r\n",
        "    freq_series = matrix_pd.sum(axis = 0)\r\n",
        "    freq_rdd = sc.parallelize(freq_series)\r\n",
        "    freq = freq_rdd.collect()\r\n",
        "    print('5')\r\n",
        "    word_coeff_freq = [(i,j,k) for (i,j,k) in zip(vocab,coeff,freq)]\r\n",
        "    word_coeff_freq_df = spark.createDataFrame(word_coeff_freq, ['word','coeff','freq'])\r\n",
        "    print('6')\r\n",
        "    n = matrix.count()\r\n",
        "    master_df = word_coeff_freq_df.withColumn('polarity', col('coeff') * col('freq') / n)\r\n",
        "    print('7')\r\n",
        "    positive_10 = master_df.sort('polarity',ascending = False).head(10)\r\n",
        "    negative_10 = master_df.sort('polarity',ascending = True).head(10)\r\n",
        "    positive_10_pd = pd.DataFrame(positive_10, columns = master_df.columns)\r\n",
        "    negative_10_pd = pd.DataFrame(negative_10, columns = master_df.columns)\r\n",
        "    print('8')\r\n",
        "    negative_10_pd = negative_10_pd.sort_values('polarity',ascending = False)\r\n",
        "    print('9')\r\n",
        "    sum_df = pd.concat([positive_10_pd,negative_10_pd])\r\n",
        "    print('10')\r\n",
        "    return sum_df"
      ],
      "outputs": [
        {
          "output_type": "display_data",
          "data": {
            "application/vnd.livy.statement-meta+json": {
              "spark_pool": "sparkpool",
              "session_id": "20",
              "statement_id": 91,
              "state": "finished",
              "livy_statement_state": "available",
              "queued_time": "2024-03-20T16:20:02.8874356Z",
              "session_start_time": null,
              "execution_start_time": "2024-03-20T16:20:03.0160279Z",
              "execution_finish_time": "2024-03-20T16:20:03.1639157Z",
              "spark_jobs": null,
              "parent_msg_id": "58db31ca-6447-46a6-85f9-f355a73aac23"
            },
            "text/plain": "StatementMeta(sparkpool, 20, 91, Finished, Available)"
          },
          "metadata": {}
        }
      ],
      "execution_count": 359,
      "metadata": {
        "jupyter": {
          "source_hidden": false,
          "outputs_hidden": false
        },
        "nteract": {
          "transient": {
            "deleting": false
          }
        }
      }
    },
    {
      "cell_type": "code",
      "source": [
        "def get_plot(sum_df,category):\r\n",
        "    sns.set_style('darkgrid')\r\n",
        "    sns.set_context('notebook')\r\n",
        "    fig,ax = plt.subplots(figsize = (9,6))\r\n",
        "    sns.barplot(data = sum_df, x = 'polarity' , y = 'word',palette = 'RdBu_r')\r\n",
        "    plt.title(\"The Most Effective Words in \" + category + \" Restaurants's Reviews\")\r\n",
        "    plt.xlabel('Polarity Score')\r\n",
        "    plt.ylabel('Word')\r\n",
        "    plt.xlim(sum_df['polarity'].min(),sum_df['polarity'].max())\r\n",
        "    plt.show()\r\n"
      ],
      "outputs": [
        {
          "output_type": "display_data",
          "data": {
            "application/vnd.livy.statement-meta+json": {
              "spark_pool": "sparkpool",
              "session_id": "20",
              "statement_id": 98,
              "state": "finished",
              "livy_statement_state": "available",
              "queued_time": "2024-03-20T16:27:52.0839165Z",
              "session_start_time": null,
              "execution_start_time": "2024-03-20T16:27:52.2223904Z",
              "execution_finish_time": "2024-03-20T16:27:52.3968427Z",
              "spark_jobs": null,
              "parent_msg_id": "c97ba260-cd1e-46ff-af87-2e7a944a6126"
            },
            "text/plain": "StatementMeta(sparkpool, 20, 98, Finished, Available)"
          },
          "metadata": {}
        }
      ],
      "execution_count": 366,
      "metadata": {
        "jupyter": {
          "source_hidden": false,
          "outputs_hidden": false
        },
        "nteract": {
          "transient": {
            "deleting": false
          }
        }
      }
    },
    {
      "cell_type": "code",
      "source": [
        "african_df = get_polarity('African')"
      ],
      "outputs": [],
      "execution_count": null,
      "metadata": {
        "jupyter": {
          "source_hidden": false,
          "outputs_hidden": false
        },
        "nteract": {
          "transient": {
            "deleting": false
          }
        }
      }
    },
    {
      "cell_type": "code",
      "source": [
        "african_df.head(20)"
      ],
      "outputs": [
        {
          "output_type": "display_data",
          "data": {
            "application/vnd.livy.statement-meta+json": {
              "spark_pool": "sparkpool",
              "session_id": "20",
              "statement_id": 95,
              "state": "finished",
              "livy_statement_state": "available",
              "queued_time": "2024-03-20T16:23:33.3093988Z",
              "session_start_time": null,
              "execution_start_time": "2024-03-20T16:23:33.4325256Z",
              "execution_finish_time": "2024-03-20T16:23:33.5713789Z",
              "spark_jobs": null,
              "parent_msg_id": "bb646c6d-d5a3-4788-a988-0780e5e83b4a"
            },
            "text/plain": "StatementMeta(sparkpool, 20, 95, Finished, Available)"
          },
          "metadata": {}
        },
        {
          "output_type": "execute_result",
          "execution_count": 191,
          "data": {
            "text/plain": "          word      coeff    freq  polarity\n0    delicious   3.514213  1514.0  0.863020\n1     friendly   1.614540   925.0  0.242247\n2   phenomenal  14.140374    79.0  0.181199\n3     romantic  34.296216    26.0  0.144639\n4    recommend   1.110986   766.0  0.138040\n5     enjoying  14.766156    51.0  0.122153\n6  outstanding   8.706570    84.0  0.118630\n7   perfection   7.139910    95.0  0.110023\n8   delightful  14.429629    45.0  0.105326\n9     generous   5.320732   112.0  0.096662\n9         rude  -4.223422   125.0 -0.085633\n8         poor  -6.326108    87.0 -0.089274\n7         cold  -2.120296   263.0 -0.090452\n6         hell -23.551263    24.0 -0.091684\n5        trash -17.522439    34.0 -0.096636\n4   ridiculous -21.297798    32.0 -0.110548\n3       refund -30.264266    23.0 -0.112908\n2        gross -18.299362    42.0 -0.124667\n1        worse -15.350032    51.0 -0.126983\n0   disgusting -18.442329    52.0 -0.155556",
            "text/html": "<div>\n<style scoped>\n    .dataframe tbody tr th:only-of-type {\n        vertical-align: middle;\n    }\n\n    .dataframe tbody tr th {\n        vertical-align: top;\n    }\n\n    .dataframe thead th {\n        text-align: right;\n    }\n</style>\n<table border=\"1\" class=\"dataframe\">\n  <thead>\n    <tr style=\"text-align: right;\">\n      <th></th>\n      <th>word</th>\n      <th>coeff</th>\n      <th>freq</th>\n      <th>polarity</th>\n    </tr>\n  </thead>\n  <tbody>\n    <tr>\n      <th>0</th>\n      <td>delicious</td>\n      <td>3.514213</td>\n      <td>1514.0</td>\n      <td>0.863020</td>\n    </tr>\n    <tr>\n      <th>1</th>\n      <td>friendly</td>\n      <td>1.614540</td>\n      <td>925.0</td>\n      <td>0.242247</td>\n    </tr>\n    <tr>\n      <th>2</th>\n      <td>phenomenal</td>\n      <td>14.140374</td>\n      <td>79.0</td>\n      <td>0.181199</td>\n    </tr>\n    <tr>\n      <th>3</th>\n      <td>romantic</td>\n      <td>34.296216</td>\n      <td>26.0</td>\n      <td>0.144639</td>\n    </tr>\n    <tr>\n      <th>4</th>\n      <td>recommend</td>\n      <td>1.110986</td>\n      <td>766.0</td>\n      <td>0.138040</td>\n    </tr>\n    <tr>\n      <th>5</th>\n      <td>enjoying</td>\n      <td>14.766156</td>\n      <td>51.0</td>\n      <td>0.122153</td>\n    </tr>\n    <tr>\n      <th>6</th>\n      <td>outstanding</td>\n      <td>8.706570</td>\n      <td>84.0</td>\n      <td>0.118630</td>\n    </tr>\n    <tr>\n      <th>7</th>\n      <td>perfection</td>\n      <td>7.139910</td>\n      <td>95.0</td>\n      <td>0.110023</td>\n    </tr>\n    <tr>\n      <th>8</th>\n      <td>delightful</td>\n      <td>14.429629</td>\n      <td>45.0</td>\n      <td>0.105326</td>\n    </tr>\n    <tr>\n      <th>9</th>\n      <td>generous</td>\n      <td>5.320732</td>\n      <td>112.0</td>\n      <td>0.096662</td>\n    </tr>\n    <tr>\n      <th>9</th>\n      <td>rude</td>\n      <td>-4.223422</td>\n      <td>125.0</td>\n      <td>-0.085633</td>\n    </tr>\n    <tr>\n      <th>8</th>\n      <td>poor</td>\n      <td>-6.326108</td>\n      <td>87.0</td>\n      <td>-0.089274</td>\n    </tr>\n    <tr>\n      <th>7</th>\n      <td>cold</td>\n      <td>-2.120296</td>\n      <td>263.0</td>\n      <td>-0.090452</td>\n    </tr>\n    <tr>\n      <th>6</th>\n      <td>hell</td>\n      <td>-23.551263</td>\n      <td>24.0</td>\n      <td>-0.091684</td>\n    </tr>\n    <tr>\n      <th>5</th>\n      <td>trash</td>\n      <td>-17.522439</td>\n      <td>34.0</td>\n      <td>-0.096636</td>\n    </tr>\n    <tr>\n      <th>4</th>\n      <td>ridiculous</td>\n      <td>-21.297798</td>\n      <td>32.0</td>\n      <td>-0.110548</td>\n    </tr>\n    <tr>\n      <th>3</th>\n      <td>refund</td>\n      <td>-30.264266</td>\n      <td>23.0</td>\n      <td>-0.112908</td>\n    </tr>\n    <tr>\n      <th>2</th>\n      <td>gross</td>\n      <td>-18.299362</td>\n      <td>42.0</td>\n      <td>-0.124667</td>\n    </tr>\n    <tr>\n      <th>1</th>\n      <td>worse</td>\n      <td>-15.350032</td>\n      <td>51.0</td>\n      <td>-0.126983</td>\n    </tr>\n    <tr>\n      <th>0</th>\n      <td>disgusting</td>\n      <td>-18.442329</td>\n      <td>52.0</td>\n      <td>-0.155556</td>\n    </tr>\n  </tbody>\n</table>\n</div>"
          },
          "metadata": {}
        }
      ],
      "execution_count": 363,
      "metadata": {
        "jupyter": {
          "source_hidden": false,
          "outputs_hidden": false
        },
        "nteract": {
          "transient": {
            "deleting": false
          }
        }
      }
    },
    {
      "cell_type": "code",
      "source": [
        "get_plot(african_df,'African')"
      ],
      "outputs": [
        {
          "output_type": "display_data",
          "data": {
            "application/vnd.livy.statement-meta+json": {
              "spark_pool": "sparkpool",
              "session_id": "20",
              "statement_id": 102,
              "state": "finished",
              "livy_statement_state": "available",
              "queued_time": "2024-03-20T16:29:37.5168137Z",
              "session_start_time": null,
              "execution_start_time": "2024-03-20T16:29:37.6465187Z",
              "execution_finish_time": "2024-03-20T16:29:38.169659Z",
              "spark_jobs": null,
              "parent_msg_id": "560f58d0-2b64-4b4f-9ad7-32d224c37b9f"
            },
            "text/plain": "StatementMeta(sparkpool, 20, 102, Finished, Available)"
          },
          "metadata": {}
        },
        {
          "output_type": "display_data",
          "data": {
            "text/plain": "<Figure size 900x600 with 1 Axes>",
            "image/png": "[encoded data removed]"
          },
          "metadata": {}
        }
      ],
      "execution_count": 370,
      "metadata": {
        "jupyter": {
          "source_hidden": false,
          "outputs_hidden": false
        },
        "nteract": {
          "transient": {
            "deleting": false
          }
        }
      }
    },
    {
      "cell_type": "code",
      "source": [
        "hawaiian_sum_df =get_polarity('Hawaiian')"
      ],
      "outputs": [
        {
          "output_type": "display_data",
          "data": {
            "application/vnd.livy.statement-meta+json": {
              "spark_pool": "sparkpool",
              "session_id": "20",
              "statement_id": 103,
              "state": "finished",
              "livy_statement_state": "available",
              "queued_time": "2024-03-20T16:30:16.3637123Z",
              "session_start_time": null,
              "execution_start_time": "2024-03-20T16:30:16.5087176Z",
              "execution_finish_time": "2024-03-20T16:36:24.2684984Z",
              "spark_jobs": null,
              "parent_msg_id": "69b23e57-0bf9-4876-a128-7f6bf2c005d6"
            },
            "text/plain": "StatementMeta(sparkpool, 20, 103, Finished, Available)"
          },
          "metadata": {}
        },
        {
          "output_type": "stream",
          "name": "stdout",
          "text": [
            "Serialized 1x Replicated\n1\n2\n3\n4\n5\n6\n7\n8\n9\n10\n"
          ]
        }
      ],
      "execution_count": 371,
      "metadata": {
        "jupyter": {
          "source_hidden": false,
          "outputs_hidden": false
        },
        "nteract": {
          "transient": {
            "deleting": false
          }
        }
      }
    },
    {
      "cell_type": "code",
      "source": [
        "hawaiian_sum_df.head(25)"
      ],
      "outputs": [
        {
          "output_type": "display_data",
          "data": {
            "application/vnd.livy.statement-meta+json": {
              "spark_pool": "sparkpool",
              "session_id": "20",
              "statement_id": 105,
              "state": "finished",
              "livy_statement_state": "available",
              "queued_time": "2024-03-20T16:37:09.6683638Z",
              "session_start_time": null,
              "execution_start_time": "2024-03-20T16:37:09.7834525Z",
              "execution_finish_time": "2024-03-20T16:37:09.9307456Z",
              "spark_jobs": null,
              "parent_msg_id": "5ecfafb5-c041-4c11-a205-a5498533acbf"
            },
            "text/plain": "StatementMeta(sparkpool, 20, 105, Finished, Available)"
          },
          "metadata": {}
        },
        {
          "output_type": "execute_result",
          "execution_count": 211,
          "data": {
            "text/plain": "         word      coeff    freq  polarity\n0   delicious   2.786398  5128.0  0.667881\n1       fresh   1.549208  5426.0  0.392914\n2    friendly   1.031693  4075.0  0.196511\n3   recommend   0.923712  2343.0  0.101162\n4         fun   2.360756   738.0  0.081436\n5   attentive   2.588746   593.0  0.071755\n6    stumbled  16.619485    83.0  0.064477\n7  incredible   3.220786   378.0  0.056906\n8       clean   0.818329  1431.0  0.054736\n9        fast   0.913560  1242.0  0.053035\n9      frozen  -3.416299   150.0 -0.023953\n8        slow  -1.905473   282.0 -0.025117\n7  overpriced  -3.192973   170.0 -0.025372\n6        hard  -0.791119   741.0 -0.027401\n5        poor  -3.599532   164.0 -0.027593\n4    mediocre  -3.852681   196.0 -0.035296\n3        cold  -1.651466   537.0 -0.041453\n2        rude  -3.949358   257.0 -0.047443\n1       bland  -3.214859   361.0 -0.054247\n0         won  -1.716591   700.0 -0.056166",
            "text/html": "<div>\n<style scoped>\n    .dataframe tbody tr th:only-of-type {\n        vertical-align: middle;\n    }\n\n    .dataframe tbody tr th {\n        vertical-align: top;\n    }\n\n    .dataframe thead th {\n        text-align: right;\n    }\n</style>\n<table border=\"1\" class=\"dataframe\">\n  <thead>\n    <tr style=\"text-align: right;\">\n      <th></th>\n      <th>word</th>\n      <th>coeff</th>\n      <th>freq</th>\n      <th>polarity</th>\n    </tr>\n  </thead>\n  <tbody>\n    <tr>\n      <th>0</th>\n      <td>delicious</td>\n      <td>2.786398</td>\n      <td>5128.0</td>\n      <td>0.667881</td>\n    </tr>\n    <tr>\n      <th>1</th>\n      <td>fresh</td>\n      <td>1.549208</td>\n      <td>5426.0</td>\n      <td>0.392914</td>\n    </tr>\n    <tr>\n      <th>2</th>\n      <td>friendly</td>\n      <td>1.031693</td>\n      <td>4075.0</td>\n      <td>0.196511</td>\n    </tr>\n    <tr>\n      <th>3</th>\n      <td>recommend</td>\n      <td>0.923712</td>\n      <td>2343.0</td>\n      <td>0.101162</td>\n    </tr>\n    <tr>\n      <th>4</th>\n      <td>fun</td>\n      <td>2.360756</td>\n      <td>738.0</td>\n      <td>0.081436</td>\n    </tr>\n    <tr>\n      <th>5</th>\n      <td>attentive</td>\n      <td>2.588746</td>\n      <td>593.0</td>\n      <td>0.071755</td>\n    </tr>\n    <tr>\n      <th>6</th>\n      <td>stumbled</td>\n      <td>16.619485</td>\n      <td>83.0</td>\n      <td>0.064477</td>\n    </tr>\n    <tr>\n      <th>7</th>\n      <td>incredible</td>\n      <td>3.220786</td>\n      <td>378.0</td>\n      <td>0.056906</td>\n    </tr>\n    <tr>\n      <th>8</th>\n      <td>clean</td>\n      <td>0.818329</td>\n      <td>1431.0</td>\n      <td>0.054736</td>\n    </tr>\n    <tr>\n      <th>9</th>\n      <td>fast</td>\n      <td>0.913560</td>\n      <td>1242.0</td>\n      <td>0.053035</td>\n    </tr>\n    <tr>\n      <th>9</th>\n      <td>frozen</td>\n      <td>-3.416299</td>\n      <td>150.0</td>\n      <td>-0.023953</td>\n    </tr>\n    <tr>\n      <th>8</th>\n      <td>slow</td>\n      <td>-1.905473</td>\n      <td>282.0</td>\n      <td>-0.025117</td>\n    </tr>\n    <tr>\n      <th>7</th>\n      <td>overpriced</td>\n      <td>-3.192973</td>\n      <td>170.0</td>\n      <td>-0.025372</td>\n    </tr>\n    <tr>\n      <th>6</th>\n      <td>hard</td>\n      <td>-0.791119</td>\n      <td>741.0</td>\n      <td>-0.027401</td>\n    </tr>\n    <tr>\n      <th>5</th>\n      <td>poor</td>\n      <td>-3.599532</td>\n      <td>164.0</td>\n      <td>-0.027593</td>\n    </tr>\n    <tr>\n      <th>4</th>\n      <td>mediocre</td>\n      <td>-3.852681</td>\n      <td>196.0</td>\n      <td>-0.035296</td>\n    </tr>\n    <tr>\n      <th>3</th>\n      <td>cold</td>\n      <td>-1.651466</td>\n      <td>537.0</td>\n      <td>-0.041453</td>\n    </tr>\n    <tr>\n      <th>2</th>\n      <td>rude</td>\n      <td>-3.949358</td>\n      <td>257.0</td>\n      <td>-0.047443</td>\n    </tr>\n    <tr>\n      <th>1</th>\n      <td>bland</td>\n      <td>-3.214859</td>\n      <td>361.0</td>\n      <td>-0.054247</td>\n    </tr>\n    <tr>\n      <th>0</th>\n      <td>won</td>\n      <td>-1.716591</td>\n      <td>700.0</td>\n      <td>-0.056166</td>\n    </tr>\n  </tbody>\n</table>\n</div>"
          },
          "metadata": {}
        }
      ],
      "execution_count": 373,
      "metadata": {
        "jupyter": {
          "source_hidden": false,
          "outputs_hidden": false
        },
        "nteract": {
          "transient": {
            "deleting": false
          }
        }
      }
    },
    {
      "cell_type": "code",
      "source": [
        "get_plot(hawaiian_sum_df,'Hawaiian')"
      ],
      "outputs": [
        {
          "output_type": "display_data",
          "data": {
            "application/vnd.livy.statement-meta+json": {
              "spark_pool": "sparkpool",
              "session_id": "20",
              "statement_id": 104,
              "state": "finished",
              "livy_statement_state": "available",
              "queued_time": "2024-03-20T16:36:41.9174581Z",
              "session_start_time": null,
              "execution_start_time": "2024-03-20T16:36:42.0361424Z",
              "execution_finish_time": "2024-03-20T16:36:42.5584492Z",
              "spark_jobs": null,
              "parent_msg_id": "57964308-8ad7-4470-8e96-376c8f11e864"
            },
            "text/plain": "StatementMeta(sparkpool, 20, 104, Finished, Available)"
          },
          "metadata": {}
        },
        {
          "output_type": "display_data",
          "data": {
            "text/plain": "<Figure size 900x600 with 1 Axes>",
            "image/png": "[encoded data removed]"
          },
          "metadata": {}
        }
      ],
      "execution_count": 372,
      "metadata": {
        "jupyter": {
          "source_hidden": false,
          "outputs_hidden": false
        },
        "nteract": {
          "transient": {
            "deleting": false
          }
        }
      }
    },
    {
      "cell_type": "code",
      "source": [
        "restaurants_reviews.cache()\r\n",
        "restaurants_reviews.storageLevel"
      ],
      "outputs": [
        {
          "output_type": "display_data",
          "data": {
            "application/vnd.livy.statement-meta+json": {
              "spark_pool": "sparkpool",
              "session_id": "20",
              "statement_id": 106,
              "state": "finished",
              "livy_statement_state": "available",
              "queued_time": "2024-03-20T16:38:31.1300829Z",
              "session_start_time": null,
              "execution_start_time": "2024-03-20T16:38:31.2807086Z",
              "execution_finish_time": "2024-03-20T16:38:31.4265782Z",
              "spark_jobs": null,
              "parent_msg_id": "b6729053-df4d-481a-ae1e-bb827e0d77f7"
            },
            "text/plain": "StatementMeta(sparkpool, 20, 106, Finished, Available)"
          },
          "metadata": {}
        },
        {
          "output_type": "execute_result",
          "execution_count": 213,
          "data": {
            "text/plain": "StorageLevel(True, True, False, True, 1)"
          },
          "metadata": {}
        }
      ],
      "execution_count": 374,
      "metadata": {
        "jupyter": {
          "source_hidden": false,
          "outputs_hidden": false
        },
        "nteract": {
          "transient": {
            "deleting": false
          }
        }
      }
    },
    {
      "cell_type": "code",
      "source": [
        "spanish_sum_df = get_polarity('Spanish')"
      ],
      "outputs": [
        {
          "output_type": "display_data",
          "data": {
            "application/vnd.livy.statement-meta+json": {
              "spark_pool": "sparkpool",
              "session_id": "20",
              "statement_id": 107,
              "state": "finished",
              "livy_statement_state": "cancelled",
              "queued_time": "2024-03-20T16:39:13.7077112Z",
              "session_start_time": null,
              "execution_start_time": "2024-03-20T16:39:13.8368975Z",
              "execution_finish_time": "2024-03-20T16:42:15.8538128Z",
              "spark_jobs": null,
              "parent_msg_id": "2220f965-ac70-4a94-91ea-5779bf659b03"
            },
            "text/plain": "StatementMeta(sparkpool, 20, 107, Finished, Cancelled)"
          },
          "metadata": {}
        },
        {
          "output_type": "stream",
          "name": "stdout",
          "text": [
            "Serialized 1x Replicated\n"
          ]
        }
      ],
      "execution_count": 375,
      "metadata": {
        "jupyter": {
          "source_hidden": false,
          "outputs_hidden": false
        },
        "nteract": {
          "transient": {
            "deleting": false
          }
        }
      }
    },
    {
      "cell_type": "code",
      "source": [
        "restaurants_reviews.unpersist()\r\n",
        "restaurants_reviews.storageLevel"
      ],
      "outputs": [
        {
          "output_type": "display_data",
          "data": {
            "application/vnd.livy.statement-meta+json": {
              "spark_pool": "sparkpool",
              "session_id": "20",
              "statement_id": 108,
              "state": "finished",
              "livy_statement_state": "available",
              "queued_time": "2024-03-20T16:42:29.5172457Z",
              "session_start_time": null,
              "execution_start_time": "2024-03-20T16:42:29.6590815Z",
              "execution_finish_time": "2024-03-20T16:42:29.8120592Z",
              "spark_jobs": null,
              "parent_msg_id": "50953065-3e92-434d-b0d7-3239fc67cf70"
            },
            "text/plain": "StatementMeta(sparkpool, 20, 108, Finished, Available)"
          },
          "metadata": {}
        },
        {
          "output_type": "execute_result",
          "execution_count": 217,
          "data": {
            "text/plain": "StorageLevel(False, False, False, False, 1)"
          },
          "metadata": {}
        }
      ],
      "execution_count": 376,
      "metadata": {
        "jupyter": {
          "source_hidden": false,
          "outputs_hidden": false
        },
        "nteract": {
          "transient": {
            "deleting": false
          }
        }
      }
    },
    {
      "cell_type": "code",
      "source": [
        "spanish_sum_df = get_polarity('Spanish')"
      ],
      "outputs": [
        {
          "output_type": "display_data",
          "data": {
            "application/vnd.livy.statement-meta+json": {
              "spark_pool": "sparkpool",
              "session_id": "20",
              "statement_id": 109,
              "state": "finished",
              "livy_statement_state": "available",
              "queued_time": "2024-03-20T16:42:36.3576484Z",
              "session_start_time": null,
              "execution_start_time": "2024-03-20T16:42:36.4922707Z",
              "execution_finish_time": "2024-03-20T16:52:14.9720945Z",
              "spark_jobs": null,
              "parent_msg_id": "475dfb31-e0f8-476a-9ed8-fde3e32b9dbd"
            },
            "text/plain": "StatementMeta(sparkpool, 20, 109, Finished, Available)"
          },
          "metadata": {}
        },
        {
          "output_type": "stream",
          "name": "stdout",
          "text": [
            "Serialized 1x Replicated\n1\n2\n3\n4\n5\n6\n7\n8\n9\n10\n"
          ]
        }
      ],
      "execution_count": 377,
      "metadata": {
        "jupyter": {
          "source_hidden": false,
          "outputs_hidden": false
        },
        "nteract": {
          "transient": {
            "deleting": false
          }
        }
      }
    },
    {
      "cell_type": "code",
      "source": [
        "spanish_sum_df.head(25)"
      ],
      "outputs": [
        {
          "output_type": "display_data",
          "data": {
            "application/vnd.livy.statement-meta+json": {
              "spark_pool": "sparkpool",
              "session_id": "20",
              "statement_id": 110,
              "state": "finished",
              "livy_statement_state": "available",
              "queued_time": "2024-03-20T16:52:57.2847386Z",
              "session_start_time": null,
              "execution_start_time": "2024-03-20T16:52:58.2237513Z",
              "execution_finish_time": "2024-03-20T16:52:58.369714Z",
              "spark_jobs": null,
              "parent_msg_id": "e1ab9283-0c3f-4f43-9f53-9e63b4e0a5af"
            },
            "text/plain": "StatementMeta(sparkpool, 20, 110, Finished, Available)"
          },
          "metadata": {}
        },
        {
          "output_type": "execute_result",
          "execution_count": 221,
          "data": {
            "text/plain": "             word      coeff    freq  polarity\n0       delicious   2.251690  9584.0  0.650770\n1        friendly   1.132263  4214.0  0.143885\n2       recommend   0.759141  4303.0  0.098507\n3     outstanding   3.358494   914.0  0.092568\n4      incredible   2.581753  1003.0  0.078089\n5           fresh   0.728280  3432.0  0.075373\n6       authentic   1.030783  2229.0  0.069287\n7        downside  20.149373   113.0  0.068661\n8             fun   1.564154  1326.0  0.062545\n9      perfection   2.652211   683.0  0.054626\n9  disappointment  -2.480372   345.0 -0.025805\n8      overpriced  -2.847167   353.0 -0.030308\n7            hard  -0.842244  1209.0 -0.030707\n6        mediocre  -3.183625   391.0 -0.037538\n5           awful  -3.808082   340.0 -0.039044\n4             won  -1.193620  1104.0 -0.039738\n3            rude  -2.925628   472.0 -0.041642\n2            poor  -3.370784   457.0 -0.046454\n1            cold  -1.961764  1121.0 -0.066317\n0           bland  -3.412617   703.0 -0.072346",
            "text/html": "<div>\n<style scoped>\n    .dataframe tbody tr th:only-of-type {\n        vertical-align: middle;\n    }\n\n    .dataframe tbody tr th {\n        vertical-align: top;\n    }\n\n    .dataframe thead th {\n        text-align: right;\n    }\n</style>\n<table border=\"1\" class=\"dataframe\">\n  <thead>\n    <tr style=\"text-align: right;\">\n      <th></th>\n      <th>word</th>\n      <th>coeff</th>\n      <th>freq</th>\n      <th>polarity</th>\n    </tr>\n  </thead>\n  <tbody>\n    <tr>\n      <th>0</th>\n      <td>delicious</td>\n      <td>2.251690</td>\n      <td>9584.0</td>\n      <td>0.650770</td>\n    </tr>\n    <tr>\n      <th>1</th>\n      <td>friendly</td>\n      <td>1.132263</td>\n      <td>4214.0</td>\n      <td>0.143885</td>\n    </tr>\n    <tr>\n      <th>2</th>\n      <td>recommend</td>\n      <td>0.759141</td>\n      <td>4303.0</td>\n      <td>0.098507</td>\n    </tr>\n    <tr>\n      <th>3</th>\n      <td>outstanding</td>\n      <td>3.358494</td>\n      <td>914.0</td>\n      <td>0.092568</td>\n    </tr>\n    <tr>\n      <th>4</th>\n      <td>incredible</td>\n      <td>2.581753</td>\n      <td>1003.0</td>\n      <td>0.078089</td>\n    </tr>\n    <tr>\n      <th>5</th>\n      <td>fresh</td>\n      <td>0.728280</td>\n      <td>3432.0</td>\n      <td>0.075373</td>\n    </tr>\n    <tr>\n      <th>6</th>\n      <td>authentic</td>\n      <td>1.030783</td>\n      <td>2229.0</td>\n      <td>0.069287</td>\n    </tr>\n    <tr>\n      <th>7</th>\n      <td>downside</td>\n      <td>20.149373</td>\n      <td>113.0</td>\n      <td>0.068661</td>\n    </tr>\n    <tr>\n      <th>8</th>\n      <td>fun</td>\n      <td>1.564154</td>\n      <td>1326.0</td>\n      <td>0.062545</td>\n    </tr>\n    <tr>\n      <th>9</th>\n      <td>perfection</td>\n      <td>2.652211</td>\n      <td>683.0</td>\n      <td>0.054626</td>\n    </tr>\n    <tr>\n      <th>9</th>\n      <td>disappointment</td>\n      <td>-2.480372</td>\n      <td>345.0</td>\n      <td>-0.025805</td>\n    </tr>\n    <tr>\n      <th>8</th>\n      <td>overpriced</td>\n      <td>-2.847167</td>\n      <td>353.0</td>\n      <td>-0.030308</td>\n    </tr>\n    <tr>\n      <th>7</th>\n      <td>hard</td>\n      <td>-0.842244</td>\n      <td>1209.0</td>\n      <td>-0.030707</td>\n    </tr>\n    <tr>\n      <th>6</th>\n      <td>mediocre</td>\n      <td>-3.183625</td>\n      <td>391.0</td>\n      <td>-0.037538</td>\n    </tr>\n    <tr>\n      <th>5</th>\n      <td>awful</td>\n      <td>-3.808082</td>\n      <td>340.0</td>\n      <td>-0.039044</td>\n    </tr>\n    <tr>\n      <th>4</th>\n      <td>won</td>\n      <td>-1.193620</td>\n      <td>1104.0</td>\n      <td>-0.039738</td>\n    </tr>\n    <tr>\n      <th>3</th>\n      <td>rude</td>\n      <td>-2.925628</td>\n      <td>472.0</td>\n      <td>-0.041642</td>\n    </tr>\n    <tr>\n      <th>2</th>\n      <td>poor</td>\n      <td>-3.370784</td>\n      <td>457.0</td>\n      <td>-0.046454</td>\n    </tr>\n    <tr>\n      <th>1</th>\n      <td>cold</td>\n      <td>-1.961764</td>\n      <td>1121.0</td>\n      <td>-0.066317</td>\n    </tr>\n    <tr>\n      <th>0</th>\n      <td>bland</td>\n      <td>-3.412617</td>\n      <td>703.0</td>\n      <td>-0.072346</td>\n    </tr>\n  </tbody>\n</table>\n</div>"
          },
          "metadata": {}
        }
      ],
      "execution_count": 378,
      "metadata": {
        "jupyter": {
          "source_hidden": false,
          "outputs_hidden": false
        },
        "nteract": {
          "transient": {
            "deleting": false
          }
        }
      }
    },
    {
      "cell_type": "code",
      "source": [
        "get_plot(spanish_sum_df,'Spanish')"
      ],
      "outputs": [
        {
          "output_type": "display_data",
          "data": {
            "application/vnd.livy.statement-meta+json": {
              "spark_pool": "sparkpool",
              "session_id": "20",
              "statement_id": 111,
              "state": "finished",
              "livy_statement_state": "available",
              "queued_time": "2024-03-20T16:53:39.1531634Z",
              "session_start_time": null,
              "execution_start_time": "2024-03-20T16:53:39.2804914Z",
              "execution_finish_time": "2024-03-20T16:53:39.8063135Z",
              "spark_jobs": null,
              "parent_msg_id": "12d1bd23-f950-4773-a962-ebb40b803076"
            },
            "text/plain": "StatementMeta(sparkpool, 20, 111, Finished, Available)"
          },
          "metadata": {}
        },
        {
          "output_type": "display_data",
          "data": {
            "text/plain": "<Figure size 900x600 with 1 Axes>",
            "image/png": "[encoded data removed]"
          },
          "metadata": {}
        }
      ],
      "execution_count": 379,
      "metadata": {
        "jupyter": {
          "source_hidden": false,
          "outputs_hidden": false
        },
        "nteract": {
          "transient": {
            "deleting": false
          }
        }
      }
    },
    {
      "cell_type": "markdown",
      "source": [
        "After this point, all the processes will be implemented for 'African' restaurants."
      ],
      "metadata": {}
    },
    {
      "cell_type": "code",
      "source": [
        "# Define a function that filters rows based on the 'category' parameter\n",
        "def get_dataset(category):\n",
        "    \"\"\"Takes in a category name as string. Returns a DataFrame with filtered rows based on category argument.\"\"\"\n",
        "\n",
        "    # Filter DataFrame to only include reviews for the given category\n",
        "    df = restaurants_reviews.filter(col(\"category\") == category)\n",
        "\n",
        "    # Select relevant columns\n",
        "    df = df.select([\"text_filtered\",\"labels_bool\"])\n",
        "\n",
        "    return df"
      ],
      "outputs": [
        {
          "output_type": "display_data",
          "data": {
            "application/vnd.livy.statement-meta+json": {
              "spark_pool": "sparkpool",
              "session_id": "20",
              "statement_id": 40,
              "state": "finished",
              "livy_statement_state": "available",
              "queued_time": "2024-03-20T15:59:34.9127841Z",
              "session_start_time": null,
              "execution_start_time": "2024-03-20T15:59:35.0447775Z",
              "execution_finish_time": "2024-03-20T15:59:35.2043084Z",
              "spark_jobs": null,
              "parent_msg_id": "ee4c49f8-7185-4ed2-b494-c45635f5d8bf"
            },
            "text/plain": "StatementMeta(sparkpool, 20, 40, Finished, Available)"
          },
          "metadata": {}
        }
      ],
      "execution_count": 308,
      "metadata": {
        "jupyter": {
          "outputs_hidden": false,
          "source_hidden": false
        },
        "nteract": {
          "transient": {
            "deleting": false
          }
        },
        "collapsed": false
      }
    },
    {
      "cell_type": "code",
      "source": [
        "African = get_dataset(\"African\")"
      ],
      "outputs": [
        {
          "output_type": "display_data",
          "data": {
            "application/vnd.livy.statement-meta+json": {
              "spark_pool": "sparkpool",
              "session_id": "20",
              "statement_id": 41,
              "state": "finished",
              "livy_statement_state": "available",
              "queued_time": "2024-03-20T15:59:37.4527708Z",
              "session_start_time": null,
              "execution_start_time": "2024-03-20T15:59:37.5781814Z",
              "execution_finish_time": "2024-03-20T15:59:37.7363989Z",
              "spark_jobs": null,
              "parent_msg_id": "ccd2d1ee-9d5b-4bfe-b8ac-a23ef85e8d18"
            },
            "text/plain": "StatementMeta(sparkpool, 20, 41, Finished, Available)"
          },
          "metadata": {}
        }
      ],
      "execution_count": 309,
      "metadata": {}
    },
    {
      "cell_type": "code",
      "source": [
        "African.show(5, truncate = 40)"
      ],
      "outputs": [
        {
          "output_type": "display_data",
          "data": {
            "application/vnd.livy.statement-meta+json": {
              "spark_pool": "sparkpool",
              "session_id": "20",
              "statement_id": 42,
              "state": "finished",
              "livy_statement_state": "cancelled",
              "queued_time": "2024-03-20T15:59:40.0146815Z",
              "session_start_time": null,
              "execution_start_time": "2024-03-20T15:59:40.164857Z",
              "execution_finish_time": "2024-03-20T16:01:19.0925315Z",
              "spark_jobs": null,
              "parent_msg_id": "7cddb42f-151c-421b-bc5b-be86a9444722"
            },
            "text/plain": "StatementMeta(sparkpool, 20, 42, Finished, Cancelled)"
          },
          "metadata": {}
        }
      ],
      "execution_count": 310,
      "metadata": {
        "jupyter": {
          "source_hidden": false,
          "outputs_hidden": false
        },
        "nteract": {
          "transient": {
            "deleting": false
          }
        },
        "tags": [
          "parameters"
        ]
      }
    },
    {
      "cell_type": "code",
      "source": [
        "African.dtypes"
      ],
      "outputs": [
        {
          "output_type": "display_data",
          "data": {
            "application/vnd.livy.statement-meta+json": {
              "spark_pool": "sparkpool",
              "session_id": "20",
              "statement_id": 43,
              "state": "finished",
              "livy_statement_state": "available",
              "queued_time": "2024-03-20T15:59:47.4537971Z",
              "session_start_time": null,
              "execution_start_time": "2024-03-20T16:01:19.2198377Z",
              "execution_finish_time": "2024-03-20T16:01:19.3656087Z",
              "spark_jobs": null,
              "parent_msg_id": "e8d506cb-822d-4eef-8826-d5d3016a79f0"
            },
            "text/plain": "StatementMeta(sparkpool, 20, 43, Finished, Available)"
          },
          "metadata": {}
        },
        {
          "output_type": "execute_result",
          "execution_count": 87,
          "data": {
            "text/plain": "[('text_filtered', 'array<string>'), ('labels_bool', 'int')]"
          },
          "metadata": {}
        }
      ],
      "execution_count": 311,
      "metadata": {
        "jupyter": {
          "source_hidden": false,
          "outputs_hidden": false
        },
        "nteract": {
          "transient": {
            "deleting": false
          }
        }
      }
    },
    {
      "cell_type": "code",
      "source": [
        "vectorizer = CountVectorizer(inputCol = 'text_filtered', outputCol = 'vector')\n",
        "\n",
        "# Fit the CountVectorizer object to the training data\n",
        "vectorizer_model = vectorizer.fit(African)"
      ],
      "outputs": [
        {
          "output_type": "display_data",
          "data": {
            "application/vnd.livy.statement-meta+json": {
              "spark_pool": "sparkpool",
              "session_id": "20",
              "statement_id": 44,
              "state": "finished",
              "livy_statement_state": "cancelled",
              "queued_time": "2024-03-20T16:01:37.544481Z",
              "session_start_time": null,
              "execution_start_time": "2024-03-20T16:01:37.6807659Z",
              "execution_finish_time": "2024-03-20T16:04:06.9826401Z",
              "spark_jobs": null,
              "parent_msg_id": "d7bf69c4-3caf-44a1-a6ee-da1aa56715d1"
            },
            "text/plain": "StatementMeta(sparkpool, 20, 44, Finished, Cancelled)"
          },
          "metadata": {}
        }
      ],
      "execution_count": 312,
      "metadata": {
        "jupyter": {
          "outputs_hidden": false,
          "source_hidden": false
        },
        "nteract": {
          "transient": {
            "deleting": false
          }
        },
        "collapsed": false
      }
    },
    {
      "cell_type": "code",
      "source": [
        "vocab = vectorizer_model.vocabulary\r\n",
        "vocab[:10]"
      ],
      "outputs": [
        {
          "output_type": "display_data",
          "data": {
            "application/vnd.livy.statement-meta+json": {
              "spark_pool": "sparkpool",
              "session_id": "17",
              "statement_id": 28,
              "state": "finished",
              "livy_statement_state": "available",
              "queued_time": "2024-03-20T10:16:02.2834362Z",
              "session_start_time": null,
              "execution_start_time": "2024-03-20T10:16:50.9924889Z",
              "execution_finish_time": "2024-03-20T10:16:51.136136Z",
              "spark_jobs": null,
              "parent_msg_id": "d7e93a90-43e5-4f7c-b63a-9633ab5f7dba"
            },
            "text/plain": "StatementMeta(sparkpool, 17, 28, Finished, Available)"
          },
          "metadata": {}
        },
        {
          "output_type": "execute_result",
          "execution_count": 57,
          "data": {
            "text/plain": "['delicious',\n 'friendly',\n 'recommend',\n 'fried',\n 'fresh',\n 'sweet',\n 'worth',\n 'hot',\n 'enjoy',\n 'beautiful']"
          },
          "metadata": {}
        }
      ],
      "execution_count": 27,
      "metadata": {
        "jupyter": {
          "source_hidden": false,
          "outputs_hidden": false
        },
        "nteract": {
          "transient": {
            "deleting": false
          }
        }
      }
    },
    {
      "cell_type": "code",
      "source": [
        "African_df = vectorizer_model.transform(African)"
      ],
      "outputs": [
        {
          "output_type": "display_data",
          "data": {
            "application/vnd.livy.statement-meta+json": {
              "spark_pool": "sparkpool",
              "session_id": "17",
              "statement_id": 29,
              "state": "finished",
              "livy_statement_state": "available",
              "queued_time": "2024-03-20T10:16:05.5455235Z",
              "session_start_time": null,
              "execution_start_time": "2024-03-20T10:16:51.2912508Z",
              "execution_finish_time": "2024-03-20T10:16:51.8320299Z",
              "spark_jobs": null,
              "parent_msg_id": "1d087237-ac3d-4e99-abc3-1a6d014b5fac"
            },
            "text/plain": "StatementMeta(sparkpool, 17, 29, Finished, Available)"
          },
          "metadata": {}
        }
      ],
      "execution_count": 28,
      "metadata": {
        "jupyter": {
          "source_hidden": false,
          "outputs_hidden": false
        },
        "nteract": {
          "transient": {
            "deleting": false
          }
        }
      }
    },
    {
      "cell_type": "code",
      "source": [
        "African_df.show(5,truncate = 80)"
      ],
      "outputs": [
        {
          "output_type": "display_data",
          "data": {
            "application/vnd.livy.statement-meta+json": {
              "spark_pool": "sparkpool",
              "session_id": "16",
              "statement_id": 32,
              "state": "finished",
              "livy_statement_state": "available",
              "queued_time": "2024-03-19T16:22:46.2985845Z",
              "session_start_time": null,
              "execution_start_time": "2024-03-19T16:22:46.423271Z",
              "execution_finish_time": "2024-03-19T16:22:51.7182768Z",
              "spark_jobs": null,
              "parent_msg_id": "be5b825f-6748-4719-8733-1cc0de1c1c4e"
            },
            "text/plain": "StatementMeta(sparkpool, 16, 32, Finished, Available)"
          },
          "metadata": {}
        },
        {
          "output_type": "stream",
          "name": "stdout",
          "text": [
            "+--------+--------------------------------------------------------------------------------+--------------------------------------------------------------------------------+-----------+\n|  labels|                                                                   text_filtered|                                                                          vector|labels_bool|\n+--------+--------------------------------------------------------------------------------+--------------------------------------------------------------------------------+-----------+\n|positive|                                                                      [friendly]|                                                                (1973,[1],[1.0])|          1|\n|positive|                                                                         [rusty]|                                                               (1973,[24],[1.0])|          1|\n|positive|[fresh, dedicated, gained, enjoy, enjoy, beautiful, awful, cozy, crowded, pri...|(1973,[4,6,8,9,52,59,67,79,889,1525,1758],[1.0,1.0,2.0,1.0,1.0,1.0,1.0,1.0,1....|          1|\n|positive|      [lost, beautifully, slow, superb, inadequately, attentive, worth, correct]|         (1973,[6,17,18,137,143,166,186,1596],[1.0,1.0,1.0,1.0,1.0,1.0,1.0,1.0])|          1|\n|positive|                                    [top, delicious, desert, crime, exceptional]|                                 (1973,[0,14,120,261,685],[1.0,1.0,1.0,1.0,1.0])|          1|\n+--------+--------------------------------------------------------------------------------+--------------------------------------------------------------------------------+-----------+\nonly showing top 5 rows\n\n"
          ]
        }
      ],
      "execution_count": 31,
      "metadata": {
        "jupyter": {
          "outputs_hidden": false,
          "source_hidden": false
        },
        "nteract": {
          "transient": {
            "deleting": false
          }
        },
        "collapsed": false
      }
    },
    {
      "cell_type": "code",
      "source": [
        "lr = LogisticRegression(featuresCol = 'vector', labelCol = 'labels_bool')\r\n",
        "lr_model = lr.fit(African_df)"
      ],
      "outputs": [
        {
          "output_type": "display_data",
          "data": {
            "application/vnd.livy.statement-meta+json": {
              "spark_pool": "sparkpool",
              "session_id": "17",
              "statement_id": 31,
              "state": "finished",
              "livy_statement_state": "available",
              "queued_time": "2024-03-20T10:16:13.3734326Z",
              "session_start_time": null,
              "execution_start_time": "2024-03-20T10:16:52.3007864Z",
              "execution_finish_time": "2024-03-20T10:18:06.5392419Z",
              "spark_jobs": null,
              "parent_msg_id": "33334810-178c-4838-8cee-86a5dc4c36d3"
            },
            "text/plain": "StatementMeta(sparkpool, 17, 31, Finished, Available)"
          },
          "metadata": {}
        }
      ],
      "execution_count": 30,
      "metadata": {
        "jupyter": {
          "source_hidden": false,
          "outputs_hidden": false
        },
        "nteract": {
          "transient": {
            "deleting": false
          }
        }
      }
    },
    {
      "cell_type": "code",
      "source": [
        "coeff = lr_model.coefficients\r\n",
        "coeff = [float(i) for i in coeff]\r\n",
        "coeff[:10]\r\n"
      ],
      "outputs": [
        {
          "output_type": "display_data",
          "data": {
            "application/vnd.livy.statement-meta+json": {
              "spark_pool": "sparkpool",
              "session_id": "17",
              "statement_id": 32,
              "state": "finished",
              "livy_statement_state": "available",
              "queued_time": "2024-03-20T10:16:16.7388911Z",
              "session_start_time": null,
              "execution_start_time": "2024-03-20T10:18:06.7041245Z",
              "execution_finish_time": "2024-03-20T10:18:06.855901Z",
              "spark_jobs": null,
              "parent_msg_id": "bbe89b64-876c-4613-a5da-06b9412580f3"
            },
            "text/plain": "StatementMeta(sparkpool, 17, 32, Finished, Available)"
          },
          "metadata": {}
        },
        {
          "output_type": "execute_result",
          "execution_count": 65,
          "data": {
            "text/plain": "[3.5142131519065587,\n 1.6145403134708656,\n 1.1109860864823224,\n 0.1576573331590272,\n 0.6378908147176446,\n 0.6598956823469534,\n 0.4010368793251726,\n 0.8482240452829103,\n -0.3834754860223588,\n 0.02819239682736559]"
          },
          "metadata": {}
        }
      ],
      "execution_count": 31,
      "metadata": {
        "jupyter": {
          "source_hidden": false,
          "outputs_hidden": false
        },
        "nteract": {
          "transient": {
            "deleting": false
          }
        }
      }
    },
    {
      "cell_type": "code",
      "source": [
        "word_coeff = [(i,j) for (i,j) in zip(vocab,coeff)]\r\n",
        "word_coeff[:5]"
      ],
      "outputs": [
        {
          "output_type": "display_data",
          "data": {
            "application/vnd.livy.statement-meta+json": {
              "spark_pool": "sparkpool",
              "session_id": "17",
              "statement_id": 33,
              "state": "finished",
              "livy_statement_state": "available",
              "queued_time": "2024-03-20T10:16:18.8287705Z",
              "session_start_time": null,
              "execution_start_time": "2024-03-20T10:18:07.0093828Z",
              "execution_finish_time": "2024-03-20T10:18:07.1659546Z",
              "spark_jobs": null,
              "parent_msg_id": "a4edd12d-2d4f-4a0c-998a-1fc2f0996b48"
            },
            "text/plain": "StatementMeta(sparkpool, 17, 33, Finished, Available)"
          },
          "metadata": {}
        },
        {
          "output_type": "execute_result",
          "execution_count": 67,
          "data": {
            "text/plain": "[('delicious', 3.5142131519065587),\n ('friendly', 1.6145403134708656),\n ('recommend', 1.1109860864823224),\n ('fried', 0.1576573331590272),\n ('fresh', 0.6378908147176446)]"
          },
          "metadata": {}
        }
      ],
      "execution_count": 32,
      "metadata": {
        "jupyter": {
          "source_hidden": false,
          "outputs_hidden": false
        },
        "nteract": {
          "transient": {
            "deleting": false
          }
        }
      }
    },
    {
      "cell_type": "code",
      "source": [
        "word_coeff_df = spark.createDataFrame(word_coeff,['word','coeff'])\r\n",
        "word_coeff_df.show(5)"
      ],
      "outputs": [
        {
          "output_type": "display_data",
          "data": {
            "application/vnd.livy.statement-meta+json": {
              "spark_pool": "sparkpool",
              "session_id": "17",
              "statement_id": 34,
              "state": "finished",
              "livy_statement_state": "available",
              "queued_time": "2024-03-20T10:16:26.3297536Z",
              "session_start_time": null,
              "execution_start_time": "2024-03-20T10:18:07.3229736Z",
              "execution_finish_time": "2024-03-20T10:18:08.418787Z",
              "spark_jobs": null,
              "parent_msg_id": "fac0a921-51f6-4acb-a5fd-6c9b10c6f403"
            },
            "text/plain": "StatementMeta(sparkpool, 17, 34, Finished, Available)"
          },
          "metadata": {}
        },
        {
          "output_type": "stream",
          "name": "stdout",
          "text": [
            "+---------+------------------+\n|     word|             coeff|\n+---------+------------------+\n|delicious|3.5142131519065587|\n| friendly|1.6145403134708656|\n|recommend|1.1109860864823224|\n|    fried|0.1576573331590272|\n|    fresh|0.6378908147176446|\n+---------+------------------+\nonly showing top 5 rows\n\n"
          ]
        }
      ],
      "execution_count": 33,
      "metadata": {
        "jupyter": {
          "source_hidden": false,
          "outputs_hidden": false
        },
        "nteract": {
          "transient": {
            "deleting": false
          }
        }
      }
    },
    {
      "cell_type": "code",
      "source": [
        "African_df.select('vector').show(5, truncate = 100)"
      ],
      "outputs": [
        {
          "output_type": "display_data",
          "data": {
            "application/vnd.livy.statement-meta+json": {
              "spark_pool": "sparkpool",
              "session_id": "17",
              "statement_id": 35,
              "state": "finished",
              "livy_statement_state": "available",
              "queued_time": "2024-03-20T10:17:12.0600932Z",
              "session_start_time": null,
              "execution_start_time": "2024-03-20T10:18:08.5694288Z",
              "execution_finish_time": "2024-03-20T10:18:11.344278Z",
              "spark_jobs": null,
              "parent_msg_id": "d608c186-4752-4e2c-9463-343dab000f9d"
            },
            "text/plain": "StatementMeta(sparkpool, 17, 35, Finished, Available)"
          },
          "metadata": {}
        },
        {
          "output_type": "stream",
          "name": "stdout",
          "text": [
            "+----------------------------------------------------------------------------------------+\n|                                                                                  vector|\n+----------------------------------------------------------------------------------------+\n|                                                                        (1973,[1],[1.0])|\n|                                                                       (1973,[24],[1.0])|\n|(1973,[4,6,8,9,53,58,69,80,832,1658,1720],[1.0,1.0,2.0,1.0,1.0,1.0,1.0,1.0,1.0,1.0,1.0])|\n|                 (1973,[6,17,18,135,143,166,186,1757],[1.0,1.0,1.0,1.0,1.0,1.0,1.0,1.0])|\n|                                         (1973,[0,14,120,261,737],[1.0,1.0,1.0,1.0,1.0])|\n+----------------------------------------------------------------------------------------+\nonly showing top 5 rows\n\n"
          ]
        }
      ],
      "execution_count": 34,
      "metadata": {
        "jupyter": {
          "source_hidden": false,
          "outputs_hidden": false
        },
        "nteract": {
          "transient": {
            "deleting": false
          }
        }
      }
    },
    {
      "cell_type": "code",
      "source": [
        "vector_dense_arr = vector_to_array(African_df.vector)\r\n",
        "African_df = African_df.withColumn('vector_dense',vector_dense_arr)"
      ],
      "outputs": [
        {
          "output_type": "display_data",
          "data": {
            "application/vnd.livy.statement-meta+json": {
              "spark_pool": "sparkpool",
              "session_id": "17",
              "statement_id": 36,
              "state": "finished",
              "livy_statement_state": "available",
              "queued_time": "2024-03-20T10:17:14.2011853Z",
              "session_start_time": null,
              "execution_start_time": "2024-03-20T10:18:11.5124844Z",
              "execution_finish_time": "2024-03-20T10:18:11.6691722Z",
              "spark_jobs": null,
              "parent_msg_id": "3b50b660-d4f1-4c20-a615-c6eca1914635"
            },
            "text/plain": "StatementMeta(sparkpool, 17, 36, Finished, Available)"
          },
          "metadata": {}
        }
      ],
      "execution_count": 35,
      "metadata": {
        "jupyter": {
          "source_hidden": false,
          "outputs_hidden": false
        },
        "nteract": {
          "transient": {
            "deleting": false
          }
        }
      }
    },
    {
      "cell_type": "code",
      "source": [
        "African_df.show(5)"
      ],
      "outputs": [
        {
          "output_type": "display_data",
          "data": {
            "application/vnd.livy.statement-meta+json": {
              "spark_pool": "sparkpool",
              "session_id": "17",
              "statement_id": 37,
              "state": "finished",
              "livy_statement_state": "available",
              "queued_time": "2024-03-20T10:17:16.2786943Z",
              "session_start_time": null,
              "execution_start_time": "2024-03-20T10:18:11.8197227Z",
              "execution_finish_time": "2024-03-20T10:18:17.1079431Z",
              "spark_jobs": null,
              "parent_msg_id": "ffee2e1c-1e54-425d-8918-2b6bde736ae4"
            },
            "text/plain": "StatementMeta(sparkpool, 17, 37, Finished, Available)"
          },
          "metadata": {}
        },
        {
          "output_type": "stream",
          "name": "stdout",
          "text": [
            "+--------+--------------------+--------------------+-----------+--------------------+\n|  labels|       text_filtered|              vector|labels_bool|    vector_dense_arr|\n+--------+--------------------+--------------------+-----------+--------------------+\n|positive|          [friendly]|    (1973,[1],[1.0])|          1|[0.0, 1.0, 0.0, 0...|\n|positive|             [rusty]|   (1973,[24],[1.0])|          1|[0.0, 0.0, 0.0, 0...|\n|positive|[fresh, dedicated...|(1973,[4,6,8,9,53...|          1|[0.0, 0.0, 0.0, 0...|\n|positive|[lost, beautifull...|(1973,[6,17,18,13...|          1|[0.0, 0.0, 0.0, 0...|\n|positive|[top, delicious, ...|(1973,[0,14,120,2...|          1|[1.0, 0.0, 0.0, 0...|\n+--------+--------------------+--------------------+-----------+--------------------+\nonly showing top 5 rows\n\n"
          ]
        }
      ],
      "execution_count": 36,
      "metadata": {
        "jupyter": {
          "source_hidden": false,
          "outputs_hidden": false
        },
        "nteract": {
          "transient": {
            "deleting": false
          }
        }
      }
    },
    {
      "cell_type": "code",
      "source": [
        "vector_dense_rdd = African_df.select('vector_dense_arr').rdd\r\n",
        "c = vector_dense_rdd.collect()\r\n",
        "type(c)"
      ],
      "outputs": [
        {
          "output_type": "display_data",
          "data": {
            "application/vnd.livy.statement-meta+json": {
              "spark_pool": "sparkpool",
              "session_id": "17",
              "statement_id": 38,
              "state": "finished",
              "livy_statement_state": "available",
              "queued_time": "2024-03-20T10:17:18.4246646Z",
              "session_start_time": null,
              "execution_start_time": "2024-03-20T10:18:17.2665689Z",
              "execution_finish_time": "2024-03-20T10:18:39.9362887Z",
              "spark_jobs": null,
              "parent_msg_id": "e2dd4a1e-cf0c-4cd3-920b-aa9a3a1e0f12"
            },
            "text/plain": "StatementMeta(sparkpool, 17, 38, Finished, Available)"
          },
          "metadata": {}
        },
        {
          "output_type": "execute_result",
          "execution_count": 77,
          "data": {
            "text/plain": "list"
          },
          "metadata": {}
        }
      ],
      "execution_count": 37,
      "metadata": {
        "jupyter": {
          "source_hidden": false,
          "outputs_hidden": false
        },
        "nteract": {
          "transient": {
            "deleting": false
          }
        }
      }
    },
    {
      "cell_type": "code",
      "source": [
        "c = list(map(lambda x: x[0],c))"
      ],
      "outputs": [
        {
          "output_type": "display_data",
          "data": {
            "application/vnd.livy.statement-meta+json": {
              "spark_pool": "sparkpool",
              "session_id": "17",
              "statement_id": 39,
              "state": "finished",
              "livy_statement_state": "available",
              "queued_time": "2024-03-20T10:17:20.3337824Z",
              "session_start_time": null,
              "execution_start_time": "2024-03-20T10:18:41.1874387Z",
              "execution_finish_time": "2024-03-20T10:18:41.3391567Z",
              "spark_jobs": null,
              "parent_msg_id": "752b1e83-b840-4947-8b9e-3c7f930dcb15"
            },
            "text/plain": "StatementMeta(sparkpool, 17, 39, Finished, Available)"
          },
          "metadata": {}
        }
      ],
      "execution_count": 38,
      "metadata": {
        "jupyter": {
          "source_hidden": false,
          "outputs_hidden": false
        },
        "nteract": {
          "transient": {
            "deleting": false
          }
        }
      }
    },
    {
      "cell_type": "code",
      "source": [
        "schema = StructType(\r\n",
        "[StructField(i,FloatType(),False) for i in vocab]\r\n",
        ")"
      ],
      "outputs": [
        {
          "output_type": "display_data",
          "data": {
            "application/vnd.livy.statement-meta+json": {
              "spark_pool": "sparkpool",
              "session_id": "17",
              "statement_id": 40,
              "state": "finished",
              "livy_statement_state": "available",
              "queued_time": "2024-03-20T10:17:27.6512543Z",
              "session_start_time": null,
              "execution_start_time": "2024-03-20T10:18:41.4804939Z",
              "execution_finish_time": "2024-03-20T10:18:41.6381997Z",
              "spark_jobs": null,
              "parent_msg_id": "b099dca2-b147-4f70-a577-1e1b8e07230c"
            },
            "text/plain": "StatementMeta(sparkpool, 17, 40, Finished, Available)"
          },
          "metadata": {}
        }
      ],
      "execution_count": 39,
      "metadata": {
        "jupyter": {
          "source_hidden": false,
          "outputs_hidden": false
        },
        "nteract": {
          "transient": {
            "deleting": false
          }
        }
      }
    },
    {
      "cell_type": "code",
      "source": [
        "schema[:10]"
      ],
      "outputs": [
        {
          "output_type": "display_data",
          "data": {
            "application/vnd.livy.statement-meta+json": {
              "spark_pool": "sparkpool",
              "session_id": "17",
              "statement_id": 41,
              "state": "finished",
              "livy_statement_state": "available",
              "queued_time": "2024-03-20T10:17:37.1624091Z",
              "session_start_time": null,
              "execution_start_time": "2024-03-20T10:18:41.7798035Z",
              "execution_finish_time": "2024-03-20T10:18:41.932603Z",
              "spark_jobs": null,
              "parent_msg_id": "8b86759a-2289-4aff-955d-19eb2b555f37"
            },
            "text/plain": "StatementMeta(sparkpool, 17, 41, Finished, Available)"
          },
          "metadata": {}
        },
        {
          "output_type": "execute_result",
          "execution_count": 83,
          "data": {
            "text/plain": "StructType([StructField('delicious', FloatType(), False), StructField('friendly', FloatType(), False), StructField('recommend', FloatType(), False), StructField('fried', FloatType(), False), StructField('fresh', FloatType(), False), StructField('sweet', FloatType(), False), StructField('worth', FloatType(), False), StructField('hot', FloatType(), False), StructField('enjoy', FloatType(), False), StructField('beautiful', FloatType(), False)])"
          },
          "metadata": {}
        }
      ],
      "execution_count": 40,
      "metadata": {
        "jupyter": {
          "source_hidden": false,
          "outputs_hidden": false
        },
        "nteract": {
          "transient": {
            "deleting": false
          }
        }
      }
    },
    {
      "cell_type": "code",
      "source": [
        "matrix = spark.createDataFrame(c,schema = schema)"
      ],
      "outputs": [
        {
          "output_type": "display_data",
          "data": {
            "application/vnd.livy.statement-meta+json": {
              "spark_pool": "sparkpool",
              "session_id": "17",
              "statement_id": 42,
              "state": "finished",
              "livy_statement_state": "available",
              "queued_time": "2024-03-20T10:17:40.1343822Z",
              "session_start_time": null,
              "execution_start_time": "2024-03-20T10:18:42.091726Z",
              "execution_finish_time": "2024-03-20T10:18:50.7033042Z",
              "spark_jobs": null,
              "parent_msg_id": "f9a73ab0-6262-45eb-8521-e91fd40bd1d7"
            },
            "text/plain": "StatementMeta(sparkpool, 17, 42, Finished, Available)"
          },
          "metadata": {}
        }
      ],
      "execution_count": 41,
      "metadata": {
        "jupyter": {
          "source_hidden": false,
          "outputs_hidden": false
        },
        "nteract": {
          "transient": {
            "deleting": false
          }
        }
      }
    },
    {
      "cell_type": "code",
      "source": [
        "matrix_pd = matrix.toPandas()"
      ],
      "outputs": [
        {
          "output_type": "display_data",
          "data": {
            "application/vnd.livy.statement-meta+json": {
              "spark_pool": "sparkpool",
              "session_id": "17",
              "statement_id": 43,
              "state": "finished",
              "livy_statement_state": "available",
              "queued_time": "2024-03-20T10:17:42.4041948Z",
              "session_start_time": null,
              "execution_start_time": "2024-03-20T10:18:50.8505602Z",
              "execution_finish_time": "2024-03-20T10:18:59.515606Z",
              "spark_jobs": null,
              "parent_msg_id": "624556ab-3ad9-445e-ae2d-0a90bf714e9a"
            },
            "text/plain": "StatementMeta(sparkpool, 17, 43, Finished, Available)"
          },
          "metadata": {}
        }
      ],
      "execution_count": 42,
      "metadata": {
        "jupyter": {
          "source_hidden": false,
          "outputs_hidden": false
        },
        "nteract": {
          "transient": {
            "deleting": false
          }
        }
      }
    },
    {
      "cell_type": "code",
      "source": [
        "matrix_pd.head(3)"
      ],
      "outputs": [
        {
          "output_type": "display_data",
          "data": {
            "application/vnd.livy.statement-meta+json": {
              "spark_pool": "sparkpool",
              "session_id": "17",
              "statement_id": 44,
              "state": "finished",
              "livy_statement_state": "available",
              "queued_time": "2024-03-20T10:17:44.2187722Z",
              "session_start_time": null,
              "execution_start_time": "2024-03-20T10:18:59.6923513Z",
              "execution_finish_time": "2024-03-20T10:18:59.8425897Z",
              "spark_jobs": null,
              "parent_msg_id": "15a5a647-00f5-48b4-9dc7-4f59fd97ee2a"
            },
            "text/plain": "StatementMeta(sparkpool, 17, 44, Finished, Available)"
          },
          "metadata": {}
        },
        {
          "output_type": "execute_result",
          "execution_count": 89,
          "data": {
            "text/plain": "   delicious  friendly  recommend  fried  fresh  sweet  worth  hot  enjoy  \\\n0        0.0       1.0        0.0    0.0    0.0    0.0    0.0  0.0    0.0   \n1        0.0       0.0        0.0    0.0    0.0    0.0    0.0  0.0    0.0   \n2        0.0       0.0        0.0    0.0    1.0    0.0    1.0  0.0    2.0   \n\n   beautiful  ...  accurately  agonizingly  offender  massacre  trusty  \\\n0        0.0  ...         0.0          0.0       0.0       0.0     0.0   \n1        0.0  ...         0.0          0.0       0.0       0.0     0.0   \n2        1.0  ...         0.0          0.0       0.0       0.0     0.0   \n\n   favour  outraged  deterrent  achievement  beloved  \n0     0.0       0.0        0.0          0.0      0.0  \n1     0.0       0.0        0.0          0.0      0.0  \n2     0.0       0.0        0.0          0.0      0.0  \n\n[3 rows x 1973 columns]",
            "text/html": "<div>\n<style scoped>\n    .dataframe tbody tr th:only-of-type {\n        vertical-align: middle;\n    }\n\n    .dataframe tbody tr th {\n        vertical-align: top;\n    }\n\n    .dataframe thead th {\n        text-align: right;\n    }\n</style>\n<table border=\"1\" class=\"dataframe\">\n  <thead>\n    <tr style=\"text-align: right;\">\n      <th></th>\n      <th>delicious</th>\n      <th>friendly</th>\n      <th>recommend</th>\n      <th>fried</th>\n      <th>fresh</th>\n      <th>sweet</th>\n      <th>worth</th>\n      <th>hot</th>\n      <th>enjoy</th>\n      <th>beautiful</th>\n      <th>...</th>\n      <th>accurately</th>\n      <th>agonizingly</th>\n      <th>offender</th>\n      <th>massacre</th>\n      <th>trusty</th>\n      <th>favour</th>\n      <th>outraged</th>\n      <th>deterrent</th>\n      <th>achievement</th>\n      <th>beloved</th>\n    </tr>\n  </thead>\n  <tbody>\n    <tr>\n      <th>0</th>\n      <td>0.0</td>\n      <td>1.0</td>\n      <td>0.0</td>\n      <td>0.0</td>\n      <td>0.0</td>\n      <td>0.0</td>\n      <td>0.0</td>\n      <td>0.0</td>\n      <td>0.0</td>\n      <td>0.0</td>\n      <td>...</td>\n      <td>0.0</td>\n      <td>0.0</td>\n      <td>0.0</td>\n      <td>0.0</td>\n      <td>0.0</td>\n      <td>0.0</td>\n      <td>0.0</td>\n      <td>0.0</td>\n      <td>0.0</td>\n      <td>0.0</td>\n    </tr>\n    <tr>\n      <th>1</th>\n      <td>0.0</td>\n      <td>0.0</td>\n      <td>0.0</td>\n      <td>0.0</td>\n      <td>0.0</td>\n      <td>0.0</td>\n      <td>0.0</td>\n      <td>0.0</td>\n      <td>0.0</td>\n      <td>0.0</td>\n      <td>...</td>\n      <td>0.0</td>\n      <td>0.0</td>\n      <td>0.0</td>\n      <td>0.0</td>\n      <td>0.0</td>\n      <td>0.0</td>\n      <td>0.0</td>\n      <td>0.0</td>\n      <td>0.0</td>\n      <td>0.0</td>\n    </tr>\n    <tr>\n      <th>2</th>\n      <td>0.0</td>\n      <td>0.0</td>\n      <td>0.0</td>\n      <td>0.0</td>\n      <td>1.0</td>\n      <td>0.0</td>\n      <td>1.0</td>\n      <td>0.0</td>\n      <td>2.0</td>\n      <td>1.0</td>\n      <td>...</td>\n      <td>0.0</td>\n      <td>0.0</td>\n      <td>0.0</td>\n      <td>0.0</td>\n      <td>0.0</td>\n      <td>0.0</td>\n      <td>0.0</td>\n      <td>0.0</td>\n      <td>0.0</td>\n      <td>0.0</td>\n    </tr>\n  </tbody>\n</table>\n<p>3 rows × 1973 columns</p>\n</div>"
          },
          "metadata": {}
        }
      ],
      "execution_count": 43,
      "metadata": {
        "jupyter": {
          "source_hidden": false,
          "outputs_hidden": false
        },
        "nteract": {
          "transient": {
            "deleting": false
          }
        }
      }
    },
    {
      "cell_type": "code",
      "source": [
        "frequency = matrix_pd.sum(axis = 0)"
      ],
      "outputs": [
        {
          "output_type": "display_data",
          "data": {
            "application/vnd.livy.statement-meta+json": {
              "spark_pool": "sparkpool",
              "session_id": "17",
              "statement_id": 45,
              "state": "finished",
              "livy_statement_state": "available",
              "queued_time": "2024-03-20T10:17:46.9819307Z",
              "session_start_time": null,
              "execution_start_time": "2024-03-20T10:18:59.9888165Z",
              "execution_finish_time": "2024-03-20T10:19:00.1422365Z",
              "spark_jobs": null,
              "parent_msg_id": "7a1f43c1-1d2a-44ee-8a81-b324c1eabe82"
            },
            "text/plain": "StatementMeta(sparkpool, 17, 45, Finished, Available)"
          },
          "metadata": {}
        }
      ],
      "execution_count": 44,
      "metadata": {
        "jupyter": {
          "source_hidden": false,
          "outputs_hidden": false
        },
        "nteract": {
          "transient": {
            "deleting": false
          }
        }
      }
    },
    {
      "cell_type": "code",
      "source": [
        "frequency"
      ],
      "outputs": [
        {
          "output_type": "display_data",
          "data": {
            "application/vnd.livy.statement-meta+json": {
              "spark_pool": "sparkpool",
              "session_id": "17",
              "statement_id": 46,
              "state": "finished",
              "livy_statement_state": "available",
              "queued_time": "2024-03-20T10:17:48.4643807Z",
              "session_start_time": null,
              "execution_start_time": "2024-03-20T10:19:00.3016434Z",
              "execution_finish_time": "2024-03-20T10:19:00.4526611Z",
              "spark_jobs": null,
              "parent_msg_id": "6b46dbf4-550e-48d4-847a-62759340ac05"
            },
            "text/plain": "StatementMeta(sparkpool, 17, 46, Finished, Available)"
          },
          "metadata": {}
        },
        {
          "output_type": "execute_result",
          "execution_count": 93,
          "data": {
            "text/plain": "delicious      1514.0\nfriendly        925.0\nrecommend       766.0\nfried           657.0\nfresh           592.0\n                ...  \nfavour            1.0\noutraged          1.0\ndeterrent         1.0\nachievement       1.0\nbeloved           1.0\nLength: 1973, dtype: float32"
          },
          "metadata": {}
        }
      ],
      "execution_count": 45,
      "metadata": {
        "jupyter": {
          "source_hidden": false,
          "outputs_hidden": false
        },
        "nteract": {
          "transient": {
            "deleting": false
          }
        }
      }
    },
    {
      "cell_type": "code",
      "source": [
        "freq_rdd = sc.parallelize(frequency)"
      ],
      "outputs": [
        {
          "output_type": "display_data",
          "data": {
            "application/vnd.livy.statement-meta+json": {
              "spark_pool": "sparkpool",
              "session_id": "17",
              "statement_id": 47,
              "state": "finished",
              "livy_statement_state": "available",
              "queued_time": "2024-03-20T10:17:50.1730893Z",
              "session_start_time": null,
              "execution_start_time": "2024-03-20T10:19:00.5964512Z",
              "execution_finish_time": "2024-03-20T10:19:00.7489579Z",
              "spark_jobs": null,
              "parent_msg_id": "d13fe9c7-0f4c-4231-aa87-d5967e9d19da"
            },
            "text/plain": "StatementMeta(sparkpool, 17, 47, Finished, Available)"
          },
          "metadata": {}
        }
      ],
      "execution_count": 46,
      "metadata": {
        "jupyter": {
          "source_hidden": false,
          "outputs_hidden": false
        },
        "nteract": {
          "transient": {
            "deleting": false
          }
        }
      }
    },
    {
      "cell_type": "code",
      "source": [
        "freq = freq_rdd.collect()"
      ],
      "outputs": [
        {
          "output_type": "display_data",
          "data": {
            "application/vnd.livy.statement-meta+json": {
              "spark_pool": "sparkpool",
              "session_id": "17",
              "statement_id": 48,
              "state": "finished",
              "livy_statement_state": "available",
              "queued_time": "2024-03-20T10:17:52.0562439Z",
              "session_start_time": null,
              "execution_start_time": "2024-03-20T10:19:00.9083718Z",
              "execution_finish_time": "2024-03-20T10:19:01.0599709Z",
              "spark_jobs": null,
              "parent_msg_id": "d20932a3-f230-4938-998c-9895d7399e6d"
            },
            "text/plain": "StatementMeta(sparkpool, 17, 48, Finished, Available)"
          },
          "metadata": {}
        }
      ],
      "execution_count": 47,
      "metadata": {
        "jupyter": {
          "source_hidden": false,
          "outputs_hidden": false
        },
        "nteract": {
          "transient": {
            "deleting": false
          }
        }
      }
    },
    {
      "cell_type": "code",
      "source": [
        "display(freq[:10])\r\n",
        "type(freq)"
      ],
      "outputs": [
        {
          "output_type": "display_data",
          "data": {
            "application/vnd.livy.statement-meta+json": {
              "spark_pool": "sparkpool",
              "session_id": "17",
              "statement_id": 49,
              "state": "finished",
              "livy_statement_state": "available",
              "queued_time": "2024-03-20T10:17:54.2509772Z",
              "session_start_time": null,
              "execution_start_time": "2024-03-20T10:19:01.2078302Z",
              "execution_finish_time": "2024-03-20T10:19:01.3586918Z",
              "spark_jobs": null,
              "parent_msg_id": "8bc6d9ef-699d-4e14-bb3c-c12f82c22a69"
            },
            "text/plain": "StatementMeta(sparkpool, 17, 49, Finished, Available)"
          },
          "metadata": {}
        },
        {
          "output_type": "display_data",
          "data": {
            "text/plain": "[1514.0, 925.0, 766.0, 657.0, 592.0, 501.0, 454.0, 446.0, 296.0, 295.0]"
          },
          "metadata": {}
        },
        {
          "output_type": "execute_result",
          "execution_count": 99,
          "data": {
            "text/plain": "list"
          },
          "metadata": {}
        }
      ],
      "execution_count": 48,
      "metadata": {
        "jupyter": {
          "source_hidden": false,
          "outputs_hidden": false
        },
        "nteract": {
          "transient": {
            "deleting": false
          }
        }
      }
    },
    {
      "cell_type": "code",
      "source": [
        "word_coeff_freq = [(i,j,k) for (i,j,k) in zip(vocab,coeff,freq)]"
      ],
      "outputs": [
        {
          "output_type": "display_data",
          "data": {
            "application/vnd.livy.statement-meta+json": {
              "spark_pool": "sparkpool",
              "session_id": "17",
              "statement_id": 50,
              "state": "finished",
              "livy_statement_state": "available",
              "queued_time": "2024-03-20T10:17:56.6277911Z",
              "session_start_time": null,
              "execution_start_time": "2024-03-20T10:19:01.5082321Z",
              "execution_finish_time": "2024-03-20T10:19:01.6685086Z",
              "spark_jobs": null,
              "parent_msg_id": "74129cd1-bfb9-4f7e-a7a9-e6676733f2be"
            },
            "text/plain": "StatementMeta(sparkpool, 17, 50, Finished, Available)"
          },
          "metadata": {}
        }
      ],
      "execution_count": 49,
      "metadata": {
        "jupyter": {
          "source_hidden": false,
          "outputs_hidden": false
        },
        "nteract": {
          "transient": {
            "deleting": false
          }
        }
      }
    },
    {
      "cell_type": "code",
      "source": [
        "word_coeff_freq[:10]"
      ],
      "outputs": [
        {
          "output_type": "display_data",
          "data": {
            "application/vnd.livy.statement-meta+json": {
              "spark_pool": "sparkpool",
              "session_id": "17",
              "statement_id": 51,
              "state": "finished",
              "livy_statement_state": "available",
              "queued_time": "2024-03-20T10:17:58.3056302Z",
              "session_start_time": null,
              "execution_start_time": "2024-03-20T10:19:01.8244967Z",
              "execution_finish_time": "2024-03-20T10:19:01.9685723Z",
              "spark_jobs": null,
              "parent_msg_id": "1e97d744-9172-45dd-8b9d-24a1fdae94fb"
            },
            "text/plain": "StatementMeta(sparkpool, 17, 51, Finished, Available)"
          },
          "metadata": {}
        },
        {
          "output_type": "execute_result",
          "execution_count": 103,
          "data": {
            "text/plain": "[('delicious', 3.5142131519065587, 1514.0),\n ('friendly', 1.6145403134708656, 925.0),\n ('recommend', 1.1109860864823224, 766.0),\n ('fried', 0.1576573331590272, 657.0),\n ('fresh', 0.6378908147176446, 592.0),\n ('sweet', 0.6598956823469534, 501.0),\n ('worth', 0.4010368793251726, 454.0),\n ('hot', 0.8482240452829103, 446.0),\n ('enjoy', -0.3834754860223588, 296.0),\n ('beautiful', 0.02819239682736559, 295.0)]"
          },
          "metadata": {}
        }
      ],
      "execution_count": 50,
      "metadata": {
        "jupyter": {
          "source_hidden": false,
          "outputs_hidden": false
        },
        "nteract": {
          "transient": {
            "deleting": false
          }
        }
      }
    },
    {
      "cell_type": "code",
      "source": [
        "word_coeff_freq_df = spark.createDataFrame(word_coeff_freq, ['word','coeff','freq'])"
      ],
      "outputs": [
        {
          "output_type": "display_data",
          "data": {
            "application/vnd.livy.statement-meta+json": {
              "spark_pool": "sparkpool",
              "session_id": "17",
              "statement_id": 52,
              "state": "finished",
              "livy_statement_state": "available",
              "queued_time": "2024-03-20T10:18:00.7128157Z",
              "session_start_time": null,
              "execution_start_time": "2024-03-20T10:19:02.1074949Z",
              "execution_finish_time": "2024-03-20T10:19:02.2674868Z",
              "spark_jobs": null,
              "parent_msg_id": "1bec3976-f8d2-4602-8b5c-711a3d6f7dbd"
            },
            "text/plain": "StatementMeta(sparkpool, 17, 52, Finished, Available)"
          },
          "metadata": {}
        }
      ],
      "execution_count": 51,
      "metadata": {
        "jupyter": {
          "source_hidden": false,
          "outputs_hidden": false
        },
        "nteract": {
          "transient": {
            "deleting": false
          }
        }
      }
    },
    {
      "cell_type": "code",
      "source": [
        "word_coeff_freq_df.show(10)"
      ],
      "outputs": [
        {
          "output_type": "display_data",
          "data": {
            "application/vnd.livy.statement-meta+json": {
              "spark_pool": "sparkpool",
              "session_id": "17",
              "statement_id": 53,
              "state": "finished",
              "livy_statement_state": "available",
              "queued_time": "2024-03-20T10:18:03.5681904Z",
              "session_start_time": null,
              "execution_start_time": "2024-03-20T10:19:02.428483Z",
              "execution_finish_time": "2024-03-20T10:19:02.9755939Z",
              "spark_jobs": null,
              "parent_msg_id": "39116725-0fae-46df-9538-38eea5068bc9"
            },
            "text/plain": "StatementMeta(sparkpool, 17, 53, Finished, Available)"
          },
          "metadata": {}
        },
        {
          "output_type": "stream",
          "name": "stdout",
          "text": [
            "+---------+-------------------+------+\n|     word|              coeff|  freq|\n+---------+-------------------+------+\n|delicious| 3.5142131519065587|1514.0|\n| friendly| 1.6145403134708656| 925.0|\n|recommend| 1.1109860864823224| 766.0|\n|    fried| 0.1576573331590272| 657.0|\n|    fresh| 0.6378908147176446| 592.0|\n|    sweet| 0.6598956823469534| 501.0|\n|    worth| 0.4010368793251726| 454.0|\n|      hot| 0.8482240452829103| 446.0|\n|    enjoy|-0.3834754860223588| 296.0|\n|beautiful|0.02819239682736559| 295.0|\n+---------+-------------------+------+\nonly showing top 10 rows\n\n"
          ]
        }
      ],
      "execution_count": 52,
      "metadata": {
        "jupyter": {
          "source_hidden": false,
          "outputs_hidden": false
        },
        "nteract": {
          "transient": {
            "deleting": false
          }
        }
      }
    },
    {
      "cell_type": "code",
      "source": [
        "n = matrix.count()"
      ],
      "outputs": [
        {
          "output_type": "display_data",
          "data": {
            "application/vnd.livy.statement-meta+json": {
              "spark_pool": "sparkpool",
              "session_id": "17",
              "statement_id": 54,
              "state": "finished",
              "livy_statement_state": "available",
              "queued_time": "2024-03-20T10:18:06.2569502Z",
              "session_start_time": null,
              "execution_start_time": "2024-03-20T10:19:03.1231942Z",
              "execution_finish_time": "2024-03-20T10:19:07.0944228Z",
              "spark_jobs": null,
              "parent_msg_id": "5c716e0e-311f-48b8-93bf-f01b1cbeb3e5"
            },
            "text/plain": "StatementMeta(sparkpool, 17, 54, Finished, Available)"
          },
          "metadata": {}
        }
      ],
      "execution_count": 53,
      "metadata": {
        "jupyter": {
          "source_hidden": false,
          "outputs_hidden": false
        },
        "nteract": {
          "transient": {
            "deleting": false
          }
        }
      }
    },
    {
      "cell_type": "code",
      "source": [
        "African_master_df = word_coeff_freq_df.withColumn('polarity', col('coeff') * col('freq') / n)"
      ],
      "outputs": [
        {
          "output_type": "display_data",
          "data": {
            "application/vnd.livy.statement-meta+json": {
              "spark_pool": "sparkpool",
              "session_id": "17",
              "statement_id": 55,
              "state": "finished",
              "livy_statement_state": "available",
              "queued_time": "2024-03-20T10:18:08.6762022Z",
              "session_start_time": null,
              "execution_start_time": "2024-03-20T10:19:07.2462909Z",
              "execution_finish_time": "2024-03-20T10:19:07.3954191Z",
              "spark_jobs": null,
              "parent_msg_id": "ccecaf07-652d-4c6e-9e29-1323acc68785"
            },
            "text/plain": "StatementMeta(sparkpool, 17, 55, Finished, Available)"
          },
          "metadata": {}
        }
      ],
      "execution_count": 54,
      "metadata": {
        "jupyter": {
          "source_hidden": false,
          "outputs_hidden": false
        },
        "nteract": {
          "transient": {
            "deleting": false
          }
        }
      }
    },
    {
      "cell_type": "code",
      "source": [
        "African_master_df.sort('polarity',ascending = True).show(10)"
      ],
      "outputs": [
        {
          "output_type": "display_data",
          "data": {
            "application/vnd.livy.statement-meta+json": {
              "spark_pool": "sparkpool",
              "session_id": "17",
              "statement_id": 56,
              "state": "finished",
              "livy_statement_state": "available",
              "queued_time": "2024-03-20T10:18:10.9880548Z",
              "session_start_time": null,
              "execution_start_time": "2024-03-20T10:19:07.5427329Z",
              "execution_finish_time": "2024-03-20T10:19:08.5951619Z",
              "spark_jobs": null,
              "parent_msg_id": "ac977a62-beec-40fd-8ec6-d4c7bda0284e"
            },
            "text/plain": "StatementMeta(sparkpool, 17, 56, Finished, Available)"
          },
          "metadata": {}
        },
        {
          "output_type": "stream",
          "name": "stdout",
          "text": [
            "+----------+-------------------+-----+--------------------+\n|      word|              coeff| freq|            polarity|\n+----------+-------------------+-----+--------------------+\n|disgusting|  -18.4423288011563| 52.0|  -0.155555733602616|\n|     worse|-15.350032117209746| 51.0|-0.12698323405964268|\n|     gross|-18.299362377860998| 42.0|-0.12466718894893138|\n|    refund|-30.264265516607576| 23.0|-0.11290804653397798|\n|ridiculous|-21.297797459989937| 32.0|-0.11054817821892587|\n|     trash| -17.52243916931295| 34.0|-0.09663632307488083|\n|      hell|-23.551262435959178| 24.0|-0.09168374670933013|\n|      cold| -2.120295824857995|263.0|-0.09045219820562087|\n|      poor| -6.326108254527946| 87.0|-0.08927354714418999|\n|      rude| -4.223422461511341|125.0|-0.08563305883031917|\n+----------+-------------------+-----+--------------------+\nonly showing top 10 rows\n\n"
          ]
        }
      ],
      "execution_count": 55,
      "metadata": {
        "jupyter": {
          "source_hidden": false,
          "outputs_hidden": false
        },
        "nteract": {
          "transient": {
            "deleting": false
          }
        }
      }
    },
    {
      "cell_type": "code",
      "source": [
        "African_master_df.sort('polarity',ascending = False).show(10)"
      ],
      "outputs": [
        {
          "output_type": "display_data",
          "data": {
            "application/vnd.livy.statement-meta+json": {
              "spark_pool": "sparkpool",
              "session_id": "17",
              "statement_id": 57,
              "state": "finished",
              "livy_statement_state": "available",
              "queued_time": "2024-03-20T10:18:12.7265762Z",
              "session_start_time": null,
              "execution_start_time": "2024-03-20T10:19:08.7388864Z",
              "execution_finish_time": "2024-03-20T10:19:09.2668839Z",
              "spark_jobs": null,
              "parent_msg_id": "fe6ddda8-c09f-4380-a1ee-3b1936b89bf4"
            },
            "text/plain": "StatementMeta(sparkpool, 17, 57, Finished, Available)"
          },
          "metadata": {}
        },
        {
          "output_type": "stream",
          "name": "stdout",
          "text": [
            "+-----------+------------------+------+-------------------+\n|       word|             coeff|  freq|           polarity|\n+-----------+------------------+------+-------------------+\n|  delicious|3.5142131519065587|1514.0| 0.8630200668266876|\n|   friendly|1.6145403134708656| 925.0|0.24224651905280625|\n| phenomenal|14.140373586371757|  79.0|0.18119862341011658|\n|   romantic| 34.29621583873816|  26.0|0.14463935309119094|\n|  recommend|1.1109860864823224| 766.0|0.13803979598466487|\n|   enjoying|14.766156209598272|  51.0|0.12215311706237013|\n|outstanding| 8.706570076182462|  84.0|0.11862966527158587|\n| perfection|  7.13990960960451|  95.0|0.11002293802310274|\n| delightful|14.429629055613333|  45.0|0.10532575953002432|\n|   generous| 5.320731894915049| 112.0|0.09666212039423934|\n+-----------+------------------+------+-------------------+\nonly showing top 10 rows\n\n"
          ]
        }
      ],
      "execution_count": 56,
      "metadata": {
        "jupyter": {
          "source_hidden": false,
          "outputs_hidden": false
        },
        "nteract": {
          "transient": {
            "deleting": false
          }
        }
      }
    },
    {
      "cell_type": "code",
      "source": [
        "African_positive_10 = African_master_df.sort('polarity',ascending = False).head(10)\r\n",
        "African_negative_10 = African_master_df.sort('polarity',ascending = True).head(10)"
      ],
      "outputs": [
        {
          "output_type": "display_data",
          "data": {
            "application/vnd.livy.statement-meta+json": {
              "spark_pool": "sparkpool",
              "session_id": "17",
              "statement_id": 61,
              "state": "finished",
              "livy_statement_state": "available",
              "queued_time": "2024-03-20T10:26:41.9176963Z",
              "session_start_time": null,
              "execution_start_time": "2024-03-20T10:26:42.0646499Z",
              "execution_finish_time": "2024-03-20T10:26:43.1470429Z",
              "spark_jobs": null,
              "parent_msg_id": "4320d7de-d4ac-4d23-bdd9-7566685c683a"
            },
            "text/plain": "StatementMeta(sparkpool, 17, 61, Finished, Available)"
          },
          "metadata": {}
        }
      ],
      "execution_count": 60,
      "metadata": {
        "jupyter": {
          "source_hidden": false,
          "outputs_hidden": false
        },
        "nteract": {
          "transient": {
            "deleting": false
          }
        }
      }
    },
    {
      "cell_type": "code",
      "source": [
        "African_positive_10_pd = pd.DataFrame(African_positive_10, columns = African_master_df.columns)\r\n",
        "African_negative_10_pd = pd.DataFrame(African_negative_10, columns = African_master_df.columns)"
      ],
      "outputs": [
        {
          "output_type": "display_data",
          "data": {
            "application/vnd.livy.statement-meta+json": {
              "spark_pool": "sparkpool",
              "session_id": "17",
              "statement_id": 154,
              "state": "finished",
              "livy_statement_state": "available",
              "queued_time": "2024-03-20T11:34:27.1685459Z",
              "session_start_time": null,
              "execution_start_time": "2024-03-20T11:34:27.3057056Z",
              "execution_finish_time": "2024-03-20T11:34:27.4634598Z",
              "spark_jobs": null,
              "parent_msg_id": "dc9d881c-b94c-48d9-9cb1-eadd474f7d39"
            },
            "text/plain": "StatementMeta(sparkpool, 17, 154, Finished, Available)"
          },
          "metadata": {}
        }
      ],
      "execution_count": 153,
      "metadata": {
        "jupyter": {
          "source_hidden": false,
          "outputs_hidden": false
        },
        "nteract": {
          "transient": {
            "deleting": false
          }
        }
      }
    },
    {
      "cell_type": "code",
      "source": [
        "African_negative_10_pd = African_negative_10_pd.sort_values('polarity',ascending = False)"
      ],
      "outputs": [
        {
          "output_type": "display_data",
          "data": {
            "application/vnd.livy.statement-meta+json": {
              "spark_pool": "sparkpool",
              "session_id": "17",
              "statement_id": 125,
              "state": "finished",
              "livy_statement_state": "available",
              "queued_time": "2024-03-20T11:13:59.9438287Z",
              "session_start_time": null,
              "execution_start_time": "2024-03-20T11:14:00.0636929Z",
              "execution_finish_time": "2024-03-20T11:14:00.2170937Z",
              "spark_jobs": null,
              "parent_msg_id": "7c31b1aa-5dbe-40e4-a73f-bc363c857538"
            },
            "text/plain": "StatementMeta(sparkpool, 17, 125, Finished, Available)"
          },
          "metadata": {}
        }
      ],
      "execution_count": 124,
      "metadata": {
        "jupyter": {
          "source_hidden": false,
          "outputs_hidden": false
        },
        "nteract": {
          "transient": {
            "deleting": false
          }
        }
      }
    },
    {
      "cell_type": "code",
      "source": [
        "African_concat = pd.concat([African_positive_10_pd,African_negative_10_pd])\r\n",
        "African_concat.head(20)"
      ],
      "outputs": [
        {
          "output_type": "display_data",
          "data": {
            "application/vnd.livy.statement-meta+json": {
              "spark_pool": "sparkpool",
              "session_id": "17",
              "statement_id": 126,
              "state": "finished",
              "livy_statement_state": "available",
              "queued_time": "2024-03-20T11:14:06.603889Z",
              "session_start_time": null,
              "execution_start_time": "2024-03-20T11:14:06.7264708Z",
              "execution_finish_time": "2024-03-20T11:14:06.8825758Z",
              "spark_jobs": null,
              "parent_msg_id": "c177e496-4ca1-471b-af90-3a9f29a1def8"
            },
            "text/plain": "StatementMeta(sparkpool, 17, 126, Finished, Available)"
          },
          "metadata": {}
        },
        {
          "output_type": "execute_result",
          "execution_count": 253,
          "data": {
            "text/plain": "          word      coeff    freq  polarity\n0    delicious   3.514213  1514.0  0.863020\n1     friendly   1.614540   925.0  0.242247\n2   phenomenal  14.140374    79.0  0.181199\n3     romantic  34.296216    26.0  0.144639\n4    recommend   1.110986   766.0  0.138040\n5     enjoying  14.766156    51.0  0.122153\n6  outstanding   8.706570    84.0  0.118630\n7   perfection   7.139910    95.0  0.110023\n8   delightful  14.429629    45.0  0.105326\n9     generous   5.320732   112.0  0.096662\n9         rude  -4.223422   125.0 -0.085633\n8         poor  -6.326108    87.0 -0.089274\n7         cold  -2.120296   263.0 -0.090452\n6         hell -23.551262    24.0 -0.091684\n5        trash -17.522439    34.0 -0.096636\n4   ridiculous -21.297797    32.0 -0.110548\n3       refund -30.264266    23.0 -0.112908\n2        gross -18.299362    42.0 -0.124667\n1        worse -15.350032    51.0 -0.126983\n0   disgusting -18.442329    52.0 -0.155556",
            "text/html": "<div>\n<style scoped>\n    .dataframe tbody tr th:only-of-type {\n        vertical-align: middle;\n    }\n\n    .dataframe tbody tr th {\n        vertical-align: top;\n    }\n\n    .dataframe thead th {\n        text-align: right;\n    }\n</style>\n<table border=\"1\" class=\"dataframe\">\n  <thead>\n    <tr style=\"text-align: right;\">\n      <th></th>\n      <th>word</th>\n      <th>coeff</th>\n      <th>freq</th>\n      <th>polarity</th>\n    </tr>\n  </thead>\n  <tbody>\n    <tr>\n      <th>0</th>\n      <td>delicious</td>\n      <td>3.514213</td>\n      <td>1514.0</td>\n      <td>0.863020</td>\n    </tr>\n    <tr>\n      <th>1</th>\n      <td>friendly</td>\n      <td>1.614540</td>\n      <td>925.0</td>\n      <td>0.242247</td>\n    </tr>\n    <tr>\n      <th>2</th>\n      <td>phenomenal</td>\n      <td>14.140374</td>\n      <td>79.0</td>\n      <td>0.181199</td>\n    </tr>\n    <tr>\n      <th>3</th>\n      <td>romantic</td>\n      <td>34.296216</td>\n      <td>26.0</td>\n      <td>0.144639</td>\n    </tr>\n    <tr>\n      <th>4</th>\n      <td>recommend</td>\n      <td>1.110986</td>\n      <td>766.0</td>\n      <td>0.138040</td>\n    </tr>\n    <tr>\n      <th>5</th>\n      <td>enjoying</td>\n      <td>14.766156</td>\n      <td>51.0</td>\n      <td>0.122153</td>\n    </tr>\n    <tr>\n      <th>6</th>\n      <td>outstanding</td>\n      <td>8.706570</td>\n      <td>84.0</td>\n      <td>0.118630</td>\n    </tr>\n    <tr>\n      <th>7</th>\n      <td>perfection</td>\n      <td>7.139910</td>\n      <td>95.0</td>\n      <td>0.110023</td>\n    </tr>\n    <tr>\n      <th>8</th>\n      <td>delightful</td>\n      <td>14.429629</td>\n      <td>45.0</td>\n      <td>0.105326</td>\n    </tr>\n    <tr>\n      <th>9</th>\n      <td>generous</td>\n      <td>5.320732</td>\n      <td>112.0</td>\n      <td>0.096662</td>\n    </tr>\n    <tr>\n      <th>9</th>\n      <td>rude</td>\n      <td>-4.223422</td>\n      <td>125.0</td>\n      <td>-0.085633</td>\n    </tr>\n    <tr>\n      <th>8</th>\n      <td>poor</td>\n      <td>-6.326108</td>\n      <td>87.0</td>\n      <td>-0.089274</td>\n    </tr>\n    <tr>\n      <th>7</th>\n      <td>cold</td>\n      <td>-2.120296</td>\n      <td>263.0</td>\n      <td>-0.090452</td>\n    </tr>\n    <tr>\n      <th>6</th>\n      <td>hell</td>\n      <td>-23.551262</td>\n      <td>24.0</td>\n      <td>-0.091684</td>\n    </tr>\n    <tr>\n      <th>5</th>\n      <td>trash</td>\n      <td>-17.522439</td>\n      <td>34.0</td>\n      <td>-0.096636</td>\n    </tr>\n    <tr>\n      <th>4</th>\n      <td>ridiculous</td>\n      <td>-21.297797</td>\n      <td>32.0</td>\n      <td>-0.110548</td>\n    </tr>\n    <tr>\n      <th>3</th>\n      <td>refund</td>\n      <td>-30.264266</td>\n      <td>23.0</td>\n      <td>-0.112908</td>\n    </tr>\n    <tr>\n      <th>2</th>\n      <td>gross</td>\n      <td>-18.299362</td>\n      <td>42.0</td>\n      <td>-0.124667</td>\n    </tr>\n    <tr>\n      <th>1</th>\n      <td>worse</td>\n      <td>-15.350032</td>\n      <td>51.0</td>\n      <td>-0.126983</td>\n    </tr>\n    <tr>\n      <th>0</th>\n      <td>disgusting</td>\n      <td>-18.442329</td>\n      <td>52.0</td>\n      <td>-0.155556</td>\n    </tr>\n  </tbody>\n</table>\n</div>"
          },
          "metadata": {}
        }
      ],
      "execution_count": 125,
      "metadata": {
        "jupyter": {
          "source_hidden": false,
          "outputs_hidden": false
        },
        "nteract": {
          "transient": {
            "deleting": false
          }
        }
      }
    },
    {
      "cell_type": "code",
      "source": [
        "get_plot(african_df,'African')"
      ],
      "outputs": [
        {
          "output_type": "display_data",
          "data": {
            "application/vnd.livy.statement-meta+json": {
              "spark_pool": "sparkpool",
              "session_id": "20",
              "statement_id": 99,
              "state": "finished",
              "livy_statement_state": "available",
              "queued_time": "2024-03-20T16:27:53.744903Z",
              "session_start_time": null,
              "execution_start_time": "2024-03-20T16:27:53.872155Z",
              "execution_finish_time": "2024-03-20T16:27:54.4089044Z",
              "spark_jobs": null,
              "parent_msg_id": "772a375a-ac95-43ca-8d0d-e1a8630f150b"
            },
            "text/plain": "StatementMeta(sparkpool, 20, 99, Finished, Available)"
          },
          "metadata": {}
        },
        {
          "output_type": "display_data",
          "data": {
            "text/plain": "<Figure size 900x600 with 1 Axes>",
            "image/png": "[encoded data removed]"
          },
          "metadata": {}
        }
      ],
      "execution_count": 367,
      "metadata": {
        "jupyter": {
          "source_hidden": false,
          "outputs_hidden": false
        },
        "nteract": {
          "transient": {
            "deleting": false
          }
        }
      }
    },
    {
      "cell_type": "code",
      "source": [
        "plt.clf()\r\n",
        "sns.set()\r\n",
        "sns.set_style('darkgrid')\r\n",
        "sns.set_context('notebook')\r\n",
        "fig,ax = plt.subplots(figsize = (9,6))\r\n",
        "sns.barplot(data = African_concat, x = 'polarity' , y = 'word',palette = 'RdBu_r')\r\n",
        "plt.title(\"The Most Effective Words in African Restaurants's Reviews\")\r\n",
        "plt.xlabel('Polarity Score')\r\n",
        "plt.ylabel('Word')\r\n",
        "plt.xlim(African_concat['polarity'].min(),African_concat['polarity'].max())\r\n",
        "plt.show()"
      ],
      "outputs": [
        {
          "output_type": "display_data",
          "data": {
            "application/vnd.livy.statement-meta+json": {
              "spark_pool": "sparkpool",
              "session_id": "17",
              "statement_id": 153,
              "state": "finished",
              "livy_statement_state": "available",
              "queued_time": "2024-03-20T11:29:10.4506552Z",
              "session_start_time": null,
              "execution_start_time": "2024-03-20T11:29:10.592532Z",
              "execution_finish_time": "2024-03-20T11:29:11.1448825Z",
              "spark_jobs": null,
              "parent_msg_id": "b47d663a-660c-45e6-bd91-e5c099bcfcb6"
            },
            "text/plain": "StatementMeta(sparkpool, 17, 153, Finished, Available)"
          },
          "metadata": {}
        },
        {
          "output_type": "display_data",
          "data": {
            "text/plain": "<Figure size 640x480 with 0 Axes>"
          },
          "metadata": {}
        },
        {
          "output_type": "display_data",
          "data": {
            "text/plain": "<Figure size 900x600 with 1 Axes>",
            "image/png": "[encoded data removed]"
          },
          "metadata": {}
        }
      ],
      "execution_count": 152,
      "metadata": {
        "jupyter": {
          "source_hidden": false,
          "outputs_hidden": false
        },
        "nteract": {
          "transient": {
            "deleting": false
          }
        }
      }
    }
  ],
  "metadata": {
    "kernelspec": {
      "name": "synapse_pyspark",
      "language": "Python",
      "display_name": "Synapse PySpark"
    },
    "language_info": {
      "name": "python"
    },
    "kernel_info": {
      "name": "synapse_pyspark"
    },
    "description": null,
    "save_output": true,
    "synapse_widget": {
      "version": "0.1",
      "state": {}
    }
  },
  "nbformat": 4,
  "nbformat_minor": 2
}