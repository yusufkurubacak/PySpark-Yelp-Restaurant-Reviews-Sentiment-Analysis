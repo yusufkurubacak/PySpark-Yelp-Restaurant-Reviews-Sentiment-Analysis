{
 "cells": [
  {
   "cell_type": "markdown",
   "metadata": {
    "nteract": {
     "transient": {
      "deleting": false
     }
    }
   },
   "source": [
    "# Yelp Business Reviews - Sentiment Analysis"
   ]
  },
  {
   "cell_type": "markdown",
   "metadata": {},
   "source": [
    "## Importing Libraries"
   ]
  },
  {
   "cell_type": "code",
   "execution_count": null,
   "metadata": {},
   "outputs": [],
   "source": [
    "import numpy as np\n",
    "import pandas as pd\n",
    "import seaborn as sns\n",
    "import matplotlib.pyplot as plt\n",
    "\n",
    "from pyspark.sql import SparkSession\n",
    "from pyspark.sql import functions as F\n",
    "from pyspark.sql.functions import col, length, lit, lower, regexp_replace, size, split, filter, udf, sum, when\n",
    "from pyspark.sql.types import ArrayType,StringType, FloatType, StructType, StructField\n",
    "\n",
    "from pyspark.ml.feature import CountVectorizer\n",
    "from pyspark.ml.classification import LogisticRegression\n",
    "from pyspark.ml.linalg import Vector\n",
    "from pyspark.ml.functions import vector_to_array"
   ]
  },
  {
   "cell_type": "markdown",
   "metadata": {},
   "source": [
    "## Creating Spark Environment"
   ]
  },
  {
   "cell_type": "code",
   "execution_count": null,
   "metadata": {},
   "outputs": [],
   "source": [
    "# UNCOMMENT WHEN RUNNING LOCALLY \n",
    "\n",
    "\"\"\" \n",
    "# Create a spark session\n",
    "findspark.init()\n",
    "spark = SparkSession.builder \\\n",
    "    .appName(\"Yelp_Sentiment_Analysis\") \\\n",
    "    .master(\"local[8]\") \\\n",
    "    .config(\"spark.executor.memory\", \"10g\") \\\n",
    "    .config(\"spark.executor.cores\", \"3\") \\\n",
    "    .config(\"spark.driver.memory\", \"2g\") \\\n",
    "    .getOrCreate()\n",
    "\n",
    "### Patlarsa dene\n",
    "#.config(\"spark.memory.offHeap.enabled\",\"true\") \n",
    "#.config(\"spark.memory.offHeap.size\",\"10g\")\n",
    "\"\"\""
   ]
  },
  {
   "cell_type": "code",
   "execution_count": null,
   "metadata": {},
   "outputs": [],
   "source": [
    "# Get config\n",
    "conf = spark.sparkContext.getConf()\n",
    "\n",
    "# Print the configuration settings\n",
    "print(\"spark.app.name = \", conf.get(\"spark.app.name\"))\n",
    "print(\"spark.master = \", conf.get(\"spark.master\"))\n",
    "print(\"spark.executor.memory = \", conf.get(\"spark.executor.memory\"))\n",
    "print(\"spark.executor.cores = \", conf.get(\"spark.executor.cores\")),\n",
    "print(\"spark.driver.memory = \", conf.get(\"spark.driver.memory\"))\n",
    "print(\"spark.rpc.message.maxSize = \", conf.get(\"spark.rpc.message.maxSize\"))\n",
    "print(\"spark.kryoserializer.buffer.max = \", conf.get(\"spark.kryoserializer.buffer.max\"))"
   ]
  },
  {
   "cell_type": "code",
   "execution_count": null,
   "metadata": {
    "collapsed": false,
    "jupyter": {
     "outputs_hidden": false,
     "source_hidden": false
    },
    "nteract": {
     "transient": {
      "deleting": false
     }
    }
   },
   "outputs": [],
   "source": [
    "# UNCOMMENT WHEN RUNNING LOCALLY \r\n",
    "\r\n",
    "\"\"\"\r\n",
    "# Source file pathways on local disk\r\n",
    "path_business = \"../yelp_academic_dataset_business.json\"\r\n",
    "path_review = \"../yelp_academic_dataset_review.json\"\r\n",
    "positive_path = \"../positive_words.txt\"\r\n",
    "negative_path = \"../negative_words.txt\"\r\n",
    "\"\"\""
   ]
  },
  {
   "cell_type": "code",
   "execution_count": null,
   "metadata": {
    "collapsed": false,
    "jupyter": {
     "outputs_hidden": false,
     "source_hidden": false
    },
    "nteract": {
     "transient": {
      "deleting": false
     }
    }
   },
   "outputs": [],
   "source": [
    "# Source file pathways on ABFSS\r\n",
    "path_business = \"abfss://unity-catalog-storage@dbstoragepwtbcgut4qtn6.dfs.core.windows.net/yelp_academic_dataset_business.json\"\r\n",
    "path_review = \"abfss://unity-catalog-storage@dbstoragepwtbcgut4qtn6.dfs.core.windows.net/yelp_academic_dataset_review.json\"\r\n",
    "positive_path = \"abfss://unity-catalog-storage@dbstoragepwtbcgut4qtn6.dfs.core.windows.net/positive_words.txt\"\r\n",
    "negative_path = \"abfss://unity-catalog-storage@dbstoragepwtbcgut4qtn6.dfs.core.windows.net/negative_words.txt\""
   ]
  },
  {
   "cell_type": "markdown",
   "metadata": {
    "nteract": {
     "transient": {
      "deleting": false
     }
    }
   },
   "source": [
    "## Data Preprocessing"
   ]
  },
  {
   "cell_type": "markdown",
   "metadata": {},
   "source": [
    "### I. Cleaning of 'Business' Dataset"
   ]
  },
  {
   "cell_type": "code",
   "execution_count": null,
   "metadata": {
    "collapsed": false,
    "jupyter": {
     "outputs_hidden": false,
     "source_hidden": false
    },
    "nteract": {
     "transient": {
      "deleting": false
     }
    }
   },
   "outputs": [],
   "source": [
    "# Import business data\n",
    "business = spark.read.json(path_business)"
   ]
  },
  {
   "cell_type": "code",
   "execution_count": 244,
   "metadata": {},
   "outputs": [
    {
     "data": {
      "application/vnd.livy.statement-meta+json": {
       "execution_finish_time": "2024-03-21T13:58:35.0110249Z",
       "execution_start_time": "2024-03-21T13:58:31.0486484Z",
       "livy_statement_state": "available",
       "parent_msg_id": "ddb681db-a72c-483d-ad9d-fd0e1d099246",
       "queued_time": "2024-03-21T13:57:44.1758375Z",
       "session_id": "44",
       "session_start_time": null,
       "spark_jobs": null,
       "spark_pool": "sparkpool",
       "state": "finished",
       "statement_id": 11
      },
      "text/plain": [
       "StatementMeta(sparkpool, 44, 11, Finished, Available)"
      ]
     },
     "metadata": {},
     "output_type": "display_data"
    },
    {
     "name": "stdout",
     "output_type": "stream",
     "text": [
      "+----------+----------+-----------+----------+----------+----------+-------+----------+----------+----------+-----------+------------+-----+-----+\n",
      "|   address|attributes|business_id|categories|      city|     hours|is_open|  latitude| longitude|      name|postal_code|review_count|stars|state|\n",
      "+----------+----------+-----------+----------+----------+----------+-------+----------+----------+----------+-----------+------------+-----+-----+\n",
      "|1616 Ch...|{null, ...| Pns2l4e...|Doctors...|Santa B...|      null|      0|34.4266787|-119.71...|Abby Ra...|      93101|           7|  5.0|   CA|\n",
      "|87 Gras...|{null, ...| mpf3x-B...|Shippin...|    Affton|{8:0-18...|      1| 38.551126|-90.335695|The UPS...|      63123|          15|  3.0|   MO|\n",
      "|5255 E ...|{null, ...| tUFrWir...|Departm...|    Tucson|{8:0-23...|      0| 32.223236|-110.88...|    Target|      85711|          22|  3.5|   AZ|\n",
      "|935 Rac...|{null, ...| MTSW4Mc...|Restaur...|Philade...|{7:0-21...|      1|39.9555052|-75.155...|St Hono...|      19107|          80|  4.0|   PA|\n",
      "|101 Wal...|{null, ...| mWMc6_w...|Brewpub...|Green Lane|{12:0-2...|      1|40.3381827|-75.471...|Perkiom...|      18054|          13|  4.5|   PA|\n",
      "|615 S M...|{null, ...| CF33F8-...|Burgers...|Ashland...|{9:0-0:...|      1| 36.269593|-87.058943|Sonic D...|      37015|           6|  2.0|   TN|\n",
      "|8522 Ea...|{null, ...| n_0UpQx...|Sportin...| Brentwood|{10:0-1...|      1| 38.627695|-90.340465|Famous ...|      63144|          13|  2.5|   MO|\n",
      "|400 Pas...|      null| qkRM_2X...|Synagog...|St. Pet...|{9:0-17...|      1|  27.76659|-82.732983|Temple ...|      33707|           5|  3.5|   FL|\n",
      "|8025 Ma...|{null, ...| k0hlBqX...|Pubs, R...|    Affton|      null|      0|38.5651648|-90.321...|Tsevi's...|      63123|          19|  3.0|   MO|\n",
      "|2312 Di...|{null, ...| bBDDEgk...|Ice Cre...| Nashville|{6:0-16...|      1|36.2081024|-86.768...|Sonic D...|      37207|          10|  1.5|   TN|\n",
      "+----------+----------+-----------+----------+----------+----------+-------+----------+----------+----------+-----------+------------+-----+-----+\n",
      "only showing top 10 rows\n",
      "\n"
     ]
    }
   ],
   "source": [
    "# Print first 10 rows\n",
    "business.show(n=10, truncate=10)"
   ]
  },
  {
   "cell_type": "code",
   "execution_count": null,
   "metadata": {
    "collapsed": false,
    "jupyter": {
     "outputs_hidden": false,
     "source_hidden": false
    },
    "nteract": {
     "transient": {
      "deleting": false
     }
    }
   },
   "outputs": [],
   "source": [
    "# Drop irrelevant columns\r\n",
    "business = business.drop('attributes','hours')"
   ]
  },
  {
   "cell_type": "code",
   "execution_count": 246,
   "metadata": {},
   "outputs": [
    {
     "data": {
      "application/vnd.livy.statement-meta+json": {
       "execution_finish_time": "2024-03-21T13:58:35.6483766Z",
       "execution_start_time": "2024-03-21T13:58:35.5012728Z",
       "livy_statement_state": "available",
       "parent_msg_id": "7ba80e48-e557-466c-8022-0cee76715509",
       "queued_time": "2024-03-21T13:57:44.7141768Z",
       "session_id": "44",
       "session_start_time": null,
       "spark_jobs": null,
       "spark_pool": "sparkpool",
       "state": "finished",
       "statement_id": 13
      },
      "text/plain": [
       "StatementMeta(sparkpool, 44, 13, Finished, Available)"
      ]
     },
     "metadata": {},
     "output_type": "display_data"
    },
    {
     "name": "stdout",
     "output_type": "stream",
     "text": [
      "root\n",
      " |-- address: string (nullable = true)\n",
      " |-- business_id: string (nullable = true)\n",
      " |-- categories: string (nullable = true)\n",
      " |-- city: string (nullable = true)\n",
      " |-- is_open: long (nullable = true)\n",
      " |-- latitude: double (nullable = true)\n",
      " |-- longitude: double (nullable = true)\n",
      " |-- name: string (nullable = true)\n",
      " |-- postal_code: string (nullable = true)\n",
      " |-- review_count: long (nullable = true)\n",
      " |-- stars: double (nullable = true)\n",
      " |-- state: string (nullable = true)\n",
      "\n"
     ]
    }
   ],
   "source": [
    "# Print current dataset schema\n",
    "business.printSchema()"
   ]
  },
  {
   "cell_type": "code",
   "execution_count": null,
   "metadata": {},
   "outputs": [],
   "source": [
    "# Filter out rows with null 'categories'\n",
    "business = business.filter(col(\"categories\").isNotNull())"
   ]
  },
  {
   "cell_type": "code",
   "execution_count": null,
   "metadata": {},
   "outputs": [],
   "source": [
    "# Filter for businesses in US states\n",
    "states = [ \"AL\", \"AK\", \"AZ\", \"AR\", \"CA\", \"CO\", \"CT\", \"DC\", \"DE\", \"FL\", \"GA\", \"HI\", \"ID\", \"IL\", \"IN\", \"IA\", \"KS\", \"KY\", \"LA\", \"ME\", \"MD\", \"MA\", \"MI\", \"MN\", \"MS\",\\\n",
    " \"MO\", \"MT\", \"NE\", \"NV\", \"NH\", \"NJ\", \"NM\", \"NY\", \"NC\", \"ND\", \"OH\", \"OK\", \"OR\", \"PA\", \"RI\", \"SC\", \"SD\", \"TN\", \"TX\", \"UT\", \"VT\", \"VA\", \"WA\", \"WV\", \"WI\", \"WY\", ]\n",
    " \n",
    "usa = business.filter(col(\"state\").isin(states))"
   ]
  },
  {
   "cell_type": "code",
   "execution_count": 249,
   "metadata": {},
   "outputs": [
    {
     "data": {
      "application/vnd.livy.statement-meta+json": {
       "execution_finish_time": "2024-03-21T13:58:42.4248908Z",
       "execution_start_time": "2024-03-21T13:58:37.2635761Z",
       "livy_statement_state": "available",
       "parent_msg_id": "e7213411-0df0-4910-99a7-378c8910abbe",
       "queued_time": "2024-03-21T13:57:45.7061229Z",
       "session_id": "44",
       "session_start_time": null,
       "spark_jobs": null,
       "spark_pool": "sparkpool",
       "state": "finished",
       "statement_id": 16
      },
      "text/plain": [
       "StatementMeta(sparkpool, 44, 16, Finished, Available)"
      ]
     },
     "metadata": {},
     "output_type": "display_data"
    },
    {
     "name": "stdout",
     "output_type": "stream",
     "text": [
      "Number of US businesses in the dataset: 144669\n"
     ]
    }
   ],
   "source": [
    "# Print out the total number of businesses in dataset\n",
    "print(f\"Number of US businesses in the dataset: {usa.count()}\")"
   ]
  },
  {
   "cell_type": "code",
   "execution_count": 250,
   "metadata": {},
   "outputs": [
    {
     "data": {
      "application/vnd.livy.statement-meta+json": {
       "execution_finish_time": "2024-03-21T13:58:44.4068382Z",
       "execution_start_time": "2024-03-21T13:58:42.5619383Z",
       "livy_statement_state": "available",
       "parent_msg_id": "fb1b1e32-be5a-4525-aa7b-fe1a2dfaee69",
       "queued_time": "2024-03-21T13:57:45.976909Z",
       "session_id": "44",
       "session_start_time": null,
       "spark_jobs": null,
       "spark_pool": "sparkpool",
       "state": "finished",
       "statement_id": 17
      },
      "text/plain": [
       "StatementMeta(sparkpool, 44, 17, Finished, Available)"
      ]
     },
     "metadata": {},
     "output_type": "display_data"
    },
    {
     "name": "stdout",
     "output_type": "stream",
     "text": [
      "Number of total US restaurants in the dataset: 49857\n"
     ]
    }
   ],
   "source": [
    "# Filter restaurants\n",
    "us_restaurants = usa.filter(usa[\"categories\"].contains(\"Restaurants\"))\n",
    "\n",
    "# Print out the number of total US restaurants\n",
    "print(f\"Number of total US restaurants in the dataset: {us_restaurants.count()}\")"
   ]
  },
  {
   "cell_type": "code",
   "execution_count": null,
   "metadata": {},
   "outputs": [],
   "source": [
    "# Label every row with their type of cuisine\n",
    "us_restaurants = us_restaurants.withColumn(\n",
    "    \"category\",\n",
    "    when(col(\"categories\").contains(\"Korean\"), \"Korean\")\n",
    "    .when(col(\"categories\").contains(\"Thai\"), \"Thai\")\n",
    "    .when(col(\"categories\").contains(\"French\"), \"French\")\n",
    "    .when(col(\"categories\").contains(\"Greek\"), \"Greek\")\n",
    "    .when(col(\"categories\").contains(\"Indian\"), \"Indian\")\n",
    "    .when(col(\"categories\").contains(\"Hawaiian\"), \"Hawaiian\")\n",
    "    .when(col(\"categories\").contains(\"African\"), \"African\")\n",
    "    .when(col(\"categories\").contains(\"Spanish\"), \"Spanish\")\n",
    ")"
   ]
  },
  {
   "cell_type": "code",
   "execution_count": null,
   "metadata": {},
   "outputs": [],
   "source": [
    "# Drop the old category column\n",
    "us_restaurants = us_restaurants.drop(\"categories\")\n",
    "\n",
    "# Filter out null categories\n",
    "us_restaurants = us_restaurants.filter(col(\"category\").isNotNull())"
   ]
  },
  {
   "cell_type": "code",
   "execution_count": 253,
   "metadata": {},
   "outputs": [
    {
     "data": {
      "application/vnd.livy.statement-meta+json": {
       "execution_finish_time": "2024-03-21T13:58:46.9666195Z",
       "execution_start_time": "2024-03-21T13:58:45.1147711Z",
       "livy_statement_state": "available",
       "parent_msg_id": "13c67ccf-1bf2-41a3-a3da-ff9df203b371",
       "queued_time": "2024-03-21T13:57:46.7286902Z",
       "session_id": "44",
       "session_start_time": null,
       "spark_jobs": null,
       "spark_pool": "sparkpool",
       "state": "finished",
       "statement_id": 20
      },
      "text/plain": [
       "StatementMeta(sparkpool, 44, 20, Finished, Available)"
      ]
     },
     "metadata": {},
     "output_type": "display_data"
    },
    {
     "name": "stdout",
     "output_type": "stream",
     "text": [
      "Number of labeled US restaurants in the dataset: 3819\n"
     ]
    }
   ],
   "source": [
    "# Print out the total number of restaurants that are labeled by their cuisine types\n",
    "print(f\"Number of labeled US restaurants in the dataset: {us_restaurants.count()}\")"
   ]
  },
  {
   "cell_type": "code",
   "execution_count": 254,
   "metadata": {
    "collapsed": false,
    "jupyter": {
     "outputs_hidden": false,
     "source_hidden": false
    },
    "nteract": {
     "transient": {
      "deleting": false
     }
    }
   },
   "outputs": [
    {
     "data": {
      "application/vnd.livy.statement-meta+json": {
       "execution_finish_time": "2024-03-21T13:58:51.9903078Z",
       "execution_start_time": "2024-03-21T13:58:47.1208807Z",
       "livy_statement_state": "available",
       "parent_msg_id": "6a0c7bcd-15ab-4f62-b178-01eb0efd8ce0",
       "queued_time": "2024-03-21T13:57:46.975716Z",
       "session_id": "44",
       "session_start_time": null,
       "spark_jobs": null,
       "spark_pool": "sparkpool",
       "state": "finished",
       "statement_id": 21
      },
      "text/plain": [
       "StatementMeta(sparkpool, 44, 21, Finished, Available)"
      ]
     },
     "metadata": {},
     "output_type": "display_data"
    },
    {
     "data": {
      "text/plain": [
       "0"
      ]
     },
     "execution_count": 43,
     "metadata": {},
     "output_type": "execute_result"
    }
   ],
   "source": [
    "# Check if the dataset contains any duplicated businesses\n",
    "us_restaurants.groupBy(\"business_id\").count().filter(col(\"count\") > 1).count()"
   ]
  },
  {
   "cell_type": "code",
   "execution_count": 255,
   "metadata": {
    "collapsed": false,
    "jupyter": {
     "outputs_hidden": false,
     "source_hidden": false
    },
    "nteract": {
     "transient": {
      "deleting": false
     }
    }
   },
   "outputs": [
    {
     "data": {
      "application/vnd.livy.statement-meta+json": {
       "execution_finish_time": "2024-03-21T13:58:53.2172106Z",
       "execution_start_time": "2024-03-21T13:58:52.1473059Z",
       "livy_statement_state": "available",
       "parent_msg_id": "4754c3f7-2869-463e-b553-6c9fce21c8e9",
       "queued_time": "2024-03-21T13:57:47.2401973Z",
       "session_id": "44",
       "session_start_time": null,
       "spark_jobs": null,
       "spark_pool": "sparkpool",
       "state": "finished",
       "statement_id": 22
      },
      "text/plain": [
       "StatementMeta(sparkpool, 44, 22, Finished, Available)"
      ]
     },
     "metadata": {},
     "output_type": "display_data"
    },
    {
     "name": "stdout",
     "output_type": "stream",
     "text": [
      "+--------------------+--------------------+---------------+-------+-------------+--------------+--------------------+-----------+------------+-----+-----+--------+\n",
      "|             address|         business_id|           city|is_open|     latitude|     longitude|                name|postal_code|review_count|stars|state|category|\n",
      "+--------------------+--------------------+---------------+-------+-------------+--------------+--------------------+-----------+------------+-----+-----+--------+\n",
      "|   8025 Mackenzie Rd|k0hlBqXX-Bt0vf1op...|         Affton|      0|   38.5651648|   -90.3210868|Tsevi's Pub And G...|      63123|          19|  3.0|   MO|   Greek|\n",
      "|       1224 South St|ROeacJQwBeh05Rqg7...|   Philadelphia|      1|    39.943223|    -75.162568|                 BAP|      19147|         205|  4.5|   PA|  Korean|\n",
      "|       163 107th Ave|vje0KIiE7vtpx7Jzm...|Treasure Island|      1|   27.7694046|    -82.767317|           The Pearl|      33706|         129|  4.0|   FL|  French|\n",
      "|2E Summit Sq Shop...|vPcfJ3rm3NpdqVDod...|      Langhorne|      1|   40.2177843|   -74.9265858|         China Pearl|      19047|          27|  1.5|   PA|    Thai|\n",
      "|      6614 Osteen Rd|8c0r7olQSYGcws0bT...|New Port Richey|      0|28.2502179787|-82.6824409515|       Zesty Tsunami|      34653|           5|  4.0|   FL|Hawaiian|\n",
      "+--------------------+--------------------+---------------+-------+-------------+--------------+--------------------+-----------+------------+-----+-----+--------+\n",
      "only showing top 5 rows\n",
      "\n"
     ]
    }
   ],
   "source": [
    "# Show us_restaurants after cleaning\r\n",
    "us_restaurants.show(5)"
   ]
  },
  {
   "cell_type": "markdown",
   "metadata": {
    "nteract": {
     "transient": {
      "deleting": false
     }
    }
   },
   "source": [
    "### II. Cleaning of 'Review' Dataset"
   ]
  },
  {
   "cell_type": "code",
   "execution_count": null,
   "metadata": {
    "collapsed": false,
    "jupyter": {
     "outputs_hidden": false,
     "source_hidden": false
    },
    "nteract": {
     "transient": {
      "deleting": false
     }
    }
   },
   "outputs": [],
   "source": [
    "# Import review data\n",
    "review = spark.read.json(path_review)"
   ]
  },
  {
   "cell_type": "code",
   "execution_count": 257,
   "metadata": {},
   "outputs": [
    {
     "data": {
      "application/vnd.livy.statement-meta+json": {
       "execution_finish_time": "2024-03-21T13:59:09.3209972Z",
       "execution_start_time": "2024-03-21T13:59:08.2219534Z",
       "livy_statement_state": "available",
       "parent_msg_id": "e4e26fa8-d440-4a32-8052-a9d010a55920",
       "queued_time": "2024-03-21T13:57:47.7550642Z",
       "session_id": "44",
       "session_start_time": null,
       "spark_jobs": null,
       "spark_pool": "sparkpool",
       "state": "finished",
       "statement_id": 24
      },
      "text/plain": [
       "StatementMeta(sparkpool, 44, 24, Finished, Available)"
      ]
     },
     "metadata": {},
     "output_type": "display_data"
    },
    {
     "name": "stdout",
     "output_type": "stream",
     "text": [
      "+--------------------+----+-------------------+-----+--------------------+-----+--------------------+------+--------------------+\n",
      "|         business_id|cool|               date|funny|           review_id|stars|                text|useful|             user_id|\n",
      "+--------------------+----+-------------------+-----+--------------------+-----+--------------------+------+--------------------+\n",
      "|XQfwVwDr-v0ZS3_Cb...|   0|2018-07-07 22:09:11|    0|KU_O5udG6zpxOg-Vc...|  3.0|If you decide to ...|     0|mh_-eMZ6K5RLWhZyI...|\n",
      "|7ATYjTIgM3jUlt4UM...|   1|2012-01-03 15:28:18|    0|BiTunyQ73aT9WBnpR...|  5.0|I've taken a lot ...|     1|OyoGAe7OKpv6SyGZT...|\n",
      "|YjUWPpI6HXG530lwP...|   0|2014-02-05 20:30:30|    0|saUsX_uimxRlCVr67...|  3.0|Family diner. Had...|     0|8g_iMtfSiwikVnbP2...|\n",
      "|kxX2SOes4o-D3ZQBk...|   1|2015-01-04 00:01:03|    0|AqPFMleE6RsU23_au...|  5.0|Wow!  Yummy, diff...|     1|_7bHUi9Uuf5__HHc_...|\n",
      "|e4Vwtrqf-wpJfwesg...|   1|2017-01-14 20:54:15|    0|Sx8TMOWLNuJBWer-0...|  4.0|Cute interior and...|     1|bcjbaE6dDog4jkNY9...|\n",
      "|04UD14gamNjLY0IDY...|   1|2015-09-23 23:10:31|    2|JrIxlS1TzJ-iCu79u...|  1.0|I am a long term ...|     1|eUta8W_HdHMXPzLBB...|\n",
      "|gmjsEdUsKpj9Xxu6p...|   0|2015-01-03 23:21:18|    2|6AxgBCNX_PNTOxmbR...|  5.0|Loved this tour! ...|     0|r3zeYsv1XFBRA4dJp...|\n",
      "|LHSTtnW3YHCeUkRDG...|   0|2015-08-07 02:29:16|    0|_ZeMknuYdlQcUqng_...|  5.0|Amazingly amazing...|     2|yfFzsLmaWF2d4Sr0U...|\n",
      "|B5XSoSG3SfvQGtKEG...|   0|2016-03-30 22:46:33|    1|ZKvDG2sBvHVdF5oBN...|  3.0|This easter inste...|     1|wSTuiTk-sKNdcFypr...|\n",
      "|gebiRewfieSdtt17P...|   0|2016-07-25 07:31:06|    0|pUycOfUwM8vqX7KjR...|  3.0|Had a party of 6 ...|     0|59MxRhNVhU9MYndMk...|\n",
      "+--------------------+----+-------------------+-----+--------------------+-----+--------------------+------+--------------------+\n",
      "only showing top 10 rows\n",
      "\n"
     ]
    }
   ],
   "source": [
    "# Print first 10 rows\n",
    "review.show(n=10, truncate=20)"
   ]
  },
  {
   "cell_type": "code",
   "execution_count": null,
   "metadata": {
    "collapsed": false,
    "jupyter": {
     "outputs_hidden": false,
     "source_hidden": false
    },
    "nteract": {
     "transient": {
      "deleting": false
     }
    }
   },
   "outputs": [],
   "source": [
    "# Select relevant columns\r\n",
    "review = review.select('business_id','text','stars')"
   ]
  },
  {
   "cell_type": "code",
   "execution_count": 259,
   "metadata": {},
   "outputs": [
    {
     "data": {
      "application/vnd.livy.statement-meta+json": {
       "execution_finish_time": "2024-03-21T13:59:09.9284689Z",
       "execution_start_time": "2024-03-21T13:59:09.7713174Z",
       "livy_statement_state": "available",
       "parent_msg_id": "5eba42ca-3ec1-4fd5-9dae-19f62793496d",
       "queued_time": "2024-03-21T13:57:48.2898378Z",
       "session_id": "44",
       "session_start_time": null,
       "spark_jobs": null,
       "spark_pool": "sparkpool",
       "state": "finished",
       "statement_id": 26
      },
      "text/plain": [
       "StatementMeta(sparkpool, 44, 26, Finished, Available)"
      ]
     },
     "metadata": {},
     "output_type": "display_data"
    },
    {
     "name": "stdout",
     "output_type": "stream",
     "text": [
      "root\n",
      " |-- business_id: string (nullable = true)\n",
      " |-- text: string (nullable = true)\n",
      " |-- stars: double (nullable = true)\n",
      "\n"
     ]
    }
   ],
   "source": [
    "# Print current dataset schema\n",
    "review.printSchema()"
   ]
  },
  {
   "cell_type": "markdown",
   "metadata": {
    "nteract": {
     "transient": {
      "deleting": false
     }
    }
   },
   "source": [
    "### III. Joining Datasets"
   ]
  },
  {
   "cell_type": "code",
   "execution_count": null,
   "metadata": {
    "collapsed": false,
    "jupyter": {
     "outputs_hidden": false,
     "source_hidden": false
    },
    "nteract": {
     "transient": {
      "deleting": false
     }
    }
   },
   "outputs": [],
   "source": [
    "# Change the names of 'stars' columns in both datasets to avoid confusion\n",
    "us_restaurants = us_restaurants.withColumnRenamed(\"stars\", \"avg_star\")\n",
    "review = review.withColumnRenamed(\"stars\", \"review_star\")"
   ]
  },
  {
   "cell_type": "code",
   "execution_count": null,
   "metadata": {
    "collapsed": false,
    "jupyter": {
     "outputs_hidden": false,
     "source_hidden": false
    },
    "nteract": {
     "transient": {
      "deleting": false
     }
    }
   },
   "outputs": [],
   "source": [
    "# Join the dataframes on 'business_id'\n",
    "restaurants_reviews = us_restaurants.join(review, on=\"business_id\", how=\"inner\")"
   ]
  },
  {
   "cell_type": "code",
   "execution_count": 262,
   "metadata": {
    "collapsed": false,
    "jupyter": {
     "outputs_hidden": false,
     "source_hidden": false
    },
    "nteract": {
     "transient": {
      "deleting": false
     }
    },
    "scrolled": true
   },
   "outputs": [
    {
     "data": {
      "application/vnd.livy.statement-meta+json": {
       "execution_finish_time": "2024-03-21T13:59:10.8199565Z",
       "execution_start_time": "2024-03-21T13:59:10.6717435Z",
       "livy_statement_state": "available",
       "parent_msg_id": "8848d545-01ed-48b4-b661-e4d24244d68c",
       "queued_time": "2024-03-21T13:57:49.0203496Z",
       "session_id": "44",
       "session_start_time": null,
       "spark_jobs": null,
       "spark_pool": "sparkpool",
       "state": "finished",
       "statement_id": 29
      },
      "text/plain": [
       "StatementMeta(sparkpool, 44, 29, Finished, Available)"
      ]
     },
     "metadata": {},
     "output_type": "display_data"
    },
    {
     "name": "stdout",
     "output_type": "stream",
     "text": [
      "root\n",
      " |-- business_id: string (nullable = true)\n",
      " |-- address: string (nullable = true)\n",
      " |-- city: string (nullable = true)\n",
      " |-- is_open: long (nullable = true)\n",
      " |-- latitude: double (nullable = true)\n",
      " |-- longitude: double (nullable = true)\n",
      " |-- name: string (nullable = true)\n",
      " |-- postal_code: string (nullable = true)\n",
      " |-- review_count: long (nullable = true)\n",
      " |-- avg_star: double (nullable = true)\n",
      " |-- state: string (nullable = true)\n",
      " |-- category: string (nullable = true)\n",
      " |-- text: string (nullable = true)\n",
      " |-- review_star: double (nullable = true)\n",
      "\n"
     ]
    }
   ],
   "source": [
    "# Print the schema of merged dataframe\n",
    "restaurants_reviews.printSchema()"
   ]
  },
  {
   "cell_type": "markdown",
   "metadata": {},
   "source": [
    "### IV. Feature Extraction"
   ]
  },
  {
   "cell_type": "code",
   "execution_count": null,
   "metadata": {},
   "outputs": [],
   "source": [
    "# Create a 'labels' column\n",
    "# 4-5 Stars --> Positive\n",
    "# 3 Stars --> Neutral\n",
    "# 1-2 Stars --> Negative\n",
    "\n",
    "restaurants_reviews = restaurants_reviews.withColumn(\n",
    "    \"labels\",\n",
    "    when(restaurants_reviews[\"review_star\"] >= 4, \"positive\")\n",
    "    .when(restaurants_reviews[\"review_star\"] == 3, \"neutral\")\n",
    "    .when(restaurants_reviews[\"review_star\"] < 3, \"negative\"),\n",
    ")"
   ]
  },
  {
   "cell_type": "code",
   "execution_count": 264,
   "metadata": {},
   "outputs": [
    {
     "data": {
      "application/vnd.livy.statement-meta+json": {
       "execution_finish_time": "2024-03-21T13:59:28.000502Z",
       "execution_start_time": "2024-03-21T13:59:11.2363746Z",
       "livy_statement_state": "available",
       "parent_msg_id": "f332001b-7af6-45d7-b45c-34c0a616ab1b",
       "queued_time": "2024-03-21T13:57:49.5049551Z",
       "session_id": "44",
       "session_start_time": null,
       "spark_jobs": null,
       "spark_pool": "sparkpool",
       "state": "finished",
       "statement_id": 31
      },
      "text/plain": [
       "StatementMeta(sparkpool, 44, 31, Finished, Available)"
      ]
     },
     "metadata": {},
     "output_type": "display_data"
    },
    {
     "name": "stdout",
     "output_type": "stream",
     "text": [
      "The number of positive and negative reviews : 419726\n"
     ]
    }
   ],
   "source": [
    "# Filter out neutral reviews\n",
    "restaurants_reviews = restaurants_reviews.where(\n",
    "    restaurants_reviews[\"labels\"] != \"neutral\")\n",
    "\n",
    "# Count total number of positive and negative reviews\n",
    "\n",
    "print(f'The number of positive and negative reviews : {restaurants_reviews.count()}')"
   ]
  },
  {
   "cell_type": "code",
   "execution_count": null,
   "metadata": {
    "collapsed": false,
    "jupyter": {
     "outputs_hidden": false,
     "source_hidden": false
    },
    "nteract": {
     "transient": {
      "deleting": false
     }
    }
   },
   "outputs": [],
   "source": [
    "# Convert 'labels' column to boolean\r\n",
    "restaurants_reviews = restaurants_reviews.withColumn('labels_bool', when(col('labels') == 'positive' , 1).otherwise(0))"
   ]
  },
  {
   "cell_type": "code",
   "execution_count": 265,
   "metadata": {
    "collapsed": false,
    "jupyter": {
     "outputs_hidden": false,
     "source_hidden": false
    },
    "nteract": {
     "transient": {
      "deleting": false
     }
    }
   },
   "outputs": [
    {
     "data": {
      "application/vnd.livy.statement-meta+json": {
       "execution_finish_time": "2024-03-21T13:59:44.8525165Z",
       "execution_start_time": "2024-03-21T13:59:28.1333295Z",
       "livy_statement_state": "available",
       "parent_msg_id": "c250879c-9926-4ca7-9491-b75913f24e69",
       "queued_time": "2024-03-21T13:57:49.7770838Z",
       "session_id": "44",
       "session_start_time": null,
       "spark_jobs": null,
       "spark_pool": "sparkpool",
       "state": "finished",
       "statement_id": 32
      },
      "text/plain": [
       "StatementMeta(sparkpool, 44, 32, Finished, Available)"
      ]
     },
     "metadata": {},
     "output_type": "display_data"
    },
    {
     "name": "stdout",
     "output_type": "stream",
     "text": [
      "+--------+-----+\n",
      "|category|count|\n",
      "+--------+-----+\n",
      "|    Thai|99373|\n",
      "|  French|81571|\n",
      "|  Indian|66369|\n",
      "|   Greek|63339|\n",
      "|  Korean|48354|\n",
      "| Spanish|33161|\n",
      "|Hawaiian|21394|\n",
      "| African| 6165|\n",
      "+--------+-----+\n",
      "\n"
     ]
    }
   ],
   "source": [
    "# Show the distribution of reviews by category\r\n",
    "restaurants_reviews.groupBy('category').count().sort('count',ascending = False).show()"
   ]
  },
  {
   "cell_type": "markdown",
   "metadata": {},
   "source": [
    "### V. Text Processing"
   ]
  },
  {
   "cell_type": "code",
   "execution_count": 266,
   "metadata": {},
   "outputs": [
    {
     "data": {
      "application/vnd.livy.statement-meta+json": {
       "execution_finish_time": "2024-03-21T13:59:46.8206424Z",
       "execution_start_time": "2024-03-21T13:59:44.986217Z",
       "livy_statement_state": "available",
       "parent_msg_id": "9324f256-baf1-4341-a5ad-2fda9acd368d",
       "queued_time": "2024-03-21T13:57:50.0170512Z",
       "session_id": "44",
       "session_start_time": null,
       "spark_jobs": null,
       "spark_pool": "sparkpool",
       "state": "finished",
       "statement_id": 33
      },
      "text/plain": [
       "StatementMeta(sparkpool, 44, 33, Finished, Available)"
      ]
     },
     "metadata": {},
     "output_type": "display_data"
    },
    {
     "name": "stdout",
     "output_type": "stream",
     "text": [
      "+--------------------------------------------------------------------------------+\n",
      "|                                                                            text|\n",
      "+--------------------------------------------------------------------------------+\n",
      "|Wow!  Yummy, different,  delicious.   Our favorite is the lamb curry and korm...|\n",
      "|I am a long term frequent customer of this establishment. I just went in to o...|\n",
      "|I was really between 3 and 4 stars for this one. I LOVE the 96th street Naked...|\n",
      "|Best thai food in the area.  Everything was authentic and delicious.  Will de...|\n",
      "|It was my fiance's birthday and he decided he wanted a good, laid back Thai r...|\n",
      "|My go to menu is coconut soup and pad thai with protein. I tried same menu he...|\n",
      "|Been here so many times before and all I can say is the food is really good. ...|\n",
      "|This is the first time I tried this place and  I was surprisingly surprised. ...|\n",
      "|I must admit, I wasn't expecting much. This place totally blew us away. This ...|\n",
      "|We have been here twice for brunch and have enjoyed it immensely. Everything ...|\n",
      "+--------------------------------------------------------------------------------+\n",
      "only showing top 10 rows\n",
      "\n"
     ]
    }
   ],
   "source": [
    "# Show 'text' column before processing\n",
    "restaurants_reviews.select(\"text\").show(10, truncate=80)"
   ]
  },
  {
   "cell_type": "markdown",
   "metadata": {
    "nteract": {
     "transient": {
      "deleting": false
     }
    }
   },
   "source": [
    "#### a. Text Cleaning"
   ]
  },
  {
   "cell_type": "code",
   "execution_count": null,
   "metadata": {},
   "outputs": [],
   "source": [
    "# Convert 'text' to lowercase\n",
    "restaurants_reviews = restaurants_reviews.withColumn(\"text\", F.lower(F.col(\"text\")))"
   ]
  },
  {
   "cell_type": "code",
   "execution_count": null,
   "metadata": {
    "collapsed": false,
    "jupyter": {
     "outputs_hidden": false,
     "source_hidden": false
    },
    "nteract": {
     "transient": {
      "deleting": false
     }
    }
   },
   "outputs": [],
   "source": [
    "# Transform review text by using regular expressions\n",
    "\n",
    "# Replace all non-alphanumeric characters with a whitespace.\n",
    "restaurants_reviews = restaurants_reviews.withColumn(\n",
    "    \"text_clean\", F.regexp_replace(F.col(\"text\"), \"[^a-zA-Z0-9\\s]\", \" \")\n",
    ")\n",
    "\n",
    "# Replace all line break character with a whitespace.\n",
    "restaurants_reviews = restaurants_reviews.withColumn(\n",
    "    \"text_clean\", F.regexp_replace(F.col(\"text_clean\"), \"\\n\", \" \")\n",
    ")\n",
    "\n",
    "# Replace all consecutive whitespaces with a single whitespace.\n",
    "restaurants_reviews = restaurants_reviews.withColumn(\n",
    "    \"text_clean\", F.regexp_replace(F.col(\"text_clean\"), \"\\\\s+\", \" \")\n",
    ")\n",
    "\n",
    "# Delete all whitespace characters at the end of each string.\n",
    "restaurants_reviews = restaurants_reviews.withColumn(\n",
    "    \"text_clean\", F.regexp_replace(F.col(\"text_clean\"), \"\\s+$\", \"\")\n",
    ")"
   ]
  },
  {
   "cell_type": "code",
   "execution_count": 269,
   "metadata": {},
   "outputs": [
    {
     "data": {
      "application/vnd.livy.statement-meta+json": {
       "execution_finish_time": "2024-03-21T13:59:49.3518231Z",
       "execution_start_time": "2024-03-21T13:59:47.5315694Z",
       "livy_statement_state": "available",
       "parent_msg_id": "95e87eb1-4908-4177-b91b-382552bdd245",
       "queued_time": "2024-03-21T13:57:50.8401386Z",
       "session_id": "44",
       "session_start_time": null,
       "spark_jobs": null,
       "spark_pool": "sparkpool",
       "state": "finished",
       "statement_id": 36
      },
      "text/plain": [
       "StatementMeta(sparkpool, 44, 36, Finished, Available)"
      ]
     },
     "metadata": {},
     "output_type": "display_data"
    },
    {
     "name": "stdout",
     "output_type": "stream",
     "text": [
      "+--------------------------------------------------+\n",
      "|                                        text_clean|\n",
      "+--------------------------------------------------+\n",
      "|wow yummy different delicious our favorite is t...|\n",
      "|i am a long term frequent customer of this esta...|\n",
      "|i was really between 3 and 4 stars for this one...|\n",
      "|best thai food in the area everything was authe...|\n",
      "|it was my fiance s birthday and he decided he w...|\n",
      "|my go to menu is coconut soup and pad thai with...|\n",
      "|been here so many times before and all i can sa...|\n",
      "|this is the first time i tried this place and i...|\n",
      "|i must admit i wasn t expecting much this place...|\n",
      "|we have been here twice for brunch and have enj...|\n",
      "+--------------------------------------------------+\n",
      "only showing top 10 rows\n",
      "\n"
     ]
    }
   ],
   "source": [
    "# Show 'text_clean' column after transformation\n",
    "restaurants_reviews.select(\"text_clean\").show(10, truncate=50)"
   ]
  },
  {
   "cell_type": "markdown",
   "metadata": {
    "nteract": {
     "transient": {
      "deleting": false
     }
    }
   },
   "source": [
    "#### b. Stopword Removal"
   ]
  },
  {
   "cell_type": "code",
   "execution_count": 272,
   "metadata": {
    "scrolled": true
   },
   "outputs": [
    {
     "data": {
      "application/vnd.livy.statement-meta+json": {
       "execution_finish_time": "2024-03-21T13:59:53.7602283Z",
       "execution_start_time": "2024-03-21T13:59:52.7008536Z",
       "livy_statement_state": "available",
       "parent_msg_id": "7cc28556-2459-4564-a4cf-345b53a54067",
       "queued_time": "2024-03-21T13:57:51.5558845Z",
       "session_id": "44",
       "session_start_time": null,
       "spark_jobs": null,
       "spark_pool": "sparkpool",
       "state": "finished",
       "statement_id": 39
      },
      "text/plain": [
       "StatementMeta(sparkpool, 44, 39, Finished, Available)"
      ]
     },
     "metadata": {},
     "output_type": "display_data"
    },
    {
     "name": "stdout",
     "output_type": "stream",
     "text": [
      "['abound', 'abounds', 'abundance', 'abundant', 'accessable', 'accessible', 'acclaim', 'acclaimed', 'acclamation', 'accolade']\n",
      "['abnormal', 'abolish', 'abominable', 'abominably', 'abominate', 'abomination', 'abort', 'aborted', 'aborts', 'abrade']\n"
     ]
    }
   ],
   "source": [
    "# There are 2 .txt files in the main directory where positive and negative words in English language are collected.\n",
    "# Mentioned text files will be used to evaluate whether a word is positive or negative.\n",
    "\n",
    "# Read text files and create RDDs\n",
    "positive_rdd = spark.sparkContext.textFile(positive_path)\n",
    "negative_rdd = spark.sparkContext.textFile(negative_path)\n",
    "\n",
    "# Convert RDDs into lists\n",
    "positive_words = positive_rdd.collect()\n",
    "negative_words = negative_rdd.collect()\n",
    "\n",
    "# Create lists with useless words that doesn't give any valuable info about restaurants.\n",
    "positive_useless = [ \"great\", \"amazing\", \"love\", \"best\", \"awesome\", \"excellent\", \"good\", \"favorite\", \"loved\", \"perfect\", \"gem\", \"perfectly\",\n",
    "\"wonderful\", \"happy\", \"enjoyed\", \"nice\", \"well\", \"super\", \"like\", \"better\", \"decent\", \"fine\", \"pretty\", \"enough\", \"excited\", \"impressed\", \n",
    "\"ready\", \"fantastic\", \"glad\", \"right\", \"fabulous\", ]\n",
    "negative_useless = [ \"bad\", \"disappointed\", \"unfortunately\", \"disappointing\", \"horrible\", \"lacking\", \"terrible\", \"sorry\", \"disappoint\", \"worst\", ]\n",
    "\n",
    "# Filter useless words out\n",
    "positive_words = [x for x in positive_words if x not in positive_useless]\n",
    "negative_words = [x for x in negative_words if x not in negative_useless]\n",
    "\n",
    "# Print first 10 elements of lists\n",
    "print(positive_words[:10])\n",
    "print(negative_words[:10])"
   ]
  },
  {
   "cell_type": "markdown",
   "metadata": {
    "nteract": {
     "transient": {
      "deleting": false
     }
    }
   },
   "source": [
    "#### c. Tokenization"
   ]
  },
  {
   "cell_type": "code",
   "execution_count": null,
   "metadata": {
    "collapsed": false,
    "jupyter": {
     "outputs_hidden": false,
     "source_hidden": false
    },
    "nteract": {
     "transient": {
      "deleting": false
     }
    }
   },
   "outputs": [],
   "source": [
    "def filter_words(col):\r\n",
    "    \"\"\" Splits text into a list of strings and filter out the words that are not in positive or negative word list.\"\"\"\r\n",
    "    \r\n",
    "    text = [i for i in col.split() if i in positive_words + negative_words]\r\n",
    "    return text"
   ]
  },
  {
   "cell_type": "code",
   "execution_count": null,
   "metadata": {
    "collapsed": false,
    "jupyter": {
     "outputs_hidden": false,
     "source_hidden": false
    },
    "nteract": {
     "transient": {
      "deleting": false
     }
    }
   },
   "outputs": [],
   "source": [
    "# Create a user-defined function (UDF) and filter text column\r\n",
    "restaurants_reviews = restaurants_reviews.withColumn(\"text_filtered\", udf(filter_words, returnType=ArrayType(StringType()))(col(\"text_clean\")))"
   ]
  },
  {
   "cell_type": "code",
   "execution_count": null,
   "metadata": {
    "collapsed": false,
    "jupyter": {
     "outputs_hidden": false,
     "source_hidden": false
    },
    "nteract": {
     "transient": {
      "deleting": false
     }
    }
   },
   "outputs": [],
   "source": [
    "#Drop unnecessary columns\r\n",
    "restaurants_reviews = restaurants_reviews.select(['category','text_filtered','labels_bool'])"
   ]
  },
  {
   "cell_type": "code",
   "execution_count": 277,
   "metadata": {
    "collapsed": false,
    "jupyter": {
     "outputs_hidden": false,
     "source_hidden": false
    },
    "nteract": {
     "transient": {
      "deleting": false
     }
    }
   },
   "outputs": [
    {
     "data": {
      "application/vnd.livy.statement-meta+json": {
       "execution_finish_time": "2024-03-21T14:00:19.944648Z",
       "execution_start_time": "2024-03-21T14:00:19.7889201Z",
       "livy_statement_state": "available",
       "parent_msg_id": "eb2ed112-3298-446d-b9e8-087b27f131fe",
       "queued_time": "2024-03-21T13:57:52.8294183Z",
       "session_id": "44",
       "session_start_time": null,
       "spark_jobs": null,
       "spark_pool": "sparkpool",
       "state": "finished",
       "statement_id": 44
      },
      "text/plain": [
       "StatementMeta(sparkpool, 44, 44, Finished, Available)"
      ]
     },
     "metadata": {},
     "output_type": "display_data"
    },
    {
     "name": "stdout",
     "output_type": "stream",
     "text": [
      "root\n",
      " |-- category: string (nullable = true)\n",
      " |-- text_filtered: array (nullable = true)\n",
      " |    |-- element: string (containsNull = true)\n",
      " |-- labels_bool: integer (nullable = false)\n",
      "\n"
     ]
    }
   ],
   "source": [
    "#Print the schema\r\n",
    "restaurants_reviews.printSchema()"
   ]
  },
  {
   "cell_type": "code",
   "execution_count": 278,
   "metadata": {
    "collapsed": false,
    "jupyter": {
     "outputs_hidden": false,
     "source_hidden": false
    },
    "nteract": {
     "transient": {
      "deleting": false
     }
    }
   },
   "outputs": [
    {
     "data": {
      "application/vnd.livy.statement-meta+json": {
       "execution_finish_time": "2024-03-21T14:00:45.3949562Z",
       "execution_start_time": "2024-03-21T14:00:20.0725163Z",
       "livy_statement_state": "available",
       "parent_msg_id": "e4be4d39-6cb6-4bca-9c26-4bb5427f3265",
       "queued_time": "2024-03-21T13:57:53.084526Z",
       "session_id": "44",
       "session_start_time": null,
       "spark_jobs": null,
       "spark_pool": "sparkpool",
       "state": "finished",
       "statement_id": 45
      },
      "text/plain": [
       "StatementMeta(sparkpool, 44, 45, Finished, Available)"
      ]
     },
     "metadata": {},
     "output_type": "display_data"
    },
    {
     "name": "stdout",
     "output_type": "stream",
     "text": [
      "+--------+--------------------+-----------+\n",
      "|category|       text_filtered|labels_bool|\n",
      "+--------+--------------------+-----------+\n",
      "|  Indian|[wow, delicious, ...|          1|\n",
      "|   Greek|        [dick, fuck]|          0|\n",
      "|Hawaiian|[consistently, sl...|          1|\n",
      "+--------+--------------------+-----------+\n",
      "only showing top 3 rows\n",
      "\n"
     ]
    }
   ],
   "source": [
    "# Print the dataframe\r\n",
    "restaurants_reviews.show(3)"
   ]
  },
  {
   "cell_type": "code",
   "execution_count": 281,
   "metadata": {
    "collapsed": false,
    "jupyter": {
     "outputs_hidden": false,
     "source_hidden": false
    },
    "nteract": {
     "transient": {
      "deleting": false
     }
    }
   },
   "outputs": [
    {
     "data": {
      "application/vnd.livy.statement-meta+json": {
       "execution_finish_time": "2024-03-21T14:01:03.713344Z",
       "execution_start_time": "2024-03-21T14:00:46.4827041Z",
       "livy_statement_state": "available",
       "parent_msg_id": "b0ac80cf-1063-40c7-ab7e-81500e384a75",
       "queued_time": "2024-03-21T13:57:53.8243661Z",
       "session_id": "44",
       "session_start_time": null,
       "spark_jobs": null,
       "spark_pool": "sparkpool",
       "state": "finished",
       "statement_id": 48
      },
      "text/plain": [
       "StatementMeta(sparkpool, 44, 48, Finished, Available)"
      ]
     },
     "metadata": {},
     "output_type": "display_data"
    },
    {
     "data": {
      "text/plain": [
       "419726"
      ]
     },
     "execution_count": 97,
     "metadata": {},
     "output_type": "execute_result"
    }
   ],
   "source": [
    "# Print the row number of dataframe\r\n",
    "restaurants_reviews.count()"
   ]
  },
  {
   "cell_type": "markdown",
   "metadata": {
    "nteract": {
     "transient": {
      "deleting": false
     }
    }
   },
   "source": [
    "## Implementing Bag-of-Words"
   ]
  },
  {
   "cell_type": "markdown",
   "metadata": {},
   "source": [
    "After this point, all the processes will be implemented for 'African' restaurants."
   ]
  },
  {
   "cell_type": "code",
   "execution_count": null,
   "metadata": {
    "collapsed": false,
    "jupyter": {
     "outputs_hidden": false,
     "source_hidden": false
    },
    "nteract": {
     "transient": {
      "deleting": false
     }
    }
   },
   "outputs": [],
   "source": [
    "# Define a function that filters rows based on the 'category' parameter\n",
    "def get_dataset(category):\n",
    "    \"\"\"Takes in a category name as string. Returns a DataFrame with filtered rows based on category argument.\"\"\"\n",
    "\n",
    "    # Filter DataFrame to only include reviews for the given category\n",
    "    df = restaurants_reviews.filter(col(\"category\") == category)\n",
    "\n",
    "    # Select relevant columns\n",
    "    df = df.select([\"text_filtered\",\"labels_bool\"])\n",
    "\n",
    "    return df"
   ]
  },
  {
   "cell_type": "code",
   "execution_count": null,
   "metadata": {},
   "outputs": [],
   "source": [
    "# Get the dataframe for African restaurants\r\n",
    "African = get_dataset(\"African\")"
   ]
  },
  {
   "cell_type": "code",
   "execution_count": 311,
   "metadata": {
    "collapsed": false,
    "jupyter": {
     "outputs_hidden": false,
     "source_hidden": false
    },
    "nteract": {
     "transient": {
      "deleting": false
     }
    }
   },
   "outputs": [
    {
     "data": {
      "application/vnd.livy.statement-meta+json": {
       "execution_finish_time": "2024-03-20T16:01:19.3656087Z",
       "execution_start_time": "2024-03-20T16:01:19.2198377Z",
       "livy_statement_state": "available",
       "parent_msg_id": "e8d506cb-822d-4eef-8826-d5d3016a79f0",
       "queued_time": "2024-03-20T15:59:47.4537971Z",
       "session_id": "20",
       "session_start_time": null,
       "spark_jobs": null,
       "spark_pool": "sparkpool",
       "state": "finished",
       "statement_id": 43
      },
      "text/plain": [
       "StatementMeta(sparkpool, 20, 43, Finished, Available)"
      ]
     },
     "metadata": {},
     "output_type": "display_data"
    },
    {
     "data": {
      "text/plain": [
       "[('text_filtered', 'array<string>'), ('labels_bool', 'int')]"
      ]
     },
     "execution_count": 87,
     "metadata": {},
     "output_type": "execute_result"
    }
   ],
   "source": [
    "# Display data types\r\n",
    "African.dtypes"
   ]
  },
  {
   "cell_type": "markdown",
   "metadata": {
    "nteract": {
     "transient": {
      "deleting": false
     }
    }
   },
   "source": [
    "### I. Building Vocabulary"
   ]
  },
  {
   "cell_type": "code",
   "execution_count": null,
   "metadata": {
    "collapsed": false,
    "jupyter": {
     "outputs_hidden": false,
     "source_hidden": false
    },
    "nteract": {
     "transient": {
      "deleting": false
     }
    }
   },
   "outputs": [],
   "source": [
    "# Create a CountVectorizer object\n",
    "vectorizer = CountVectorizer(inputCol = 'text_filtered', outputCol = 'vector')\n",
    "\n",
    "# Fit the CountVectorizer object to the dataset\n",
    "vectorizer_model = vectorizer.fit(African)"
   ]
  },
  {
   "cell_type": "code",
   "execution_count": 27,
   "metadata": {
    "collapsed": false,
    "jupyter": {
     "outputs_hidden": false,
     "source_hidden": false
    },
    "nteract": {
     "transient": {
      "deleting": false
     }
    }
   },
   "outputs": [
    {
     "data": {
      "application/vnd.livy.statement-meta+json": {
       "execution_finish_time": "2024-03-20T10:16:51.136136Z",
       "execution_start_time": "2024-03-20T10:16:50.9924889Z",
       "livy_statement_state": "available",
       "parent_msg_id": "d7e93a90-43e5-4f7c-b63a-9633ab5f7dba",
       "queued_time": "2024-03-20T10:16:02.2834362Z",
       "session_id": "17",
       "session_start_time": null,
       "spark_jobs": null,
       "spark_pool": "sparkpool",
       "state": "finished",
       "statement_id": 28
      },
      "text/plain": [
       "StatementMeta(sparkpool, 17, 28, Finished, Available)"
      ]
     },
     "metadata": {},
     "output_type": "display_data"
    },
    {
     "data": {
      "text/plain": [
       "['delicious',\n",
       " 'friendly',\n",
       " 'recommend',\n",
       " 'fried',\n",
       " 'fresh',\n",
       " 'sweet',\n",
       " 'worth',\n",
       " 'hot',\n",
       " 'enjoy',\n",
       " 'beautiful']"
      ]
     },
     "execution_count": 57,
     "metadata": {},
     "output_type": "execute_result"
    }
   ],
   "source": [
    "# Get word list learnt by 'vectorizer_model'\r\n",
    "vocab = vectorizer_model.vocabulary\r\n",
    "\r\n",
    "#Print out the first 10 element of the list\r\n",
    "vocab[:10]"
   ]
  },
  {
   "cell_type": "markdown",
   "metadata": {
    "nteract": {
     "transient": {
      "deleting": false
     }
    }
   },
   "source": [
    "### II. Vectorization"
   ]
  },
  {
   "cell_type": "code",
   "execution_count": null,
   "metadata": {
    "collapsed": false,
    "jupyter": {
     "outputs_hidden": false,
     "source_hidden": false
    },
    "nteract": {
     "transient": {
      "deleting": false
     }
    }
   },
   "outputs": [],
   "source": [
    "# Transform the dataframe to get sparse vectors based on 'text_filtered' column\r\n",
    "African_df = vectorizer_model.transform(African)"
   ]
  },
  {
   "cell_type": "code",
   "execution_count": 31,
   "metadata": {
    "collapsed": false,
    "jupyter": {
     "outputs_hidden": false,
     "source_hidden": false
    },
    "nteract": {
     "transient": {
      "deleting": false
     }
    }
   },
   "outputs": [
    {
     "data": {
      "application/vnd.livy.statement-meta+json": {
       "execution_finish_time": "2024-03-19T16:22:51.7182768Z",
       "execution_start_time": "2024-03-19T16:22:46.423271Z",
       "livy_statement_state": "available",
       "parent_msg_id": "be5b825f-6748-4719-8733-1cc0de1c1c4e",
       "queued_time": "2024-03-19T16:22:46.2985845Z",
       "session_id": "16",
       "session_start_time": null,
       "spark_jobs": null,
       "spark_pool": "sparkpool",
       "state": "finished",
       "statement_id": 32
      },
      "text/plain": [
       "StatementMeta(sparkpool, 16, 32, Finished, Available)"
      ]
     },
     "metadata": {},
     "output_type": "display_data"
    },
    {
     "name": "stdout",
     "output_type": "stream",
     "text": [
      "+--------+--------------------------------------------------------------------------------+--------------------------------------------------------------------------------+-----------+\n",
      "|  labels|                                                                   text_filtered|                                                                          vector|labels_bool|\n",
      "+--------+--------------------------------------------------------------------------------+--------------------------------------------------------------------------------+-----------+\n",
      "|positive|                                                                      [friendly]|                                                                (1973,[1],[1.0])|          1|\n",
      "|positive|                                                                         [rusty]|                                                               (1973,[24],[1.0])|          1|\n",
      "|positive|[fresh, dedicated, gained, enjoy, enjoy, beautiful, awful, cozy, crowded, pri...|(1973,[4,6,8,9,52,59,67,79,889,1525,1758],[1.0,1.0,2.0,1.0,1.0,1.0,1.0,1.0,1....|          1|\n",
      "|positive|      [lost, beautifully, slow, superb, inadequately, attentive, worth, correct]|         (1973,[6,17,18,137,143,166,186,1596],[1.0,1.0,1.0,1.0,1.0,1.0,1.0,1.0])|          1|\n",
      "|positive|                                    [top, delicious, desert, crime, exceptional]|                                 (1973,[0,14,120,261,685],[1.0,1.0,1.0,1.0,1.0])|          1|\n",
      "+--------+--------------------------------------------------------------------------------+--------------------------------------------------------------------------------+-----------+\n",
      "only showing top 5 rows\n",
      "\n"
     ]
    }
   ],
   "source": [
    "# Show the first 5 rows \r\n",
    "African_df.show(5,truncate = 80)"
   ]
  },
  {
   "cell_type": "markdown",
   "metadata": {
    "nteract": {
     "transient": {
      "deleting": false
     }
    }
   },
   "source": [
    "### III. Deriving Weights"
   ]
  },
  {
   "cell_type": "code",
   "execution_count": null,
   "metadata": {
    "collapsed": false,
    "jupyter": {
     "outputs_hidden": false,
     "source_hidden": false
    },
    "nteract": {
     "transient": {
      "deleting": false
     }
    }
   },
   "outputs": [],
   "source": [
    "# Create a LogisticRegression object\r\n",
    "lr = LogisticRegression(featuresCol = 'vector', labelCol = 'labels_bool')\r\n",
    "\r\n",
    "# Fit the dataframe into object to create a LogisticRegressionModel object\r\n",
    "lr_model = lr.fit(African_df)"
   ]
  },
  {
   "cell_type": "code",
   "execution_count": 31,
   "metadata": {
    "collapsed": false,
    "jupyter": {
     "outputs_hidden": false,
     "source_hidden": false
    },
    "nteract": {
     "transient": {
      "deleting": false
     }
    }
   },
   "outputs": [
    {
     "data": {
      "application/vnd.livy.statement-meta+json": {
       "execution_finish_time": "2024-03-20T10:18:06.855901Z",
       "execution_start_time": "2024-03-20T10:18:06.7041245Z",
       "livy_statement_state": "available",
       "parent_msg_id": "bbe89b64-876c-4613-a5da-06b9412580f3",
       "queued_time": "2024-03-20T10:16:16.7388911Z",
       "session_id": "17",
       "session_start_time": null,
       "spark_jobs": null,
       "spark_pool": "sparkpool",
       "state": "finished",
       "statement_id": 32
      },
      "text/plain": [
       "StatementMeta(sparkpool, 17, 32, Finished, Available)"
      ]
     },
     "metadata": {},
     "output_type": "display_data"
    },
    {
     "data": {
      "text/plain": [
       "[3.5142131519065587,\n",
       " 1.6145403134708656,\n",
       " 1.1109860864823224,\n",
       " 0.1576573331590272,\n",
       " 0.6378908147176446,\n",
       " 0.6598956823469534,\n",
       " 0.4010368793251726,\n",
       " 0.8482240452829103,\n",
       " -0.3834754860223588,\n",
       " 0.02819239682736559]"
      ]
     },
     "execution_count": 65,
     "metadata": {},
     "output_type": "execute_result"
    }
   ],
   "source": [
    "# Extract coefficients from LR model\r\n",
    "coeff = lr_model.coefficients\r\n",
    "\r\n",
    "# Convert coeficients to float dtype\r\n",
    "coeff = [float(i) for i in coeff]\r\n",
    "\r\n",
    "# Display first 10 elements\r\n",
    "coeff[:10]"
   ]
  },
  {
   "cell_type": "code",
   "execution_count": 32,
   "metadata": {
    "collapsed": false,
    "jupyter": {
     "outputs_hidden": false,
     "source_hidden": false
    },
    "nteract": {
     "transient": {
      "deleting": false
     }
    }
   },
   "outputs": [
    {
     "data": {
      "application/vnd.livy.statement-meta+json": {
       "execution_finish_time": "2024-03-20T10:18:07.1659546Z",
       "execution_start_time": "2024-03-20T10:18:07.0093828Z",
       "livy_statement_state": "available",
       "parent_msg_id": "a4edd12d-2d4f-4a0c-998a-1fc2f0996b48",
       "queued_time": "2024-03-20T10:16:18.8287705Z",
       "session_id": "17",
       "session_start_time": null,
       "spark_jobs": null,
       "spark_pool": "sparkpool",
       "state": "finished",
       "statement_id": 33
      },
      "text/plain": [
       "StatementMeta(sparkpool, 17, 33, Finished, Available)"
      ]
     },
     "metadata": {},
     "output_type": "display_data"
    },
    {
     "data": {
      "text/plain": [
       "[('delicious', 3.5142131519065587),\n",
       " ('friendly', 1.6145403134708656),\n",
       " ('recommend', 1.1109860864823224),\n",
       " ('fried', 0.1576573331590272),\n",
       " ('fresh', 0.6378908147176446)]"
      ]
     },
     "execution_count": 67,
     "metadata": {},
     "output_type": "execute_result"
    }
   ],
   "source": [
    "# Zip the vocabulary and coefficient into a list of tuples\r\n",
    "word_coeff = [(i,j) for (i,j) in zip(vocab,coeff)]\r\n",
    "\r\n",
    "# Display the first 5 elements\r\n",
    "word_coeff[:5]"
   ]
  },
  {
   "cell_type": "code",
   "execution_count": 33,
   "metadata": {
    "collapsed": false,
    "jupyter": {
     "outputs_hidden": false,
     "source_hidden": false
    },
    "nteract": {
     "transient": {
      "deleting": false
     }
    }
   },
   "outputs": [
    {
     "data": {
      "application/vnd.livy.statement-meta+json": {
       "execution_finish_time": "2024-03-20T10:18:08.418787Z",
       "execution_start_time": "2024-03-20T10:18:07.3229736Z",
       "livy_statement_state": "available",
       "parent_msg_id": "fac0a921-51f6-4acb-a5fd-6c9b10c6f403",
       "queued_time": "2024-03-20T10:16:26.3297536Z",
       "session_id": "17",
       "session_start_time": null,
       "spark_jobs": null,
       "spark_pool": "sparkpool",
       "state": "finished",
       "statement_id": 34
      },
      "text/plain": [
       "StatementMeta(sparkpool, 17, 34, Finished, Available)"
      ]
     },
     "metadata": {},
     "output_type": "display_data"
    },
    {
     "name": "stdout",
     "output_type": "stream",
     "text": [
      "+---------+------------------+\n",
      "|     word|             coeff|\n",
      "+---------+------------------+\n",
      "|delicious|3.5142131519065587|\n",
      "| friendly|1.6145403134708656|\n",
      "|recommend|1.1109860864823224|\n",
      "|    fried|0.1576573331590272|\n",
      "|    fresh|0.6378908147176446|\n",
      "+---------+------------------+\n",
      "only showing top 5 rows\n",
      "\n"
     ]
    }
   ],
   "source": [
    "# Create a new dataframe contains vocabulary and their coefficients\r\n",
    "word_coeff_df = spark.createDataFrame(word_coeff,['word','coeff'])\r\n",
    "\r\n",
    "# Show the first 5 rows\r\n",
    "word_coeff_df.show(5)"
   ]
  },
  {
   "cell_type": "markdown",
   "metadata": {
    "nteract": {
     "transient": {
      "deleting": false
     }
    }
   },
   "source": [
    "### IV. Creating the Bag-of-Words Matrix"
   ]
  },
  {
   "cell_type": "code",
   "execution_count": 34,
   "metadata": {
    "collapsed": false,
    "jupyter": {
     "outputs_hidden": false,
     "source_hidden": false
    },
    "nteract": {
     "transient": {
      "deleting": false
     }
    }
   },
   "outputs": [
    {
     "data": {
      "application/vnd.livy.statement-meta+json": {
       "execution_finish_time": "2024-03-20T10:18:11.344278Z",
       "execution_start_time": "2024-03-20T10:18:08.5694288Z",
       "livy_statement_state": "available",
       "parent_msg_id": "d608c186-4752-4e2c-9463-343dab000f9d",
       "queued_time": "2024-03-20T10:17:12.0600932Z",
       "session_id": "17",
       "session_start_time": null,
       "spark_jobs": null,
       "spark_pool": "sparkpool",
       "state": "finished",
       "statement_id": 35
      },
      "text/plain": [
       "StatementMeta(sparkpool, 17, 35, Finished, Available)"
      ]
     },
     "metadata": {},
     "output_type": "display_data"
    },
    {
     "name": "stdout",
     "output_type": "stream",
     "text": [
      "+----------------------------------------------------------------------------------------+\n",
      "|                                                                                  vector|\n",
      "+----------------------------------------------------------------------------------------+\n",
      "|                                                                        (1973,[1],[1.0])|\n",
      "|                                                                       (1973,[24],[1.0])|\n",
      "|(1973,[4,6,8,9,53,58,69,80,832,1658,1720],[1.0,1.0,2.0,1.0,1.0,1.0,1.0,1.0,1.0,1.0,1.0])|\n",
      "|                 (1973,[6,17,18,135,143,166,186,1757],[1.0,1.0,1.0,1.0,1.0,1.0,1.0,1.0])|\n",
      "|                                         (1973,[0,14,120,261,737],[1.0,1.0,1.0,1.0,1.0])|\n",
      "+----------------------------------------------------------------------------------------+\n",
      "only showing top 5 rows\n",
      "\n"
     ]
    }
   ],
   "source": [
    "# Select 'vector' column and display first 5 rows\r\n",
    "African_df.select('vector').show(5, truncate = 100)"
   ]
  },
  {
   "cell_type": "code",
   "execution_count": null,
   "metadata": {
    "collapsed": false,
    "jupyter": {
     "outputs_hidden": false,
     "source_hidden": false
    },
    "nteract": {
     "transient": {
      "deleting": false
     }
    }
   },
   "outputs": [],
   "source": [
    "# Convert sparse vector to dense array\r\n",
    "vector_dense_arr = vector_to_array(African_df.vector)\r\n",
    "\r\n",
    "# Add 'vector_dense' column to the dataframe\r\n",
    "African_df = African_df.withColumn('vector_dense',vector_dense_arr)"
   ]
  },
  {
   "cell_type": "code",
   "execution_count": 36,
   "metadata": {
    "collapsed": false,
    "jupyter": {
     "outputs_hidden": false,
     "source_hidden": false
    },
    "nteract": {
     "transient": {
      "deleting": false
     }
    }
   },
   "outputs": [
    {
     "data": {
      "application/vnd.livy.statement-meta+json": {
       "execution_finish_time": "2024-03-20T10:18:17.1079431Z",
       "execution_start_time": "2024-03-20T10:18:11.8197227Z",
       "livy_statement_state": "available",
       "parent_msg_id": "ffee2e1c-1e54-425d-8918-2b6bde736ae4",
       "queued_time": "2024-03-20T10:17:16.2786943Z",
       "session_id": "17",
       "session_start_time": null,
       "spark_jobs": null,
       "spark_pool": "sparkpool",
       "state": "finished",
       "statement_id": 37
      },
      "text/plain": [
       "StatementMeta(sparkpool, 17, 37, Finished, Available)"
      ]
     },
     "metadata": {},
     "output_type": "display_data"
    },
    {
     "name": "stdout",
     "output_type": "stream",
     "text": [
      "+--------+--------------------+--------------------+-----------+--------------------+\n",
      "|  labels|       text_filtered|              vector|labels_bool|    vector_dense_arr|\n",
      "+--------+--------------------+--------------------+-----------+--------------------+\n",
      "|positive|          [friendly]|    (1973,[1],[1.0])|          1|[0.0, 1.0, 0.0, 0...|\n",
      "|positive|             [rusty]|   (1973,[24],[1.0])|          1|[0.0, 0.0, 0.0, 0...|\n",
      "|positive|[fresh, dedicated...|(1973,[4,6,8,9,53...|          1|[0.0, 0.0, 0.0, 0...|\n",
      "|positive|[lost, beautifull...|(1973,[6,17,18,13...|          1|[0.0, 0.0, 0.0, 0...|\n",
      "|positive|[top, delicious, ...|(1973,[0,14,120,2...|          1|[1.0, 0.0, 0.0, 0...|\n",
      "+--------+--------------------+--------------------+-----------+--------------------+\n",
      "only showing top 5 rows\n",
      "\n"
     ]
    }
   ],
   "source": [
    "# Show the first 5 rows\r\n",
    "African_df.show(5)"
   ]
  },
  {
   "cell_type": "code",
   "execution_count": 37,
   "metadata": {
    "collapsed": false,
    "jupyter": {
     "outputs_hidden": false,
     "source_hidden": false
    },
    "nteract": {
     "transient": {
      "deleting": false
     }
    }
   },
   "outputs": [
    {
     "data": {
      "application/vnd.livy.statement-meta+json": {
       "execution_finish_time": "2024-03-20T10:18:39.9362887Z",
       "execution_start_time": "2024-03-20T10:18:17.2665689Z",
       "livy_statement_state": "available",
       "parent_msg_id": "e2dd4a1e-cf0c-4cd3-920b-aa9a3a1e0f12",
       "queued_time": "2024-03-20T10:17:18.4246646Z",
       "session_id": "17",
       "session_start_time": null,
       "spark_jobs": null,
       "spark_pool": "sparkpool",
       "state": "finished",
       "statement_id": 38
      },
      "text/plain": [
       "StatementMeta(sparkpool, 17, 38, Finished, Available)"
      ]
     },
     "metadata": {},
     "output_type": "display_data"
    },
    {
     "data": {
      "text/plain": [
       "list"
      ]
     },
     "execution_count": 77,
     "metadata": {},
     "output_type": "execute_result"
    }
   ],
   "source": [
    "# Create an RDD from dataframe's 'vector_dense_arr' column\r\n",
    "vector_dense_rdd = African_df.select('vector_dense_arr').rdd\r\n",
    "\r\n",
    "# Convert RDD to list\r\n",
    "c = vector_dense_rdd.collect()\r\n",
    "\r\n",
    "# Print the type of 'c'\r\n",
    "type(c)"
   ]
  },
  {
   "cell_type": "code",
   "execution_count": null,
   "metadata": {
    "collapsed": false,
    "jupyter": {
     "outputs_hidden": false,
     "source_hidden": false
    },
    "nteract": {
     "transient": {
      "deleting": false
     }
    }
   },
   "outputs": [],
   "source": [
    "# Convert c from a list of Row objects to a list of Float\r\n",
    "c = list(map(lambda x: x[0],c))"
   ]
  },
  {
   "cell_type": "code",
   "execution_count": 40,
   "metadata": {
    "collapsed": false,
    "jupyter": {
     "outputs_hidden": false,
     "source_hidden": false
    },
    "nteract": {
     "transient": {
      "deleting": false
     }
    }
   },
   "outputs": [
    {
     "data": {
      "application/vnd.livy.statement-meta+json": {
       "execution_finish_time": "2024-03-20T10:18:41.932603Z",
       "execution_start_time": "2024-03-20T10:18:41.7798035Z",
       "livy_statement_state": "available",
       "parent_msg_id": "8b86759a-2289-4aff-955d-19eb2b555f37",
       "queued_time": "2024-03-20T10:17:37.1624091Z",
       "session_id": "17",
       "session_start_time": null,
       "spark_jobs": null,
       "spark_pool": "sparkpool",
       "state": "finished",
       "statement_id": 41
      },
      "text/plain": [
       "StatementMeta(sparkpool, 17, 41, Finished, Available)"
      ]
     },
     "metadata": {},
     "output_type": "display_data"
    },
    {
     "data": {
      "text/plain": [
       "StructType([StructField('delicious', FloatType(), False), StructField('friendly', FloatType(), False), StructField('recommend', FloatType(), False), StructField('fried', FloatType(), False), StructField('fresh', FloatType(), False), StructField('sweet', FloatType(), False), StructField('worth', FloatType(), False), StructField('hot', FloatType(), False), StructField('enjoy', FloatType(), False), StructField('beautiful', FloatType(), False)])"
      ]
     },
     "execution_count": 83,
     "metadata": {},
     "output_type": "execute_result"
    }
   ],
   "source": [
    "# Define a StructType object to use as schema\r\n",
    "schema = StructType(\r\n",
    "[StructField(i,FloatType(),False) for i in vocab]\r\n",
    ")\r\n",
    "\r\n",
    "# Print the first 10 elements of the schema\r\n",
    "schema[:10]"
   ]
  },
  {
   "cell_type": "code",
   "execution_count": null,
   "metadata": {
    "collapsed": false,
    "jupyter": {
     "outputs_hidden": false,
     "source_hidden": false
    },
    "nteract": {
     "transient": {
      "deleting": false
     }
    }
   },
   "outputs": [],
   "source": [
    "# Create a Spark Dataframe, using StructType as schema parameter\r\n",
    "matrix = spark.createDataFrame(c,schema = schema)"
   ]
  },
  {
   "cell_type": "code",
   "execution_count": 43,
   "metadata": {
    "collapsed": false,
    "jupyter": {
     "outputs_hidden": false,
     "source_hidden": false
    },
    "nteract": {
     "transient": {
      "deleting": false
     }
    }
   },
   "outputs": [
    {
     "data": {
      "application/vnd.livy.statement-meta+json": {
       "execution_finish_time": "2024-03-20T10:18:59.8425897Z",
       "execution_start_time": "2024-03-20T10:18:59.6923513Z",
       "livy_statement_state": "available",
       "parent_msg_id": "15a5a647-00f5-48b4-9dc7-4f59fd97ee2a",
       "queued_time": "2024-03-20T10:17:44.2187722Z",
       "session_id": "17",
       "session_start_time": null,
       "spark_jobs": null,
       "spark_pool": "sparkpool",
       "state": "finished",
       "statement_id": 44
      },
      "text/plain": [
       "StatementMeta(sparkpool, 17, 44, Finished, Available)"
      ]
     },
     "metadata": {},
     "output_type": "display_data"
    },
    {
     "data": {
      "text/html": [
       "<div>\n",
       "<style scoped>\n",
       "    .dataframe tbody tr th:only-of-type {\n",
       "        vertical-align: middle;\n",
       "    }\n",
       "\n",
       "    .dataframe tbody tr th {\n",
       "        vertical-align: top;\n",
       "    }\n",
       "\n",
       "    .dataframe thead th {\n",
       "        text-align: right;\n",
       "    }\n",
       "</style>\n",
       "<table border=\"1\" class=\"dataframe\">\n",
       "  <thead>\n",
       "    <tr style=\"text-align: right;\">\n",
       "      <th></th>\n",
       "      <th>delicious</th>\n",
       "      <th>friendly</th>\n",
       "      <th>recommend</th>\n",
       "      <th>fried</th>\n",
       "      <th>fresh</th>\n",
       "      <th>sweet</th>\n",
       "      <th>worth</th>\n",
       "      <th>hot</th>\n",
       "      <th>enjoy</th>\n",
       "      <th>beautiful</th>\n",
       "      <th>...</th>\n",
       "      <th>accurately</th>\n",
       "      <th>agonizingly</th>\n",
       "      <th>offender</th>\n",
       "      <th>massacre</th>\n",
       "      <th>trusty</th>\n",
       "      <th>favour</th>\n",
       "      <th>outraged</th>\n",
       "      <th>deterrent</th>\n",
       "      <th>achievement</th>\n",
       "      <th>beloved</th>\n",
       "    </tr>\n",
       "  </thead>\n",
       "  <tbody>\n",
       "    <tr>\n",
       "      <th>0</th>\n",
       "      <td>0.0</td>\n",
       "      <td>1.0</td>\n",
       "      <td>0.0</td>\n",
       "      <td>0.0</td>\n",
       "      <td>0.0</td>\n",
       "      <td>0.0</td>\n",
       "      <td>0.0</td>\n",
       "      <td>0.0</td>\n",
       "      <td>0.0</td>\n",
       "      <td>0.0</td>\n",
       "      <td>...</td>\n",
       "      <td>0.0</td>\n",
       "      <td>0.0</td>\n",
       "      <td>0.0</td>\n",
       "      <td>0.0</td>\n",
       "      <td>0.0</td>\n",
       "      <td>0.0</td>\n",
       "      <td>0.0</td>\n",
       "      <td>0.0</td>\n",
       "      <td>0.0</td>\n",
       "      <td>0.0</td>\n",
       "    </tr>\n",
       "    <tr>\n",
       "      <th>1</th>\n",
       "      <td>0.0</td>\n",
       "      <td>0.0</td>\n",
       "      <td>0.0</td>\n",
       "      <td>0.0</td>\n",
       "      <td>0.0</td>\n",
       "      <td>0.0</td>\n",
       "      <td>0.0</td>\n",
       "      <td>0.0</td>\n",
       "      <td>0.0</td>\n",
       "      <td>0.0</td>\n",
       "      <td>...</td>\n",
       "      <td>0.0</td>\n",
       "      <td>0.0</td>\n",
       "      <td>0.0</td>\n",
       "      <td>0.0</td>\n",
       "      <td>0.0</td>\n",
       "      <td>0.0</td>\n",
       "      <td>0.0</td>\n",
       "      <td>0.0</td>\n",
       "      <td>0.0</td>\n",
       "      <td>0.0</td>\n",
       "    </tr>\n",
       "    <tr>\n",
       "      <th>2</th>\n",
       "      <td>0.0</td>\n",
       "      <td>0.0</td>\n",
       "      <td>0.0</td>\n",
       "      <td>0.0</td>\n",
       "      <td>1.0</td>\n",
       "      <td>0.0</td>\n",
       "      <td>1.0</td>\n",
       "      <td>0.0</td>\n",
       "      <td>2.0</td>\n",
       "      <td>1.0</td>\n",
       "      <td>...</td>\n",
       "      <td>0.0</td>\n",
       "      <td>0.0</td>\n",
       "      <td>0.0</td>\n",
       "      <td>0.0</td>\n",
       "      <td>0.0</td>\n",
       "      <td>0.0</td>\n",
       "      <td>0.0</td>\n",
       "      <td>0.0</td>\n",
       "      <td>0.0</td>\n",
       "      <td>0.0</td>\n",
       "    </tr>\n",
       "  </tbody>\n",
       "</table>\n",
       "<p>3 rows × 1973 columns</p>\n",
       "</div>"
      ],
      "text/plain": [
       "   delicious  friendly  recommend  fried  fresh  sweet  worth  hot  enjoy  \\\n",
       "0        0.0       1.0        0.0    0.0    0.0    0.0    0.0  0.0    0.0   \n",
       "1        0.0       0.0        0.0    0.0    0.0    0.0    0.0  0.0    0.0   \n",
       "2        0.0       0.0        0.0    0.0    1.0    0.0    1.0  0.0    2.0   \n",
       "\n",
       "   beautiful  ...  accurately  agonizingly  offender  massacre  trusty  \\\n",
       "0        0.0  ...         0.0          0.0       0.0       0.0     0.0   \n",
       "1        0.0  ...         0.0          0.0       0.0       0.0     0.0   \n",
       "2        1.0  ...         0.0          0.0       0.0       0.0     0.0   \n",
       "\n",
       "   favour  outraged  deterrent  achievement  beloved  \n",
       "0     0.0       0.0        0.0          0.0      0.0  \n",
       "1     0.0       0.0        0.0          0.0      0.0  \n",
       "2     0.0       0.0        0.0          0.0      0.0  \n",
       "\n",
       "[3 rows x 1973 columns]"
      ]
     },
     "execution_count": 89,
     "metadata": {},
     "output_type": "execute_result"
    }
   ],
   "source": [
    "# Convert Spark DataFrame to Pandas DataFrame\r\n",
    "matrix_pd = matrix.toPandas()\r\n",
    "\r\n",
    "# Show the first 3 rows\r\n",
    "matrix_pd.head(3)"
   ]
  },
  {
   "cell_type": "markdown",
   "metadata": {
    "nteract": {
     "transient": {
      "deleting": false
     }
    }
   },
   "source": [
    "### V. Counting Frequencies"
   ]
  },
  {
   "cell_type": "code",
   "execution_count": null,
   "metadata": {
    "collapsed": false,
    "jupyter": {
     "outputs_hidden": false,
     "source_hidden": false
    },
    "nteract": {
     "transient": {
      "deleting": false
     }
    }
   },
   "outputs": [],
   "source": [
    "# Count the total number of occurrence for every word\r\n",
    "frequency = matrix_pd.sum(axis = 0)"
   ]
  },
  {
   "cell_type": "code",
   "execution_count": 45,
   "metadata": {
    "collapsed": false,
    "jupyter": {
     "outputs_hidden": false,
     "source_hidden": false
    },
    "nteract": {
     "transient": {
      "deleting": false
     }
    }
   },
   "outputs": [
    {
     "data": {
      "application/vnd.livy.statement-meta+json": {
       "execution_finish_time": "2024-03-20T10:19:00.4526611Z",
       "execution_start_time": "2024-03-20T10:19:00.3016434Z",
       "livy_statement_state": "available",
       "parent_msg_id": "6b46dbf4-550e-48d4-847a-62759340ac05",
       "queued_time": "2024-03-20T10:17:48.4643807Z",
       "session_id": "17",
       "session_start_time": null,
       "spark_jobs": null,
       "spark_pool": "sparkpool",
       "state": "finished",
       "statement_id": 46
      },
      "text/plain": [
       "StatementMeta(sparkpool, 17, 46, Finished, Available)"
      ]
     },
     "metadata": {},
     "output_type": "display_data"
    },
    {
     "data": {
      "text/plain": [
       "delicious      1514.0\n",
       "friendly        925.0\n",
       "recommend       766.0\n",
       "fried           657.0\n",
       "fresh           592.0\n",
       "                ...  \n",
       "favour            1.0\n",
       "outraged          1.0\n",
       "deterrent         1.0\n",
       "achievement       1.0\n",
       "beloved           1.0\n",
       "Length: 1973, dtype: float32"
      ]
     },
     "execution_count": 93,
     "metadata": {},
     "output_type": "execute_result"
    }
   ],
   "source": [
    "# Print the pd series\r\n",
    "frequency"
   ]
  },
  {
   "cell_type": "code",
   "execution_count": null,
   "metadata": {
    "collapsed": false,
    "jupyter": {
     "outputs_hidden": false,
     "source_hidden": false
    },
    "nteract": {
     "transient": {
      "deleting": false
     }
    }
   },
   "outputs": [],
   "source": [
    "# Convert pd series to RDD\r\n",
    "freq_rdd = sc.parallelize(frequency)"
   ]
  },
  {
   "cell_type": "code",
   "execution_count": null,
   "metadata": {
    "collapsed": false,
    "jupyter": {
     "outputs_hidden": false,
     "source_hidden": false
    },
    "nteract": {
     "transient": {
      "deleting": false
     }
    }
   },
   "outputs": [],
   "source": [
    "# Convert RDD to list\r\n",
    "freq = freq_rdd.collect()"
   ]
  },
  {
   "cell_type": "code",
   "execution_count": 48,
   "metadata": {
    "collapsed": false,
    "jupyter": {
     "outputs_hidden": false,
     "source_hidden": false
    },
    "nteract": {
     "transient": {
      "deleting": false
     }
    }
   },
   "outputs": [
    {
     "data": {
      "application/vnd.livy.statement-meta+json": {
       "execution_finish_time": "2024-03-20T10:19:01.3586918Z",
       "execution_start_time": "2024-03-20T10:19:01.2078302Z",
       "livy_statement_state": "available",
       "parent_msg_id": "8bc6d9ef-699d-4e14-bb3c-c12f82c22a69",
       "queued_time": "2024-03-20T10:17:54.2509772Z",
       "session_id": "17",
       "session_start_time": null,
       "spark_jobs": null,
       "spark_pool": "sparkpool",
       "state": "finished",
       "statement_id": 49
      },
      "text/plain": [
       "StatementMeta(sparkpool, 17, 49, Finished, Available)"
      ]
     },
     "metadata": {},
     "output_type": "display_data"
    },
    {
     "data": {
      "text/plain": [
       "[1514.0, 925.0, 766.0, 657.0, 592.0, 501.0, 454.0, 446.0, 296.0, 295.0]"
      ]
     },
     "metadata": {},
     "output_type": "display_data"
    },
    {
     "data": {
      "text/plain": [
       "list"
      ]
     },
     "execution_count": 99,
     "metadata": {},
     "output_type": "execute_result"
    }
   ],
   "source": [
    "# Display first 10 elements of the list\r\n",
    "display(freq[:10])\r\n",
    "\r\n",
    "#Print the type of 'freq' variable\r\n",
    "type(freq)"
   ]
  },
  {
   "cell_type": "code",
   "execution_count": null,
   "metadata": {
    "collapsed": false,
    "jupyter": {
     "outputs_hidden": false,
     "source_hidden": false
    },
    "nteract": {
     "transient": {
      "deleting": false
     }
    }
   },
   "outputs": [],
   "source": [
    "# Zip three variables and create a list of three tuples\r\n",
    "word_coeff_freq = [(i,j,k) for (i,j,k) in zip(vocab,coeff,freq)]"
   ]
  },
  {
   "cell_type": "code",
   "execution_count": 50,
   "metadata": {
    "collapsed": false,
    "jupyter": {
     "outputs_hidden": false,
     "source_hidden": false
    },
    "nteract": {
     "transient": {
      "deleting": false
     }
    }
   },
   "outputs": [
    {
     "data": {
      "application/vnd.livy.statement-meta+json": {
       "execution_finish_time": "2024-03-20T10:19:01.9685723Z",
       "execution_start_time": "2024-03-20T10:19:01.8244967Z",
       "livy_statement_state": "available",
       "parent_msg_id": "1e97d744-9172-45dd-8b9d-24a1fdae94fb",
       "queued_time": "2024-03-20T10:17:58.3056302Z",
       "session_id": "17",
       "session_start_time": null,
       "spark_jobs": null,
       "spark_pool": "sparkpool",
       "state": "finished",
       "statement_id": 51
      },
      "text/plain": [
       "StatementMeta(sparkpool, 17, 51, Finished, Available)"
      ]
     },
     "metadata": {},
     "output_type": "display_data"
    },
    {
     "data": {
      "text/plain": [
       "[('delicious', 3.5142131519065587, 1514.0),\n",
       " ('friendly', 1.6145403134708656, 925.0),\n",
       " ('recommend', 1.1109860864823224, 766.0),\n",
       " ('fried', 0.1576573331590272, 657.0),\n",
       " ('fresh', 0.6378908147176446, 592.0),\n",
       " ('sweet', 0.6598956823469534, 501.0),\n",
       " ('worth', 0.4010368793251726, 454.0),\n",
       " ('hot', 0.8482240452829103, 446.0),\n",
       " ('enjoy', -0.3834754860223588, 296.0),\n",
       " ('beautiful', 0.02819239682736559, 295.0)]"
      ]
     },
     "execution_count": 103,
     "metadata": {},
     "output_type": "execute_result"
    }
   ],
   "source": [
    "# Print the first 10 elements of the list\r\n",
    "word_coeff_freq[:10]"
   ]
  },
  {
   "cell_type": "code",
   "execution_count": null,
   "metadata": {
    "collapsed": false,
    "jupyter": {
     "outputs_hidden": false,
     "source_hidden": false
    },
    "nteract": {
     "transient": {
      "deleting": false
     }
    }
   },
   "outputs": [],
   "source": [
    "# Create a Spark DataFrame from the list of tuples\r\n",
    "word_coeff_freq_df = spark.createDataFrame(word_coeff_freq, ['word','coeff','freq'])"
   ]
  },
  {
   "cell_type": "code",
   "execution_count": 52,
   "metadata": {
    "collapsed": false,
    "jupyter": {
     "outputs_hidden": false,
     "source_hidden": false
    },
    "nteract": {
     "transient": {
      "deleting": false
     }
    }
   },
   "outputs": [
    {
     "data": {
      "application/vnd.livy.statement-meta+json": {
       "execution_finish_time": "2024-03-20T10:19:02.9755939Z",
       "execution_start_time": "2024-03-20T10:19:02.428483Z",
       "livy_statement_state": "available",
       "parent_msg_id": "39116725-0fae-46df-9538-38eea5068bc9",
       "queued_time": "2024-03-20T10:18:03.5681904Z",
       "session_id": "17",
       "session_start_time": null,
       "spark_jobs": null,
       "spark_pool": "sparkpool",
       "state": "finished",
       "statement_id": 53
      },
      "text/plain": [
       "StatementMeta(sparkpool, 17, 53, Finished, Available)"
      ]
     },
     "metadata": {},
     "output_type": "display_data"
    },
    {
     "name": "stdout",
     "output_type": "stream",
     "text": [
      "+---------+-------------------+------+\n",
      "|     word|              coeff|  freq|\n",
      "+---------+-------------------+------+\n",
      "|delicious| 3.5142131519065587|1514.0|\n",
      "| friendly| 1.6145403134708656| 925.0|\n",
      "|recommend| 1.1109860864823224| 766.0|\n",
      "|    fried| 0.1576573331590272| 657.0|\n",
      "|    fresh| 0.6378908147176446| 592.0|\n",
      "|    sweet| 0.6598956823469534| 501.0|\n",
      "|    worth| 0.4010368793251726| 454.0|\n",
      "|      hot| 0.8482240452829103| 446.0|\n",
      "|    enjoy|-0.3834754860223588| 296.0|\n",
      "|beautiful|0.02819239682736559| 295.0|\n",
      "+---------+-------------------+------+\n",
      "only showing top 10 rows\n",
      "\n"
     ]
    }
   ],
   "source": [
    "# Show first 10 rows\r\n",
    "word_coeff_freq_df.show(10)"
   ]
  },
  {
   "cell_type": "markdown",
   "metadata": {
    "nteract": {
     "transient": {
      "deleting": false
     }
    }
   },
   "source": [
    "### VI. Calculating Polarities"
   ]
  },
  {
   "cell_type": "code",
   "execution_count": null,
   "metadata": {
    "collapsed": false,
    "jupyter": {
     "outputs_hidden": false,
     "source_hidden": false
    },
    "nteract": {
     "transient": {
      "deleting": false
     }
    }
   },
   "outputs": [],
   "source": [
    "# Total number of reviews for the given category ('African', in this instance.)\r\n",
    "n = matrix.count()"
   ]
  },
  {
   "cell_type": "code",
   "execution_count": null,
   "metadata": {
    "collapsed": false,
    "jupyter": {
     "outputs_hidden": false,
     "source_hidden": false
    },
    "nteract": {
     "transient": {
      "deleting": false
     }
    }
   },
   "outputs": [],
   "source": [
    "# Polarity = (Coefficient * Frequency) / (Total number of reviews)\r\n",
    "# Calculate polarity and create new column\r\n",
    "African_master_df = word_coeff_freq_df.withColumn('polarity', col('coeff') * col('freq') / n)"
   ]
  },
  {
   "cell_type": "markdown",
   "metadata": {
    "nteract": {
     "transient": {
      "deleting": false
     }
    }
   },
   "source": [
    "## Creating the Polarity Table"
   ]
  },
  {
   "cell_type": "code",
   "execution_count": 55,
   "metadata": {
    "collapsed": false,
    "jupyter": {
     "outputs_hidden": false,
     "source_hidden": false
    },
    "nteract": {
     "transient": {
      "deleting": false
     }
    }
   },
   "outputs": [
    {
     "data": {
      "application/vnd.livy.statement-meta+json": {
       "execution_finish_time": "2024-03-20T10:19:08.5951619Z",
       "execution_start_time": "2024-03-20T10:19:07.5427329Z",
       "livy_statement_state": "available",
       "parent_msg_id": "ac977a62-beec-40fd-8ec6-d4c7bda0284e",
       "queued_time": "2024-03-20T10:18:10.9880548Z",
       "session_id": "17",
       "session_start_time": null,
       "spark_jobs": null,
       "spark_pool": "sparkpool",
       "state": "finished",
       "statement_id": 56
      },
      "text/plain": [
       "StatementMeta(sparkpool, 17, 56, Finished, Available)"
      ]
     },
     "metadata": {},
     "output_type": "display_data"
    },
    {
     "name": "stdout",
     "output_type": "stream",
     "text": [
      "+----------+-------------------+-----+--------------------+\n",
      "|      word|              coeff| freq|            polarity|\n",
      "+----------+-------------------+-----+--------------------+\n",
      "|disgusting|  -18.4423288011563| 52.0|  -0.155555733602616|\n",
      "|     worse|-15.350032117209746| 51.0|-0.12698323405964268|\n",
      "|     gross|-18.299362377860998| 42.0|-0.12466718894893138|\n",
      "|    refund|-30.264265516607576| 23.0|-0.11290804653397798|\n",
      "|ridiculous|-21.297797459989937| 32.0|-0.11054817821892587|\n",
      "|     trash| -17.52243916931295| 34.0|-0.09663632307488083|\n",
      "|      hell|-23.551262435959178| 24.0|-0.09168374670933013|\n",
      "|      cold| -2.120295824857995|263.0|-0.09045219820562087|\n",
      "|      poor| -6.326108254527946| 87.0|-0.08927354714418999|\n",
      "|      rude| -4.223422461511341|125.0|-0.08563305883031917|\n",
      "+----------+-------------------+-----+--------------------+\n",
      "only showing top 10 rows\n",
      "\n"
     ]
    }
   ],
   "source": [
    "# Show the top 10 negative words\r\n",
    "African_master_df.sort('polarity',ascending = True).show(10)"
   ]
  },
  {
   "cell_type": "code",
   "execution_count": 56,
   "metadata": {
    "collapsed": false,
    "jupyter": {
     "outputs_hidden": false,
     "source_hidden": false
    },
    "nteract": {
     "transient": {
      "deleting": false
     }
    }
   },
   "outputs": [
    {
     "data": {
      "application/vnd.livy.statement-meta+json": {
       "execution_finish_time": "2024-03-20T10:19:09.2668839Z",
       "execution_start_time": "2024-03-20T10:19:08.7388864Z",
       "livy_statement_state": "available",
       "parent_msg_id": "fe6ddda8-c09f-4380-a1ee-3b1936b89bf4",
       "queued_time": "2024-03-20T10:18:12.7265762Z",
       "session_id": "17",
       "session_start_time": null,
       "spark_jobs": null,
       "spark_pool": "sparkpool",
       "state": "finished",
       "statement_id": 57
      },
      "text/plain": [
       "StatementMeta(sparkpool, 17, 57, Finished, Available)"
      ]
     },
     "metadata": {},
     "output_type": "display_data"
    },
    {
     "name": "stdout",
     "output_type": "stream",
     "text": [
      "+-----------+------------------+------+-------------------+\n",
      "|       word|             coeff|  freq|           polarity|\n",
      "+-----------+------------------+------+-------------------+\n",
      "|  delicious|3.5142131519065587|1514.0| 0.8630200668266876|\n",
      "|   friendly|1.6145403134708656| 925.0|0.24224651905280625|\n",
      "| phenomenal|14.140373586371757|  79.0|0.18119862341011658|\n",
      "|   romantic| 34.29621583873816|  26.0|0.14463935309119094|\n",
      "|  recommend|1.1109860864823224| 766.0|0.13803979598466487|\n",
      "|   enjoying|14.766156209598272|  51.0|0.12215311706237013|\n",
      "|outstanding| 8.706570076182462|  84.0|0.11862966527158587|\n",
      "| perfection|  7.13990960960451|  95.0|0.11002293802310274|\n",
      "| delightful|14.429629055613333|  45.0|0.10532575953002432|\n",
      "|   generous| 5.320731894915049| 112.0|0.09666212039423934|\n",
      "+-----------+------------------+------+-------------------+\n",
      "only showing top 10 rows\n",
      "\n"
     ]
    }
   ],
   "source": [
    "# Show the top 10 positive words\r\n",
    "African_master_df.sort('polarity',ascending = False).show(10)"
   ]
  },
  {
   "cell_type": "code",
   "execution_count": null,
   "metadata": {
    "collapsed": false,
    "jupyter": {
     "outputs_hidden": false,
     "source_hidden": false
    },
    "nteract": {
     "transient": {
      "deleting": false
     }
    }
   },
   "outputs": [],
   "source": [
    "# Subset dataframes to get top and bottom 10 rows\r\n",
    "African_positive_10 = African_master_df.sort('polarity',ascending = False).head(10)\r\n",
    "African_negative_10 = African_master_df.sort('polarity',ascending = True).head(10)"
   ]
  },
  {
   "cell_type": "code",
   "execution_count": null,
   "metadata": {
    "collapsed": false,
    "jupyter": {
     "outputs_hidden": false,
     "source_hidden": false
    },
    "nteract": {
     "transient": {
      "deleting": false
     }
    }
   },
   "outputs": [],
   "source": [
    "# Creating pd DataFrames\r\n",
    "African_positive_10_pd = pd.DataFrame(African_positive_10, columns = African_master_df.columns)\r\n",
    "African_negative_10_pd = pd.DataFrame(African_negative_10, columns = African_master_df.columns)"
   ]
  },
  {
   "cell_type": "code",
   "execution_count": null,
   "metadata": {
    "collapsed": false,
    "jupyter": {
     "outputs_hidden": false,
     "source_hidden": false
    },
    "nteract": {
     "transient": {
      "deleting": false
     }
    }
   },
   "outputs": [],
   "source": [
    "# Sort negative words in descending order\r\n",
    "African_negative_10_pd = African_negative_10_pd.sort_values('polarity',ascending = False)"
   ]
  },
  {
   "cell_type": "code",
   "execution_count": 125,
   "metadata": {
    "collapsed": false,
    "jupyter": {
     "outputs_hidden": false,
     "source_hidden": false
    },
    "nteract": {
     "transient": {
      "deleting": false
     }
    }
   },
   "outputs": [
    {
     "data": {
      "application/vnd.livy.statement-meta+json": {
       "execution_finish_time": "2024-03-20T11:14:06.8825758Z",
       "execution_start_time": "2024-03-20T11:14:06.7264708Z",
       "livy_statement_state": "available",
       "parent_msg_id": "c177e496-4ca1-471b-af90-3a9f29a1def8",
       "queued_time": "2024-03-20T11:14:06.603889Z",
       "session_id": "17",
       "session_start_time": null,
       "spark_jobs": null,
       "spark_pool": "sparkpool",
       "state": "finished",
       "statement_id": 126
      },
      "text/plain": [
       "StatementMeta(sparkpool, 17, 126, Finished, Available)"
      ]
     },
     "metadata": {},
     "output_type": "display_data"
    },
    {
     "data": {
      "text/html": [
       "<div>\n",
       "<style scoped>\n",
       "    .dataframe tbody tr th:only-of-type {\n",
       "        vertical-align: middle;\n",
       "    }\n",
       "\n",
       "    .dataframe tbody tr th {\n",
       "        vertical-align: top;\n",
       "    }\n",
       "\n",
       "    .dataframe thead th {\n",
       "        text-align: right;\n",
       "    }\n",
       "</style>\n",
       "<table border=\"1\" class=\"dataframe\">\n",
       "  <thead>\n",
       "    <tr style=\"text-align: right;\">\n",
       "      <th></th>\n",
       "      <th>word</th>\n",
       "      <th>coeff</th>\n",
       "      <th>freq</th>\n",
       "      <th>polarity</th>\n",
       "    </tr>\n",
       "  </thead>\n",
       "  <tbody>\n",
       "    <tr>\n",
       "      <th>0</th>\n",
       "      <td>delicious</td>\n",
       "      <td>3.514213</td>\n",
       "      <td>1514.0</td>\n",
       "      <td>0.863020</td>\n",
       "    </tr>\n",
       "    <tr>\n",
       "      <th>1</th>\n",
       "      <td>friendly</td>\n",
       "      <td>1.614540</td>\n",
       "      <td>925.0</td>\n",
       "      <td>0.242247</td>\n",
       "    </tr>\n",
       "    <tr>\n",
       "      <th>2</th>\n",
       "      <td>phenomenal</td>\n",
       "      <td>14.140374</td>\n",
       "      <td>79.0</td>\n",
       "      <td>0.181199</td>\n",
       "    </tr>\n",
       "    <tr>\n",
       "      <th>3</th>\n",
       "      <td>romantic</td>\n",
       "      <td>34.296216</td>\n",
       "      <td>26.0</td>\n",
       "      <td>0.144639</td>\n",
       "    </tr>\n",
       "    <tr>\n",
       "      <th>4</th>\n",
       "      <td>recommend</td>\n",
       "      <td>1.110986</td>\n",
       "      <td>766.0</td>\n",
       "      <td>0.138040</td>\n",
       "    </tr>\n",
       "    <tr>\n",
       "      <th>5</th>\n",
       "      <td>enjoying</td>\n",
       "      <td>14.766156</td>\n",
       "      <td>51.0</td>\n",
       "      <td>0.122153</td>\n",
       "    </tr>\n",
       "    <tr>\n",
       "      <th>6</th>\n",
       "      <td>outstanding</td>\n",
       "      <td>8.706570</td>\n",
       "      <td>84.0</td>\n",
       "      <td>0.118630</td>\n",
       "    </tr>\n",
       "    <tr>\n",
       "      <th>7</th>\n",
       "      <td>perfection</td>\n",
       "      <td>7.139910</td>\n",
       "      <td>95.0</td>\n",
       "      <td>0.110023</td>\n",
       "    </tr>\n",
       "    <tr>\n",
       "      <th>8</th>\n",
       "      <td>delightful</td>\n",
       "      <td>14.429629</td>\n",
       "      <td>45.0</td>\n",
       "      <td>0.105326</td>\n",
       "    </tr>\n",
       "    <tr>\n",
       "      <th>9</th>\n",
       "      <td>generous</td>\n",
       "      <td>5.320732</td>\n",
       "      <td>112.0</td>\n",
       "      <td>0.096662</td>\n",
       "    </tr>\n",
       "    <tr>\n",
       "      <th>9</th>\n",
       "      <td>rude</td>\n",
       "      <td>-4.223422</td>\n",
       "      <td>125.0</td>\n",
       "      <td>-0.085633</td>\n",
       "    </tr>\n",
       "    <tr>\n",
       "      <th>8</th>\n",
       "      <td>poor</td>\n",
       "      <td>-6.326108</td>\n",
       "      <td>87.0</td>\n",
       "      <td>-0.089274</td>\n",
       "    </tr>\n",
       "    <tr>\n",
       "      <th>7</th>\n",
       "      <td>cold</td>\n",
       "      <td>-2.120296</td>\n",
       "      <td>263.0</td>\n",
       "      <td>-0.090452</td>\n",
       "    </tr>\n",
       "    <tr>\n",
       "      <th>6</th>\n",
       "      <td>hell</td>\n",
       "      <td>-23.551262</td>\n",
       "      <td>24.0</td>\n",
       "      <td>-0.091684</td>\n",
       "    </tr>\n",
       "    <tr>\n",
       "      <th>5</th>\n",
       "      <td>trash</td>\n",
       "      <td>-17.522439</td>\n",
       "      <td>34.0</td>\n",
       "      <td>-0.096636</td>\n",
       "    </tr>\n",
       "    <tr>\n",
       "      <th>4</th>\n",
       "      <td>ridiculous</td>\n",
       "      <td>-21.297797</td>\n",
       "      <td>32.0</td>\n",
       "      <td>-0.110548</td>\n",
       "    </tr>\n",
       "    <tr>\n",
       "      <th>3</th>\n",
       "      <td>refund</td>\n",
       "      <td>-30.264266</td>\n",
       "      <td>23.0</td>\n",
       "      <td>-0.112908</td>\n",
       "    </tr>\n",
       "    <tr>\n",
       "      <th>2</th>\n",
       "      <td>gross</td>\n",
       "      <td>-18.299362</td>\n",
       "      <td>42.0</td>\n",
       "      <td>-0.124667</td>\n",
       "    </tr>\n",
       "    <tr>\n",
       "      <th>1</th>\n",
       "      <td>worse</td>\n",
       "      <td>-15.350032</td>\n",
       "      <td>51.0</td>\n",
       "      <td>-0.126983</td>\n",
       "    </tr>\n",
       "    <tr>\n",
       "      <th>0</th>\n",
       "      <td>disgusting</td>\n",
       "      <td>-18.442329</td>\n",
       "      <td>52.0</td>\n",
       "      <td>-0.155556</td>\n",
       "    </tr>\n",
       "  </tbody>\n",
       "</table>\n",
       "</div>"
      ],
      "text/plain": [
       "          word      coeff    freq  polarity\n",
       "0    delicious   3.514213  1514.0  0.863020\n",
       "1     friendly   1.614540   925.0  0.242247\n",
       "2   phenomenal  14.140374    79.0  0.181199\n",
       "3     romantic  34.296216    26.0  0.144639\n",
       "4    recommend   1.110986   766.0  0.138040\n",
       "5     enjoying  14.766156    51.0  0.122153\n",
       "6  outstanding   8.706570    84.0  0.118630\n",
       "7   perfection   7.139910    95.0  0.110023\n",
       "8   delightful  14.429629    45.0  0.105326\n",
       "9     generous   5.320732   112.0  0.096662\n",
       "9         rude  -4.223422   125.0 -0.085633\n",
       "8         poor  -6.326108    87.0 -0.089274\n",
       "7         cold  -2.120296   263.0 -0.090452\n",
       "6         hell -23.551262    24.0 -0.091684\n",
       "5        trash -17.522439    34.0 -0.096636\n",
       "4   ridiculous -21.297797    32.0 -0.110548\n",
       "3       refund -30.264266    23.0 -0.112908\n",
       "2        gross -18.299362    42.0 -0.124667\n",
       "1        worse -15.350032    51.0 -0.126983\n",
       "0   disgusting -18.442329    52.0 -0.155556"
      ]
     },
     "execution_count": 253,
     "metadata": {},
     "output_type": "execute_result"
    }
   ],
   "source": [
    "# Concatenate posiitve and negative words\r\n",
    "African_concat = pd.concat([African_positive_10_pd,African_negative_10_pd])\r\n",
    "\r\n",
    "# Print the polarity table\r\n",
    "African_concat.head(20)"
   ]
  },
  {
   "cell_type": "markdown",
   "metadata": {
    "nteract": {
     "transient": {
      "deleting": false
     }
    }
   },
   "source": [
    "## Generating the Plot"
   ]
  },
  {
   "cell_type": "code",
   "execution_count": 152,
   "metadata": {
    "collapsed": false,
    "jupyter": {
     "outputs_hidden": false,
     "source_hidden": false
    },
    "nteract": {
     "transient": {
      "deleting": false
     }
    }
   },
   "outputs": [
    {
     "data": {
      "application/vnd.livy.statement-meta+json": {
       "execution_finish_time": "2024-03-20T11:29:11.1448825Z",
       "execution_start_time": "2024-03-20T11:29:10.592532Z",
       "livy_statement_state": "available",
       "parent_msg_id": "b47d663a-660c-45e6-bd91-e5c099bcfcb6",
       "queued_time": "2024-03-20T11:29:10.4506552Z",
       "session_id": "17",
       "session_start_time": null,
       "spark_jobs": null,
       "spark_pool": "sparkpool",
       "state": "finished",
       "statement_id": 153
      },
      "text/plain": [
       "StatementMeta(sparkpool, 17, 153, Finished, Available)"
      ]
     },
     "metadata": {},
     "output_type": "display_data"
    },
    {
     "data": {
      "text/plain": [
       "<Figure size 640x480 with 0 Axes>"
      ]
     },
     "metadata": {},
     "output_type": "display_data"
    },
    {
     "data": {
      "image/png": "[encoded data removed]",
      "text/plain": [
       "<Figure size 900x600 with 1 Axes>"
      ]
     },
     "metadata": {},
     "output_type": "display_data"
    }
   ],
   "source": [
    "# Set 'darkgrid' style\r\n",
    "sns.set_style('darkgrid')\r\n",
    "# Set 'notebook' context for better readability\r\n",
    "sns.set_context('notebook')\r\n",
    "# Create a figure and an axis object of 9x6 size\r\n",
    "fig,ax = plt.subplots(figsize = (9,6))\r\n",
    "# Create a bar plot, 'polarity' on x axis and 'word' on y axis\r\n",
    "#Use a diverging palette for a better narrative impact\r\n",
    "sns.barplot(data = African_concat, x = 'polarity' , y = 'word', palette = 'RdBu_r')\r\n",
    "# Set the title of the plot\r\n",
    "plt.title(\"The Most Effective Words in African Restaurants's Reviews\")\r\n",
    "# Set labels for x and y axis.\r\n",
    "plt.xlabel('Polarity Score')\r\n",
    "plt.ylabel('Word')\r\n",
    "# Set the x-axis limits to the min and max values of the 'polarity' column\r\n",
    "plt.xlim(African_concat['polarity'].min(),African_concat['polarity'].max())\r\n",
    "# Show the plot\r\n",
    "plt.show()"
   ]
  },
  {
   "cell_type": "markdown",
   "metadata": {},
   "source": [
    "## Function Definitions"
   ]
  },
  {
   "cell_type": "code",
   "execution_count": null,
   "metadata": {
    "nteract": {
     "transient": {
      "deleting": false
     }
    }
   },
   "outputs": [],
   "source": [
    "def get_polarity(category):\r\n",
    "    \"\"\"\r\n",
    "    Calculate polarity scores for a given category.\r\n",
    "\r\n",
    "    Args:\r\n",
    "    - category (str): Category of the restaurants to filter data.\r\n",
    "\r\n",
    "    Returns:\r\n",
    "    - DataFrame: DataFrame containing the top 10 positive and negative polarity words.\r\n",
    "    \"\"\"\r\n",
    "    \r\n",
    "    # Filter the df and get relevant columns\r\n",
    "    df = restaurants_reviews.filter(col(\"category\") == category)\r\n",
    "    df = df.select(['text_filtered','labels_bool'])\r\n",
    "\r\n",
    "    # Building vocabulary\r\n",
    "    vectorizer = CountVectorizer(inputCol = 'text_filtered', outputCol = 'vector')\r\n",
    "    vectorizer_model = vectorizer.fit(df)\r\n",
    "    vocab = vectorizer_model.vocabulary\r\n",
    "    \r\n",
    "    # Vectorization\r\n",
    "    df = vectorizer_model.transform()\r\n",
    "\r\n",
    "    # Deriving weights\r\n",
    "    lr = LogisticRegression(featuresCol = 'vector', labelCol = 'labels_bool')\r\n",
    "    lr_model = lr.fit(df)\r\n",
    "    coeff = lr_model.coefficients\r\n",
    "    coeff = [float(i) fo]\r\n",
    "    \r\n",
    "    # Creating the bag-of-words matrix\r\n",
    "    vector_dense_arr = vector_to_array(df.vector)\r\n",
    "    df = df.withColumn('vector_dense',vector_dense_arr)\r\n",
    "    vector_dense_rdd = df.select('vector_dense').rdd\r\n",
    "    vec = vector_dense_rdd.collect()\r\n",
    "    vec = list(map(lambda x: x[0],vec))\r\n",
    "    schema = StructType(\r\n",
    "    [StructField(i,FloatType(),False) for i in vocab]\r\n",
    "    )\r\n",
    "    matrix = spark.createDataFrame(vec,schema = schema)\r\n",
    "    matrix_pd = matrix.toPandas()\r\n",
    "    \r\n",
    "    # Counting frequencies\r\n",
    "    freq_series = matrix_pd.sum(axis = 0)\r\n",
    "    freq_rdd = sc.parallelize(freq_series)\r\n",
    "    freq = freq_rdd.collect()\r\n",
    "    word_coeff_freq = [(i,j,k) for (i,j,k) in zip(vocab,coeff,freq)]\r\n",
    "    word_coeff_freq_df = spark.createDataFrame(word_coeff_freq, ['word','coeff','freq'])\r\n",
    "    \r\n",
    "    # Calculating polarities\r\n",
    "    n = matrix.count()\r\n",
    "    master_df = word_coeff_freq_df.withColumn('polarity', col('coeff') * col('freq') / n)\r\n",
    "    \r\n",
    "    # Creating the polarity table\r\n",
    "    positive_10 = master_df.sort('polarity',ascending = False).head(10)\r\n",
    "    negative_10 = master_df.sort('polarity',ascending = True).head(10)\r\n",
    "    positive_10_pd = pd.DataFrame(positive_10, columns = master_df.columns)\r\n",
    "    negative_10_pd = pd.DataFrame(negative_10, columns = master_df.columns)\r\n",
    "    negative_10_pd = negative_10_pd.('polarity',ascending = False)\r\n",
    "    sum_df =positive_10_pd,negative_10_pd])\r\n",
    "    \r\n",
    "    # Return the df\r\n",
    "    return sum_df"
   ]
  },
  {
   "cell_type": "code",
   "execution_count": null,
   "metadata": {
    "collapsed": false,
    "jupyter": {
     "outputs_hidden": false,
     "source_hidden": false
    },
    "nteract": {
     "transient": {
      "deleting": false
     }
    }
   },
   "outputs": [],
   "source": [
    "def get_plot(sum_df,category):\r\n",
    "        \"\"\"\r\n",
    "    Generate a bar plot showing the most effective words in restaurant reviews for a given category.\r\n",
    "\r\n",
    "    Args:\r\n",
    "    - sum_df (DataFrame): DataFrame containing polarity scores and words.\r\n",
    "    - category (str): Category of the restaurants.\r\n",
    "    \"\"\"\r\n",
    "    # Set style and context\r\n",
    "    sns.set_style('darkgrid')\r\n",
    "    sns.set_context('notebook')\r\n",
    "\r\n",
    "    # Create a figure and axis object\r\n",
    "    fig,ax = plt.subplots(figsize = (9,6))\r\n",
    "\r\n",
    "    # Create the plot\r\n",
    "    sns.barplot(data = sum_df, x = 'polarity' , y = 'word',palette = 'RdBu_r')\r\n",
    "    \r\n",
    "    # Set the title and labels on both axis\r\n",
    "    plt.title(\"The Most Effective Words in \" + category + \" Restaurants's Reviews\")\r\n",
    "    plt.xlabel('Polarity Score')\r\n",
    "    plt.ylabel('Word')\r\n",
    "\r\n",
    "    # Set minimum and maximum limits on x-axis\r\n",
    "    plt.xlim(sum_df['polarity'].min(),sum_df['polarity'].max())\r\n",
    "\r\n",
    "    # Display the plot\r\n",
    "    plt.show()"
   ]
  },
  {
   "cell_type": "markdown",
   "metadata": {},
   "source": [
    "## Implementation and Results"
   ]
  },
  {
   "cell_type": "code",
   "execution_count": null,
   "metadata": {
    "nteract": {
     "transient": {
      "deleting": false
     }
    }
   },
   "outputs": [],
   "source": [
    "african_df = get_polarity('African')"
   ]
  },
  {
   "cell_type": "code",
   "execution_count": 363,
   "metadata": {
    "collapsed": false,
    "jupyter": {
     "outputs_hidden": false,
     "source_hidden": false
    },
    "nteract": {
     "transient": {
      "deleting": false
     }
    }
   },
   "outputs": [
    {
     "data": {
      "application/vnd.livy.statement-meta+json": {
       "execution_finish_time": "2024-03-20T16:23:33.5713789Z",
       "execution_start_time": "2024-03-20T16:23:33.4325256Z",
       "livy_statement_state": "available",
       "parent_msg_id": "bb646c6d-d5a3-4788-a988-0780e5e83b4a",
       "queued_time": "2024-03-20T16:23:33.3093988Z",
       "session_id": "20",
       "session_start_time": null,
       "spark_jobs": null,
       "spark_pool": "sparkpool",
       "state": "finished",
       "statement_id": 95
      },
      "text/plain": [
       "StatementMeta(sparkpool, 20, 95, Finished, Available)"
      ]
     },
     "metadata": {},
     "output_type": "display_data"
    },
    {
     "data": {
      "text/html": [
       "<div>\n",
       "<style scoped>\n",
       "    .dataframe tbody tr th:only-of-type {\n",
       "        vertical-align: middle;\n",
       "    }\n",
       "\n",
       "    .dataframe tbody tr th {\n",
       "        vertical-align: top;\n",
       "    }\n",
       "\n",
       "    .dataframe thead th {\n",
       "        text-align: right;\n",
       "    }\n",
       "</style>\n",
       "<table border=\"1\" class=\"dataframe\">\n",
       "  <thead>\n",
       "    <tr style=\"text-align: right;\">\n",
       "      <th></th>\n",
       "      <th>word</th>\n",
       "      <th>coeff</th>\n",
       "      <th>freq</th>\n",
       "      <th>polarity</th>\n",
       "    </tr>\n",
       "  </thead>\n",
       "  <tbody>\n",
       "    <tr>\n",
       "      <th>0</th>\n",
       "      <td>delicious</td>\n",
       "      <td>3.514213</td>\n",
       "      <td>1514.0</td>\n",
       "      <td>0.863020</td>\n",
       "    </tr>\n",
       "    <tr>\n",
       "      <th>1</th>\n",
       "      <td>friendly</td>\n",
       "      <td>1.614540</td>\n",
       "      <td>925.0</td>\n",
       "      <td>0.242247</td>\n",
       "    </tr>\n",
       "    <tr>\n",
       "      <th>2</th>\n",
       "      <td>phenomenal</td>\n",
       "      <td>14.140374</td>\n",
       "      <td>79.0</td>\n",
       "      <td>0.181199</td>\n",
       "    </tr>\n",
       "    <tr>\n",
       "      <th>3</th>\n",
       "      <td>romantic</td>\n",
       "      <td>34.296216</td>\n",
       "      <td>26.0</td>\n",
       "      <td>0.144639</td>\n",
       "    </tr>\n",
       "    <tr>\n",
       "      <th>4</th>\n",
       "      <td>recommend</td>\n",
       "      <td>1.110986</td>\n",
       "      <td>766.0</td>\n",
       "      <td>0.138040</td>\n",
       "    </tr>\n",
       "    <tr>\n",
       "      <th>5</th>\n",
       "      <td>enjoying</td>\n",
       "      <td>14.766156</td>\n",
       "      <td>51.0</td>\n",
       "      <td>0.122153</td>\n",
       "    </tr>\n",
       "    <tr>\n",
       "      <th>6</th>\n",
       "      <td>outstanding</td>\n",
       "      <td>8.706570</td>\n",
       "      <td>84.0</td>\n",
       "      <td>0.118630</td>\n",
       "    </tr>\n",
       "    <tr>\n",
       "      <th>7</th>\n",
       "      <td>perfection</td>\n",
       "      <td>7.139910</td>\n",
       "      <td>95.0</td>\n",
       "      <td>0.110023</td>\n",
       "    </tr>\n",
       "    <tr>\n",
       "      <th>8</th>\n",
       "      <td>delightful</td>\n",
       "      <td>14.429629</td>\n",
       "      <td>45.0</td>\n",
       "      <td>0.105326</td>\n",
       "    </tr>\n",
       "    <tr>\n",
       "      <th>9</th>\n",
       "      <td>generous</td>\n",
       "      <td>5.320732</td>\n",
       "      <td>112.0</td>\n",
       "      <td>0.096662</td>\n",
       "    </tr>\n",
       "    <tr>\n",
       "      <th>9</th>\n",
       "      <td>rude</td>\n",
       "      <td>-4.223422</td>\n",
       "      <td>125.0</td>\n",
       "      <td>-0.085633</td>\n",
       "    </tr>\n",
       "    <tr>\n",
       "      <th>8</th>\n",
       "      <td>poor</td>\n",
       "      <td>-6.326108</td>\n",
       "      <td>87.0</td>\n",
       "      <td>-0.089274</td>\n",
       "    </tr>\n",
       "    <tr>\n",
       "      <th>7</th>\n",
       "      <td>cold</td>\n",
       "      <td>-2.120296</td>\n",
       "      <td>263.0</td>\n",
       "      <td>-0.090452</td>\n",
       "    </tr>\n",
       "    <tr>\n",
       "      <th>6</th>\n",
       "      <td>hell</td>\n",
       "      <td>-23.551263</td>\n",
       "      <td>24.0</td>\n",
       "      <td>-0.091684</td>\n",
       "    </tr>\n",
       "    <tr>\n",
       "      <th>5</th>\n",
       "      <td>trash</td>\n",
       "      <td>-17.522439</td>\n",
       "      <td>34.0</td>\n",
       "      <td>-0.096636</td>\n",
       "    </tr>\n",
       "    <tr>\n",
       "      <th>4</th>\n",
       "      <td>ridiculous</td>\n",
       "      <td>-21.297798</td>\n",
       "      <td>32.0</td>\n",
       "      <td>-0.110548</td>\n",
       "    </tr>\n",
       "    <tr>\n",
       "      <th>3</th>\n",
       "      <td>refund</td>\n",
       "      <td>-30.264266</td>\n",
       "      <td>23.0</td>\n",
       "      <td>-0.112908</td>\n",
       "    </tr>\n",
       "    <tr>\n",
       "      <th>2</th>\n",
       "      <td>gross</td>\n",
       "      <td>-18.299362</td>\n",
       "      <td>42.0</td>\n",
       "      <td>-0.124667</td>\n",
       "    </tr>\n",
       "    <tr>\n",
       "      <th>1</th>\n",
       "      <td>worse</td>\n",
       "      <td>-15.350032</td>\n",
       "      <td>51.0</td>\n",
       "      <td>-0.126983</td>\n",
       "    </tr>\n",
       "    <tr>\n",
       "      <th>0</th>\n",
       "      <td>disgusting</td>\n",
       "      <td>-18.442329</td>\n",
       "      <td>52.0</td>\n",
       "      <td>-0.155556</td>\n",
       "    </tr>\n",
       "  </tbody>\n",
       "</table>\n",
       "</div>"
      ],
      "text/plain": [
       "          word      coeff    freq  polarity\n",
       "0    delicious   3.514213  1514.0  0.863020\n",
       "1     friendly   1.614540   925.0  0.242247\n",
       "2   phenomenal  14.140374    79.0  0.181199\n",
       "3     romantic  34.296216    26.0  0.144639\n",
       "4    recommend   1.110986   766.0  0.138040\n",
       "5     enjoying  14.766156    51.0  0.122153\n",
       "6  outstanding   8.706570    84.0  0.118630\n",
       "7   perfection   7.139910    95.0  0.110023\n",
       "8   delightful  14.429629    45.0  0.105326\n",
       "9     generous   5.320732   112.0  0.096662\n",
       "9         rude  -4.223422   125.0 -0.085633\n",
       "8         poor  -6.326108    87.0 -0.089274\n",
       "7         cold  -2.120296   263.0 -0.090452\n",
       "6         hell -23.551263    24.0 -0.091684\n",
       "5        trash -17.522439    34.0 -0.096636\n",
       "4   ridiculous -21.297798    32.0 -0.110548\n",
       "3       refund -30.264266    23.0 -0.112908\n",
       "2        gross -18.299362    42.0 -0.124667\n",
       "1        worse -15.350032    51.0 -0.126983\n",
       "0   disgusting -18.442329    52.0 -0.155556"
      ]
     },
     "execution_count": 191,
     "metadata": {},
     "output_type": "execute_result"
    }
   ],
   "source": [
    "african_df.head(20)"
   ]
  },
  {
   "cell_type": "code",
   "execution_count": 370,
   "metadata": {
    "collapsed": false,
    "jupyter": {
     "outputs_hidden": false,
     "source_hidden": false
    },
    "nteract": {
     "transient": {
      "deleting": false
     }
    }
   },
   "outputs": [
    {
     "data": {
      "application/vnd.livy.statement-meta+json": {
       "execution_finish_time": "2024-03-20T16:29:38.169659Z",
       "execution_start_time": "2024-03-20T16:29:37.6465187Z",
       "livy_statement_state": "available",
       "parent_msg_id": "560f58d0-2b64-4b4f-9ad7-32d224c37b9f",
       "queued_time": "2024-03-20T16:29:37.5168137Z",
       "session_id": "20",
       "session_start_time": null,
       "spark_jobs": null,
       "spark_pool": "sparkpool",
       "state": "finished",
       "statement_id": 102
      },
      "text/plain": [
       "StatementMeta(sparkpool, 20, 102, Finished, Available)"
      ]
     },
     "metadata": {},
     "output_type": "display_data"
    },
    {
     "data": {
      "image/png": "[encoded data removed]",
      "text/plain": [
       "<Figure size 900x600 with 1 Axes>"
      ]
     },
     "metadata": {},
     "output_type": "display_data"
    }
   ],
   "source": [
    "get_plot(african_df,'African')"
   ]
  },
  {
   "cell_type": "code",
   "execution_count": null,
   "metadata": {
    "collapsed": false,
    "jupyter": {
     "outputs_hidden": false,
     "source_hidden": false
    },
    "nteract": {
     "transient": {
      "deleting": false
     }
    }
   },
   "outputs": [],
   "source": [
    "hawaiian_sum_df =get_polarity('Hawaiian')"
   ]
  },
  {
   "cell_type": "code",
   "execution_count": 373,
   "metadata": {
    "collapsed": false,
    "jupyter": {
     "outputs_hidden": false,
     "source_hidden": false
    },
    "nteract": {
     "transient": {
      "deleting": false
     }
    }
   },
   "outputs": [
    {
     "data": {
      "application/vnd.livy.statement-meta+json": {
       "execution_finish_time": "2024-03-20T16:37:09.9307456Z",
       "execution_start_time": "2024-03-20T16:37:09.7834525Z",
       "livy_statement_state": "available",
       "parent_msg_id": "5ecfafb5-c041-4c11-a205-a5498533acbf",
       "queued_time": "2024-03-20T16:37:09.6683638Z",
       "session_id": "20",
       "session_start_time": null,
       "spark_jobs": null,
       "spark_pool": "sparkpool",
       "state": "finished",
       "statement_id": 105
      },
      "text/plain": [
       "StatementMeta(sparkpool, 20, 105, Finished, Available)"
      ]
     },
     "metadata": {},
     "output_type": "display_data"
    },
    {
     "data": {
      "text/html": [
       "<div>\n",
       "<style scoped>\n",
       "    .dataframe tbody tr th:only-of-type {\n",
       "        vertical-align: middle;\n",
       "    }\n",
       "\n",
       "    .dataframe tbody tr th {\n",
       "        vertical-align: top;\n",
       "    }\n",
       "\n",
       "    .dataframe thead th {\n",
       "        text-align: right;\n",
       "    }\n",
       "</style>\n",
       "<table border=\"1\" class=\"dataframe\">\n",
       "  <thead>\n",
       "    <tr style=\"text-align: right;\">\n",
       "      <th></th>\n",
       "      <th>word</th>\n",
       "      <th>coeff</th>\n",
       "      <th>freq</th>\n",
       "      <th>polarity</th>\n",
       "    </tr>\n",
       "  </thead>\n",
       "  <tbody>\n",
       "    <tr>\n",
       "      <th>0</th>\n",
       "      <td>delicious</td>\n",
       "      <td>2.786398</td>\n",
       "      <td>5128.0</td>\n",
       "      <td>0.667881</td>\n",
       "    </tr>\n",
       "    <tr>\n",
       "      <th>1</th>\n",
       "      <td>fresh</td>\n",
       "      <td>1.549208</td>\n",
       "      <td>5426.0</td>\n",
       "      <td>0.392914</td>\n",
       "    </tr>\n",
       "    <tr>\n",
       "      <th>2</th>\n",
       "      <td>friendly</td>\n",
       "      <td>1.031693</td>\n",
       "      <td>4075.0</td>\n",
       "      <td>0.196511</td>\n",
       "    </tr>\n",
       "    <tr>\n",
       "      <th>3</th>\n",
       "      <td>recommend</td>\n",
       "      <td>0.923712</td>\n",
       "      <td>2343.0</td>\n",
       "      <td>0.101162</td>\n",
       "    </tr>\n",
       "    <tr>\n",
       "      <th>4</th>\n",
       "      <td>fun</td>\n",
       "      <td>2.360756</td>\n",
       "      <td>738.0</td>\n",
       "      <td>0.081436</td>\n",
       "    </tr>\n",
       "    <tr>\n",
       "      <th>5</th>\n",
       "      <td>attentive</td>\n",
       "      <td>2.588746</td>\n",
       "      <td>593.0</td>\n",
       "      <td>0.071755</td>\n",
       "    </tr>\n",
       "    <tr>\n",
       "      <th>6</th>\n",
       "      <td>stumbled</td>\n",
       "      <td>16.619485</td>\n",
       "      <td>83.0</td>\n",
       "      <td>0.064477</td>\n",
       "    </tr>\n",
       "    <tr>\n",
       "      <th>7</th>\n",
       "      <td>incredible</td>\n",
       "      <td>3.220786</td>\n",
       "      <td>378.0</td>\n",
       "      <td>0.056906</td>\n",
       "    </tr>\n",
       "    <tr>\n",
       "      <th>8</th>\n",
       "      <td>clean</td>\n",
       "      <td>0.818329</td>\n",
       "      <td>1431.0</td>\n",
       "      <td>0.054736</td>\n",
       "    </tr>\n",
       "    <tr>\n",
       "      <th>9</th>\n",
       "      <td>fast</td>\n",
       "      <td>0.913560</td>\n",
       "      <td>1242.0</td>\n",
       "      <td>0.053035</td>\n",
       "    </tr>\n",
       "    <tr>\n",
       "      <th>9</th>\n",
       "      <td>frozen</td>\n",
       "      <td>-3.416299</td>\n",
       "      <td>150.0</td>\n",
       "      <td>-0.023953</td>\n",
       "    </tr>\n",
       "    <tr>\n",
       "      <th>8</th>\n",
       "      <td>slow</td>\n",
       "      <td>-1.905473</td>\n",
       "      <td>282.0</td>\n",
       "      <td>-0.025117</td>\n",
       "    </tr>\n",
       "    <tr>\n",
       "      <th>7</th>\n",
       "      <td>overpriced</td>\n",
       "      <td>-3.192973</td>\n",
       "      <td>170.0</td>\n",
       "      <td>-0.025372</td>\n",
       "    </tr>\n",
       "    <tr>\n",
       "      <th>6</th>\n",
       "      <td>hard</td>\n",
       "      <td>-0.791119</td>\n",
       "      <td>741.0</td>\n",
       "      <td>-0.027401</td>\n",
       "    </tr>\n",
       "    <tr>\n",
       "      <th>5</th>\n",
       "      <td>poor</td>\n",
       "      <td>-3.599532</td>\n",
       "      <td>164.0</td>\n",
       "      <td>-0.027593</td>\n",
       "    </tr>\n",
       "    <tr>\n",
       "      <th>4</th>\n",
       "      <td>mediocre</td>\n",
       "      <td>-3.852681</td>\n",
       "      <td>196.0</td>\n",
       "      <td>-0.035296</td>\n",
       "    </tr>\n",
       "    <tr>\n",
       "      <th>3</th>\n",
       "      <td>cold</td>\n",
       "      <td>-1.651466</td>\n",
       "      <td>537.0</td>\n",
       "      <td>-0.041453</td>\n",
       "    </tr>\n",
       "    <tr>\n",
       "      <th>2</th>\n",
       "      <td>rude</td>\n",
       "      <td>-3.949358</td>\n",
       "      <td>257.0</td>\n",
       "      <td>-0.047443</td>\n",
       "    </tr>\n",
       "    <tr>\n",
       "      <th>1</th>\n",
       "      <td>bland</td>\n",
       "      <td>-3.214859</td>\n",
       "      <td>361.0</td>\n",
       "      <td>-0.054247</td>\n",
       "    </tr>\n",
       "    <tr>\n",
       "      <th>0</th>\n",
       "      <td>won</td>\n",
       "      <td>-1.716591</td>\n",
       "      <td>700.0</td>\n",
       "      <td>-0.056166</td>\n",
       "    </tr>\n",
       "  </tbody>\n",
       "</table>\n",
       "</div>"
      ],
      "text/plain": [
       "         word      coeff    freq  polarity\n",
       "0   delicious   2.786398  5128.0  0.667881\n",
       "1       fresh   1.549208  5426.0  0.392914\n",
       "2    friendly   1.031693  4075.0  0.196511\n",
       "3   recommend   0.923712  2343.0  0.101162\n",
       "4         fun   2.360756   738.0  0.081436\n",
       "5   attentive   2.588746   593.0  0.071755\n",
       "6    stumbled  16.619485    83.0  0.064477\n",
       "7  incredible   3.220786   378.0  0.056906\n",
       "8       clean   0.818329  1431.0  0.054736\n",
       "9        fast   0.913560  1242.0  0.053035\n",
       "9      frozen  -3.416299   150.0 -0.023953\n",
       "8        slow  -1.905473   282.0 -0.025117\n",
       "7  overpriced  -3.192973   170.0 -0.025372\n",
       "6        hard  -0.791119   741.0 -0.027401\n",
       "5        poor  -3.599532   164.0 -0.027593\n",
       "4    mediocre  -3.852681   196.0 -0.035296\n",
       "3        cold  -1.651466   537.0 -0.041453\n",
       "2        rude  -3.949358   257.0 -0.047443\n",
       "1       bland  -3.214859   361.0 -0.054247\n",
       "0         won  -1.716591   700.0 -0.056166"
      ]
     },
     "execution_count": 211,
     "metadata": {},
     "output_type": "execute_result"
    }
   ],
   "source": [
    "hawaiian_sum_df.head(25)"
   ]
  },
  {
   "cell_type": "code",
   "execution_count": 372,
   "metadata": {
    "collapsed": false,
    "jupyter": {
     "outputs_hidden": false,
     "source_hidden": false
    },
    "nteract": {
     "transient": {
      "deleting": false
     }
    }
   },
   "outputs": [
    {
     "data": {
      "application/vnd.livy.statement-meta+json": {
       "execution_finish_time": "2024-03-20T16:36:42.5584492Z",
       "execution_start_time": "2024-03-20T16:36:42.0361424Z",
       "livy_statement_state": "available",
       "parent_msg_id": "57964308-8ad7-4470-8e96-376c8f11e864",
       "queued_time": "2024-03-20T16:36:41.9174581Z",
       "session_id": "20",
       "session_start_time": null,
       "spark_jobs": null,
       "spark_pool": "sparkpool",
       "state": "finished",
       "statement_id": 104
      },
      "text/plain": [
       "StatementMeta(sparkpool, 20, 104, Finished, Available)"
      ]
     },
     "metadata": {},
     "output_type": "display_data"
    },
    {
     "data": {
      "image/png": "[encoded data removed]",
      "text/plain": [
       "<Figure size 900x600 with 1 Axes>"
      ]
     },
     "metadata": {},
     "output_type": "display_data"
    }
   ],
   "source": [
    "get_plot(hawaiian_sum_df,'Hawaiian')"
   ]
  },
  {
   "cell_type": "code",
   "execution_count": null,
   "metadata": {
    "collapsed": false,
    "jupyter": {
     "outputs_hidden": false,
     "source_hidden": false
    },
    "nteract": {
     "transient": {
      "deleting": false
     }
    }
   },
   "outputs": [],
   "source": [
    "spanish_sum_df = get_polarity('Spanish')"
   ]
  },
  {
   "cell_type": "code",
   "execution_count": 378,
   "metadata": {
    "collapsed": false,
    "jupyter": {
     "outputs_hidden": false,
     "source_hidden": false
    },
    "nteract": {
     "transient": {
      "deleting": false
     }
    }
   },
   "outputs": [
    {
     "data": {
      "application/vnd.livy.statement-meta+json": {
       "execution_finish_time": "2024-03-20T16:52:58.369714Z",
       "execution_start_time": "2024-03-20T16:52:58.2237513Z",
       "livy_statement_state": "available",
       "parent_msg_id": "e1ab9283-0c3f-4f43-9f53-9e63b4e0a5af",
       "queued_time": "2024-03-20T16:52:57.2847386Z",
       "session_id": "20",
       "session_start_time": null,
       "spark_jobs": null,
       "spark_pool": "sparkpool",
       "state": "finished",
       "statement_id": 110
      },
      "text/plain": [
       "StatementMeta(sparkpool, 20, 110, Finished, Available)"
      ]
     },
     "metadata": {},
     "output_type": "display_data"
    },
    {
     "data": {
      "text/html": [
       "<div>\n",
       "<style scoped>\n",
       "    .dataframe tbody tr th:only-of-type {\n",
       "        vertical-align: middle;\n",
       "    }\n",
       "\n",
       "    .dataframe tbody tr th {\n",
       "        vertical-align: top;\n",
       "    }\n",
       "\n",
       "    .dataframe thead th {\n",
       "        text-align: right;\n",
       "    }\n",
       "</style>\n",
       "<table border=\"1\" class=\"dataframe\">\n",
       "  <thead>\n",
       "    <tr style=\"text-align: right;\">\n",
       "      <th></th>\n",
       "      <th>word</th>\n",
       "      <th>coeff</th>\n",
       "      <th>freq</th>\n",
       "      <th>polarity</th>\n",
       "    </tr>\n",
       "  </thead>\n",
       "  <tbody>\n",
       "    <tr>\n",
       "      <th>0</th>\n",
       "      <td>delicious</td>\n",
       "      <td>2.251690</td>\n",
       "      <td>9584.0</td>\n",
       "      <td>0.650770</td>\n",
       "    </tr>\n",
       "    <tr>\n",
       "      <th>1</th>\n",
       "      <td>friendly</td>\n",
       "      <td>1.132263</td>\n",
       "      <td>4214.0</td>\n",
       "      <td>0.143885</td>\n",
       "    </tr>\n",
       "    <tr>\n",
       "      <th>2</th>\n",
       "      <td>recommend</td>\n",
       "      <td>0.759141</td>\n",
       "      <td>4303.0</td>\n",
       "      <td>0.098507</td>\n",
       "    </tr>\n",
       "    <tr>\n",
       "      <th>3</th>\n",
       "      <td>outstanding</td>\n",
       "      <td>3.358494</td>\n",
       "      <td>914.0</td>\n",
       "      <td>0.092568</td>\n",
       "    </tr>\n",
       "    <tr>\n",
       "      <th>4</th>\n",
       "      <td>incredible</td>\n",
       "      <td>2.581753</td>\n",
       "      <td>1003.0</td>\n",
       "      <td>0.078089</td>\n",
       "    </tr>\n",
       "    <tr>\n",
       "      <th>5</th>\n",
       "      <td>fresh</td>\n",
       "      <td>0.728280</td>\n",
       "      <td>3432.0</td>\n",
       "      <td>0.075373</td>\n",
       "    </tr>\n",
       "    <tr>\n",
       "      <th>6</th>\n",
       "      <td>authentic</td>\n",
       "      <td>1.030783</td>\n",
       "      <td>2229.0</td>\n",
       "      <td>0.069287</td>\n",
       "    </tr>\n",
       "    <tr>\n",
       "      <th>7</th>\n",
       "      <td>downside</td>\n",
       "      <td>20.149373</td>\n",
       "      <td>113.0</td>\n",
       "      <td>0.068661</td>\n",
       "    </tr>\n",
       "    <tr>\n",
       "      <th>8</th>\n",
       "      <td>fun</td>\n",
       "      <td>1.564154</td>\n",
       "      <td>1326.0</td>\n",
       "      <td>0.062545</td>\n",
       "    </tr>\n",
       "    <tr>\n",
       "      <th>9</th>\n",
       "      <td>perfection</td>\n",
       "      <td>2.652211</td>\n",
       "      <td>683.0</td>\n",
       "      <td>0.054626</td>\n",
       "    </tr>\n",
       "    <tr>\n",
       "      <th>9</th>\n",
       "      <td>disappointment</td>\n",
       "      <td>-2.480372</td>\n",
       "      <td>345.0</td>\n",
       "      <td>-0.025805</td>\n",
       "    </tr>\n",
       "    <tr>\n",
       "      <th>8</th>\n",
       "      <td>overpriced</td>\n",
       "      <td>-2.847167</td>\n",
       "      <td>353.0</td>\n",
       "      <td>-0.030308</td>\n",
       "    </tr>\n",
       "    <tr>\n",
       "      <th>7</th>\n",
       "      <td>hard</td>\n",
       "      <td>-0.842244</td>\n",
       "      <td>1209.0</td>\n",
       "      <td>-0.030707</td>\n",
       "    </tr>\n",
       "    <tr>\n",
       "      <th>6</th>\n",
       "      <td>mediocre</td>\n",
       "      <td>-3.183625</td>\n",
       "      <td>391.0</td>\n",
       "      <td>-0.037538</td>\n",
       "    </tr>\n",
       "    <tr>\n",
       "      <th>5</th>\n",
       "      <td>awful</td>\n",
       "      <td>-3.808082</td>\n",
       "      <td>340.0</td>\n",
       "      <td>-0.039044</td>\n",
       "    </tr>\n",
       "    <tr>\n",
       "      <th>4</th>\n",
       "      <td>won</td>\n",
       "      <td>-1.193620</td>\n",
       "      <td>1104.0</td>\n",
       "      <td>-0.039738</td>\n",
       "    </tr>\n",
       "    <tr>\n",
       "      <th>3</th>\n",
       "      <td>rude</td>\n",
       "      <td>-2.925628</td>\n",
       "      <td>472.0</td>\n",
       "      <td>-0.041642</td>\n",
       "    </tr>\n",
       "    <tr>\n",
       "      <th>2</th>\n",
       "      <td>poor</td>\n",
       "      <td>-3.370784</td>\n",
       "      <td>457.0</td>\n",
       "      <td>-0.046454</td>\n",
       "    </tr>\n",
       "    <tr>\n",
       "      <th>1</th>\n",
       "      <td>cold</td>\n",
       "      <td>-1.961764</td>\n",
       "      <td>1121.0</td>\n",
       "      <td>-0.066317</td>\n",
       "    </tr>\n",
       "    <tr>\n",
       "      <th>0</th>\n",
       "      <td>bland</td>\n",
       "      <td>-3.412617</td>\n",
       "      <td>703.0</td>\n",
       "      <td>-0.072346</td>\n",
       "    </tr>\n",
       "  </tbody>\n",
       "</table>\n",
       "</div>"
      ],
      "text/plain": [
       "             word      coeff    freq  polarity\n",
       "0       delicious   2.251690  9584.0  0.650770\n",
       "1        friendly   1.132263  4214.0  0.143885\n",
       "2       recommend   0.759141  4303.0  0.098507\n",
       "3     outstanding   3.358494   914.0  0.092568\n",
       "4      incredible   2.581753  1003.0  0.078089\n",
       "5           fresh   0.728280  3432.0  0.075373\n",
       "6       authentic   1.030783  2229.0  0.069287\n",
       "7        downside  20.149373   113.0  0.068661\n",
       "8             fun   1.564154  1326.0  0.062545\n",
       "9      perfection   2.652211   683.0  0.054626\n",
       "9  disappointment  -2.480372   345.0 -0.025805\n",
       "8      overpriced  -2.847167   353.0 -0.030308\n",
       "7            hard  -0.842244  1209.0 -0.030707\n",
       "6        mediocre  -3.183625   391.0 -0.037538\n",
       "5           awful  -3.808082   340.0 -0.039044\n",
       "4             won  -1.193620  1104.0 -0.039738\n",
       "3            rude  -2.925628   472.0 -0.041642\n",
       "2            poor  -3.370784   457.0 -0.046454\n",
       "1            cold  -1.961764  1121.0 -0.066317\n",
       "0           bland  -3.412617   703.0 -0.072346"
      ]
     },
     "execution_count": 221,
     "metadata": {},
     "output_type": "execute_result"
    }
   ],
   "source": [
    "spanish_sum_df.head(25)"
   ]
  },
  {
   "cell_type": "code",
   "execution_count": 379,
   "metadata": {
    "collapsed": false,
    "jupyter": {
     "outputs_hidden": false,
     "source_hidden": false
    },
    "nteract": {
     "transient": {
      "deleting": false
     }
    }
   },
   "outputs": [
    {
     "data": {
      "application/vnd.livy.statement-meta+json": {
       "execution_finish_time": "2024-03-20T16:53:39.8063135Z",
       "execution_start_time": "2024-03-20T16:53:39.2804914Z",
       "livy_statement_state": "available",
       "parent_msg_id": "12d1bd23-f950-4773-a962-ebb40b803076",
       "queued_time": "2024-03-20T16:53:39.1531634Z",
       "session_id": "20",
       "session_start_time": null,
       "spark_jobs": null,
       "spark_pool": "sparkpool",
       "state": "finished",
       "statement_id": 111
      },
      "text/plain": [
       "StatementMeta(sparkpool, 20, 111, Finished, Available)"
      ]
     },
     "metadata": {},
     "output_type": "display_data"
    },
    {
     "data": {
      "image/png": "[encoded data removed]",
      "text/plain": [
       "<Figure size 900x600 with 1 Axes>"
      ]
     },
     "metadata": {},
     "output_type": "display_data"
    }
   ],
   "source": [
    "get_plot(spanish_sum_df,'Spanish')"
   ]
  },
  {
   "cell_type": "code",
   "execution_count": null,
   "metadata": {
    "collapsed": false,
    "jupyter": {
     "outputs_hidden": false,
     "source_hidden": false
    },
    "nteract": {
     "transient": {
      "deleting": false
     }
    }
   },
   "outputs": [],
   "source": [
    "korean_sum_df = get_polarity('Korean')"
   ]
  },
  {
   "cell_type": "code",
   "execution_count": 99,
   "metadata": {
    "collapsed": false,
    "jupyter": {
     "outputs_hidden": false,
     "source_hidden": false
    },
    "nteract": {
     "transient": {
      "deleting": false
     }
    }
   },
   "outputs": [
    {
     "data": {
      "application/vnd.livy.statement-meta+json": {
       "execution_finish_time": "2024-03-21T10:22:56.0508865Z",
       "execution_start_time": "2024-03-21T10:22:55.8988112Z",
       "livy_statement_state": "available",
       "parent_msg_id": "7568d5c8-6ba7-4157-a66b-316611710e30",
       "queued_time": "2024-03-21T10:22:55.7673766Z",
       "session_id": "22",
       "session_start_time": null,
       "spark_jobs": null,
       "spark_pool": "sparkpool",
       "state": "finished",
       "statement_id": 55
      },
      "text/plain": [
       "StatementMeta(sparkpool, 22, 55, Finished, Available)"
      ]
     },
     "metadata": {},
     "output_type": "display_data"
    },
    {
     "data": {
      "text/html": [
       "<div>\n",
       "<style scoped>\n",
       "    .dataframe tbody tr th:only-of-type {\n",
       "        vertical-align: middle;\n",
       "    }\n",
       "\n",
       "    .dataframe tbody tr th {\n",
       "        vertical-align: top;\n",
       "    }\n",
       "\n",
       "    .dataframe thead th {\n",
       "        text-align: right;\n",
       "    }\n",
       "</style>\n",
       "<table border=\"1\" class=\"dataframe\">\n",
       "  <thead>\n",
       "    <tr style=\"text-align: right;\">\n",
       "      <th></th>\n",
       "      <th>word</th>\n",
       "      <th>coeff</th>\n",
       "      <th>freq</th>\n",
       "      <th>polarity</th>\n",
       "    </tr>\n",
       "  </thead>\n",
       "  <tbody>\n",
       "    <tr>\n",
       "      <th>0</th>\n",
       "      <td>delicious</td>\n",
       "      <td>2.289972</td>\n",
       "      <td>12006.0</td>\n",
       "      <td>0.568586</td>\n",
       "    </tr>\n",
       "    <tr>\n",
       "      <th>1</th>\n",
       "      <td>friendly</td>\n",
       "      <td>1.201455</td>\n",
       "      <td>7101.0</td>\n",
       "      <td>0.176439</td>\n",
       "    </tr>\n",
       "    <tr>\n",
       "      <th>2</th>\n",
       "      <td>fresh</td>\n",
       "      <td>0.745872</td>\n",
       "      <td>7548.0</td>\n",
       "      <td>0.116430</td>\n",
       "    </tr>\n",
       "    <tr>\n",
       "      <th>3</th>\n",
       "      <td>recommend</td>\n",
       "      <td>0.507327</td>\n",
       "      <td>5977.0</td>\n",
       "      <td>0.062710</td>\n",
       "    </tr>\n",
       "    <tr>\n",
       "      <th>4</th>\n",
       "      <td>hot</td>\n",
       "      <td>0.365422</td>\n",
       "      <td>7522.0</td>\n",
       "      <td>0.056845</td>\n",
       "    </tr>\n",
       "    <tr>\n",
       "      <th>5</th>\n",
       "      <td>tender</td>\n",
       "      <td>1.908919</td>\n",
       "      <td>1397.0</td>\n",
       "      <td>0.055151</td>\n",
       "    </tr>\n",
       "    <tr>\n",
       "      <th>6</th>\n",
       "      <td>fried</td>\n",
       "      <td>0.328889</td>\n",
       "      <td>8070.0</td>\n",
       "      <td>0.054890</td>\n",
       "    </tr>\n",
       "    <tr>\n",
       "      <th>7</th>\n",
       "      <td>attentive</td>\n",
       "      <td>1.132975</td>\n",
       "      <td>2114.0</td>\n",
       "      <td>0.049533</td>\n",
       "    </tr>\n",
       "    <tr>\n",
       "      <th>8</th>\n",
       "      <td>fun</td>\n",
       "      <td>1.239100</td>\n",
       "      <td>1920.0</td>\n",
       "      <td>0.049201</td>\n",
       "    </tr>\n",
       "    <tr>\n",
       "      <th>9</th>\n",
       "      <td>variety</td>\n",
       "      <td>1.044061</td>\n",
       "      <td>2066.0</td>\n",
       "      <td>0.044609</td>\n",
       "    </tr>\n",
       "    <tr>\n",
       "      <th>9</th>\n",
       "      <td>expensive</td>\n",
       "      <td>-0.993869</td>\n",
       "      <td>1041.0</td>\n",
       "      <td>-0.021397</td>\n",
       "    </tr>\n",
       "    <tr>\n",
       "      <th>8</th>\n",
       "      <td>wrong</td>\n",
       "      <td>-0.863854</td>\n",
       "      <td>1371.0</td>\n",
       "      <td>-0.024493</td>\n",
       "    </tr>\n",
       "    <tr>\n",
       "      <th>7</th>\n",
       "      <td>overpriced</td>\n",
       "      <td>-2.412171</td>\n",
       "      <td>506.0</td>\n",
       "      <td>-0.025242</td>\n",
       "    </tr>\n",
       "    <tr>\n",
       "      <th>6</th>\n",
       "      <td>cold</td>\n",
       "      <td>-0.677645</td>\n",
       "      <td>1829.0</td>\n",
       "      <td>-0.025632</td>\n",
       "    </tr>\n",
       "    <tr>\n",
       "      <th>5</th>\n",
       "      <td>mediocre</td>\n",
       "      <td>-2.750620</td>\n",
       "      <td>460.0</td>\n",
       "      <td>-0.026167</td>\n",
       "    </tr>\n",
       "    <tr>\n",
       "      <th>4</th>\n",
       "      <td>poor</td>\n",
       "      <td>-2.599361</td>\n",
       "      <td>488.0</td>\n",
       "      <td>-0.026233</td>\n",
       "    </tr>\n",
       "    <tr>\n",
       "      <th>3</th>\n",
       "      <td>awful</td>\n",
       "      <td>-3.573240</td>\n",
       "      <td>421.0</td>\n",
       "      <td>-0.031111</td>\n",
       "    </tr>\n",
       "    <tr>\n",
       "      <th>2</th>\n",
       "      <td>won</td>\n",
       "      <td>-1.223610</td>\n",
       "      <td>1705.0</td>\n",
       "      <td>-0.043145</td>\n",
       "    </tr>\n",
       "    <tr>\n",
       "      <th>1</th>\n",
       "      <td>rude</td>\n",
       "      <td>-3.131420</td>\n",
       "      <td>712.0</td>\n",
       "      <td>-0.046109</td>\n",
       "    </tr>\n",
       "    <tr>\n",
       "      <th>0</th>\n",
       "      <td>bland</td>\n",
       "      <td>-2.764064</td>\n",
       "      <td>1005.0</td>\n",
       "      <td>-0.057449</td>\n",
       "    </tr>\n",
       "  </tbody>\n",
       "</table>\n",
       "</div>"
      ],
      "text/plain": [
       "         word     coeff     freq  polarity\n",
       "0   delicious  2.289972  12006.0  0.568586\n",
       "1    friendly  1.201455   7101.0  0.176439\n",
       "2       fresh  0.745872   7548.0  0.116430\n",
       "3   recommend  0.507327   5977.0  0.062710\n",
       "4         hot  0.365422   7522.0  0.056845\n",
       "5      tender  1.908919   1397.0  0.055151\n",
       "6       fried  0.328889   8070.0  0.054890\n",
       "7   attentive  1.132975   2114.0  0.049533\n",
       "8         fun  1.239100   1920.0  0.049201\n",
       "9     variety  1.044061   2066.0  0.044609\n",
       "9   expensive -0.993869   1041.0 -0.021397\n",
       "8       wrong -0.863854   1371.0 -0.024493\n",
       "7  overpriced -2.412171    506.0 -0.025242\n",
       "6        cold -0.677645   1829.0 -0.025632\n",
       "5    mediocre -2.750620    460.0 -0.026167\n",
       "4        poor -2.599361    488.0 -0.026233\n",
       "3       awful -3.573240    421.0 -0.031111\n",
       "2         won -1.223610   1705.0 -0.043145\n",
       "1        rude -3.131420    712.0 -0.046109\n",
       "0       bland -2.764064   1005.0 -0.057449"
      ]
     },
     "execution_count": 111,
     "metadata": {},
     "output_type": "execute_result"
    }
   ],
   "source": [
    "korean_sum_df.head(25)"
   ]
  },
  {
   "cell_type": "code",
   "execution_count": 100,
   "metadata": {
    "collapsed": false,
    "jupyter": {
     "outputs_hidden": false,
     "source_hidden": false
    },
    "nteract": {
     "transient": {
      "deleting": false
     }
    }
   },
   "outputs": [
    {
     "data": {
      "application/vnd.livy.statement-meta+json": {
       "execution_finish_time": "2024-03-21T10:23:00.5208647Z",
       "execution_start_time": "2024-03-21T10:22:59.446063Z",
       "livy_statement_state": "available",
       "parent_msg_id": "f77be8bf-d92d-4ab7-b6fc-c07bf24aa8c5",
       "queued_time": "2024-03-21T10:22:59.2982804Z",
       "session_id": "22",
       "session_start_time": null,
       "spark_jobs": null,
       "spark_pool": "sparkpool",
       "state": "finished",
       "statement_id": 56
      },
      "text/plain": [
       "StatementMeta(sparkpool, 22, 56, Finished, Available)"
      ]
     },
     "metadata": {},
     "output_type": "display_data"
    },
    {
     "data": {
      "image/png": "[encoded data removed]",
      "text/plain": [
       "<Figure size 900x600 with 1 Axes>"
      ]
     },
     "metadata": {},
     "output_type": "display_data"
    }
   ],
   "source": [
    "get_plot(korean_sum_df, 'Korean')"
   ]
  },
  {
   "cell_type": "code",
   "execution_count": null,
   "metadata": {
    "collapsed": false,
    "jupyter": {
     "outputs_hidden": false,
     "source_hidden": false
    },
    "nteract": {
     "transient": {
      "deleting": false
     }
    }
   },
   "outputs": [],
   "source": [
    "greek_sum_df = get_polarity('Greek')"
   ]
  },
  {
   "cell_type": "code",
   "execution_count": 102,
   "metadata": {
    "collapsed": false,
    "jupyter": {
     "outputs_hidden": false,
     "source_hidden": false
    },
    "nteract": {
     "transient": {
      "deleting": false
     }
    }
   },
   "outputs": [
    {
     "data": {
      "application/vnd.livy.statement-meta+json": {
       "execution_finish_time": "2024-03-21T10:40:42.6577206Z",
       "execution_start_time": "2024-03-21T10:40:42.1542908Z",
       "livy_statement_state": "available",
       "parent_msg_id": "3958832e-f6b8-43c8-8508-7b972e3b977e",
       "queued_time": "2024-03-21T10:23:24.006744Z",
       "session_id": "22",
       "session_start_time": null,
       "spark_jobs": null,
       "spark_pool": "sparkpool",
       "state": "finished",
       "statement_id": 58
      },
      "text/plain": [
       "StatementMeta(sparkpool, 22, 58, Finished, Available)"
      ]
     },
     "metadata": {},
     "output_type": "display_data"
    },
    {
     "data": {
      "text/html": [
       "<div>\n",
       "<style scoped>\n",
       "    .dataframe tbody tr th:only-of-type {\n",
       "        vertical-align: middle;\n",
       "    }\n",
       "\n",
       "    .dataframe tbody tr th {\n",
       "        vertical-align: top;\n",
       "    }\n",
       "\n",
       "    .dataframe thead th {\n",
       "        text-align: right;\n",
       "    }\n",
       "</style>\n",
       "<table border=\"1\" class=\"dataframe\">\n",
       "  <thead>\n",
       "    <tr style=\"text-align: right;\">\n",
       "      <th></th>\n",
       "      <th>word</th>\n",
       "      <th>coeff</th>\n",
       "      <th>freq</th>\n",
       "      <th>polarity</th>\n",
       "    </tr>\n",
       "  </thead>\n",
       "  <tbody>\n",
       "    <tr>\n",
       "      <th>0</th>\n",
       "      <td>delicious</td>\n",
       "      <td>2.423420</td>\n",
       "      <td>16755.0</td>\n",
       "      <td>0.641065</td>\n",
       "    </tr>\n",
       "    <tr>\n",
       "      <th>1</th>\n",
       "      <td>friendly</td>\n",
       "      <td>1.215551</td>\n",
       "      <td>10755.0</td>\n",
       "      <td>0.206401</td>\n",
       "    </tr>\n",
       "    <tr>\n",
       "      <th>2</th>\n",
       "      <td>fresh</td>\n",
       "      <td>0.963883</td>\n",
       "      <td>12543.0</td>\n",
       "      <td>0.190877</td>\n",
       "    </tr>\n",
       "    <tr>\n",
       "      <th>3</th>\n",
       "      <td>recommend</td>\n",
       "      <td>0.803453</td>\n",
       "      <td>6514.0</td>\n",
       "      <td>0.082630</td>\n",
       "    </tr>\n",
       "    <tr>\n",
       "      <th>4</th>\n",
       "      <td>incredible</td>\n",
       "      <td>2.641458</td>\n",
       "      <td>1249.0</td>\n",
       "      <td>0.052088</td>\n",
       "    </tr>\n",
       "    <tr>\n",
       "      <th>5</th>\n",
       "      <td>reasonable</td>\n",
       "      <td>1.599453</td>\n",
       "      <td>1963.0</td>\n",
       "      <td>0.049570</td>\n",
       "    </tr>\n",
       "    <tr>\n",
       "      <th>6</th>\n",
       "      <td>perfection</td>\n",
       "      <td>3.102183</td>\n",
       "      <td>1003.0</td>\n",
       "      <td>0.049124</td>\n",
       "    </tr>\n",
       "    <tr>\n",
       "      <th>7</th>\n",
       "      <td>outstanding</td>\n",
       "      <td>2.080159</td>\n",
       "      <td>1348.0</td>\n",
       "      <td>0.044271</td>\n",
       "    </tr>\n",
       "    <tr>\n",
       "      <th>8</th>\n",
       "      <td>die</td>\n",
       "      <td>2.989318</td>\n",
       "      <td>917.0</td>\n",
       "      <td>0.043278</td>\n",
       "    </tr>\n",
       "    <tr>\n",
       "      <th>9</th>\n",
       "      <td>fast</td>\n",
       "      <td>0.655305</td>\n",
       "      <td>3900.0</td>\n",
       "      <td>0.040349</td>\n",
       "    </tr>\n",
       "    <tr>\n",
       "      <th>9</th>\n",
       "      <td>dirty</td>\n",
       "      <td>-2.327249</td>\n",
       "      <td>578.0</td>\n",
       "      <td>-0.021237</td>\n",
       "    </tr>\n",
       "    <tr>\n",
       "      <th>8</th>\n",
       "      <td>hard</td>\n",
       "      <td>-0.676241</td>\n",
       "      <td>2086.0</td>\n",
       "      <td>-0.022271</td>\n",
       "    </tr>\n",
       "    <tr>\n",
       "      <th>7</th>\n",
       "      <td>wrong</td>\n",
       "      <td>-0.804994</td>\n",
       "      <td>2030.0</td>\n",
       "      <td>-0.025800</td>\n",
       "    </tr>\n",
       "    <tr>\n",
       "      <th>6</th>\n",
       "      <td>awful</td>\n",
       "      <td>-3.313440</td>\n",
       "      <td>661.0</td>\n",
       "      <td>-0.034579</td>\n",
       "    </tr>\n",
       "    <tr>\n",
       "      <th>5</th>\n",
       "      <td>poor</td>\n",
       "      <td>-2.918692</td>\n",
       "      <td>766.0</td>\n",
       "      <td>-0.035298</td>\n",
       "    </tr>\n",
       "    <tr>\n",
       "      <th>4</th>\n",
       "      <td>mediocre</td>\n",
       "      <td>-3.527635</td>\n",
       "      <td>650.0</td>\n",
       "      <td>-0.036201</td>\n",
       "    </tr>\n",
       "    <tr>\n",
       "      <th>3</th>\n",
       "      <td>won</td>\n",
       "      <td>-1.338166</td>\n",
       "      <td>2157.0</td>\n",
       "      <td>-0.045571</td>\n",
       "    </tr>\n",
       "    <tr>\n",
       "      <th>2</th>\n",
       "      <td>cold</td>\n",
       "      <td>-1.686895</td>\n",
       "      <td>1977.0</td>\n",
       "      <td>-0.052653</td>\n",
       "    </tr>\n",
       "    <tr>\n",
       "      <th>1</th>\n",
       "      <td>bland</td>\n",
       "      <td>-2.729582</td>\n",
       "      <td>1250.0</td>\n",
       "      <td>-0.053869</td>\n",
       "    </tr>\n",
       "    <tr>\n",
       "      <th>0</th>\n",
       "      <td>rude</td>\n",
       "      <td>-3.145466</td>\n",
       "      <td>1151.0</td>\n",
       "      <td>-0.057160</td>\n",
       "    </tr>\n",
       "  </tbody>\n",
       "</table>\n",
       "</div>"
      ],
      "text/plain": [
       "          word     coeff     freq  polarity\n",
       "0    delicious  2.423420  16755.0  0.641065\n",
       "1     friendly  1.215551  10755.0  0.206401\n",
       "2        fresh  0.963883  12543.0  0.190877\n",
       "3    recommend  0.803453   6514.0  0.082630\n",
       "4   incredible  2.641458   1249.0  0.052088\n",
       "5   reasonable  1.599453   1963.0  0.049570\n",
       "6   perfection  3.102183   1003.0  0.049124\n",
       "7  outstanding  2.080159   1348.0  0.044271\n",
       "8          die  2.989318    917.0  0.043278\n",
       "9         fast  0.655305   3900.0  0.040349\n",
       "9        dirty -2.327249    578.0 -0.021237\n",
       "8         hard -0.676241   2086.0 -0.022271\n",
       "7        wrong -0.804994   2030.0 -0.025800\n",
       "6        awful -3.313440    661.0 -0.034579\n",
       "5         poor -2.918692    766.0 -0.035298\n",
       "4     mediocre -3.527635    650.0 -0.036201\n",
       "3          won -1.338166   2157.0 -0.045571\n",
       "2         cold -1.686895   1977.0 -0.052653\n",
       "1        bland -2.729582   1250.0 -0.053869\n",
       "0         rude -3.145466   1151.0 -0.057160"
      ]
     },
     "execution_count": 117,
     "metadata": {},
     "output_type": "execute_result"
    }
   ],
   "source": [
    "greek_sum_df.head(25)"
   ]
  },
  {
   "cell_type": "code",
   "execution_count": 103,
   "metadata": {
    "collapsed": false,
    "jupyter": {
     "outputs_hidden": false,
     "source_hidden": false
    },
    "nteract": {
     "transient": {
      "deleting": false
     }
    }
   },
   "outputs": [
    {
     "data": {
      "application/vnd.livy.statement-meta+json": {
       "execution_finish_time": "2024-03-21T10:40:45.0808832Z",
       "execution_start_time": "2024-03-21T10:40:42.7827207Z",
       "livy_statement_state": "available",
       "parent_msg_id": "002b937a-6b5f-44c5-82ed-65dbcc9ca08d",
       "queued_time": "2024-03-21T10:23:33.8673234Z",
       "session_id": "22",
       "session_start_time": null,
       "spark_jobs": null,
       "spark_pool": "sparkpool",
       "state": "finished",
       "statement_id": 59
      },
      "text/plain": [
       "StatementMeta(sparkpool, 22, 59, Finished, Available)"
      ]
     },
     "metadata": {},
     "output_type": "display_data"
    },
    {
     "data": {
      "image/png": "[encoded data removed]",
      "text/plain": [
       "<Figure size 900x600 with 1 Axes>"
      ]
     },
     "metadata": {},
     "output_type": "display_data"
    }
   ],
   "source": [
    "get_plot(greek_sum_df, 'Greek')"
   ]
  },
  {
   "cell_type": "code",
   "execution_count": null,
   "metadata": {
    "collapsed": false,
    "jupyter": {
     "outputs_hidden": false,
     "source_hidden": false
    },
    "nteract": {
     "transient": {
      "deleting": false
     }
    }
   },
   "outputs": [],
   "source": [
    "indian_sum_df = get_polarity('Indian')"
   ]
  },
  {
   "cell_type": "code",
   "execution_count": 232,
   "metadata": {
    "collapsed": false,
    "jupyter": {
     "outputs_hidden": false,
     "source_hidden": false
    },
    "nteract": {
     "transient": {
      "deleting": false
     }
    }
   },
   "outputs": [
    {
     "data": {
      "application/vnd.livy.statement-meta+json": {
       "execution_finish_time": "2024-03-21T13:09:53.9986744Z",
       "execution_start_time": "2024-03-21T13:09:53.8485459Z",
       "livy_statement_state": "available",
       "parent_msg_id": "ca60a9b8-9964-4cdb-9a26-6eaae9a2eb7d",
       "queued_time": "2024-03-21T12:49:41.3229047Z",
       "session_id": "43",
       "session_start_time": null,
       "spark_jobs": null,
       "spark_pool": "sparkpool",
       "state": "finished",
       "statement_id": 55
      },
      "text/plain": [
       "StatementMeta(sparkpool, 43, 55, Finished, Available)"
      ]
     },
     "metadata": {},
     "output_type": "display_data"
    },
    {
     "data": {
      "text/html": [
       "<div>\n",
       "<style scoped>\n",
       "    .dataframe tbody tr th:only-of-type {\n",
       "        vertical-align: middle;\n",
       "    }\n",
       "\n",
       "    .dataframe tbody tr th {\n",
       "        vertical-align: top;\n",
       "    }\n",
       "\n",
       "    .dataframe thead th {\n",
       "        text-align: right;\n",
       "    }\n",
       "</style>\n",
       "<table border=\"1\" class=\"dataframe\">\n",
       "  <thead>\n",
       "    <tr style=\"text-align: right;\">\n",
       "      <th></th>\n",
       "      <th>word</th>\n",
       "      <th>coeff</th>\n",
       "      <th>freq</th>\n",
       "      <th>polarity</th>\n",
       "    </tr>\n",
       "  </thead>\n",
       "  <tbody>\n",
       "    <tr>\n",
       "      <th>0</th>\n",
       "      <td>delicious</td>\n",
       "      <td>2.373168</td>\n",
       "      <td>18048.0</td>\n",
       "      <td>0.645345</td>\n",
       "    </tr>\n",
       "    <tr>\n",
       "      <th>1</th>\n",
       "      <td>friendly</td>\n",
       "      <td>1.568604</td>\n",
       "      <td>9270.0</td>\n",
       "      <td>0.219093</td>\n",
       "    </tr>\n",
       "    <tr>\n",
       "      <th>2</th>\n",
       "      <td>fresh</td>\n",
       "      <td>0.715899</td>\n",
       "      <td>8255.0</td>\n",
       "      <td>0.089044</td>\n",
       "    </tr>\n",
       "    <tr>\n",
       "      <th>3</th>\n",
       "      <td>recommend</td>\n",
       "      <td>0.660126</td>\n",
       "      <td>8074.0</td>\n",
       "      <td>0.080306</td>\n",
       "    </tr>\n",
       "    <tr>\n",
       "      <th>4</th>\n",
       "      <td>incredible</td>\n",
       "      <td>3.074074</td>\n",
       "      <td>1383.0</td>\n",
       "      <td>0.064058</td>\n",
       "    </tr>\n",
       "    <tr>\n",
       "      <th>5</th>\n",
       "      <td>attentive</td>\n",
       "      <td>1.260721</td>\n",
       "      <td>3071.0</td>\n",
       "      <td>0.058336</td>\n",
       "    </tr>\n",
       "    <tr>\n",
       "      <th>6</th>\n",
       "      <td>tender</td>\n",
       "      <td>1.463414</td>\n",
       "      <td>2218.0</td>\n",
       "      <td>0.048906</td>\n",
       "    </tr>\n",
       "    <tr>\n",
       "      <th>7</th>\n",
       "      <td>warmly</td>\n",
       "      <td>28.072268</td>\n",
       "      <td>107.0</td>\n",
       "      <td>0.045258</td>\n",
       "    </tr>\n",
       "    <tr>\n",
       "      <th>8</th>\n",
       "      <td>helpful</td>\n",
       "      <td>1.324291</td>\n",
       "      <td>2121.0</td>\n",
       "      <td>0.042321</td>\n",
       "    </tr>\n",
       "    <tr>\n",
       "      <th>9</th>\n",
       "      <td>outstanding</td>\n",
       "      <td>2.149837</td>\n",
       "      <td>1243.0</td>\n",
       "      <td>0.040263</td>\n",
       "    </tr>\n",
       "    <tr>\n",
       "      <th>9</th>\n",
       "      <td>disgusting</td>\n",
       "      <td>-4.119379</td>\n",
       "      <td>325.0</td>\n",
       "      <td>-0.020172</td>\n",
       "    </tr>\n",
       "    <tr>\n",
       "      <th>8</th>\n",
       "      <td>worse</td>\n",
       "      <td>-3.474935</td>\n",
       "      <td>408.0</td>\n",
       "      <td>-0.021362</td>\n",
       "    </tr>\n",
       "    <tr>\n",
       "      <th>7</th>\n",
       "      <td>waste</td>\n",
       "      <td>-3.170941</td>\n",
       "      <td>569.0</td>\n",
       "      <td>-0.027185</td>\n",
       "    </tr>\n",
       "    <tr>\n",
       "      <th>6</th>\n",
       "      <td>mediocre</td>\n",
       "      <td>-2.979081</td>\n",
       "      <td>613.0</td>\n",
       "      <td>-0.027516</td>\n",
       "    </tr>\n",
       "    <tr>\n",
       "      <th>5</th>\n",
       "      <td>awful</td>\n",
       "      <td>-3.369387</td>\n",
       "      <td>568.0</td>\n",
       "      <td>-0.028836</td>\n",
       "    </tr>\n",
       "    <tr>\n",
       "      <th>4</th>\n",
       "      <td>poor</td>\n",
       "      <td>-2.800198</td>\n",
       "      <td>881.0</td>\n",
       "      <td>-0.037171</td>\n",
       "    </tr>\n",
       "    <tr>\n",
       "      <th>3</th>\n",
       "      <td>won</td>\n",
       "      <td>-1.258769</td>\n",
       "      <td>2013.0</td>\n",
       "      <td>-0.038179</td>\n",
       "    </tr>\n",
       "    <tr>\n",
       "      <th>2</th>\n",
       "      <td>cold</td>\n",
       "      <td>-1.842434</td>\n",
       "      <td>1791.0</td>\n",
       "      <td>-0.049719</td>\n",
       "    </tr>\n",
       "    <tr>\n",
       "      <th>1</th>\n",
       "      <td>rude</td>\n",
       "      <td>-3.130168</td>\n",
       "      <td>1145.0</td>\n",
       "      <td>-0.054002</td>\n",
       "    </tr>\n",
       "    <tr>\n",
       "      <th>0</th>\n",
       "      <td>bland</td>\n",
       "      <td>-2.936171</td>\n",
       "      <td>1817.0</td>\n",
       "      <td>-0.080384</td>\n",
       "    </tr>\n",
       "  </tbody>\n",
       "</table>\n",
       "</div>"
      ],
      "text/plain": [
       "          word      coeff     freq  polarity\n",
       "0    delicious   2.373168  18048.0  0.645345\n",
       "1     friendly   1.568604   9270.0  0.219093\n",
       "2        fresh   0.715899   8255.0  0.089044\n",
       "3    recommend   0.660126   8074.0  0.080306\n",
       "4   incredible   3.074074   1383.0  0.064058\n",
       "5    attentive   1.260721   3071.0  0.058336\n",
       "6       tender   1.463414   2218.0  0.048906\n",
       "7       warmly  28.072268    107.0  0.045258\n",
       "8      helpful   1.324291   2121.0  0.042321\n",
       "9  outstanding   2.149837   1243.0  0.040263\n",
       "9   disgusting  -4.119379    325.0 -0.020172\n",
       "8        worse  -3.474935    408.0 -0.021362\n",
       "7        waste  -3.170941    569.0 -0.027185\n",
       "6     mediocre  -2.979081    613.0 -0.027516\n",
       "5        awful  -3.369387    568.0 -0.028836\n",
       "4         poor  -2.800198    881.0 -0.037171\n",
       "3          won  -1.258769   2013.0 -0.038179\n",
       "2         cold  -1.842434   1791.0 -0.049719\n",
       "1         rude  -3.130168   1145.0 -0.054002\n",
       "0        bland  -2.936171   1817.0 -0.080384"
      ]
     },
     "execution_count": 111,
     "metadata": {},
     "output_type": "execute_result"
    }
   ],
   "source": [
    "indian_sum_df.head(25)"
   ]
  },
  {
   "cell_type": "code",
   "execution_count": 233,
   "metadata": {
    "collapsed": false,
    "jupyter": {
     "outputs_hidden": false,
     "source_hidden": false
    },
    "nteract": {
     "transient": {
      "deleting": false
     }
    }
   },
   "outputs": [
    {
     "data": {
      "application/vnd.livy.statement-meta+json": {
       "execution_finish_time": "2024-03-21T13:09:55.2358181Z",
       "execution_start_time": "2024-03-21T13:09:54.1248932Z",
       "livy_statement_state": "available",
       "parent_msg_id": "550506be-c8c3-47e7-8166-2acf84b3129f",
       "queued_time": "2024-03-21T12:49:43.1526228Z",
       "session_id": "43",
       "session_start_time": null,
       "spark_jobs": null,
       "spark_pool": "sparkpool",
       "state": "finished",
       "statement_id": 56
      },
      "text/plain": [
       "StatementMeta(sparkpool, 43, 56, Finished, Available)"
      ]
     },
     "metadata": {},
     "output_type": "display_data"
    },
    {
     "data": {
      "image/png": "[encoded data removed]",
      "text/plain": [
       "<Figure size 900x600 with 1 Axes>"
      ]
     },
     "metadata": {},
     "output_type": "display_data"
    }
   ],
   "source": [
    "get_plot(indian_sum_df, 'Indian')"
   ]
  },
  {
   "cell_type": "code",
   "execution_count": null,
   "metadata": {
    "nteract": {
     "transient": {
      "deleting": false
     }
    }
   },
   "outputs": [],
   "source": [
    "french_sum_df = get_polarity('French')"
   ]
  },
  {
   "cell_type": "code",
   "execution_count": 285,
   "metadata": {
    "collapsed": false,
    "jupyter": {
     "outputs_hidden": false,
     "source_hidden": false
    },
    "nteract": {
     "transient": {
      "deleting": false
     }
    }
   },
   "outputs": [
    {
     "data": {
      "application/vnd.livy.statement-meta+json": {
       "execution_finish_time": "2024-03-21T14:23:08.9837978Z",
       "execution_start_time": "2024-03-21T14:23:08.8266617Z",
       "livy_statement_state": "available",
       "parent_msg_id": "d7f6d5d7-d4ea-4b7f-abb4-219b130e2f9b",
       "queued_time": "2024-03-21T13:58:07.4796335Z",
       "session_id": "44",
       "session_start_time": null,
       "spark_jobs": null,
       "spark_pool": "sparkpool",
       "state": "finished",
       "statement_id": 52
      },
      "text/plain": [
       "StatementMeta(sparkpool, 44, 52, Finished, Available)"
      ]
     },
     "metadata": {},
     "output_type": "display_data"
    },
    {
     "data": {
      "text/html": [
       "<div>\n",
       "<style scoped>\n",
       "    .dataframe tbody tr th:only-of-type {\n",
       "        vertical-align: middle;\n",
       "    }\n",
       "\n",
       "    .dataframe tbody tr th {\n",
       "        vertical-align: top;\n",
       "    }\n",
       "\n",
       "    .dataframe thead th {\n",
       "        text-align: right;\n",
       "    }\n",
       "</style>\n",
       "<table border=\"1\" class=\"dataframe\">\n",
       "  <thead>\n",
       "    <tr style=\"text-align: right;\">\n",
       "      <th></th>\n",
       "      <th>word</th>\n",
       "      <th>coeff</th>\n",
       "      <th>freq</th>\n",
       "      <th>polarity</th>\n",
       "    </tr>\n",
       "  </thead>\n",
       "  <tbody>\n",
       "    <tr>\n",
       "      <th>0</th>\n",
       "      <td>delicious</td>\n",
       "      <td>2.148989</td>\n",
       "      <td>12201.0</td>\n",
       "      <td>0.645856</td>\n",
       "    </tr>\n",
       "    <tr>\n",
       "      <th>1</th>\n",
       "      <td>friendly</td>\n",
       "      <td>0.974946</td>\n",
       "      <td>5115.0</td>\n",
       "      <td>0.122838</td>\n",
       "    </tr>\n",
       "    <tr>\n",
       "      <th>2</th>\n",
       "      <td>perfection</td>\n",
       "      <td>3.142347</td>\n",
       "      <td>1190.0</td>\n",
       "      <td>0.092110</td>\n",
       "    </tr>\n",
       "    <tr>\n",
       "      <th>3</th>\n",
       "      <td>fresh</td>\n",
       "      <td>0.735160</td>\n",
       "      <td>4749.0</td>\n",
       "      <td>0.085998</td>\n",
       "    </tr>\n",
       "    <tr>\n",
       "      <th>4</th>\n",
       "      <td>incredible</td>\n",
       "      <td>2.132209</td>\n",
       "      <td>1482.0</td>\n",
       "      <td>0.077837</td>\n",
       "    </tr>\n",
       "    <tr>\n",
       "      <th>5</th>\n",
       "      <td>die</td>\n",
       "      <td>3.028388</td>\n",
       "      <td>1039.0</td>\n",
       "      <td>0.077506</td>\n",
       "    </tr>\n",
       "    <tr>\n",
       "      <th>6</th>\n",
       "      <td>attentive</td>\n",
       "      <td>0.823183</td>\n",
       "      <td>2843.0</td>\n",
       "      <td>0.057647</td>\n",
       "    </tr>\n",
       "    <tr>\n",
       "      <th>7</th>\n",
       "      <td>outstanding</td>\n",
       "      <td>1.499137</td>\n",
       "      <td>1512.0</td>\n",
       "      <td>0.055834</td>\n",
       "    </tr>\n",
       "    <tr>\n",
       "      <th>8</th>\n",
       "      <td>recommend</td>\n",
       "      <td>0.443872</td>\n",
       "      <td>4910.0</td>\n",
       "      <td>0.053684</td>\n",
       "    </tr>\n",
       "    <tr>\n",
       "      <th>9</th>\n",
       "      <td>sweet</td>\n",
       "      <td>0.606360</td>\n",
       "      <td>3540.0</td>\n",
       "      <td>0.052874</td>\n",
       "    </tr>\n",
       "    <tr>\n",
       "      <th>9</th>\n",
       "      <td>overpriced</td>\n",
       "      <td>-2.399152</td>\n",
       "      <td>489.0</td>\n",
       "      <td>-0.028898</td>\n",
       "    </tr>\n",
       "    <tr>\n",
       "      <th>8</th>\n",
       "      <td>disappointment</td>\n",
       "      <td>-2.803043</td>\n",
       "      <td>443.0</td>\n",
       "      <td>-0.030587</td>\n",
       "    </tr>\n",
       "    <tr>\n",
       "      <th>7</th>\n",
       "      <td>slow</td>\n",
       "      <td>-1.297265</td>\n",
       "      <td>1126.0</td>\n",
       "      <td>-0.035981</td>\n",
       "    </tr>\n",
       "    <tr>\n",
       "      <th>6</th>\n",
       "      <td>poor</td>\n",
       "      <td>-2.915897</td>\n",
       "      <td>574.0</td>\n",
       "      <td>-0.041228</td>\n",
       "    </tr>\n",
       "    <tr>\n",
       "      <th>5</th>\n",
       "      <td>won</td>\n",
       "      <td>-1.242440</td>\n",
       "      <td>1425.0</td>\n",
       "      <td>-0.043611</td>\n",
       "    </tr>\n",
       "    <tr>\n",
       "      <th>4</th>\n",
       "      <td>awful</td>\n",
       "      <td>-4.236231</td>\n",
       "      <td>434.0</td>\n",
       "      <td>-0.045287</td>\n",
       "    </tr>\n",
       "    <tr>\n",
       "      <th>3</th>\n",
       "      <td>mediocre</td>\n",
       "      <td>-3.437996</td>\n",
       "      <td>558.0</td>\n",
       "      <td>-0.047255</td>\n",
       "    </tr>\n",
       "    <tr>\n",
       "      <th>2</th>\n",
       "      <td>rude</td>\n",
       "      <td>-2.895756</td>\n",
       "      <td>768.0</td>\n",
       "      <td>-0.054781</td>\n",
       "    </tr>\n",
       "    <tr>\n",
       "      <th>1</th>\n",
       "      <td>bland</td>\n",
       "      <td>-3.105109</td>\n",
       "      <td>782.0</td>\n",
       "      <td>-0.059812</td>\n",
       "    </tr>\n",
       "    <tr>\n",
       "      <th>0</th>\n",
       "      <td>cold</td>\n",
       "      <td>-1.744468</td>\n",
       "      <td>1593.0</td>\n",
       "      <td>-0.068452</td>\n",
       "    </tr>\n",
       "  </tbody>\n",
       "</table>\n",
       "</div>"
      ],
      "text/plain": [
       "             word     coeff     freq  polarity\n",
       "0       delicious  2.148989  12201.0  0.645856\n",
       "1        friendly  0.974946   5115.0  0.122838\n",
       "2      perfection  3.142347   1190.0  0.092110\n",
       "3           fresh  0.735160   4749.0  0.085998\n",
       "4      incredible  2.132209   1482.0  0.077837\n",
       "5             die  3.028388   1039.0  0.077506\n",
       "6       attentive  0.823183   2843.0  0.057647\n",
       "7     outstanding  1.499137   1512.0  0.055834\n",
       "8       recommend  0.443872   4910.0  0.053684\n",
       "9           sweet  0.606360   3540.0  0.052874\n",
       "9      overpriced -2.399152    489.0 -0.028898\n",
       "8  disappointment -2.803043    443.0 -0.030587\n",
       "7            slow -1.297265   1126.0 -0.035981\n",
       "6            poor -2.915897    574.0 -0.041228\n",
       "5             won -1.242440   1425.0 -0.043611\n",
       "4           awful -4.236231    434.0 -0.045287\n",
       "3        mediocre -3.437996    558.0 -0.047255\n",
       "2            rude -2.895756    768.0 -0.054781\n",
       "1           bland -3.105109    782.0 -0.059812\n",
       "0            cold -1.744468   1593.0 -0.068452"
      ]
     },
     "execution_count": 105,
     "metadata": {},
     "output_type": "execute_result"
    }
   ],
   "source": [
    "french_sum_df.head(25)"
   ]
  },
  {
   "cell_type": "code",
   "execution_count": 286,
   "metadata": {
    "collapsed": false,
    "jupyter": {
     "outputs_hidden": false,
     "source_hidden": false
    },
    "nteract": {
     "transient": {
      "deleting": false
     }
    },
    "scrolled": true
   },
   "outputs": [
    {
     "data": {
      "application/vnd.livy.statement-meta+json": {
       "execution_finish_time": "2024-03-21T14:23:10.9381197Z",
       "execution_start_time": "2024-03-21T14:23:09.1244398Z",
       "livy_statement_state": "available",
       "parent_msg_id": "49667281-2720-49cd-838e-c4bc937fbf39",
       "queued_time": "2024-03-21T13:58:08.5934901Z",
       "session_id": "44",
       "session_start_time": null,
       "spark_jobs": null,
       "spark_pool": "sparkpool",
       "state": "finished",
       "statement_id": 53
      },
      "text/plain": [
       "StatementMeta(sparkpool, 44, 53, Finished, Available)"
      ]
     },
     "metadata": {},
     "output_type": "display_data"
    },
    {
     "data": {
      "image/png": "[encoded data removed]",
      "text/plain": [
       "<Figure size 900x600 with 1 Axes>"
      ]
     },
     "metadata": {},
     "output_type": "display_data"
    }
   ],
   "source": [
    "get_plot(french_sum_df, 'French')"
   ]
  },
  {
   "cell_type": "code",
   "execution_count": null,
   "metadata": {
    "collapsed": false,
    "jupyter": {
     "outputs_hidden": false,
     "source_hidden": false
    },
    "nteract": {
     "transient": {
      "deleting": false
     }
    }
   },
   "outputs": [],
   "source": [
    "thai_sum_df = get_polarity('Thai')"
   ]
  },
  {
   "cell_type": "code",
   "execution_count": 288,
   "metadata": {
    "collapsed": false,
    "jupyter": {
     "outputs_hidden": false,
     "source_hidden": false
    },
    "nteract": {
     "transient": {
      "deleting": false
     }
    }
   },
   "outputs": [
    {
     "data": {
      "application/vnd.livy.statement-meta+json": {
       "execution_finish_time": "2024-03-21T14:44:21.3566687Z",
       "execution_start_time": "2024-03-21T14:44:21.2031456Z",
       "livy_statement_state": "available",
       "parent_msg_id": "2c236247-9106-4c0a-adf9-4f3441583c5d",
       "queued_time": "2024-03-21T13:58:11.9315406Z",
       "session_id": "44",
       "session_start_time": null,
       "spark_jobs": null,
       "spark_pool": "sparkpool",
       "state": "finished",
       "statement_id": 55
      },
      "text/plain": [
       "StatementMeta(sparkpool, 44, 55, Finished, Available)"
      ]
     },
     "metadata": {},
     "output_type": "display_data"
    },
    {
     "data": {
      "text/html": [
       "<div>\n",
       "<style scoped>\n",
       "    .dataframe tbody tr th:only-of-type {\n",
       "        vertical-align: middle;\n",
       "    }\n",
       "\n",
       "    .dataframe tbody tr th {\n",
       "        vertical-align: top;\n",
       "    }\n",
       "\n",
       "    .dataframe thead th {\n",
       "        text-align: right;\n",
       "    }\n",
       "</style>\n",
       "<table border=\"1\" class=\"dataframe\">\n",
       "  <thead>\n",
       "    <tr style=\"text-align: right;\">\n",
       "      <th></th>\n",
       "      <th>word</th>\n",
       "      <th>coeff</th>\n",
       "      <th>freq</th>\n",
       "      <th>polarity</th>\n",
       "    </tr>\n",
       "  </thead>\n",
       "  <tbody>\n",
       "    <tr>\n",
       "      <th>0</th>\n",
       "      <td>delicious</td>\n",
       "      <td>2.362853</td>\n",
       "      <td>12806.0</td>\n",
       "      <td>0.609600</td>\n",
       "    </tr>\n",
       "    <tr>\n",
       "      <th>1</th>\n",
       "      <td>friendly</td>\n",
       "      <td>1.163774</td>\n",
       "      <td>7383.0</td>\n",
       "      <td>0.173100</td>\n",
       "    </tr>\n",
       "    <tr>\n",
       "      <th>2</th>\n",
       "      <td>fresh</td>\n",
       "      <td>0.985925</td>\n",
       "      <td>8337.0</td>\n",
       "      <td>0.165595</td>\n",
       "    </tr>\n",
       "    <tr>\n",
       "      <th>3</th>\n",
       "      <td>recommend</td>\n",
       "      <td>0.721739</td>\n",
       "      <td>5781.0</td>\n",
       "      <td>0.084058</td>\n",
       "    </tr>\n",
       "    <tr>\n",
       "      <th>4</th>\n",
       "      <td>reasonable</td>\n",
       "      <td>2.337136</td>\n",
       "      <td>1760.0</td>\n",
       "      <td>0.082869</td>\n",
       "    </tr>\n",
       "    <tr>\n",
       "      <th>5</th>\n",
       "      <td>hot</td>\n",
       "      <td>0.445776</td>\n",
       "      <td>5991.0</td>\n",
       "      <td>0.053803</td>\n",
       "    </tr>\n",
       "    <tr>\n",
       "      <th>6</th>\n",
       "      <td>heavenly</td>\n",
       "      <td>25.915807</td>\n",
       "      <td>101.0</td>\n",
       "      <td>0.052733</td>\n",
       "    </tr>\n",
       "    <tr>\n",
       "      <th>7</th>\n",
       "      <td>outstanding</td>\n",
       "      <td>2.632864</td>\n",
       "      <td>845.0</td>\n",
       "      <td>0.044821</td>\n",
       "    </tr>\n",
       "    <tr>\n",
       "      <th>8</th>\n",
       "      <td>incredible</td>\n",
       "      <td>2.765889</td>\n",
       "      <td>800.0</td>\n",
       "      <td>0.044578</td>\n",
       "    </tr>\n",
       "    <tr>\n",
       "      <th>9</th>\n",
       "      <td>attentive</td>\n",
       "      <td>0.993587</td>\n",
       "      <td>2089.0</td>\n",
       "      <td>0.041816</td>\n",
       "    </tr>\n",
       "    <tr>\n",
       "      <th>9</th>\n",
       "      <td>frozen</td>\n",
       "      <td>-2.516511</td>\n",
       "      <td>364.0</td>\n",
       "      <td>-0.018454</td>\n",
       "    </tr>\n",
       "    <tr>\n",
       "      <th>8</th>\n",
       "      <td>overpriced</td>\n",
       "      <td>-2.718920</td>\n",
       "      <td>356.0</td>\n",
       "      <td>-0.019500</td>\n",
       "    </tr>\n",
       "    <tr>\n",
       "      <th>7</th>\n",
       "      <td>wrong</td>\n",
       "      <td>-0.888071</td>\n",
       "      <td>1459.0</td>\n",
       "      <td>-0.026103</td>\n",
       "    </tr>\n",
       "    <tr>\n",
       "      <th>6</th>\n",
       "      <td>poor</td>\n",
       "      <td>-2.739210</td>\n",
       "      <td>518.0</td>\n",
       "      <td>-0.028586</td>\n",
       "    </tr>\n",
       "    <tr>\n",
       "      <th>5</th>\n",
       "      <td>mediocre</td>\n",
       "      <td>-3.280974</td>\n",
       "      <td>495.0</td>\n",
       "      <td>-0.032719</td>\n",
       "    </tr>\n",
       "    <tr>\n",
       "      <th>4</th>\n",
       "      <td>cold</td>\n",
       "      <td>-1.495637</td>\n",
       "      <td>1140.0</td>\n",
       "      <td>-0.034350</td>\n",
       "    </tr>\n",
       "    <tr>\n",
       "      <th>3</th>\n",
       "      <td>rude</td>\n",
       "      <td>-2.851583</td>\n",
       "      <td>711.0</td>\n",
       "      <td>-0.040846</td>\n",
       "    </tr>\n",
       "    <tr>\n",
       "      <th>2</th>\n",
       "      <td>awful</td>\n",
       "      <td>-4.154614</td>\n",
       "      <td>490.0</td>\n",
       "      <td>-0.041013</td>\n",
       "    </tr>\n",
       "    <tr>\n",
       "      <th>1</th>\n",
       "      <td>won</td>\n",
       "      <td>-1.351269</td>\n",
       "      <td>1812.0</td>\n",
       "      <td>-0.049328</td>\n",
       "    </tr>\n",
       "    <tr>\n",
       "      <th>0</th>\n",
       "      <td>bland</td>\n",
       "      <td>-2.815490</td>\n",
       "      <td>1391.0</td>\n",
       "      <td>-0.078900</td>\n",
       "    </tr>\n",
       "  </tbody>\n",
       "</table>\n",
       "</div>"
      ],
      "text/plain": [
       "          word      coeff     freq  polarity\n",
       "0    delicious   2.362853  12806.0  0.609600\n",
       "1     friendly   1.163774   7383.0  0.173100\n",
       "2        fresh   0.985925   8337.0  0.165595\n",
       "3    recommend   0.721739   5781.0  0.084058\n",
       "4   reasonable   2.337136   1760.0  0.082869\n",
       "5          hot   0.445776   5991.0  0.053803\n",
       "6     heavenly  25.915807    101.0  0.052733\n",
       "7  outstanding   2.632864    845.0  0.044821\n",
       "8   incredible   2.765889    800.0  0.044578\n",
       "9    attentive   0.993587   2089.0  0.041816\n",
       "9       frozen  -2.516511    364.0 -0.018454\n",
       "8   overpriced  -2.718920    356.0 -0.019500\n",
       "7        wrong  -0.888071   1459.0 -0.026103\n",
       "6         poor  -2.739210    518.0 -0.028586\n",
       "5     mediocre  -3.280974    495.0 -0.032719\n",
       "4         cold  -1.495637   1140.0 -0.034350\n",
       "3         rude  -2.851583    711.0 -0.040846\n",
       "2        awful  -4.154614    490.0 -0.041013\n",
       "1          won  -1.351269   1812.0 -0.049328\n",
       "0        bland  -2.815490   1391.0 -0.078900"
      ]
     },
     "execution_count": 111,
     "metadata": {},
     "output_type": "execute_result"
    }
   ],
   "source": [
    "thai_sum_df.head(25)"
   ]
  },
  {
   "cell_type": "code",
   "execution_count": 289,
   "metadata": {
    "nteract": {
     "transient": {
      "deleting": false
     }
    }
   },
   "outputs": [
    {
     "data": {
      "application/vnd.livy.statement-meta+json": {
       "execution_finish_time": "2024-03-21T14:44:22.5731198Z",
       "execution_start_time": "2024-03-21T14:44:21.5075203Z",
       "livy_statement_state": "available",
       "parent_msg_id": "d00c8fd4-b223-4cfd-9306-8ba0117cf0b4",
       "queued_time": "2024-03-21T13:58:13.2182682Z",
       "session_id": "44",
       "session_start_time": null,
       "spark_jobs": null,
       "spark_pool": "sparkpool",
       "state": "finished",
       "statement_id": 56
      },
      "text/plain": [
       "StatementMeta(sparkpool, 44, 56, Finished, Available)"
      ]
     },
     "metadata": {},
     "output_type": "display_data"
    },
    {
     "data": {
      "image/png": "[encoded data removed]",
      "text/plain": [
       "<Figure size 900x600 with 1 Axes>"
      ]
     },
     "metadata": {},
     "output_type": "display_data"
    }
   ],
   "source": [
    "get_plot(thai_sum_df, 'Thai')"
   ]
  }
 ],
 "metadata": {
  "description": null,
  "kernelspec": {
   "display_name": "Python 3 (ipykernel)",
   "language": "python",
   "name": "python3"
  },
  "language_info": {
   "codemirror_mode": {
    "name": "ipython",
    "version": 3
   },
   "file_extension": ".py",
   "mimetype": "text/x-python",
   "name": "python",
   "nbconvert_exporter": "python",
   "pygments_lexer": "ipython3",
   "version": "3.11.4"
  },
  "save_output": true,
  "synapse_widget": {
   "state": {},
   "version": "0.1"
  }
 },
 "nbformat": 4,
 "nbformat_minor": 4
}
